{
 "cells": [
  {
   "cell_type": "markdown",
   "metadata": {},
   "source": [
    "# Рекомендация тарифов"
   ]
  },
  {
   "cell_type": "markdown",
   "metadata": {},
   "source": [
    "В вашем распоряжении данные о поведении клиентов, которые уже перешли на эти тарифы (из проекта курса «Статистический анализ данных»). Нужно построить модель для задачи классификации, которая выберет подходящий тариф. Предобработка данных не понадобится — вы её уже сделали.\n",
    "\n",
    "Постройте модель с максимально большим значением *accuracy*. Чтобы сдать проект успешно, нужно довести долю правильных ответов по крайней мере до 0.75. Проверьте *accuracy* на тестовой выборке самостоятельно."
   ]
  },
  {
   "cell_type": "markdown",
   "metadata": {},
   "source": [
    "Описание данных:\n",
    "* `сalls` — количество звонков,\n",
    "* `minutes` — суммарная длительность звонков в минутах,\n",
    "* `messages` — количество sms-сообщений,\n",
    "* `mb_used` — израсходованный интернет-трафик в Мб,\n",
    "* `is_ultra` — каким тарифом пользовался в течение месяца («Ультра» — 1, «Смарт» — 0).\n",
    "\n",
    "Каждый объект в наборе данных — это информация о поведении одного пользователя за месяц."
   ]
  },
  {
   "cell_type": "code",
   "execution_count": 1,
   "metadata": {},
   "outputs": [],
   "source": [
    "import pandas as pd\n",
    "import seaborn as sns\n",
    "from sklearn.model_selection import train_test_split\n",
    "from sklearn.tree import DecisionTreeClassifier\n",
    "from sklearn.linear_model import LogisticRegression\n",
    "from sklearn.ensemble import RandomForestClassifier\n",
    "from sklearn.metrics import accuracy_score\n",
    "from sklearn.dummy import DummyClassifier"
   ]
  },
  {
   "cell_type": "markdown",
   "metadata": {},
   "source": [
    "## Откройте и изучите файл"
   ]
  },
  {
   "cell_type": "code",
   "execution_count": 2,
   "metadata": {},
   "outputs": [],
   "source": [
    "#откроем таблицу\n",
    "df = pd.read_csv('/datasets/users_behavior.csv')"
   ]
  },
  {
   "cell_type": "code",
   "execution_count": 3,
   "metadata": {},
   "outputs": [
    {
     "data": {
      "text/html": [
       "<div>\n",
       "<style scoped>\n",
       "    .dataframe tbody tr th:only-of-type {\n",
       "        vertical-align: middle;\n",
       "    }\n",
       "\n",
       "    .dataframe tbody tr th {\n",
       "        vertical-align: top;\n",
       "    }\n",
       "\n",
       "    .dataframe thead th {\n",
       "        text-align: right;\n",
       "    }\n",
       "</style>\n",
       "<table border=\"1\" class=\"dataframe\">\n",
       "  <thead>\n",
       "    <tr style=\"text-align: right;\">\n",
       "      <th></th>\n",
       "      <th>calls</th>\n",
       "      <th>minutes</th>\n",
       "      <th>messages</th>\n",
       "      <th>mb_used</th>\n",
       "      <th>is_ultra</th>\n",
       "    </tr>\n",
       "  </thead>\n",
       "  <tbody>\n",
       "    <tr>\n",
       "      <th>0</th>\n",
       "      <td>40.0</td>\n",
       "      <td>311.90</td>\n",
       "      <td>83.0</td>\n",
       "      <td>19915.42</td>\n",
       "      <td>0</td>\n",
       "    </tr>\n",
       "    <tr>\n",
       "      <th>1</th>\n",
       "      <td>85.0</td>\n",
       "      <td>516.75</td>\n",
       "      <td>56.0</td>\n",
       "      <td>22696.96</td>\n",
       "      <td>0</td>\n",
       "    </tr>\n",
       "    <tr>\n",
       "      <th>2</th>\n",
       "      <td>77.0</td>\n",
       "      <td>467.66</td>\n",
       "      <td>86.0</td>\n",
       "      <td>21060.45</td>\n",
       "      <td>0</td>\n",
       "    </tr>\n",
       "    <tr>\n",
       "      <th>3</th>\n",
       "      <td>106.0</td>\n",
       "      <td>745.53</td>\n",
       "      <td>81.0</td>\n",
       "      <td>8437.39</td>\n",
       "      <td>1</td>\n",
       "    </tr>\n",
       "    <tr>\n",
       "      <th>4</th>\n",
       "      <td>66.0</td>\n",
       "      <td>418.74</td>\n",
       "      <td>1.0</td>\n",
       "      <td>14502.75</td>\n",
       "      <td>0</td>\n",
       "    </tr>\n",
       "    <tr>\n",
       "      <th>5</th>\n",
       "      <td>58.0</td>\n",
       "      <td>344.56</td>\n",
       "      <td>21.0</td>\n",
       "      <td>15823.37</td>\n",
       "      <td>0</td>\n",
       "    </tr>\n",
       "    <tr>\n",
       "      <th>6</th>\n",
       "      <td>57.0</td>\n",
       "      <td>431.64</td>\n",
       "      <td>20.0</td>\n",
       "      <td>3738.90</td>\n",
       "      <td>1</td>\n",
       "    </tr>\n",
       "    <tr>\n",
       "      <th>7</th>\n",
       "      <td>15.0</td>\n",
       "      <td>132.40</td>\n",
       "      <td>6.0</td>\n",
       "      <td>21911.60</td>\n",
       "      <td>0</td>\n",
       "    </tr>\n",
       "    <tr>\n",
       "      <th>8</th>\n",
       "      <td>7.0</td>\n",
       "      <td>43.39</td>\n",
       "      <td>3.0</td>\n",
       "      <td>2538.67</td>\n",
       "      <td>1</td>\n",
       "    </tr>\n",
       "    <tr>\n",
       "      <th>9</th>\n",
       "      <td>90.0</td>\n",
       "      <td>665.41</td>\n",
       "      <td>38.0</td>\n",
       "      <td>17358.61</td>\n",
       "      <td>0</td>\n",
       "    </tr>\n",
       "    <tr>\n",
       "      <th>10</th>\n",
       "      <td>82.0</td>\n",
       "      <td>560.51</td>\n",
       "      <td>20.0</td>\n",
       "      <td>9619.53</td>\n",
       "      <td>1</td>\n",
       "    </tr>\n",
       "    <tr>\n",
       "      <th>11</th>\n",
       "      <td>45.0</td>\n",
       "      <td>344.32</td>\n",
       "      <td>13.0</td>\n",
       "      <td>19898.81</td>\n",
       "      <td>0</td>\n",
       "    </tr>\n",
       "    <tr>\n",
       "      <th>12</th>\n",
       "      <td>51.0</td>\n",
       "      <td>437.13</td>\n",
       "      <td>61.0</td>\n",
       "      <td>21523.58</td>\n",
       "      <td>0</td>\n",
       "    </tr>\n",
       "    <tr>\n",
       "      <th>13</th>\n",
       "      <td>56.0</td>\n",
       "      <td>433.07</td>\n",
       "      <td>16.0</td>\n",
       "      <td>16702.36</td>\n",
       "      <td>0</td>\n",
       "    </tr>\n",
       "    <tr>\n",
       "      <th>14</th>\n",
       "      <td>108.0</td>\n",
       "      <td>587.90</td>\n",
       "      <td>0.0</td>\n",
       "      <td>14406.50</td>\n",
       "      <td>1</td>\n",
       "    </tr>\n",
       "  </tbody>\n",
       "</table>\n",
       "</div>"
      ],
      "text/plain": [
       "    calls  minutes  messages   mb_used  is_ultra\n",
       "0    40.0   311.90      83.0  19915.42         0\n",
       "1    85.0   516.75      56.0  22696.96         0\n",
       "2    77.0   467.66      86.0  21060.45         0\n",
       "3   106.0   745.53      81.0   8437.39         1\n",
       "4    66.0   418.74       1.0  14502.75         0\n",
       "5    58.0   344.56      21.0  15823.37         0\n",
       "6    57.0   431.64      20.0   3738.90         1\n",
       "7    15.0   132.40       6.0  21911.60         0\n",
       "8     7.0    43.39       3.0   2538.67         1\n",
       "9    90.0   665.41      38.0  17358.61         0\n",
       "10   82.0   560.51      20.0   9619.53         1\n",
       "11   45.0   344.32      13.0  19898.81         0\n",
       "12   51.0   437.13      61.0  21523.58         0\n",
       "13   56.0   433.07      16.0  16702.36         0\n",
       "14  108.0   587.90       0.0  14406.50         1"
      ]
     },
     "execution_count": 3,
     "metadata": {},
     "output_type": "execute_result"
    }
   ],
   "source": [
    "#выведем первые 15 строк\n",
    "df.head(15)"
   ]
  },
  {
   "cell_type": "code",
   "execution_count": 4,
   "metadata": {},
   "outputs": [
    {
     "name": "stdout",
     "output_type": "stream",
     "text": [
      "<class 'pandas.core.frame.DataFrame'>\n",
      "RangeIndex: 3214 entries, 0 to 3213\n",
      "Data columns (total 5 columns):\n",
      " #   Column    Non-Null Count  Dtype  \n",
      "---  ------    --------------  -----  \n",
      " 0   calls     3214 non-null   float64\n",
      " 1   minutes   3214 non-null   float64\n",
      " 2   messages  3214 non-null   float64\n",
      " 3   mb_used   3214 non-null   float64\n",
      " 4   is_ultra  3214 non-null   int64  \n",
      "dtypes: float64(4), int64(1)\n",
      "memory usage: 125.7 KB\n"
     ]
    }
   ],
   "source": [
    "#посмотрим информацию о датасете\n",
    "df.info()"
   ]
  },
  {
   "cell_type": "code",
   "execution_count": 5,
   "metadata": {},
   "outputs": [
    {
     "data": {
      "text/plain": [
       "0"
      ]
     },
     "execution_count": 5,
     "metadata": {},
     "output_type": "execute_result"
    }
   ],
   "source": [
    "#проверим на наличие полных дубликатов\n",
    "df.duplicated().sum()"
   ]
  },
  {
   "cell_type": "markdown",
   "metadata": {},
   "source": [
    "Заменим тип данных в столбцах `calls` и `messages`, т.к они содержат только целые числа"
   ]
  },
  {
   "cell_type": "code",
   "execution_count": 6,
   "metadata": {},
   "outputs": [
    {
     "name": "stdout",
     "output_type": "stream",
     "text": [
      "<class 'pandas.core.frame.DataFrame'>\n",
      "RangeIndex: 3214 entries, 0 to 3213\n",
      "Data columns (total 5 columns):\n",
      " #   Column    Non-Null Count  Dtype  \n",
      "---  ------    --------------  -----  \n",
      " 0   calls     3214 non-null   int64  \n",
      " 1   minutes   3214 non-null   float64\n",
      " 2   messages  3214 non-null   int64  \n",
      " 3   mb_used   3214 non-null   float64\n",
      " 4   is_ultra  3214 non-null   int64  \n",
      "dtypes: float64(2), int64(3)\n",
      "memory usage: 125.7 KB\n"
     ]
    }
   ],
   "source": [
    "df['calls'] = df['calls'].astype('int')\n",
    "df['messages'] = df['messages'].astype('int')\n",
    "df.info()"
   ]
  },
  {
   "cell_type": "code",
   "execution_count": 24,
   "metadata": {},
   "outputs": [
    {
     "data": {
      "image/png": "[encoded data removed]",
      "text/plain": [
       "<Figure size 764.5x720 with 20 Axes>"
      ]
     },
     "metadata": {
      "needs_background": "light"
     },
     "output_type": "display_data"
    }
   ],
   "source": [
    "sns.pairplot(df, hue='is_ultra');"
   ]
  },
  {
   "cell_type": "markdown",
   "metadata": {},
   "source": [
    "Данные не содержат пропусков и дубликатов и готовы к работе. Изменил тип данных в столбцах `calls` и `messages`, т.к они содержат только целые числа"
   ]
  },
  {
   "cell_type": "markdown",
   "metadata": {},
   "source": [
    "## Разбейте данные на выборки"
   ]
  },
  {
   "cell_type": "markdown",
   "metadata": {},
   "source": [
    "Спрятанной тестовой выборки нет. Значит, данные нужно разбить на три части: `обучающую`, `валидационную` и `тестовую`. Исходные данные разбивают в соотношении `3:1:1`.\n",
    "\n",
    "Размер обучающей выборки - `60%` от исходных данных.\n",
    "\n",
    "Валидационная и тестовая по `20%` от исходных данных."
   ]
  },
  {
   "cell_type": "code",
   "execution_count": 8,
   "metadata": {},
   "outputs": [],
   "source": [
    "#60% выделяем под обучающую выборку\n",
    "df_train, df_valid = train_test_split(df, test_size=.4, random_state=12345)\n",
    "#оставшиеся 40% разделим пополам на валидационную и тестопую выборки\n",
    "df_valid, df_test = train_test_split(df_valid, test_size=.5, random_state=12345)"
   ]
  },
  {
   "cell_type": "code",
   "execution_count": 9,
   "metadata": {},
   "outputs": [
    {
     "name": "stdout",
     "output_type": "stream",
     "text": [
      "Размер train выборки (1928, 5)\n",
      "Размер valid выборки (643, 5)\n",
      "Размер test выборки (643, 5)\n"
     ]
    }
   ],
   "source": [
    "for df_name, df in {'train': df_train, 'valid': df_valid, 'test': df_test}.items():\n",
    "    print(f'Размер {df_name} выборки', df.shape) "
   ]
  },
  {
   "cell_type": "markdown",
   "metadata": {},
   "source": [
    "Вывод:\n",
    "\n",
    "Разделили данные на обучающую, валидационную и тестовую выборки в соотношении 3:1:1\n",
    "\n",
    "* Размер обучающей выборки составил 1928 строк - 60%\n",
    "* Размер валидационной выборки составил 643 строк - 20%\n",
    "* Размер тестовой выборки составил 643 строк - 20%"
   ]
  },
  {
   "cell_type": "markdown",
   "metadata": {},
   "source": [
    "## Исследуйте модели"
   ]
  },
  {
   "cell_type": "markdown",
   "metadata": {},
   "source": [
    "Определим признаки для выборок"
   ]
  },
  {
   "cell_type": "code",
   "execution_count": 10,
   "metadata": {},
   "outputs": [],
   "source": [
    "features_train = df_train.drop(['is_ultra'], axis=1)\n",
    "target_train = df_train['is_ultra']\n",
    "\n",
    "features_valid = df_valid.drop(['is_ultra'], axis=1)\n",
    "target_valid = df_valid['is_ultra']\n",
    "\n",
    "features_test = df_test.drop(['is_ultra'], axis=1)\n",
    "target_test = df_test['is_ultra']"
   ]
  },
  {
   "cell_type": "markdown",
   "metadata": {},
   "source": [
    "### Дерево решений"
   ]
  },
  {
   "cell_type": "code",
   "execution_count": 11,
   "metadata": {},
   "outputs": [
    {
     "name": "stdout",
     "output_type": "stream",
     "text": [
      "Accuracy: 0.7853810264385692, глубина дерева: 3\n"
     ]
    }
   ],
   "source": [
    "best_model_dtc = None\n",
    "best_result = 0\n",
    "best_depth = 0\n",
    "for depth in range(1, 11):\n",
    "    model = DecisionTreeClassifier(random_state=12345, max_depth=depth)\n",
    "    model.fit(features_train, target_train)\n",
    "    predictions_valid = model.predict(features_valid)\n",
    "    result = accuracy_score(target_valid, predictions_valid)\n",
    "    if result > best_result:\n",
    "        best_model_dtc = model\n",
    "        best_result = result\n",
    "        best_depth = depth\n",
    "        \n",
    "print(f'Accuracy: {best_result}, глубина дерева: {best_depth}')"
   ]
  },
  {
   "cell_type": "markdown",
   "metadata": {},
   "source": [
    "### Случайный лес"
   ]
  },
  {
   "cell_type": "code",
   "execution_count": 12,
   "metadata": {},
   "outputs": [
    {
     "name": "stdout",
     "output_type": "stream",
     "text": [
      "Accuracy: 0.8087091757387247, количество деревьев: 40, максимальная глубина: 8\n"
     ]
    }
   ],
   "source": [
    "best_model_rfc = None\n",
    "best_result = 0\n",
    "best_est = 0\n",
    "best_depth = 0\n",
    "for est in range(10, 51, 10):\n",
    "    for depth in range (1, 11):\n",
    "        model = RandomForestClassifier(random_state=12345, n_estimators=est, max_depth=depth)\n",
    "        model.fit(features_train, target_train)\n",
    "        predictions_valid = model.predict(features_valid)\n",
    "        result = accuracy_score(target_valid, predictions_valid)\n",
    "        if result > best_result:\n",
    "            best_model_rfc = model\n",
    "            best_result = result\n",
    "            best_est = est\n",
    "            best_depth = depth\n",
    "\n",
    "print(f'Accuracy: {best_result}, количество деревьев: {best_est}, максимальная глубина: {best_depth}')"
   ]
  },
  {
   "cell_type": "markdown",
   "metadata": {},
   "source": [
    "### Логистическая регрессия"
   ]
  },
  {
   "cell_type": "code",
   "execution_count": 13,
   "metadata": {},
   "outputs": [
    {
     "name": "stdout",
     "output_type": "stream",
     "text": [
      "Accuracy: 0.7107309486780715\n"
     ]
    }
   ],
   "source": [
    "model_lr = LogisticRegression(random_state = 12345, solver='lbfgs', max_iter=1000)\n",
    "model_lr.fit(features_train, target_train)\n",
    "print(f'Accuracy: {model_lr.score(features_valid, target_valid)}')"
   ]
  },
  {
   "cell_type": "markdown",
   "metadata": {},
   "source": [
    "Вывод:\n",
    "\n",
    "Лучший результат показал `Случайный лес` с количеством деревьев: 40 и максимальной глубиной: 8"
   ]
  },
  {
   "cell_type": "markdown",
   "metadata": {},
   "source": [
    "## Проверьте модель на тестовой выборке"
   ]
  },
  {
   "cell_type": "markdown",
   "metadata": {},
   "source": [
    "### Дерево решений"
   ]
  },
  {
   "cell_type": "code",
   "execution_count": 14,
   "metadata": {},
   "outputs": [
    {
     "name": "stdout",
     "output_type": "stream",
     "text": [
      "Accuracy: 0.7791601866251944\n"
     ]
    }
   ],
   "source": [
    "predictions_test_dtc = best_model_dtc.predict(features_test)\n",
    "print('Accuracy:', accuracy_score(predictions_test_dtc, target_test))"
   ]
  },
  {
   "cell_type": "markdown",
   "metadata": {},
   "source": [
    "### Случайный лес"
   ]
  },
  {
   "cell_type": "code",
   "execution_count": 15,
   "metadata": {},
   "outputs": [
    {
     "name": "stdout",
     "output_type": "stream",
     "text": [
      "Accuracy: 0.7962674961119751\n"
     ]
    }
   ],
   "source": [
    "predictions_test_rfc = best_model_rfc.predict(features_test)\n",
    "print('Accuracy:', accuracy_score(predictions_test_rfc, target_test))"
   ]
  },
  {
   "cell_type": "markdown",
   "metadata": {},
   "source": [
    "### Логистическая регрессия"
   ]
  },
  {
   "cell_type": "code",
   "execution_count": 16,
   "metadata": {},
   "outputs": [
    {
     "name": "stdout",
     "output_type": "stream",
     "text": [
      "Accuracy: 0.6842923794712286\n"
     ]
    }
   ],
   "source": [
    "print('Accuracy:', model_lr.score(features_test, target_test))"
   ]
  },
  {
   "cell_type": "markdown",
   "metadata": {},
   "source": [
    "Значения accuracy на тестовой выборке не сильно отличается от accuracy на обучающей выборке, что говорит об отсутствии переобучения.\n",
    "\n",
    "Лучшей моделью является - `Случайный лес`"
   ]
  },
  {
   "cell_type": "markdown",
   "metadata": {},
   "source": [
    "## (бонус) Проверьте модели на адекватность"
   ]
  },
  {
   "cell_type": "code",
   "execution_count": 17,
   "metadata": {},
   "outputs": [
    {
     "name": "stdout",
     "output_type": "stream",
     "text": [
      "Accuracy: 0.7060653188180405\n"
     ]
    }
   ],
   "source": [
    "model_dc = DummyClassifier(random_state=12345)\n",
    "model_dc.fit(features_train, target_train)\n",
    "print('Accuracy:', model_dc.score(features_valid, target_valid))"
   ]
  },
  {
   "cell_type": "code",
   "execution_count": 18,
   "metadata": {},
   "outputs": [
    {
     "name": "stdout",
     "output_type": "stream",
     "text": [
      "Accuracy: 0.6842923794712286\n"
     ]
    }
   ],
   "source": [
    "model_dc.fit(features_test, target_test)\n",
    "print('Accuracy:', model_dc.score(features_test, target_test))"
   ]
  },
  {
   "cell_type": "markdown",
   "metadata": {},
   "source": [
    "Все модели кроме `логической регрессии` показали значения accuracy больше чем фиктивный классификатор `DummyClassifier`"
   ]
  },
  {
   "cell_type": "markdown",
   "metadata": {},
   "source": [
    "## Чек-лист готовности проекта"
   ]
  },
  {
   "cell_type": "markdown",
   "metadata": {},
   "source": [
    "Поставьте 'x' в выполненных пунктах. Далее нажмите Shift+Enter."
   ]
  },
  {
   "cell_type": "markdown",
   "metadata": {},
   "source": [
    "- [x] Jupyter Notebook открыт\n",
    "- [x] Весь код исполняется без ошибок\n",
    "- [x] Ячейки с кодом расположены в порядке исполнения\n",
    "- [x] Выполнено задание 1: данные загружены и изучены\n",
    "- [x] Выполнено задание 2: данные разбиты на три выборки\n",
    "- [x] Выполнено задание 3: проведено исследование моделей\n",
    "    - [x] Рассмотрено больше одной модели\n",
    "    - [x] Рассмотрено хотя бы 3 значения гипепараметров для какой-нибудь модели\n",
    "    - [x] Написаны выводы по результатам исследования\n",
    "- [x] Выполнено задание 3: Проведено тестирование\n",
    "- [x] Удалось достичь accuracy не меньше 0.75\n"
   ]
  },
  {
   "cell_type": "code",
   "execution_count": null,
   "metadata": {},
   "outputs": [],
   "source": []
  }
 ],
 "metadata": {
  "ExecuteTimeLog": [
   {
    "duration": 45,
    "start_time": "2022-12-14T14:33:49.548Z"
   },
   {
    "duration": 373,
    "start_time": "2022-12-14T14:33:53.343Z"
   },
   {
    "duration": 128,
    "start_time": "2022-12-14T14:33:54.192Z"
   },
   {
    "duration": 19,
    "start_time": "2022-12-14T14:33:54.464Z"
   },
   {
    "duration": 11,
    "start_time": "2022-12-14T14:34:12.147Z"
   },
   {
    "duration": 6,
    "start_time": "2022-12-14T14:46:29.815Z"
   },
   {
    "duration": 13,
    "start_time": "2022-12-14T14:47:38.463Z"
   },
   {
    "duration": 10,
    "start_time": "2022-12-14T14:48:32.219Z"
   },
   {
    "duration": 25,
    "start_time": "2022-12-14T15:28:30.933Z"
   },
   {
    "duration": 7,
    "start_time": "2022-12-14T15:28:39.228Z"
   },
   {
    "duration": 674,
    "start_time": "2022-12-14T15:29:01.523Z"
   },
   {
    "duration": 6,
    "start_time": "2022-12-14T15:29:08.294Z"
   },
   {
    "duration": 37,
    "start_time": "2022-12-14T15:29:09.483Z"
   },
   {
    "duration": 4,
    "start_time": "2022-12-14T15:29:40.966Z"
   },
   {
    "duration": 1002,
    "start_time": "2022-12-14T15:49:57.950Z"
   },
   {
    "duration": 31,
    "start_time": "2022-12-14T15:49:58.954Z"
   },
   {
    "duration": 19,
    "start_time": "2022-12-14T15:49:58.986Z"
   },
   {
    "duration": 10,
    "start_time": "2022-12-14T15:49:59.007Z"
   },
   {
    "duration": 9,
    "start_time": "2022-12-14T15:49:59.019Z"
   },
   {
    "duration": 14,
    "start_time": "2022-12-14T15:49:59.029Z"
   },
   {
    "duration": 27,
    "start_time": "2022-12-14T15:49:59.044Z"
   },
   {
    "duration": 35,
    "start_time": "2022-12-14T15:49:59.073Z"
   },
   {
    "duration": 8,
    "start_time": "2022-12-14T15:49:59.109Z"
   },
   {
    "duration": 5,
    "start_time": "2022-12-14T16:05:30.462Z"
   },
   {
    "duration": 4,
    "start_time": "2022-12-14T16:05:31.388Z"
   },
   {
    "duration": 1067,
    "start_time": "2022-12-14T16:05:38.020Z"
   },
   {
    "duration": 29,
    "start_time": "2022-12-14T16:05:39.089Z"
   },
   {
    "duration": 17,
    "start_time": "2022-12-14T16:05:39.120Z"
   },
   {
    "duration": 12,
    "start_time": "2022-12-14T16:05:39.139Z"
   },
   {
    "duration": 9,
    "start_time": "2022-12-14T16:05:39.153Z"
   },
   {
    "duration": 11,
    "start_time": "2022-12-14T16:05:39.163Z"
   },
   {
    "duration": 14,
    "start_time": "2022-12-14T16:05:39.175Z"
   },
   {
    "duration": 11,
    "start_time": "2022-12-14T16:05:39.190Z"
   },
   {
    "duration": 18,
    "start_time": "2022-12-14T16:05:39.203Z"
   },
   {
    "duration": 116,
    "start_time": "2022-12-14T16:05:39.223Z"
   },
   {
    "duration": 1061,
    "start_time": "2022-12-14T16:08:52.708Z"
   },
   {
    "duration": 31,
    "start_time": "2022-12-14T16:08:53.771Z"
   },
   {
    "duration": 18,
    "start_time": "2022-12-14T16:08:53.803Z"
   },
   {
    "duration": 10,
    "start_time": "2022-12-14T16:08:53.823Z"
   },
   {
    "duration": 5,
    "start_time": "2022-12-14T16:08:53.836Z"
   },
   {
    "duration": 24,
    "start_time": "2022-12-14T16:08:53.843Z"
   },
   {
    "duration": 21,
    "start_time": "2022-12-14T16:08:53.868Z"
   },
   {
    "duration": 9,
    "start_time": "2022-12-14T16:08:53.890Z"
   },
   {
    "duration": 12,
    "start_time": "2022-12-14T16:08:53.901Z"
   },
   {
    "duration": 35,
    "start_time": "2022-12-14T16:08:53.914Z"
   },
   {
    "duration": 30,
    "start_time": "2022-12-14T16:09:33.613Z"
   },
   {
    "duration": 64,
    "start_time": "2022-12-14T16:09:57.495Z"
   },
   {
    "duration": 62,
    "start_time": "2022-12-14T16:12:14.068Z"
   },
   {
    "duration": 1015,
    "start_time": "2022-12-14T16:12:22.671Z"
   },
   {
    "duration": 30,
    "start_time": "2022-12-14T16:12:23.689Z"
   },
   {
    "duration": 16,
    "start_time": "2022-12-14T16:12:23.721Z"
   },
   {
    "duration": 16,
    "start_time": "2022-12-14T16:12:23.738Z"
   },
   {
    "duration": 5,
    "start_time": "2022-12-14T16:12:23.756Z"
   },
   {
    "duration": 12,
    "start_time": "2022-12-14T16:12:23.763Z"
   },
   {
    "duration": 12,
    "start_time": "2022-12-14T16:12:23.776Z"
   },
   {
    "duration": 30,
    "start_time": "2022-12-14T16:12:23.790Z"
   },
   {
    "duration": 19,
    "start_time": "2022-12-14T16:12:23.822Z"
   },
   {
    "duration": 154,
    "start_time": "2022-12-14T16:12:23.842Z"
   },
   {
    "duration": 1080,
    "start_time": "2022-12-14T16:12:34.891Z"
   },
   {
    "duration": 30,
    "start_time": "2022-12-14T16:12:35.973Z"
   },
   {
    "duration": 18,
    "start_time": "2022-12-14T16:12:36.004Z"
   },
   {
    "duration": 20,
    "start_time": "2022-12-14T16:12:36.023Z"
   },
   {
    "duration": 9,
    "start_time": "2022-12-14T16:12:36.045Z"
   },
   {
    "duration": 18,
    "start_time": "2022-12-14T16:12:36.056Z"
   },
   {
    "duration": 11,
    "start_time": "2022-12-14T16:12:36.076Z"
   },
   {
    "duration": 9,
    "start_time": "2022-12-14T16:12:36.088Z"
   },
   {
    "duration": 10,
    "start_time": "2022-12-14T16:12:36.098Z"
   },
   {
    "duration": 64,
    "start_time": "2022-12-14T16:12:36.109Z"
   },
   {
    "duration": 3533,
    "start_time": "2022-12-14T16:15:09.999Z"
   },
   {
    "duration": 26,
    "start_time": "2022-12-14T16:16:18.130Z"
   },
   {
    "duration": 1048,
    "start_time": "2022-12-14T16:17:23.530Z"
   },
   {
    "duration": 33,
    "start_time": "2022-12-14T16:17:24.580Z"
   },
   {
    "duration": 17,
    "start_time": "2022-12-14T16:17:24.614Z"
   },
   {
    "duration": 10,
    "start_time": "2022-12-14T16:17:24.633Z"
   },
   {
    "duration": 6,
    "start_time": "2022-12-14T16:17:24.644Z"
   },
   {
    "duration": 12,
    "start_time": "2022-12-14T16:17:24.651Z"
   },
   {
    "duration": 13,
    "start_time": "2022-12-14T16:17:24.665Z"
   },
   {
    "duration": 12,
    "start_time": "2022-12-14T16:17:24.679Z"
   },
   {
    "duration": 9,
    "start_time": "2022-12-14T16:17:24.693Z"
   },
   {
    "duration": 77,
    "start_time": "2022-12-14T16:17:24.703Z"
   },
   {
    "duration": 3546,
    "start_time": "2022-12-14T16:17:24.781Z"
   },
   {
    "duration": 22,
    "start_time": "2022-12-14T16:17:28.329Z"
   },
   {
    "duration": 94,
    "start_time": "2022-12-14T16:35:33.970Z"
   },
   {
    "duration": 1058,
    "start_time": "2022-12-14T16:35:42.140Z"
   },
   {
    "duration": 31,
    "start_time": "2022-12-14T16:35:43.199Z"
   },
   {
    "duration": 16,
    "start_time": "2022-12-14T16:35:43.232Z"
   },
   {
    "duration": 18,
    "start_time": "2022-12-14T16:35:43.249Z"
   },
   {
    "duration": 10,
    "start_time": "2022-12-14T16:35:43.269Z"
   },
   {
    "duration": 10,
    "start_time": "2022-12-14T16:35:43.280Z"
   },
   {
    "duration": 5,
    "start_time": "2022-12-14T16:35:43.291Z"
   },
   {
    "duration": 6,
    "start_time": "2022-12-14T16:35:43.297Z"
   },
   {
    "duration": 17,
    "start_time": "2022-12-14T16:35:43.304Z"
   },
   {
    "duration": 69,
    "start_time": "2022-12-14T16:35:43.322Z"
   },
   {
    "duration": 3661,
    "start_time": "2022-12-14T16:35:43.393Z"
   },
   {
    "duration": 160,
    "start_time": "2022-12-14T16:35:47.055Z"
   },
   {
    "duration": 101,
    "start_time": "2022-12-14T16:35:47.220Z"
   },
   {
    "duration": 0,
    "start_time": "2022-12-14T16:35:47.323Z"
   },
   {
    "duration": 0,
    "start_time": "2022-12-14T16:35:47.324Z"
   },
   {
    "duration": 7,
    "start_time": "2022-12-14T16:36:11.296Z"
   },
   {
    "duration": 13,
    "start_time": "2022-12-14T16:36:13.194Z"
   },
   {
    "duration": 12,
    "start_time": "2022-12-14T16:36:14.604Z"
   },
   {
    "duration": 11,
    "start_time": "2022-12-14T16:36:42.358Z"
   },
   {
    "duration": 12,
    "start_time": "2022-12-14T16:36:57.559Z"
   },
   {
    "duration": 1051,
    "start_time": "2022-12-14T16:37:06.019Z"
   },
   {
    "duration": 30,
    "start_time": "2022-12-14T16:37:07.072Z"
   },
   {
    "duration": 17,
    "start_time": "2022-12-14T16:37:07.103Z"
   },
   {
    "duration": 10,
    "start_time": "2022-12-14T16:37:07.123Z"
   },
   {
    "duration": 16,
    "start_time": "2022-12-14T16:37:07.134Z"
   },
   {
    "duration": 16,
    "start_time": "2022-12-14T16:37:07.152Z"
   },
   {
    "duration": 6,
    "start_time": "2022-12-14T16:37:07.169Z"
   },
   {
    "duration": 7,
    "start_time": "2022-12-14T16:37:07.176Z"
   },
   {
    "duration": 10,
    "start_time": "2022-12-14T16:37:07.184Z"
   },
   {
    "duration": 82,
    "start_time": "2022-12-14T16:37:07.196Z"
   },
   {
    "duration": 3478,
    "start_time": "2022-12-14T16:37:07.279Z"
   },
   {
    "duration": 158,
    "start_time": "2022-12-14T16:37:10.758Z"
   },
   {
    "duration": 6,
    "start_time": "2022-12-14T16:37:10.921Z"
   },
   {
    "duration": 38,
    "start_time": "2022-12-14T16:37:10.928Z"
   },
   {
    "duration": 101,
    "start_time": "2022-12-14T16:37:10.968Z"
   },
   {
    "duration": 1212,
    "start_time": "2022-12-14T16:55:01.104Z"
   },
   {
    "duration": 30,
    "start_time": "2022-12-14T16:55:02.318Z"
   },
   {
    "duration": 18,
    "start_time": "2022-12-14T16:55:02.350Z"
   },
   {
    "duration": 43,
    "start_time": "2022-12-14T16:55:02.369Z"
   },
   {
    "duration": 102,
    "start_time": "2022-12-14T16:55:02.414Z"
   },
   {
    "duration": 47,
    "start_time": "2022-12-14T16:55:02.517Z"
   },
   {
    "duration": 20,
    "start_time": "2022-12-14T16:55:02.566Z"
   },
   {
    "duration": 23,
    "start_time": "2022-12-14T16:55:02.588Z"
   },
   {
    "duration": 14,
    "start_time": "2022-12-14T16:55:02.613Z"
   },
   {
    "duration": 96,
    "start_time": "2022-12-14T16:55:02.628Z"
   },
   {
    "duration": 3589,
    "start_time": "2022-12-14T16:55:02.726Z"
   },
   {
    "duration": 23,
    "start_time": "2022-12-14T16:55:06.321Z"
   },
   {
    "duration": 5,
    "start_time": "2022-12-14T16:55:06.346Z"
   },
   {
    "duration": 24,
    "start_time": "2022-12-14T16:55:06.353Z"
   },
   {
    "duration": 6,
    "start_time": "2022-12-14T16:55:06.378Z"
   },
   {
    "duration": 3696,
    "start_time": "2022-12-14T17:00:40.405Z"
   },
   {
    "duration": 33,
    "start_time": "2022-12-14T17:01:15.279Z"
   },
   {
    "duration": 23,
    "start_time": "2022-12-14T17:01:21.043Z"
   },
   {
    "duration": 1055,
    "start_time": "2022-12-14T17:01:28.347Z"
   },
   {
    "duration": 31,
    "start_time": "2022-12-14T17:01:29.404Z"
   },
   {
    "duration": 19,
    "start_time": "2022-12-14T17:01:29.437Z"
   },
   {
    "duration": 17,
    "start_time": "2022-12-14T17:01:29.458Z"
   },
   {
    "duration": 9,
    "start_time": "2022-12-14T17:01:29.478Z"
   },
   {
    "duration": 13,
    "start_time": "2022-12-14T17:01:29.489Z"
   },
   {
    "duration": 6,
    "start_time": "2022-12-14T17:01:29.522Z"
   },
   {
    "duration": 7,
    "start_time": "2022-12-14T17:01:29.530Z"
   },
   {
    "duration": 9,
    "start_time": "2022-12-14T17:01:29.538Z"
   },
   {
    "duration": 79,
    "start_time": "2022-12-14T17:01:29.549Z"
   },
   {
    "duration": 3666,
    "start_time": "2022-12-14T17:01:29.630Z"
   },
   {
    "duration": 34,
    "start_time": "2022-12-14T17:01:33.298Z"
   },
   {
    "duration": 7,
    "start_time": "2022-12-14T17:01:33.334Z"
   },
   {
    "duration": 23,
    "start_time": "2022-12-14T17:01:33.344Z"
   },
   {
    "duration": 6,
    "start_time": "2022-12-14T17:01:33.369Z"
   },
   {
    "duration": 1186,
    "start_time": "2022-12-14T17:05:10.819Z"
   },
   {
    "duration": 30,
    "start_time": "2022-12-14T17:05:12.008Z"
   },
   {
    "duration": 18,
    "start_time": "2022-12-14T17:05:12.039Z"
   },
   {
    "duration": 30,
    "start_time": "2022-12-14T17:05:12.059Z"
   },
   {
    "duration": 10,
    "start_time": "2022-12-14T17:05:12.092Z"
   },
   {
    "duration": 13,
    "start_time": "2022-12-14T17:05:12.104Z"
   },
   {
    "duration": 9,
    "start_time": "2022-12-14T17:05:12.120Z"
   },
   {
    "duration": 20,
    "start_time": "2022-12-14T17:05:12.130Z"
   },
   {
    "duration": 24,
    "start_time": "2022-12-14T17:05:12.152Z"
   },
   {
    "duration": 68,
    "start_time": "2022-12-14T17:05:12.178Z"
   },
   {
    "duration": 3762,
    "start_time": "2022-12-14T17:05:12.248Z"
   },
   {
    "duration": 25,
    "start_time": "2022-12-14T17:05:16.012Z"
   },
   {
    "duration": 6,
    "start_time": "2022-12-14T17:05:16.039Z"
   },
   {
    "duration": 16,
    "start_time": "2022-12-14T17:05:16.047Z"
   },
   {
    "duration": 6,
    "start_time": "2022-12-14T17:05:16.065Z"
   },
   {
    "duration": 35,
    "start_time": "2022-12-14T17:05:35.263Z"
   },
   {
    "duration": 1110,
    "start_time": "2022-12-14T17:06:01.047Z"
   },
   {
    "duration": 31,
    "start_time": "2022-12-14T17:06:02.159Z"
   },
   {
    "duration": 21,
    "start_time": "2022-12-14T17:06:02.192Z"
   },
   {
    "duration": 33,
    "start_time": "2022-12-14T17:06:02.215Z"
   },
   {
    "duration": 42,
    "start_time": "2022-12-14T17:06:02.250Z"
   },
   {
    "duration": 37,
    "start_time": "2022-12-14T17:06:02.294Z"
   },
   {
    "duration": 21,
    "start_time": "2022-12-14T17:06:02.332Z"
   },
   {
    "duration": 38,
    "start_time": "2022-12-14T17:06:02.354Z"
   },
   {
    "duration": 25,
    "start_time": "2022-12-14T17:06:02.393Z"
   },
   {
    "duration": 92,
    "start_time": "2022-12-14T17:06:02.420Z"
   },
   {
    "duration": 3814,
    "start_time": "2022-12-14T17:06:02.514Z"
   },
   {
    "duration": 22,
    "start_time": "2022-12-14T17:06:06.330Z"
   },
   {
    "duration": 7,
    "start_time": "2022-12-14T17:06:06.353Z"
   },
   {
    "duration": 28,
    "start_time": "2022-12-14T17:06:06.362Z"
   },
   {
    "duration": 11,
    "start_time": "2022-12-14T17:06:06.392Z"
   },
   {
    "duration": 25,
    "start_time": "2022-12-14T17:13:21.354Z"
   },
   {
    "duration": 1098,
    "start_time": "2022-12-14T17:13:29.191Z"
   },
   {
    "duration": 33,
    "start_time": "2022-12-14T17:13:30.291Z"
   },
   {
    "duration": 18,
    "start_time": "2022-12-14T17:13:30.326Z"
   },
   {
    "duration": 25,
    "start_time": "2022-12-14T17:13:30.346Z"
   },
   {
    "duration": 36,
    "start_time": "2022-12-14T17:13:30.374Z"
   },
   {
    "duration": 35,
    "start_time": "2022-12-14T17:13:30.411Z"
   },
   {
    "duration": 23,
    "start_time": "2022-12-14T17:13:30.448Z"
   },
   {
    "duration": 27,
    "start_time": "2022-12-14T17:13:30.472Z"
   },
   {
    "duration": 34,
    "start_time": "2022-12-14T17:13:30.501Z"
   },
   {
    "duration": 94,
    "start_time": "2022-12-14T17:13:30.537Z"
   },
   {
    "duration": 3587,
    "start_time": "2022-12-14T17:13:30.633Z"
   },
   {
    "duration": 36,
    "start_time": "2022-12-14T17:13:34.221Z"
   },
   {
    "duration": 7,
    "start_time": "2022-12-14T17:13:34.260Z"
   },
   {
    "duration": 50,
    "start_time": "2022-12-14T17:13:34.269Z"
   },
   {
    "duration": 30,
    "start_time": "2022-12-14T17:13:34.321Z"
   },
   {
    "duration": 1075,
    "start_time": "2022-12-14T17:15:12.043Z"
   },
   {
    "duration": 30,
    "start_time": "2022-12-14T17:15:13.120Z"
   },
   {
    "duration": 18,
    "start_time": "2022-12-14T17:15:13.152Z"
   },
   {
    "duration": 16,
    "start_time": "2022-12-14T17:15:13.172Z"
   },
   {
    "duration": 31,
    "start_time": "2022-12-14T17:15:13.189Z"
   },
   {
    "duration": 21,
    "start_time": "2022-12-14T17:15:13.222Z"
   },
   {
    "duration": 16,
    "start_time": "2022-12-14T17:15:13.245Z"
   },
   {
    "duration": 12,
    "start_time": "2022-12-14T17:15:13.263Z"
   },
   {
    "duration": 26,
    "start_time": "2022-12-14T17:15:13.277Z"
   },
   {
    "duration": 77,
    "start_time": "2022-12-14T17:15:13.305Z"
   },
   {
    "duration": 3712,
    "start_time": "2022-12-14T17:15:13.384Z"
   },
   {
    "duration": 29,
    "start_time": "2022-12-14T17:15:17.097Z"
   },
   {
    "duration": 7,
    "start_time": "2022-12-14T17:15:17.128Z"
   },
   {
    "duration": 20,
    "start_time": "2022-12-14T17:15:17.136Z"
   },
   {
    "duration": 20,
    "start_time": "2022-12-14T17:15:17.158Z"
   },
   {
    "duration": 1145,
    "start_time": "2022-12-14T17:19:49.230Z"
   },
   {
    "duration": 30,
    "start_time": "2022-12-14T17:19:50.377Z"
   },
   {
    "duration": 42,
    "start_time": "2022-12-14T17:19:50.409Z"
   },
   {
    "duration": 77,
    "start_time": "2022-12-14T17:19:50.452Z"
   },
   {
    "duration": 85,
    "start_time": "2022-12-14T17:19:50.532Z"
   },
   {
    "duration": 80,
    "start_time": "2022-12-14T17:19:50.619Z"
   },
   {
    "duration": 69,
    "start_time": "2022-12-14T17:19:50.701Z"
   },
   {
    "duration": 73,
    "start_time": "2022-12-14T17:19:50.771Z"
   },
   {
    "duration": 50,
    "start_time": "2022-12-14T17:19:50.846Z"
   },
   {
    "duration": 126,
    "start_time": "2022-12-14T17:19:50.898Z"
   },
   {
    "duration": 3649,
    "start_time": "2022-12-14T17:19:51.025Z"
   },
   {
    "duration": 29,
    "start_time": "2022-12-14T17:19:54.676Z"
   },
   {
    "duration": 21,
    "start_time": "2022-12-14T17:19:54.707Z"
   },
   {
    "duration": 24,
    "start_time": "2022-12-14T17:19:54.731Z"
   },
   {
    "duration": 7,
    "start_time": "2022-12-14T17:19:54.756Z"
   },
   {
    "duration": 7,
    "start_time": "2022-12-14T17:20:31.826Z"
   },
   {
    "duration": 1153,
    "start_time": "2022-12-14T17:21:00.392Z"
   },
   {
    "duration": 32,
    "start_time": "2022-12-14T17:21:01.547Z"
   },
   {
    "duration": 58,
    "start_time": "2022-12-14T17:21:01.583Z"
   },
   {
    "duration": 31,
    "start_time": "2022-12-14T17:21:01.643Z"
   },
   {
    "duration": 28,
    "start_time": "2022-12-14T17:21:01.676Z"
   },
   {
    "duration": 42,
    "start_time": "2022-12-14T17:21:01.706Z"
   },
   {
    "duration": 19,
    "start_time": "2022-12-14T17:21:01.750Z"
   },
   {
    "duration": 16,
    "start_time": "2022-12-14T17:21:01.771Z"
   },
   {
    "duration": 40,
    "start_time": "2022-12-14T17:21:01.789Z"
   },
   {
    "duration": 176,
    "start_time": "2022-12-14T17:21:01.831Z"
   },
   {
    "duration": 3768,
    "start_time": "2022-12-14T17:21:02.009Z"
   },
   {
    "duration": 25,
    "start_time": "2022-12-14T17:21:05.779Z"
   },
   {
    "duration": 18,
    "start_time": "2022-12-14T17:21:05.807Z"
   },
   {
    "duration": 23,
    "start_time": "2022-12-14T17:21:05.827Z"
   },
   {
    "duration": 9,
    "start_time": "2022-12-14T17:21:05.851Z"
   },
   {
    "duration": 7,
    "start_time": "2022-12-14T17:31:45.137Z"
   },
   {
    "duration": 14,
    "start_time": "2022-12-14T17:32:10.442Z"
   },
   {
    "duration": 5,
    "start_time": "2022-12-14T17:32:34.265Z"
   },
   {
    "duration": 1010,
    "start_time": "2022-12-14T17:33:31.572Z"
   },
   {
    "duration": 29,
    "start_time": "2022-12-14T17:33:32.585Z"
   },
   {
    "duration": 18,
    "start_time": "2022-12-14T17:33:32.616Z"
   },
   {
    "duration": 10,
    "start_time": "2022-12-14T17:33:32.635Z"
   },
   {
    "duration": 11,
    "start_time": "2022-12-14T17:33:32.648Z"
   },
   {
    "duration": 19,
    "start_time": "2022-12-14T17:33:32.661Z"
   },
   {
    "duration": 9,
    "start_time": "2022-12-14T17:33:32.682Z"
   },
   {
    "duration": 6,
    "start_time": "2022-12-14T17:33:32.692Z"
   },
   {
    "duration": 9,
    "start_time": "2022-12-14T17:33:32.699Z"
   },
   {
    "duration": 72,
    "start_time": "2022-12-14T17:33:32.709Z"
   },
   {
    "duration": 3576,
    "start_time": "2022-12-14T17:33:32.783Z"
   },
   {
    "duration": 22,
    "start_time": "2022-12-14T17:33:36.361Z"
   },
   {
    "duration": 49,
    "start_time": "2022-12-14T17:33:36.385Z"
   },
   {
    "duration": 0,
    "start_time": "2022-12-14T17:33:36.435Z"
   },
   {
    "duration": 0,
    "start_time": "2022-12-14T17:33:36.436Z"
   },
   {
    "duration": 6,
    "start_time": "2022-12-14T17:33:51.059Z"
   },
   {
    "duration": 13,
    "start_time": "2022-12-14T17:33:52.700Z"
   },
   {
    "duration": 5,
    "start_time": "2022-12-14T17:33:53.136Z"
   },
   {
    "duration": 95,
    "start_time": "2022-12-14T17:48:39.643Z"
   },
   {
    "duration": 3,
    "start_time": "2022-12-14T17:48:56.245Z"
   },
   {
    "duration": 1038,
    "start_time": "2022-12-14T17:49:01.062Z"
   },
   {
    "duration": 31,
    "start_time": "2022-12-14T17:49:02.101Z"
   },
   {
    "duration": 20,
    "start_time": "2022-12-14T17:49:02.134Z"
   },
   {
    "duration": 29,
    "start_time": "2022-12-14T17:49:02.156Z"
   },
   {
    "duration": 8,
    "start_time": "2022-12-14T17:49:02.188Z"
   },
   {
    "duration": 15,
    "start_time": "2022-12-14T17:49:02.198Z"
   },
   {
    "duration": 9,
    "start_time": "2022-12-14T17:49:02.214Z"
   },
   {
    "duration": 19,
    "start_time": "2022-12-14T17:49:02.224Z"
   },
   {
    "duration": 11,
    "start_time": "2022-12-14T17:49:02.244Z"
   },
   {
    "duration": 82,
    "start_time": "2022-12-14T17:49:02.257Z"
   },
   {
    "duration": 3671,
    "start_time": "2022-12-14T17:49:02.341Z"
   },
   {
    "duration": 26,
    "start_time": "2022-12-14T17:49:06.013Z"
   },
   {
    "duration": 7,
    "start_time": "2022-12-14T17:49:06.040Z"
   },
   {
    "duration": 13,
    "start_time": "2022-12-14T17:49:06.049Z"
   },
   {
    "duration": 15,
    "start_time": "2022-12-14T17:49:06.063Z"
   },
   {
    "duration": 22,
    "start_time": "2022-12-14T17:49:06.080Z"
   },
   {
    "duration": 5,
    "start_time": "2022-12-14T17:51:47.663Z"
   },
   {
    "duration": 5,
    "start_time": "2022-12-14T18:05:41.825Z"
   },
   {
    "duration": 23,
    "start_time": "2022-12-14T18:07:35.922Z"
   },
   {
    "duration": 1057,
    "start_time": "2022-12-14T18:08:06.955Z"
   },
   {
    "duration": 29,
    "start_time": "2022-12-14T18:08:08.014Z"
   },
   {
    "duration": 17,
    "start_time": "2022-12-14T18:08:08.045Z"
   },
   {
    "duration": 9,
    "start_time": "2022-12-14T18:08:08.064Z"
   },
   {
    "duration": 6,
    "start_time": "2022-12-14T18:08:08.075Z"
   },
   {
    "duration": 11,
    "start_time": "2022-12-14T18:08:08.082Z"
   },
   {
    "duration": 6,
    "start_time": "2022-12-14T18:08:08.094Z"
   },
   {
    "duration": 4,
    "start_time": "2022-12-14T18:08:08.101Z"
   },
   {
    "duration": 5,
    "start_time": "2022-12-14T18:08:08.121Z"
   },
   {
    "duration": 64,
    "start_time": "2022-12-14T18:08:08.128Z"
   },
   {
    "duration": 3545,
    "start_time": "2022-12-14T18:08:08.193Z"
   },
   {
    "duration": 23,
    "start_time": "2022-12-14T18:08:11.740Z"
   },
   {
    "duration": 5,
    "start_time": "2022-12-14T18:08:11.764Z"
   },
   {
    "duration": 12,
    "start_time": "2022-12-14T18:08:11.772Z"
   },
   {
    "duration": 4,
    "start_time": "2022-12-14T18:08:11.786Z"
   },
   {
    "duration": 30,
    "start_time": "2022-12-14T18:08:11.792Z"
   },
   {
    "duration": 4,
    "start_time": "2022-12-14T18:08:11.824Z"
   },
   {
    "duration": 100,
    "start_time": "2022-12-14T18:15:58.630Z"
   },
   {
    "duration": 35,
    "start_time": "2022-12-14T18:16:15.313Z"
   },
   {
    "duration": 1050,
    "start_time": "2022-12-14T18:16:39.241Z"
   },
   {
    "duration": 30,
    "start_time": "2022-12-14T18:16:40.293Z"
   },
   {
    "duration": 17,
    "start_time": "2022-12-14T18:16:40.325Z"
   },
   {
    "duration": 13,
    "start_time": "2022-12-14T18:16:40.344Z"
   },
   {
    "duration": 9,
    "start_time": "2022-12-14T18:16:40.358Z"
   },
   {
    "duration": 14,
    "start_time": "2022-12-14T18:16:40.369Z"
   },
   {
    "duration": 6,
    "start_time": "2022-12-14T18:16:40.385Z"
   },
   {
    "duration": 27,
    "start_time": "2022-12-14T18:16:40.395Z"
   },
   {
    "duration": 18,
    "start_time": "2022-12-14T18:16:40.424Z"
   },
   {
    "duration": 73,
    "start_time": "2022-12-14T18:16:40.444Z"
   },
   {
    "duration": 3546,
    "start_time": "2022-12-14T18:16:40.521Z"
   },
   {
    "duration": 23,
    "start_time": "2022-12-14T18:16:44.069Z"
   },
   {
    "duration": 5,
    "start_time": "2022-12-14T18:16:44.093Z"
   },
   {
    "duration": 134,
    "start_time": "2022-12-14T18:16:44.100Z"
   },
   {
    "duration": 0,
    "start_time": "2022-12-14T18:16:44.236Z"
   },
   {
    "duration": 0,
    "start_time": "2022-12-14T18:16:44.237Z"
   },
   {
    "duration": 0,
    "start_time": "2022-12-14T18:16:44.238Z"
   },
   {
    "duration": 14,
    "start_time": "2022-12-14T18:17:30.964Z"
   },
   {
    "duration": 6,
    "start_time": "2022-12-14T18:21:57.159Z"
   },
   {
    "duration": 12,
    "start_time": "2022-12-14T18:23:13.482Z"
   },
   {
    "duration": 1152,
    "start_time": "2022-12-14T18:23:44.823Z"
   },
   {
    "duration": 31,
    "start_time": "2022-12-14T18:23:45.978Z"
   },
   {
    "duration": 18,
    "start_time": "2022-12-14T18:23:46.010Z"
   },
   {
    "duration": 18,
    "start_time": "2022-12-14T18:23:46.030Z"
   },
   {
    "duration": 9,
    "start_time": "2022-12-14T18:23:46.049Z"
   },
   {
    "duration": 12,
    "start_time": "2022-12-14T18:23:46.060Z"
   },
   {
    "duration": 9,
    "start_time": "2022-12-14T18:23:46.074Z"
   },
   {
    "duration": 6,
    "start_time": "2022-12-14T18:23:46.084Z"
   },
   {
    "duration": 8,
    "start_time": "2022-12-14T18:23:46.091Z"
   },
   {
    "duration": 73,
    "start_time": "2022-12-14T18:23:46.101Z"
   },
   {
    "duration": 3599,
    "start_time": "2022-12-14T18:23:46.176Z"
   },
   {
    "duration": 23,
    "start_time": "2022-12-14T18:23:49.777Z"
   },
   {
    "duration": 20,
    "start_time": "2022-12-14T18:23:49.801Z"
   },
   {
    "duration": 12,
    "start_time": "2022-12-14T18:23:49.823Z"
   },
   {
    "duration": 108,
    "start_time": "2022-12-14T18:23:49.837Z"
   },
   {
    "duration": 0,
    "start_time": "2022-12-14T18:23:49.947Z"
   },
   {
    "duration": 0,
    "start_time": "2022-12-14T18:23:49.948Z"
   },
   {
    "duration": 17,
    "start_time": "2022-12-14T18:24:05.050Z"
   },
   {
    "duration": 11,
    "start_time": "2022-12-14T18:26:55.965Z"
   },
   {
    "duration": 15,
    "start_time": "2022-12-14T18:27:21.440Z"
   },
   {
    "duration": 16,
    "start_time": "2022-12-14T18:27:40.273Z"
   },
   {
    "duration": 6,
    "start_time": "2022-12-14T18:28:09.298Z"
   },
   {
    "duration": 12,
    "start_time": "2022-12-14T18:28:13.624Z"
   },
   {
    "duration": 14,
    "start_time": "2022-12-14T18:28:25.895Z"
   },
   {
    "duration": 6,
    "start_time": "2022-12-14T18:28:44.064Z"
   },
   {
    "duration": 6,
    "start_time": "2022-12-14T18:30:37.723Z"
   },
   {
    "duration": 25,
    "start_time": "2022-12-14T18:31:21.431Z"
   },
   {
    "duration": 25,
    "start_time": "2022-12-14T18:31:32.166Z"
   },
   {
    "duration": 24,
    "start_time": "2022-12-14T18:31:36.220Z"
   },
   {
    "duration": 1021,
    "start_time": "2022-12-14T18:31:41.143Z"
   },
   {
    "duration": 29,
    "start_time": "2022-12-14T18:31:42.166Z"
   },
   {
    "duration": 16,
    "start_time": "2022-12-14T18:31:42.197Z"
   },
   {
    "duration": 10,
    "start_time": "2022-12-14T18:31:42.214Z"
   },
   {
    "duration": 5,
    "start_time": "2022-12-14T18:31:42.226Z"
   },
   {
    "duration": 13,
    "start_time": "2022-12-14T18:31:42.232Z"
   },
   {
    "duration": 7,
    "start_time": "2022-12-14T18:31:42.247Z"
   },
   {
    "duration": 6,
    "start_time": "2022-12-14T18:31:42.255Z"
   },
   {
    "duration": 18,
    "start_time": "2022-12-14T18:31:42.262Z"
   },
   {
    "duration": 73,
    "start_time": "2022-12-14T18:31:42.281Z"
   },
   {
    "duration": 3589,
    "start_time": "2022-12-14T18:31:42.356Z"
   },
   {
    "duration": 22,
    "start_time": "2022-12-14T18:31:45.946Z"
   },
   {
    "duration": 5,
    "start_time": "2022-12-14T18:31:45.970Z"
   },
   {
    "duration": 18,
    "start_time": "2022-12-14T18:31:45.977Z"
   },
   {
    "duration": 14,
    "start_time": "2022-12-14T18:31:45.996Z"
   },
   {
    "duration": 8,
    "start_time": "2022-12-14T18:31:46.020Z"
   },
   {
    "duration": 7,
    "start_time": "2022-12-14T18:31:46.029Z"
   },
   {
    "duration": 24,
    "start_time": "2022-12-14T18:31:49.783Z"
   },
   {
    "duration": 1129,
    "start_time": "2022-12-14T18:31:54.497Z"
   },
   {
    "duration": 30,
    "start_time": "2022-12-14T18:31:55.628Z"
   },
   {
    "duration": 16,
    "start_time": "2022-12-14T18:31:55.660Z"
   },
   {
    "duration": 11,
    "start_time": "2022-12-14T18:31:55.678Z"
   },
   {
    "duration": 11,
    "start_time": "2022-12-14T18:31:55.690Z"
   },
   {
    "duration": 10,
    "start_time": "2022-12-14T18:31:55.702Z"
   },
   {
    "duration": 7,
    "start_time": "2022-12-14T18:31:55.714Z"
   },
   {
    "duration": 5,
    "start_time": "2022-12-14T18:31:55.723Z"
   },
   {
    "duration": 17,
    "start_time": "2022-12-14T18:31:55.729Z"
   },
   {
    "duration": 67,
    "start_time": "2022-12-14T18:31:55.748Z"
   },
   {
    "duration": 3531,
    "start_time": "2022-12-14T18:31:55.816Z"
   },
   {
    "duration": 24,
    "start_time": "2022-12-14T18:31:59.349Z"
   },
   {
    "duration": 6,
    "start_time": "2022-12-14T18:31:59.374Z"
   },
   {
    "duration": 19,
    "start_time": "2022-12-14T18:31:59.382Z"
   },
   {
    "duration": 20,
    "start_time": "2022-12-14T18:31:59.402Z"
   },
   {
    "duration": 4,
    "start_time": "2022-12-14T18:31:59.424Z"
   },
   {
    "duration": 5,
    "start_time": "2022-12-14T18:31:59.430Z"
   },
   {
    "duration": 24,
    "start_time": "2022-12-14T18:32:03.796Z"
   },
   {
    "duration": 1045,
    "start_time": "2022-12-14T18:32:07.860Z"
   },
   {
    "duration": 30,
    "start_time": "2022-12-14T18:32:08.907Z"
   },
   {
    "duration": 18,
    "start_time": "2022-12-14T18:32:08.938Z"
   },
   {
    "duration": 31,
    "start_time": "2022-12-14T18:32:08.958Z"
   },
   {
    "duration": 20,
    "start_time": "2022-12-14T18:32:08.990Z"
   },
   {
    "duration": 15,
    "start_time": "2022-12-14T18:32:09.012Z"
   },
   {
    "duration": 20,
    "start_time": "2022-12-14T18:32:09.028Z"
   },
   {
    "duration": 8,
    "start_time": "2022-12-14T18:32:09.049Z"
   },
   {
    "duration": 12,
    "start_time": "2022-12-14T18:32:09.059Z"
   },
   {
    "duration": 81,
    "start_time": "2022-12-14T18:32:09.074Z"
   },
   {
    "duration": 3476,
    "start_time": "2022-12-14T18:32:09.157Z"
   },
   {
    "duration": 22,
    "start_time": "2022-12-14T18:32:12.634Z"
   },
   {
    "duration": 7,
    "start_time": "2022-12-14T18:32:12.657Z"
   },
   {
    "duration": 38,
    "start_time": "2022-12-14T18:32:12.665Z"
   },
   {
    "duration": 25,
    "start_time": "2022-12-14T18:32:12.705Z"
   },
   {
    "duration": 32,
    "start_time": "2022-12-14T18:32:12.732Z"
   },
   {
    "duration": 24,
    "start_time": "2022-12-14T18:32:12.766Z"
   },
   {
    "duration": 5,
    "start_time": "2022-12-14T18:32:55.311Z"
   },
   {
    "duration": 1563,
    "start_time": "2022-12-16T16:32:05.149Z"
   },
   {
    "duration": 75,
    "start_time": "2022-12-16T16:32:06.715Z"
   },
   {
    "duration": 15,
    "start_time": "2022-12-16T16:32:06.792Z"
   },
   {
    "duration": 11,
    "start_time": "2022-12-16T16:32:06.808Z"
   },
   {
    "duration": 12,
    "start_time": "2022-12-16T16:32:06.821Z"
   },
   {
    "duration": 24,
    "start_time": "2022-12-16T16:32:06.834Z"
   },
   {
    "duration": 4751,
    "start_time": "2022-12-16T16:32:06.859Z"
   },
   {
    "duration": 8,
    "start_time": "2022-12-16T16:32:11.612Z"
   },
   {
    "duration": 40,
    "start_time": "2022-12-16T16:32:11.621Z"
   },
   {
    "duration": 22,
    "start_time": "2022-12-16T16:32:11.662Z"
   },
   {
    "duration": 80,
    "start_time": "2022-12-16T16:32:11.685Z"
   },
   {
    "duration": 3536,
    "start_time": "2022-12-16T16:32:11.766Z"
   },
   {
    "duration": 32,
    "start_time": "2022-12-16T16:32:15.303Z"
   },
   {
    "duration": 7,
    "start_time": "2022-12-16T16:32:15.338Z"
   },
   {
    "duration": 15,
    "start_time": "2022-12-16T16:32:15.347Z"
   },
   {
    "duration": 5,
    "start_time": "2022-12-16T16:32:15.364Z"
   },
   {
    "duration": 12,
    "start_time": "2022-12-16T16:32:15.371Z"
   },
   {
    "duration": 6,
    "start_time": "2022-12-16T16:32:15.384Z"
   },
   {
    "duration": 107,
    "start_time": "2022-12-16T16:33:02.882Z"
   },
   {
    "duration": 3228,
    "start_time": "2022-12-16T16:33:28.381Z"
   },
   {
    "duration": 3357,
    "start_time": "2022-12-16T16:33:34.615Z"
   },
   {
    "duration": 3345,
    "start_time": "2022-12-16T16:33:44.260Z"
   },
   {
    "duration": 3406,
    "start_time": "2022-12-16T16:34:22.046Z"
   },
   {
    "duration": 3268,
    "start_time": "2022-12-16T16:34:27.704Z"
   }
  ],
  "kernelspec": {
   "display_name": "Python 3 (ipykernel)",
   "language": "python",
   "name": "python3"
  },
  "language_info": {
   "codemirror_mode": {
    "name": "ipython",
    "version": 3
   },
   "file_extension": ".py",
   "mimetype": "text/x-python",
   "name": "python",
   "nbconvert_exporter": "python",
   "pygments_lexer": "ipython3",
   "version": "3.9.12"
  },
  "toc": {
   "base_numbering": 1,
   "nav_menu": {},
   "number_sections": true,
   "sideBar": true,
   "skip_h1_title": true,
   "title_cell": "Table of Contents",
   "title_sidebar": "Contents",
   "toc_cell": false,
   "toc_position": {},
   "toc_section_display": true,
   "toc_window_display": false
  }
 },
 "nbformat": 4,
 "nbformat_minor": 2
}
