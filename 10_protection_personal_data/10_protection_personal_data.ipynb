{
 "cells": [
  {
   "cell_type": "markdown",
   "metadata": {
    "toc": true
   },
   "source": [
    "<h1>Содержание<span class=\"tocSkip\"></span></h1>\n",
    "<div class=\"toc\"><ul class=\"toc-item\"><li><span><a href=\"#Загрузка-данных\" data-toc-modified-id=\"Загрузка-данных-1\"><span class=\"toc-item-num\">1&nbsp;&nbsp;</span>Загрузка данных</a></span></li><li><span><a href=\"#Умножение-матриц\" data-toc-modified-id=\"Умножение-матриц-2\"><span class=\"toc-item-num\">2&nbsp;&nbsp;</span>Умножение матриц</a></span></li><li><span><a href=\"#Алгоритм-преобразования\" data-toc-modified-id=\"Алгоритм-преобразования-3\"><span class=\"toc-item-num\">3&nbsp;&nbsp;</span>Алгоритм преобразования</a></span></li><li><span><a href=\"#Проверка-алгоритма\" data-toc-modified-id=\"Проверка-алгоритма-4\"><span class=\"toc-item-num\">4&nbsp;&nbsp;</span>Проверка алгоритма</a></span></li><li><span><a href=\"#Чек-лист-проверки\" data-toc-modified-id=\"Чек-лист-проверки-5\"><span class=\"toc-item-num\">5&nbsp;&nbsp;</span>Чек-лист проверки</a></span></li><li><span><a href=\"#\" data-toc-modified-id=\"-6\"><span class=\"toc-item-num\">6&nbsp;&nbsp;</span></a></span></li></ul></div>"
   ]
  },
  {
   "cell_type": "markdown",
   "metadata": {},
   "source": [
    "# Защита персональных данных клиентов"
   ]
  },
  {
   "cell_type": "markdown",
   "metadata": {},
   "source": [
    "Вам нужно защитить данные клиентов страховой компании «Хоть потоп». Разработайте такой метод преобразования данных, чтобы по ним было сложно восстановить персональную информацию. Обоснуйте корректность его работы.\n",
    "\n",
    "Нужно защитить данные, чтобы при преобразовании качество моделей машинного обучения не ухудшилось. Подбирать наилучшую модель не требуется."
   ]
  },
  {
   "cell_type": "markdown",
   "metadata": {},
   "source": [
    "## Загрузка данных"
   ]
  },
  {
   "cell_type": "code",
   "execution_count": 1,
   "metadata": {},
   "outputs": [],
   "source": [
    "import pandas as pd\n",
    "import numpy as np\n",
    "import seaborn as sns\n",
    "\n",
    "from sklearn.model_selection import train_test_split\n",
    "from sklearn.linear_model import LinearRegression\n",
    "from sklearn.metrics import r2_score\n",
    "\n",
    "\n",
    "pd.options.display.max_rows = 100\n",
    "STATE = 5555"
   ]
  },
  {
   "cell_type": "code",
   "execution_count": 2,
   "metadata": {},
   "outputs": [],
   "source": [
    "def get_data_info(data):\n",
    "    display(data.head(5))\n",
    "    print('_'*50)\n",
    "    display(data.sample(5))\n",
    "    print('_'*50)\n",
    "    display(data.tail(5))\n",
    "    print('_'*50)\n",
    "    display(data.info())\n",
    "    print('_'*50)\n",
    "    display(data.describe(include='all'))\n",
    "    print('_'*50)\n",
    "    print('Количество количество дубликатов', data.duplicated().sum())"
   ]
  },
  {
   "cell_type": "code",
   "execution_count": 3,
   "metadata": {},
   "outputs": [],
   "source": [
    "df = pd.read_csv('/datasets/insurance.csv')"
   ]
  },
  {
   "cell_type": "code",
   "execution_count": 4,
   "metadata": {},
   "outputs": [
    {
     "data": {
      "text/html": [
       "<div>\n",
       "<style scoped>\n",
       "    .dataframe tbody tr th:only-of-type {\n",
       "        vertical-align: middle;\n",
       "    }\n",
       "\n",
       "    .dataframe tbody tr th {\n",
       "        vertical-align: top;\n",
       "    }\n",
       "\n",
       "    .dataframe thead th {\n",
       "        text-align: right;\n",
       "    }\n",
       "</style>\n",
       "<table border=\"1\" class=\"dataframe\">\n",
       "  <thead>\n",
       "    <tr style=\"text-align: right;\">\n",
       "      <th></th>\n",
       "      <th>Пол</th>\n",
       "      <th>Возраст</th>\n",
       "      <th>Зарплата</th>\n",
       "      <th>Члены семьи</th>\n",
       "      <th>Страховые выплаты</th>\n",
       "    </tr>\n",
       "  </thead>\n",
       "  <tbody>\n",
       "    <tr>\n",
       "      <th>0</th>\n",
       "      <td>1</td>\n",
       "      <td>41.0</td>\n",
       "      <td>49600.0</td>\n",
       "      <td>1</td>\n",
       "      <td>0</td>\n",
       "    </tr>\n",
       "    <tr>\n",
       "      <th>1</th>\n",
       "      <td>0</td>\n",
       "      <td>46.0</td>\n",
       "      <td>38000.0</td>\n",
       "      <td>1</td>\n",
       "      <td>1</td>\n",
       "    </tr>\n",
       "    <tr>\n",
       "      <th>2</th>\n",
       "      <td>0</td>\n",
       "      <td>29.0</td>\n",
       "      <td>21000.0</td>\n",
       "      <td>0</td>\n",
       "      <td>0</td>\n",
       "    </tr>\n",
       "    <tr>\n",
       "      <th>3</th>\n",
       "      <td>0</td>\n",
       "      <td>21.0</td>\n",
       "      <td>41700.0</td>\n",
       "      <td>2</td>\n",
       "      <td>0</td>\n",
       "    </tr>\n",
       "    <tr>\n",
       "      <th>4</th>\n",
       "      <td>1</td>\n",
       "      <td>28.0</td>\n",
       "      <td>26100.0</td>\n",
       "      <td>0</td>\n",
       "      <td>0</td>\n",
       "    </tr>\n",
       "  </tbody>\n",
       "</table>\n",
       "</div>"
      ],
      "text/plain": [
       "   Пол  Возраст  Зарплата  Члены семьи  Страховые выплаты\n",
       "0    1     41.0   49600.0            1                  0\n",
       "1    0     46.0   38000.0            1                  1\n",
       "2    0     29.0   21000.0            0                  0\n",
       "3    0     21.0   41700.0            2                  0\n",
       "4    1     28.0   26100.0            0                  0"
      ]
     },
     "metadata": {},
     "output_type": "display_data"
    },
    {
     "name": "stdout",
     "output_type": "stream",
     "text": [
      "__________________________________________________\n"
     ]
    },
    {
     "data": {
      "text/html": [
       "<div>\n",
       "<style scoped>\n",
       "    .dataframe tbody tr th:only-of-type {\n",
       "        vertical-align: middle;\n",
       "    }\n",
       "\n",
       "    .dataframe tbody tr th {\n",
       "        vertical-align: top;\n",
       "    }\n",
       "\n",
       "    .dataframe thead th {\n",
       "        text-align: right;\n",
       "    }\n",
       "</style>\n",
       "<table border=\"1\" class=\"dataframe\">\n",
       "  <thead>\n",
       "    <tr style=\"text-align: right;\">\n",
       "      <th></th>\n",
       "      <th>Пол</th>\n",
       "      <th>Возраст</th>\n",
       "      <th>Зарплата</th>\n",
       "      <th>Члены семьи</th>\n",
       "      <th>Страховые выплаты</th>\n",
       "    </tr>\n",
       "  </thead>\n",
       "  <tbody>\n",
       "    <tr>\n",
       "      <th>709</th>\n",
       "      <td>0</td>\n",
       "      <td>37.0</td>\n",
       "      <td>39900.0</td>\n",
       "      <td>0</td>\n",
       "      <td>0</td>\n",
       "    </tr>\n",
       "    <tr>\n",
       "      <th>3978</th>\n",
       "      <td>0</td>\n",
       "      <td>24.0</td>\n",
       "      <td>36300.0</td>\n",
       "      <td>0</td>\n",
       "      <td>0</td>\n",
       "    </tr>\n",
       "    <tr>\n",
       "      <th>3152</th>\n",
       "      <td>1</td>\n",
       "      <td>25.0</td>\n",
       "      <td>42200.0</td>\n",
       "      <td>0</td>\n",
       "      <td>0</td>\n",
       "    </tr>\n",
       "    <tr>\n",
       "      <th>192</th>\n",
       "      <td>0</td>\n",
       "      <td>21.0</td>\n",
       "      <td>37600.0</td>\n",
       "      <td>1</td>\n",
       "      <td>0</td>\n",
       "    </tr>\n",
       "    <tr>\n",
       "      <th>2800</th>\n",
       "      <td>1</td>\n",
       "      <td>30.0</td>\n",
       "      <td>42300.0</td>\n",
       "      <td>1</td>\n",
       "      <td>0</td>\n",
       "    </tr>\n",
       "  </tbody>\n",
       "</table>\n",
       "</div>"
      ],
      "text/plain": [
       "      Пол  Возраст  Зарплата  Члены семьи  Страховые выплаты\n",
       "709     0     37.0   39900.0            0                  0\n",
       "3978    0     24.0   36300.0            0                  0\n",
       "3152    1     25.0   42200.0            0                  0\n",
       "192     0     21.0   37600.0            1                  0\n",
       "2800    1     30.0   42300.0            1                  0"
      ]
     },
     "metadata": {},
     "output_type": "display_data"
    },
    {
     "name": "stdout",
     "output_type": "stream",
     "text": [
      "__________________________________________________\n"
     ]
    },
    {
     "data": {
      "text/html": [
       "<div>\n",
       "<style scoped>\n",
       "    .dataframe tbody tr th:only-of-type {\n",
       "        vertical-align: middle;\n",
       "    }\n",
       "\n",
       "    .dataframe tbody tr th {\n",
       "        vertical-align: top;\n",
       "    }\n",
       "\n",
       "    .dataframe thead th {\n",
       "        text-align: right;\n",
       "    }\n",
       "</style>\n",
       "<table border=\"1\" class=\"dataframe\">\n",
       "  <thead>\n",
       "    <tr style=\"text-align: right;\">\n",
       "      <th></th>\n",
       "      <th>Пол</th>\n",
       "      <th>Возраст</th>\n",
       "      <th>Зарплата</th>\n",
       "      <th>Члены семьи</th>\n",
       "      <th>Страховые выплаты</th>\n",
       "    </tr>\n",
       "  </thead>\n",
       "  <tbody>\n",
       "    <tr>\n",
       "      <th>4995</th>\n",
       "      <td>0</td>\n",
       "      <td>28.0</td>\n",
       "      <td>35700.0</td>\n",
       "      <td>2</td>\n",
       "      <td>0</td>\n",
       "    </tr>\n",
       "    <tr>\n",
       "      <th>4996</th>\n",
       "      <td>0</td>\n",
       "      <td>34.0</td>\n",
       "      <td>52400.0</td>\n",
       "      <td>1</td>\n",
       "      <td>0</td>\n",
       "    </tr>\n",
       "    <tr>\n",
       "      <th>4997</th>\n",
       "      <td>0</td>\n",
       "      <td>20.0</td>\n",
       "      <td>33900.0</td>\n",
       "      <td>2</td>\n",
       "      <td>0</td>\n",
       "    </tr>\n",
       "    <tr>\n",
       "      <th>4998</th>\n",
       "      <td>1</td>\n",
       "      <td>22.0</td>\n",
       "      <td>32700.0</td>\n",
       "      <td>3</td>\n",
       "      <td>0</td>\n",
       "    </tr>\n",
       "    <tr>\n",
       "      <th>4999</th>\n",
       "      <td>1</td>\n",
       "      <td>28.0</td>\n",
       "      <td>40600.0</td>\n",
       "      <td>1</td>\n",
       "      <td>0</td>\n",
       "    </tr>\n",
       "  </tbody>\n",
       "</table>\n",
       "</div>"
      ],
      "text/plain": [
       "      Пол  Возраст  Зарплата  Члены семьи  Страховые выплаты\n",
       "4995    0     28.0   35700.0            2                  0\n",
       "4996    0     34.0   52400.0            1                  0\n",
       "4997    0     20.0   33900.0            2                  0\n",
       "4998    1     22.0   32700.0            3                  0\n",
       "4999    1     28.0   40600.0            1                  0"
      ]
     },
     "metadata": {},
     "output_type": "display_data"
    },
    {
     "name": "stdout",
     "output_type": "stream",
     "text": [
      "__________________________________________________\n",
      "<class 'pandas.core.frame.DataFrame'>\n",
      "RangeIndex: 5000 entries, 0 to 4999\n",
      "Data columns (total 5 columns):\n",
      " #   Column             Non-Null Count  Dtype  \n",
      "---  ------             --------------  -----  \n",
      " 0   Пол                5000 non-null   int64  \n",
      " 1   Возраст            5000 non-null   float64\n",
      " 2   Зарплата           5000 non-null   float64\n",
      " 3   Члены семьи        5000 non-null   int64  \n",
      " 4   Страховые выплаты  5000 non-null   int64  \n",
      "dtypes: float64(2), int64(3)\n",
      "memory usage: 195.4 KB\n"
     ]
    },
    {
     "data": {
      "text/plain": [
       "None"
      ]
     },
     "metadata": {},
     "output_type": "display_data"
    },
    {
     "name": "stdout",
     "output_type": "stream",
     "text": [
      "__________________________________________________\n"
     ]
    },
    {
     "data": {
      "text/html": [
       "<div>\n",
       "<style scoped>\n",
       "    .dataframe tbody tr th:only-of-type {\n",
       "        vertical-align: middle;\n",
       "    }\n",
       "\n",
       "    .dataframe tbody tr th {\n",
       "        vertical-align: top;\n",
       "    }\n",
       "\n",
       "    .dataframe thead th {\n",
       "        text-align: right;\n",
       "    }\n",
       "</style>\n",
       "<table border=\"1\" class=\"dataframe\">\n",
       "  <thead>\n",
       "    <tr style=\"text-align: right;\">\n",
       "      <th></th>\n",
       "      <th>Пол</th>\n",
       "      <th>Возраст</th>\n",
       "      <th>Зарплата</th>\n",
       "      <th>Члены семьи</th>\n",
       "      <th>Страховые выплаты</th>\n",
       "    </tr>\n",
       "  </thead>\n",
       "  <tbody>\n",
       "    <tr>\n",
       "      <th>count</th>\n",
       "      <td>5000.000000</td>\n",
       "      <td>5000.000000</td>\n",
       "      <td>5000.000000</td>\n",
       "      <td>5000.000000</td>\n",
       "      <td>5000.000000</td>\n",
       "    </tr>\n",
       "    <tr>\n",
       "      <th>mean</th>\n",
       "      <td>0.499000</td>\n",
       "      <td>30.952800</td>\n",
       "      <td>39916.360000</td>\n",
       "      <td>1.194200</td>\n",
       "      <td>0.148000</td>\n",
       "    </tr>\n",
       "    <tr>\n",
       "      <th>std</th>\n",
       "      <td>0.500049</td>\n",
       "      <td>8.440807</td>\n",
       "      <td>9900.083569</td>\n",
       "      <td>1.091387</td>\n",
       "      <td>0.463183</td>\n",
       "    </tr>\n",
       "    <tr>\n",
       "      <th>min</th>\n",
       "      <td>0.000000</td>\n",
       "      <td>18.000000</td>\n",
       "      <td>5300.000000</td>\n",
       "      <td>0.000000</td>\n",
       "      <td>0.000000</td>\n",
       "    </tr>\n",
       "    <tr>\n",
       "      <th>25%</th>\n",
       "      <td>0.000000</td>\n",
       "      <td>24.000000</td>\n",
       "      <td>33300.000000</td>\n",
       "      <td>0.000000</td>\n",
       "      <td>0.000000</td>\n",
       "    </tr>\n",
       "    <tr>\n",
       "      <th>50%</th>\n",
       "      <td>0.000000</td>\n",
       "      <td>30.000000</td>\n",
       "      <td>40200.000000</td>\n",
       "      <td>1.000000</td>\n",
       "      <td>0.000000</td>\n",
       "    </tr>\n",
       "    <tr>\n",
       "      <th>75%</th>\n",
       "      <td>1.000000</td>\n",
       "      <td>37.000000</td>\n",
       "      <td>46600.000000</td>\n",
       "      <td>2.000000</td>\n",
       "      <td>0.000000</td>\n",
       "    </tr>\n",
       "    <tr>\n",
       "      <th>max</th>\n",
       "      <td>1.000000</td>\n",
       "      <td>65.000000</td>\n",
       "      <td>79000.000000</td>\n",
       "      <td>6.000000</td>\n",
       "      <td>5.000000</td>\n",
       "    </tr>\n",
       "  </tbody>\n",
       "</table>\n",
       "</div>"
      ],
      "text/plain": [
       "               Пол      Возраст      Зарплата  Члены семьи  Страховые выплаты\n",
       "count  5000.000000  5000.000000   5000.000000  5000.000000        5000.000000\n",
       "mean      0.499000    30.952800  39916.360000     1.194200           0.148000\n",
       "std       0.500049     8.440807   9900.083569     1.091387           0.463183\n",
       "min       0.000000    18.000000   5300.000000     0.000000           0.000000\n",
       "25%       0.000000    24.000000  33300.000000     0.000000           0.000000\n",
       "50%       0.000000    30.000000  40200.000000     1.000000           0.000000\n",
       "75%       1.000000    37.000000  46600.000000     2.000000           0.000000\n",
       "max       1.000000    65.000000  79000.000000     6.000000           5.000000"
      ]
     },
     "metadata": {},
     "output_type": "display_data"
    },
    {
     "name": "stdout",
     "output_type": "stream",
     "text": [
      "__________________________________________________\n",
      "Количество количество дубликатов 153\n"
     ]
    }
   ],
   "source": [
    "get_data_info(df)"
   ]
  },
  {
   "cell_type": "markdown",
   "metadata": {},
   "source": [
    "Убирать дубликаты не будем, т.к. нет никаких индификаторов клиентов и мы не можем 100% пологать, что это истенные дубликаты."
   ]
  },
  {
   "cell_type": "code",
   "execution_count": 5,
   "metadata": {},
   "outputs": [
    {
     "data": {
      "text/plain": [
       "<AxesSubplot:>"
      ]
     },
     "execution_count": 5,
     "metadata": {},
     "output_type": "execute_result"
    },
    {
     "data": {
      "image/png": "[encoded data removed]",
      "text/plain": [
       "<Figure size 432x288 with 2 Axes>"
      ]
     },
     "metadata": {
      "needs_background": "light"
     },
     "output_type": "display_data"
    }
   ],
   "source": [
    "correlations = df.corr()\n",
    "sns.heatmap(correlations, annot=True, cmap='coolwarm')"
   ]
  },
  {
   "cell_type": "markdown",
   "metadata": {},
   "source": [
    "Заметна средняя корреляция возраста и страховых выплат"
   ]
  },
  {
   "cell_type": "markdown",
   "metadata": {},
   "source": [
    "Вывод:\n",
    "\n",
    "Загрузили, изучили и подготовили данные к работе. \n",
    "\n",
    "В данных заметна средняя корреляция возраста и страховых выплат"
   ]
  },
  {
   "cell_type": "markdown",
   "metadata": {},
   "source": [
    "## Умножение матриц"
   ]
  },
  {
   "cell_type": "markdown",
   "metadata": {},
   "source": [
    "В этом задании вы можете записывать формулы в *Jupyter Notebook.*\n",
    "\n",
    "Чтобы записать формулу внутри текста, окружите её символами доллара \\\\$; если снаружи —  двойными символами \\\\$\\\\$. Эти формулы записываются на языке вёрстки *LaTeX.* \n",
    "\n",
    "Для примера мы записали формулы линейной регрессии. Можете их скопировать и отредактировать, чтобы решить задачу.\n",
    "\n",
    "Работать в *LaTeX* необязательно."
   ]
  },
  {
   "cell_type": "markdown",
   "metadata": {},
   "source": [
    "Обозначения:\n",
    "\n",
    "- $X$ — матрица признаков (нулевой столбец состоит из единиц)\n",
    "\n",
    "- $y$ — вектор целевого признака\n",
    "\n",
    "- $P$ — матрица, на которую умножаются признаки\n",
    "\n",
    "- $w$ — вектор весов линейной регрессии (нулевой элемент равен сдвигу)"
   ]
  },
  {
   "cell_type": "markdown",
   "metadata": {},
   "source": [
    "Предсказания:\n",
    "\n",
    "$$\n",
    "a = Xw\n",
    "$$\n",
    "\n",
    "Задача обучения:\n",
    "\n",
    "$$\n",
    "w = \\arg\\min_w MSE(Xw, y)\n",
    "$$\n",
    "\n",
    "Формула обучения:\n",
    "\n",
    "$$\n",
    "w = (X^T X)^{-1} X^T y\n",
    "$$\n"
   ]
  },
  {
   "cell_type": "markdown",
   "metadata": {},
   "source": [
    "**Ответ:** Не изменится\n",
    "\n",
    "**Обоснование:**"
   ]
  },
  {
   "cell_type": "markdown",
   "metadata": {},
   "source": [
    "Запишем новое представление матрицы признаков с учетом умножения на обратную матрицу:\n",
    "$$Z = XP$$\n",
    "\n",
    "Предсказания: $A = ZW$\n",
    "\n",
    "Формула обучения: $W = (Z^T Z)^{-1} Z^T y$\n",
    "\n",
    "где $W$ - вектор весов.\n",
    "\n",
    "Подставим значение $Z$ в формулу обучения и преобразуем ее:\n",
    "\n",
    "$$W = (Z^T Z)^{-1} Z^T y$$\n",
    "\n",
    "$$W = (P^TX^TXP)^{-1} P^TX^T y$$\n",
    "\n",
    "$$W = (P^T(X^TX)P)^{-1} P^TX^T y$$\n",
    "\n",
    "$$W = P^{-1}(X^TX)^{-1}(P^T)^{-1}P^TX^Ty$$\n",
    "\n",
    "По свойству транспонирования матрицы:\n",
    "\n",
    "$$(P^T)^T = P$$\n",
    "\n",
    "$$(P^{-1})^T = (P^T)^{-1}$$\n",
    "\n",
    "Подставим полученные значения в формулу вектора весов линейной регрессии:\n",
    "\n",
    "$$W = P^{-1}(X^TX)^{-1}(P^T)^{-1}P^TX^Ty$$\n",
    "\n",
    "$$W = P^{-1}(X^TX)^{-1}X^Ty$$\n",
    "\n",
    "Таким образом, формула для вектора весов линейной регрессии при использовании преобразованной матрицы признаков будет иметь вид:\n",
    "\n",
    "$$W = P^{-1}w$$\n",
    "\n",
    "где $w = (X^TX)^{-1}X^Ty$\n",
    "\n",
    "Подставим полученное значение вектора весов линейной регрессии в формулу предсказаний:\n",
    "\n",
    "$$A = ZW = XP(P^{-1}w) = Xw$$\n",
    "\n",
    "Таким образом, ответ на вопрос будет: предсказания линейной регрессии не изменятся, так как новое представление матрицы признаков $Z = XP$ не влияет на формулу предсказаний $A=Xw$."
   ]
  },
  {
   "cell_type": "markdown",
   "metadata": {},
   "source": [
    "Вывод:\n",
    "\n",
    "Исходная формула вектора предсказаний равна формуле вектора предсказаний с  умножением на обратимую матрицу. \n",
    "\n",
    "Качество линейной регрессии не изменится."
   ]
  },
  {
   "cell_type": "markdown",
   "metadata": {},
   "source": [
    "## Алгоритм преобразования"
   ]
  },
  {
   "cell_type": "markdown",
   "metadata": {},
   "source": [
    "Алгоритм шифрования данных путем умножения матрицы признаков на обратимую случайно сгенерированную матрицу той же размерности:\n",
    "\n",
    "* Сгенерировать случайную матрицу той же размерности, что и исходная матрица признаков.\n",
    "\n",
    "* Проверить, что сгенерированная матрица обратима\n",
    "\n",
    "* Умножить матрицу признаков на сгенерированную матрицу, чтобы получить зашифрованные данные.\n",
    "\n",
    "* Сохранить сгенерированную матрицу вместе с зашифрованными данными, чтобы иметь возможность расшифровать исходные данные в будущем.\n",
    "\n",
    "Алгоритм расшифровки будет следующим:\n",
    "\n",
    "* Использовать сохраненную сгенерированную матрицу для вычисления обратной матрицы с помощью функции `numpy.linalg.inv()`.\n",
    "\n",
    "* Умножить зашифрованные данные на обратную матрицу, чтобы получить исходные данные."
   ]
  },
  {
   "cell_type": "markdown",
   "metadata": {},
   "source": [
    "Вывод:\n",
    "\n",
    "Алгоритм не создаст различий в предсказаниях при использовании исходных и преобразованных данных. Следовательно, качество предсказаний модели не ухудшится."
   ]
  },
  {
   "cell_type": "code",
   "execution_count": 6,
   "metadata": {},
   "outputs": [],
   "source": [
    "features = df.drop(['Страховые выплаты'], axis=1)\n",
    "target = df['Страховые выплаты']"
   ]
  },
  {
   "cell_type": "markdown",
   "metadata": {},
   "source": [
    "## Проверка алгоритма"
   ]
  },
  {
   "cell_type": "markdown",
   "metadata": {},
   "source": [
    "Создадим класс шифровщика/дешифровщика"
   ]
  },
  {
   "cell_type": "code",
   "execution_count": 7,
   "metadata": {},
   "outputs": [],
   "source": [
    "class Encryptor:\n",
    "\n",
    "    def encrypt(self, data):\n",
    "        columns = data.columns\n",
    "        r = np.random.RandomState(STATE)\n",
    "        while True:\n",
    "            self.crypto_matrix = r.randn(4, 4)\n",
    "            if np.linalg.det(self.crypto_matrix) != 0:\n",
    "                break\n",
    "        encrypted_features = data @ self.crypto_matrix\n",
    "        encrypted_features.columns = columns\n",
    "        return encrypted_features\n",
    "\n",
    "\n",
    "    def decrypt(self, encrypted_data):\n",
    "        columns = encrypted_data.columns\n",
    "        crypto_matrix_inv = np.linalg.inv(self.crypto_matrix)\n",
    "        decrypted_data = encrypted_data @ crypto_matrix_inv\n",
    "        decrypted_data[np.abs(decrypted_data) < 1e-10] = 0\n",
    "        decrypted_data.columns = columns\n",
    "        return decrypted_data"
   ]
  },
  {
   "cell_type": "markdown",
   "metadata": {},
   "source": [
    "Создадим класс линейной регрессии"
   ]
  },
  {
   "cell_type": "code",
   "execution_count": 8,
   "metadata": {},
   "outputs": [],
   "source": [
    "class _LinearRegression:\n",
    "    def fit(self, features_train, target_train):\n",
    "        X = np.concatenate((np.ones((features_train.shape[0], 1)), features_train), axis=1)\n",
    "        y = target_train\n",
    "        w = (np.linalg.inv(X.T.dot(X)).dot(X.T)).dot(y)\n",
    "        self.w = w[1:]\n",
    "        self.w0 = w[0]\n",
    "        return self\n",
    "\n",
    "    def predict(self, test_features):\n",
    "        return test_features.dot(self.w) + self.w0"
   ]
  },
  {
   "cell_type": "markdown",
   "metadata": {},
   "source": [
    "Проверим работу шифровщика/дешифровщика"
   ]
  },
  {
   "cell_type": "code",
   "execution_count": 9,
   "metadata": {},
   "outputs": [
    {
     "name": "stdout",
     "output_type": "stream",
     "text": [
      "            Пол       Возраст      Зарплата   Члены семьи\n",
      "0 -42481.673227  84135.317005 -41591.574181  29827.863417\n",
      "1 -32545.419744  64458.233833 -31856.797973  22861.551738\n",
      "2 -17983.945493  35622.140213 -17603.150313  12637.907393\n",
      "3 -35721.457731  70731.201140 -34971.993259  25063.559646\n",
      "4 -22351.326041  44274.661190 -21883.726722  15702.164946\n"
     ]
    }
   ],
   "source": [
    "encryptor = Encryptor()\n",
    "crypto_features = encryptor.encrypt(features)\n",
    "print(crypto_features.head())"
   ]
  },
  {
   "cell_type": "code",
   "execution_count": 10,
   "metadata": {
    "scrolled": true
   },
   "outputs": [
    {
     "name": "stdout",
     "output_type": "stream",
     "text": [
      "   Пол  Возраст  Зарплата  Члены семьи\n",
      "0  1.0     41.0   49600.0          1.0\n",
      "1  0.0     46.0   38000.0          1.0\n",
      "2  0.0     29.0   21000.0          0.0\n",
      "3  0.0     21.0   41700.0          2.0\n",
      "4  1.0     28.0   26100.0          0.0\n"
     ]
    }
   ],
   "source": [
    "decrypted_features = encryptor.decrypt(crypto_features)\n",
    "print(decrypted_features.head())"
   ]
  },
  {
   "cell_type": "markdown",
   "metadata": {},
   "source": [
    "Класс работает правильно"
   ]
  },
  {
   "cell_type": "code",
   "execution_count": 11,
   "metadata": {},
   "outputs": [],
   "source": [
    "# Разделим исходные признаки на обучащую и тестовую выборки \n",
    "features_train, features_test, target_train, target_test = train_test_split(\n",
    "    features,\n",
    "    target,\n",
    "    test_size=0.25,\n",
    "    random_state=STATE\n",
    ")\n",
    "\n",
    "# Разделим преобразованные признаки на обучащую и тестовую выборки \n",
    "crypto_ftrain, crypto_ftest, crypto_ttrain, crypto_ttest = train_test_split(\n",
    "    crypto_features,\n",
    "    target,\n",
    "    test_size=0.25,\n",
    "    random_state=STATE\n",
    ")"
   ]
  },
  {
   "cell_type": "code",
   "execution_count": 12,
   "metadata": {},
   "outputs": [
    {
     "name": "stdout",
     "output_type": "stream",
     "text": [
      "Размер features_train:(3750, 4)\n",
      "Размер target_train:(3750,)\n",
      "Размер features_test:(1250, 4)\n",
      "Размер target_test:(1250,)\n"
     ]
    }
   ],
   "source": [
    "# Посмотрим размер выборок\n",
    "print(f'Размер features_train:{features_train.shape}')\n",
    "print(f'Размер target_train:{target_train.shape}')\n",
    "\n",
    "print(f'Размер features_test:{features_test.shape}')\n",
    "print(f'Размер target_test:{target_test.shape}')"
   ]
  },
  {
   "cell_type": "code",
   "execution_count": 13,
   "metadata": {},
   "outputs": [],
   "source": [
    "# Обучим модель на исходных данных\n",
    "model1 = _LinearRegression().fit(features_train, target_train)\n",
    "predict1 = model1.predict(features_test)\n",
    "r2_features = r2_score(target_test, predict1)"
   ]
  },
  {
   "cell_type": "code",
   "execution_count": 14,
   "metadata": {},
   "outputs": [],
   "source": [
    "# Обучим модель на преобразованных данных\n",
    "model2 = _LinearRegression().fit(crypto_ftrain, crypto_ttrain)\n",
    "predict2 = model2.predict(crypto_ftest)\n",
    "r2_crypto_features = r2_score(crypto_ttest, predict2)"
   ]
  },
  {
   "cell_type": "code",
   "execution_count": 15,
   "metadata": {},
   "outputs": [
    {
     "name": "stdout",
     "output_type": "stream",
     "text": [
      "R2 исходных данных: 0.407936937008453\n",
      "R2 преобразованных данных: 0.40793634066285833\n"
     ]
    }
   ],
   "source": [
    "print('R2 исходных данных:', r2_features)\n",
    "print('R2 преобразованных данных:', r2_crypto_features)"
   ]
  },
  {
   "cell_type": "markdown",
   "metadata": {},
   "source": [
    "Вывод:\n",
    "\n",
    "R2 исходных данных: 0.4079369370084457\n",
    "\n",
    "R2 преобразованных данных: 0.40793693700672906\n",
    "\n",
    "Качество Линейной Регрессии не изменяется."
   ]
  },
  {
   "cell_type": "markdown",
   "metadata": {},
   "source": [
    "## Чек-лист проверки"
   ]
  },
  {
   "cell_type": "markdown",
   "metadata": {},
   "source": [
    "Поставьте 'x' в выполненных пунктах. Далее нажмите Shift+Enter."
   ]
  },
  {
   "cell_type": "markdown",
   "metadata": {},
   "source": [
    "- [x]  Jupyter Notebook открыт\n",
    "- [x]  Весь код выполняется без ошибок\n",
    "- [x]  Ячейки с кодом расположены в порядке исполнения\n",
    "- [x]  Выполнен шаг 1: данные загружены\n",
    "- [x]  Выполнен шаг 2: получен ответ на вопрос об умножении матриц\n",
    "    - [x]  Указан правильный вариант ответа\n",
    "    - [x]  Вариант обоснован\n",
    "- [x]  Выполнен шаг 3: предложен алгоритм преобразования\n",
    "    - [x]  Алгоритм описан\n",
    "    - [x]  Алгоритм обоснован\n",
    "- [x]  Выполнен шаг 4: алгоритм проверен\n",
    "    - [x]  Алгоритм реализован\n",
    "    - [x]  Проведено сравнение качества моделей до и после преобразования"
   ]
  },
  {
   "cell_type": "code",
   "execution_count": null,
   "metadata": {},
   "outputs": [],
   "source": []
  }
 ],
 "metadata": {
  "ExecuteTimeLog": [
   {
    "duration": 51,
    "start_time": "2023-03-04T08:17:45.379Z"
   },
   {
    "duration": 1088,
    "start_time": "2023-03-04T08:17:51.869Z"
   },
   {
    "duration": 5,
    "start_time": "2023-03-04T08:17:52.959Z"
   },
   {
    "duration": 125,
    "start_time": "2023-03-04T08:17:52.965Z"
   },
   {
    "duration": 0,
    "start_time": "2023-03-04T08:17:53.092Z"
   },
   {
    "duration": 0,
    "start_time": "2023-03-04T08:17:53.093Z"
   },
   {
    "duration": 0,
    "start_time": "2023-03-04T08:17:53.094Z"
   },
   {
    "duration": 0,
    "start_time": "2023-03-04T08:17:53.095Z"
   },
   {
    "duration": 0,
    "start_time": "2023-03-04T08:17:53.096Z"
   },
   {
    "duration": 0,
    "start_time": "2023-03-04T08:17:53.097Z"
   },
   {
    "duration": 0,
    "start_time": "2023-03-04T08:17:53.098Z"
   },
   {
    "duration": 0,
    "start_time": "2023-03-04T08:17:53.099Z"
   },
   {
    "duration": 0,
    "start_time": "2023-03-04T08:17:53.100Z"
   },
   {
    "duration": 0,
    "start_time": "2023-03-04T08:17:53.101Z"
   },
   {
    "duration": 0,
    "start_time": "2023-03-04T08:17:53.102Z"
   },
   {
    "duration": 0,
    "start_time": "2023-03-04T08:17:53.124Z"
   },
   {
    "duration": 0,
    "start_time": "2023-03-04T08:17:53.125Z"
   },
   {
    "duration": 18,
    "start_time": "2023-03-04T08:35:55.932Z"
   },
   {
    "duration": 1135,
    "start_time": "2023-03-04T08:36:12.486Z"
   },
   {
    "duration": 4,
    "start_time": "2023-03-04T08:36:13.624Z"
   },
   {
    "duration": 130,
    "start_time": "2023-03-04T08:36:13.629Z"
   },
   {
    "duration": 0,
    "start_time": "2023-03-04T08:36:13.761Z"
   },
   {
    "duration": 0,
    "start_time": "2023-03-04T08:36:13.762Z"
   },
   {
    "duration": 0,
    "start_time": "2023-03-04T08:36:13.763Z"
   },
   {
    "duration": 0,
    "start_time": "2023-03-04T08:36:13.764Z"
   },
   {
    "duration": 0,
    "start_time": "2023-03-04T08:36:13.766Z"
   },
   {
    "duration": 0,
    "start_time": "2023-03-04T08:36:13.767Z"
   },
   {
    "duration": 0,
    "start_time": "2023-03-04T08:36:13.768Z"
   },
   {
    "duration": 1,
    "start_time": "2023-03-04T08:36:13.768Z"
   },
   {
    "duration": 0,
    "start_time": "2023-03-04T08:36:13.770Z"
   },
   {
    "duration": 0,
    "start_time": "2023-03-04T08:36:13.770Z"
   },
   {
    "duration": 0,
    "start_time": "2023-03-04T08:36:13.771Z"
   },
   {
    "duration": 0,
    "start_time": "2023-03-04T08:36:13.772Z"
   },
   {
    "duration": 0,
    "start_time": "2023-03-04T08:36:13.773Z"
   },
   {
    "duration": 87,
    "start_time": "2023-03-04T08:36:47.771Z"
   },
   {
    "duration": 1128,
    "start_time": "2023-03-04T08:36:53.242Z"
   },
   {
    "duration": 5,
    "start_time": "2023-03-04T08:36:54.372Z"
   },
   {
    "duration": 38,
    "start_time": "2023-03-04T08:36:54.379Z"
   },
   {
    "duration": 114,
    "start_time": "2023-03-04T08:36:54.419Z"
   },
   {
    "duration": 6,
    "start_time": "2023-03-04T08:36:54.543Z"
   },
   {
    "duration": 7,
    "start_time": "2023-03-04T08:36:54.551Z"
   },
   {
    "duration": 7,
    "start_time": "2023-03-04T08:36:54.559Z"
   },
   {
    "duration": 25,
    "start_time": "2023-03-04T08:36:54.567Z"
   },
   {
    "duration": 6,
    "start_time": "2023-03-04T08:36:54.594Z"
   },
   {
    "duration": 4,
    "start_time": "2023-03-04T08:36:54.602Z"
   },
   {
    "duration": 29,
    "start_time": "2023-03-04T08:36:54.608Z"
   },
   {
    "duration": 100,
    "start_time": "2023-03-04T08:36:54.725Z"
   },
   {
    "duration": 5,
    "start_time": "2023-03-04T08:36:54.826Z"
   },
   {
    "duration": 9,
    "start_time": "2023-03-04T08:36:54.833Z"
   },
   {
    "duration": 8,
    "start_time": "2023-03-04T08:36:54.844Z"
   },
   {
    "duration": 3,
    "start_time": "2023-03-04T08:36:54.854Z"
   },
   {
    "duration": 1040,
    "start_time": "2023-03-05T15:47:10.781Z"
   },
   {
    "duration": 4,
    "start_time": "2023-03-05T15:47:11.823Z"
   },
   {
    "duration": 101,
    "start_time": "2023-03-05T15:47:11.828Z"
   },
   {
    "duration": 54,
    "start_time": "2023-03-05T15:47:11.930Z"
   },
   {
    "duration": 5,
    "start_time": "2023-03-05T15:47:11.987Z"
   },
   {
    "duration": 6,
    "start_time": "2023-03-05T15:47:11.993Z"
   },
   {
    "duration": 7,
    "start_time": "2023-03-05T15:47:12.001Z"
   },
   {
    "duration": 17,
    "start_time": "2023-03-05T15:47:12.009Z"
   },
   {
    "duration": 5,
    "start_time": "2023-03-05T15:47:12.028Z"
   },
   {
    "duration": 23,
    "start_time": "2023-03-05T15:47:12.034Z"
   },
   {
    "duration": 15,
    "start_time": "2023-03-05T15:47:12.058Z"
   },
   {
    "duration": 97,
    "start_time": "2023-03-05T15:47:12.158Z"
   },
   {
    "duration": 4,
    "start_time": "2023-03-05T15:47:12.257Z"
   },
   {
    "duration": 7,
    "start_time": "2023-03-05T15:47:12.263Z"
   },
   {
    "duration": 7,
    "start_time": "2023-03-05T15:47:12.271Z"
   },
   {
    "duration": 5,
    "start_time": "2023-03-05T15:47:12.279Z"
   },
   {
    "duration": 1068,
    "start_time": "2023-03-05T15:48:44.843Z"
   },
   {
    "duration": 4,
    "start_time": "2023-03-05T15:48:45.913Z"
   },
   {
    "duration": 31,
    "start_time": "2023-03-05T15:48:45.918Z"
   },
   {
    "duration": 49,
    "start_time": "2023-03-05T15:48:45.950Z"
   },
   {
    "duration": 4,
    "start_time": "2023-03-05T15:48:46.001Z"
   },
   {
    "duration": 5,
    "start_time": "2023-03-05T15:48:46.006Z"
   },
   {
    "duration": 3,
    "start_time": "2023-03-05T15:48:46.013Z"
   },
   {
    "duration": 5,
    "start_time": "2023-03-05T15:48:46.018Z"
   },
   {
    "duration": 31,
    "start_time": "2023-03-05T15:48:46.025Z"
   },
   {
    "duration": 98,
    "start_time": "2023-03-05T15:48:46.057Z"
   },
   {
    "duration": 99,
    "start_time": "2023-03-05T15:48:46.157Z"
   },
   {
    "duration": 4,
    "start_time": "2023-03-05T15:48:46.257Z"
   },
   {
    "duration": 9,
    "start_time": "2023-03-05T15:48:46.263Z"
   },
   {
    "duration": 6,
    "start_time": "2023-03-05T15:48:46.274Z"
   },
   {
    "duration": 3,
    "start_time": "2023-03-05T15:48:46.281Z"
   },
   {
    "duration": 1083,
    "start_time": "2023-03-05T15:49:11.226Z"
   },
   {
    "duration": 8,
    "start_time": "2023-03-05T15:49:12.311Z"
   },
   {
    "duration": 30,
    "start_time": "2023-03-05T15:49:12.320Z"
   },
   {
    "duration": 53,
    "start_time": "2023-03-05T15:49:12.352Z"
   },
   {
    "duration": 4,
    "start_time": "2023-03-05T15:49:12.407Z"
   },
   {
    "duration": 7,
    "start_time": "2023-03-05T15:49:12.413Z"
   },
   {
    "duration": 35,
    "start_time": "2023-03-05T15:49:12.421Z"
   },
   {
    "duration": 3,
    "start_time": "2023-03-05T15:49:12.458Z"
   },
   {
    "duration": 94,
    "start_time": "2023-03-05T15:49:12.463Z"
   },
   {
    "duration": 95,
    "start_time": "2023-03-05T15:49:12.560Z"
   },
   {
    "duration": 3,
    "start_time": "2023-03-05T15:49:12.657Z"
   },
   {
    "duration": 8,
    "start_time": "2023-03-05T15:49:12.662Z"
   },
   {
    "duration": 6,
    "start_time": "2023-03-05T15:49:12.671Z"
   },
   {
    "duration": 5,
    "start_time": "2023-03-05T15:49:12.678Z"
   },
   {
    "duration": 1096,
    "start_time": "2023-03-05T15:49:29.316Z"
   },
   {
    "duration": 4,
    "start_time": "2023-03-05T15:49:30.414Z"
   },
   {
    "duration": 57,
    "start_time": "2023-03-05T15:49:30.422Z"
   },
   {
    "duration": 52,
    "start_time": "2023-03-05T15:49:30.480Z"
   },
   {
    "duration": 5,
    "start_time": "2023-03-05T15:49:30.533Z"
   },
   {
    "duration": 25,
    "start_time": "2023-03-05T15:49:30.539Z"
   },
   {
    "duration": 22,
    "start_time": "2023-03-05T15:49:30.565Z"
   },
   {
    "duration": 30,
    "start_time": "2023-03-05T15:49:30.589Z"
   },
   {
    "duration": 21,
    "start_time": "2023-03-05T15:49:30.621Z"
   },
   {
    "duration": 31,
    "start_time": "2023-03-05T15:49:30.644Z"
   },
   {
    "duration": 104,
    "start_time": "2023-03-05T15:49:30.755Z"
   },
   {
    "duration": 28,
    "start_time": "2023-03-05T15:49:30.861Z"
   },
   {
    "duration": 26,
    "start_time": "2023-03-05T15:49:30.891Z"
   },
   {
    "duration": 32,
    "start_time": "2023-03-05T15:49:30.919Z"
   },
   {
    "duration": 24,
    "start_time": "2023-03-05T15:49:30.952Z"
   },
   {
    "duration": 8,
    "start_time": "2023-03-05T18:43:22.977Z"
   },
   {
    "duration": 1152,
    "start_time": "2023-03-05T18:43:54.488Z"
   },
   {
    "duration": 4,
    "start_time": "2023-03-05T18:43:55.643Z"
   },
   {
    "duration": 49,
    "start_time": "2023-03-05T18:43:55.648Z"
   },
   {
    "duration": 52,
    "start_time": "2023-03-05T18:43:55.698Z"
   },
   {
    "duration": 11,
    "start_time": "2023-03-05T18:43:55.751Z"
   },
   {
    "duration": 14,
    "start_time": "2023-03-05T18:43:55.776Z"
   },
   {
    "duration": 8,
    "start_time": "2023-03-05T18:43:55.791Z"
   },
   {
    "duration": 3,
    "start_time": "2023-03-05T18:43:55.801Z"
   },
   {
    "duration": 64,
    "start_time": "2023-03-05T18:43:55.806Z"
   },
   {
    "duration": 9,
    "start_time": "2023-03-05T18:43:55.877Z"
   },
   {
    "duration": 4,
    "start_time": "2023-03-05T18:43:55.889Z"
   },
   {
    "duration": 124,
    "start_time": "2023-03-05T19:17:11.981Z"
   },
   {
    "duration": 4,
    "start_time": "2023-03-05T19:17:13.892Z"
   },
   {
    "duration": 8,
    "start_time": "2023-03-05T19:17:14.096Z"
   },
   {
    "duration": 4,
    "start_time": "2023-03-05T19:17:23.714Z"
   },
   {
    "duration": 4,
    "start_time": "2023-03-05T19:17:24.119Z"
   },
   {
    "duration": 7,
    "start_time": "2023-03-05T19:18:07.962Z"
   },
   {
    "duration": 11,
    "start_time": "2023-03-05T19:18:43.533Z"
   },
   {
    "duration": 45,
    "start_time": "2023-03-05T19:18:48.971Z"
   },
   {
    "duration": 5,
    "start_time": "2023-03-05T19:19:06.271Z"
   },
   {
    "duration": 41,
    "start_time": "2023-03-05T19:19:06.984Z"
   },
   {
    "duration": 17,
    "start_time": "2023-03-05T19:19:13.879Z"
   },
   {
    "duration": 21,
    "start_time": "2023-03-05T19:19:14.651Z"
   },
   {
    "duration": 4,
    "start_time": "2023-03-05T19:19:28.638Z"
   },
   {
    "duration": 11,
    "start_time": "2023-03-05T19:19:29.525Z"
   },
   {
    "duration": 5,
    "start_time": "2023-03-05T19:19:47.425Z"
   },
   {
    "duration": 52,
    "start_time": "2023-03-05T19:19:48.255Z"
   },
   {
    "duration": 10,
    "start_time": "2023-03-05T19:19:50.791Z"
   },
   {
    "duration": 7,
    "start_time": "2023-03-05T19:19:56.229Z"
   },
   {
    "duration": 4,
    "start_time": "2023-03-05T19:19:57.833Z"
   },
   {
    "duration": 15,
    "start_time": "2023-03-05T19:20:00.763Z"
   },
   {
    "duration": 7,
    "start_time": "2023-03-05T19:20:01.213Z"
   },
   {
    "duration": 4,
    "start_time": "2023-03-05T19:20:01.583Z"
   },
   {
    "duration": 23,
    "start_time": "2023-03-05T19:20:29.275Z"
   },
   {
    "duration": 13,
    "start_time": "2023-03-05T19:22:25.650Z"
   },
   {
    "duration": 19,
    "start_time": "2023-03-05T19:22:26.477Z"
   },
   {
    "duration": 7,
    "start_time": "2023-03-05T19:22:40.375Z"
   },
   {
    "duration": 12,
    "start_time": "2023-03-05T19:22:41.217Z"
   },
   {
    "duration": 5,
    "start_time": "2023-03-05T19:23:26.891Z"
   },
   {
    "duration": 15,
    "start_time": "2023-03-05T19:23:27.497Z"
   },
   {
    "duration": 53,
    "start_time": "2023-03-05T19:28:14.411Z"
   },
   {
    "duration": 5,
    "start_time": "2023-03-05T19:28:22.506Z"
   },
   {
    "duration": 27,
    "start_time": "2023-03-05T19:28:23.483Z"
   },
   {
    "duration": 4,
    "start_time": "2023-03-05T19:34:28.110Z"
   },
   {
    "duration": 34,
    "start_time": "2023-03-05T19:34:28.896Z"
   },
   {
    "duration": 7,
    "start_time": "2023-03-05T19:35:42.593Z"
   },
   {
    "duration": 13,
    "start_time": "2023-03-05T19:35:43.439Z"
   },
   {
    "duration": 1153,
    "start_time": "2023-03-05T19:39:13.853Z"
   },
   {
    "duration": 5,
    "start_time": "2023-03-05T19:39:15.008Z"
   },
   {
    "duration": 47,
    "start_time": "2023-03-05T19:39:15.014Z"
   },
   {
    "duration": 82,
    "start_time": "2023-03-05T19:39:15.063Z"
   },
   {
    "duration": 37,
    "start_time": "2023-03-05T19:39:15.147Z"
   },
   {
    "duration": 9,
    "start_time": "2023-03-05T19:39:15.193Z"
   },
   {
    "duration": 133,
    "start_time": "2023-03-05T19:39:15.206Z"
   },
   {
    "duration": 0,
    "start_time": "2023-03-05T19:39:15.340Z"
   },
   {
    "duration": 0,
    "start_time": "2023-03-05T19:39:15.342Z"
   },
   {
    "duration": 0,
    "start_time": "2023-03-05T19:39:15.343Z"
   },
   {
    "duration": 0,
    "start_time": "2023-03-05T19:39:15.344Z"
   },
   {
    "duration": 0,
    "start_time": "2023-03-05T19:39:15.344Z"
   },
   {
    "duration": 1164,
    "start_time": "2023-03-05T19:39:44.076Z"
   },
   {
    "duration": 5,
    "start_time": "2023-03-05T19:39:45.242Z"
   },
   {
    "duration": 58,
    "start_time": "2023-03-05T19:39:45.248Z"
   },
   {
    "duration": 72,
    "start_time": "2023-03-05T19:39:45.312Z"
   },
   {
    "duration": 25,
    "start_time": "2023-03-05T19:39:45.386Z"
   },
   {
    "duration": 5,
    "start_time": "2023-03-05T19:39:45.413Z"
   },
   {
    "duration": 15,
    "start_time": "2023-03-05T19:39:45.420Z"
   },
   {
    "duration": 154,
    "start_time": "2023-03-05T19:39:45.436Z"
   },
   {
    "duration": 0,
    "start_time": "2023-03-05T19:39:45.591Z"
   },
   {
    "duration": 0,
    "start_time": "2023-03-05T19:39:45.593Z"
   },
   {
    "duration": 0,
    "start_time": "2023-03-05T19:39:45.593Z"
   },
   {
    "duration": 0,
    "start_time": "2023-03-05T19:39:45.595Z"
   },
   {
    "duration": 0,
    "start_time": "2023-03-05T19:39:45.601Z"
   },
   {
    "duration": 15,
    "start_time": "2023-03-05T19:40:05.828Z"
   },
   {
    "duration": 16,
    "start_time": "2023-03-05T19:40:13.072Z"
   },
   {
    "duration": 1167,
    "start_time": "2023-03-05T19:40:18.697Z"
   },
   {
    "duration": 6,
    "start_time": "2023-03-05T19:40:19.866Z"
   },
   {
    "duration": 49,
    "start_time": "2023-03-05T19:40:19.873Z"
   },
   {
    "duration": 73,
    "start_time": "2023-03-05T19:40:19.923Z"
   },
   {
    "duration": 14,
    "start_time": "2023-03-05T19:40:19.998Z"
   },
   {
    "duration": 5,
    "start_time": "2023-03-05T19:40:20.014Z"
   },
   {
    "duration": 22,
    "start_time": "2023-03-05T19:40:20.020Z"
   },
   {
    "duration": 31,
    "start_time": "2023-03-05T19:40:20.044Z"
   },
   {
    "duration": 10,
    "start_time": "2023-03-05T19:40:20.079Z"
   },
   {
    "duration": 8,
    "start_time": "2023-03-05T19:40:20.094Z"
   },
   {
    "duration": 58,
    "start_time": "2023-03-05T19:40:20.106Z"
   },
   {
    "duration": 44,
    "start_time": "2023-03-05T19:40:20.169Z"
   },
   {
    "duration": 5,
    "start_time": "2023-03-05T19:40:20.215Z"
   },
   {
    "duration": 7,
    "start_time": "2023-03-05T19:40:44.636Z"
   },
   {
    "duration": 27,
    "start_time": "2023-03-05T19:40:50.585Z"
   },
   {
    "duration": 1277,
    "start_time": "2023-03-05T19:41:55.042Z"
   },
   {
    "duration": 5,
    "start_time": "2023-03-05T19:41:56.321Z"
   },
   {
    "duration": 45,
    "start_time": "2023-03-05T19:41:56.327Z"
   },
   {
    "duration": 68,
    "start_time": "2023-03-05T19:41:56.383Z"
   },
   {
    "duration": 64,
    "start_time": "2023-03-05T19:41:56.453Z"
   },
   {
    "duration": 8,
    "start_time": "2023-03-05T19:41:56.519Z"
   },
   {
    "duration": 12,
    "start_time": "2023-03-05T19:41:56.529Z"
   },
   {
    "duration": 10,
    "start_time": "2023-03-05T19:41:56.543Z"
   },
   {
    "duration": 10,
    "start_time": "2023-03-05T19:41:56.555Z"
   },
   {
    "duration": 7,
    "start_time": "2023-03-05T19:41:56.567Z"
   },
   {
    "duration": 14,
    "start_time": "2023-03-05T19:41:56.576Z"
   },
   {
    "duration": 10,
    "start_time": "2023-03-05T19:41:56.591Z"
   },
   {
    "duration": 10,
    "start_time": "2023-03-05T19:41:56.602Z"
   },
   {
    "duration": 1194,
    "start_time": "2023-03-05T19:44:30.378Z"
   },
   {
    "duration": 5,
    "start_time": "2023-03-05T19:44:31.574Z"
   },
   {
    "duration": 55,
    "start_time": "2023-03-05T19:44:31.581Z"
   },
   {
    "duration": 105,
    "start_time": "2023-03-05T19:44:31.637Z"
   },
   {
    "duration": 28,
    "start_time": "2023-03-05T19:44:31.745Z"
   },
   {
    "duration": 18,
    "start_time": "2023-03-05T19:44:31.780Z"
   },
   {
    "duration": 11,
    "start_time": "2023-03-05T19:44:31.805Z"
   },
   {
    "duration": 32,
    "start_time": "2023-03-05T19:44:31.819Z"
   },
   {
    "duration": 59,
    "start_time": "2023-03-05T19:44:31.852Z"
   },
   {
    "duration": 58,
    "start_time": "2023-03-05T19:44:31.914Z"
   },
   {
    "duration": 10,
    "start_time": "2023-03-05T19:44:31.974Z"
   },
   {
    "duration": 318,
    "start_time": "2023-03-05T19:44:31.986Z"
   },
   {
    "duration": 0,
    "start_time": "2023-03-05T19:44:32.316Z"
   },
   {
    "duration": 0,
    "start_time": "2023-03-05T19:44:32.317Z"
   },
   {
    "duration": 7,
    "start_time": "2023-03-05T19:45:12.485Z"
   },
   {
    "duration": 6,
    "start_time": "2023-03-05T19:45:12.831Z"
   },
   {
    "duration": 8,
    "start_time": "2023-03-05T19:45:13.426Z"
   },
   {
    "duration": 14,
    "start_time": "2023-03-05T19:45:16.699Z"
   },
   {
    "duration": 4,
    "start_time": "2023-03-05T19:45:17.514Z"
   },
   {
    "duration": 16,
    "start_time": "2023-03-05T19:45:18.196Z"
   },
   {
    "duration": 1231,
    "start_time": "2023-03-05T19:45:36.578Z"
   },
   {
    "duration": 5,
    "start_time": "2023-03-05T19:45:37.811Z"
   },
   {
    "duration": 31,
    "start_time": "2023-03-05T19:45:37.817Z"
   },
   {
    "duration": 73,
    "start_time": "2023-03-05T19:45:37.850Z"
   },
   {
    "duration": 12,
    "start_time": "2023-03-05T19:45:37.926Z"
   },
   {
    "duration": 7,
    "start_time": "2023-03-05T19:45:37.940Z"
   },
   {
    "duration": 31,
    "start_time": "2023-03-05T19:45:37.949Z"
   },
   {
    "duration": 12,
    "start_time": "2023-03-05T19:45:37.993Z"
   },
   {
    "duration": 9,
    "start_time": "2023-03-05T19:45:38.006Z"
   },
   {
    "duration": 47,
    "start_time": "2023-03-05T19:45:38.017Z"
   },
   {
    "duration": 34,
    "start_time": "2023-03-05T19:45:38.066Z"
   },
   {
    "duration": 300,
    "start_time": "2023-03-05T19:45:38.105Z"
   },
   {
    "duration": 0,
    "start_time": "2023-03-05T19:45:38.407Z"
   },
   {
    "duration": 0,
    "start_time": "2023-03-05T19:45:38.409Z"
   },
   {
    "duration": 5,
    "start_time": "2023-03-05T19:46:53.583Z"
   },
   {
    "duration": 13,
    "start_time": "2023-03-05T19:46:55.496Z"
   },
   {
    "duration": 32,
    "start_time": "2023-03-05T19:46:55.681Z"
   },
   {
    "duration": 13,
    "start_time": "2023-03-05T19:46:56.083Z"
   },
   {
    "duration": 7,
    "start_time": "2023-03-05T19:46:56.993Z"
   },
   {
    "duration": 5,
    "start_time": "2023-03-05T19:46:58.006Z"
   },
   {
    "duration": 5,
    "start_time": "2023-03-05T19:46:59.423Z"
   },
   {
    "duration": 4,
    "start_time": "2023-03-05T19:47:01.609Z"
   },
   {
    "duration": 1143,
    "start_time": "2023-03-05T19:47:06.373Z"
   },
   {
    "duration": 4,
    "start_time": "2023-03-05T19:47:07.518Z"
   },
   {
    "duration": 30,
    "start_time": "2023-03-05T19:47:07.523Z"
   },
   {
    "duration": 97,
    "start_time": "2023-03-05T19:47:07.555Z"
   },
   {
    "duration": 45,
    "start_time": "2023-03-05T19:47:07.654Z"
   },
   {
    "duration": 7,
    "start_time": "2023-03-05T19:47:07.703Z"
   },
   {
    "duration": 5,
    "start_time": "2023-03-05T19:47:07.716Z"
   },
   {
    "duration": 10,
    "start_time": "2023-03-05T19:47:07.722Z"
   },
   {
    "duration": 35,
    "start_time": "2023-03-05T19:47:07.734Z"
   },
   {
    "duration": 93,
    "start_time": "2023-03-05T19:47:07.773Z"
   },
   {
    "duration": 10,
    "start_time": "2023-03-05T19:47:07.867Z"
   },
   {
    "duration": 39,
    "start_time": "2023-03-05T19:47:07.879Z"
   },
   {
    "duration": 61,
    "start_time": "2023-03-05T19:47:07.919Z"
   },
   {
    "duration": 65,
    "start_time": "2023-03-05T19:47:07.989Z"
   },
   {
    "duration": 125,
    "start_time": "2023-03-05T19:52:21.992Z"
   },
   {
    "duration": 463,
    "start_time": "2023-03-05T19:53:26.018Z"
   },
   {
    "duration": 201,
    "start_time": "2023-03-05T19:53:29.192Z"
   },
   {
    "duration": 530,
    "start_time": "2023-03-05T19:53:41.798Z"
   },
   {
    "duration": 27,
    "start_time": "2023-03-05T19:54:18.421Z"
   },
   {
    "duration": 10,
    "start_time": "2023-03-05T19:55:21.982Z"
   },
   {
    "duration": 1401,
    "start_time": "2023-03-05T19:55:38.280Z"
   },
   {
    "duration": 5,
    "start_time": "2023-03-05T19:55:39.683Z"
   },
   {
    "duration": 29,
    "start_time": "2023-03-05T19:55:39.690Z"
   },
   {
    "duration": 60,
    "start_time": "2023-03-05T19:55:39.721Z"
   },
   {
    "duration": 354,
    "start_time": "2023-03-05T19:55:39.784Z"
   },
   {
    "duration": 12,
    "start_time": "2023-03-05T19:55:40.139Z"
   },
   {
    "duration": 17,
    "start_time": "2023-03-05T19:55:40.153Z"
   },
   {
    "duration": 11,
    "start_time": "2023-03-05T19:55:40.171Z"
   },
   {
    "duration": 12,
    "start_time": "2023-03-05T19:55:40.184Z"
   },
   {
    "duration": 10,
    "start_time": "2023-03-05T19:55:40.198Z"
   },
   {
    "duration": 67,
    "start_time": "2023-03-05T19:55:40.210Z"
   },
   {
    "duration": 4,
    "start_time": "2023-03-05T19:55:40.282Z"
   },
   {
    "duration": 88,
    "start_time": "2023-03-05T19:55:40.288Z"
   },
   {
    "duration": 9,
    "start_time": "2023-03-05T19:55:40.379Z"
   },
   {
    "duration": 82,
    "start_time": "2023-03-05T19:55:40.390Z"
   },
   {
    "duration": 4,
    "start_time": "2023-03-05T19:55:51.187Z"
   },
   {
    "duration": 61,
    "start_time": "2023-03-05T20:02:05.682Z"
   },
   {
    "duration": 82,
    "start_time": "2023-03-05T20:02:45.598Z"
   },
   {
    "duration": 1808,
    "start_time": "2023-03-06T19:39:41.012Z"
   },
   {
    "duration": 5,
    "start_time": "2023-03-06T19:39:42.823Z"
   },
   {
    "duration": 37,
    "start_time": "2023-03-06T19:39:42.830Z"
   },
   {
    "duration": 68,
    "start_time": "2023-03-06T19:39:42.869Z"
   },
   {
    "duration": 399,
    "start_time": "2023-03-06T19:39:42.940Z"
   },
   {
    "duration": 4,
    "start_time": "2023-03-06T19:39:43.341Z"
   },
   {
    "duration": 7,
    "start_time": "2023-03-06T19:39:43.347Z"
   },
   {
    "duration": 7,
    "start_time": "2023-03-06T19:39:43.356Z"
   },
   {
    "duration": 8,
    "start_time": "2023-03-06T19:39:43.364Z"
   },
   {
    "duration": 21,
    "start_time": "2023-03-06T19:39:43.374Z"
   },
   {
    "duration": 17,
    "start_time": "2023-03-06T19:39:43.398Z"
   },
   {
    "duration": 75,
    "start_time": "2023-03-06T19:39:43.419Z"
   },
   {
    "duration": 31,
    "start_time": "2023-03-06T19:39:43.496Z"
   },
   {
    "duration": 80,
    "start_time": "2023-03-06T19:39:43.530Z"
   },
   {
    "duration": 79,
    "start_time": "2023-03-06T19:39:43.612Z"
   },
   {
    "duration": 7,
    "start_time": "2023-03-06T19:40:24.821Z"
   },
   {
    "duration": 13,
    "start_time": "2023-03-06T19:40:37.225Z"
   },
   {
    "duration": 21,
    "start_time": "2023-03-06T19:40:57.436Z"
   },
   {
    "duration": 126,
    "start_time": "2023-03-06T21:27:39.377Z"
   }
  ],
  "kernelspec": {
   "display_name": "Python 3 (ipykernel)",
   "language": "python",
   "name": "python3"
  },
  "language_info": {
   "codemirror_mode": {
    "name": "ipython",
    "version": 3
   },
   "file_extension": ".py",
   "mimetype": "text/x-python",
   "name": "python",
   "nbconvert_exporter": "python",
   "pygments_lexer": "ipython3",
   "version": "3.9.12"
  },
  "toc": {
   "base_numbering": 1,
   "nav_menu": {},
   "number_sections": true,
   "sideBar": true,
   "skip_h1_title": true,
   "title_cell": "Содержание",
   "title_sidebar": "Contents",
   "toc_cell": true,
   "toc_position": {
    "height": "calc(100% - 180px)",
    "left": "10px",
    "top": "150px",
    "width": "356.594px"
   },
   "toc_section_display": true,
   "toc_window_display": true
  }
 },
 "nbformat": 4,
 "nbformat_minor": 2
}
