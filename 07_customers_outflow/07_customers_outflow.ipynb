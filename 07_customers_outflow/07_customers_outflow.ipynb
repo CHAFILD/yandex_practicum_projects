{
 "cells": [
  {
   "cell_type": "code",
   "execution_count": 1,
   "metadata": {},
   "outputs": [],
   "source": [
    "!pip install scikit-learn==1.1.3 -q\n",
    "!pip install imblearn -q"
   ]
  },
  {
   "cell_type": "markdown",
   "metadata": {
    "toc": true
   },
   "source": [
    "<h1>Содержание<span class=\"tocSkip\"></span></h1>\n",
    "<div class=\"toc\"><ul class=\"toc-item\"><li><span><a href=\"#Подготовка-данных\" data-toc-modified-id=\"Подготовка-данных-1\"><span class=\"toc-item-num\">1&nbsp;&nbsp;</span>Подготовка данных</a></span></li><li><span><a href=\"#Исследование-задачи\" data-toc-modified-id=\"Исследование-задачи-2\"><span class=\"toc-item-num\">2&nbsp;&nbsp;</span>Исследование задачи</a></span><ul class=\"toc-item\"><li><span><a href=\"#Дерево-решений\" data-toc-modified-id=\"Дерево-решений-2.1\"><span class=\"toc-item-num\">2.1&nbsp;&nbsp;</span>Дерево решений</a></span></li><li><span><a href=\"#Случайный-лес\" data-toc-modified-id=\"Случайный-лес-2.2\"><span class=\"toc-item-num\">2.2&nbsp;&nbsp;</span>Случайный лес</a></span></li><li><span><a href=\"#Логическая-регрессия\" data-toc-modified-id=\"Логическая-регрессия-2.3\"><span class=\"toc-item-num\">2.3&nbsp;&nbsp;</span>Логическая регрессия</a></span></li></ul></li><li><span><a href=\"#Борьба-с-дисбалансом\" data-toc-modified-id=\"Борьба-с-дисбалансом-3\"><span class=\"toc-item-num\">3&nbsp;&nbsp;</span>Борьба с дисбалансом</a></span><ul class=\"toc-item\"><li><span><a href=\"#Взвешивание-классов\" data-toc-modified-id=\"Взвешивание-классов-3.1\"><span class=\"toc-item-num\">3.1&nbsp;&nbsp;</span>Взвешивание классов</a></span><ul class=\"toc-item\"><li><span><a href=\"#Дерево-решений\" data-toc-modified-id=\"Дерево-решений-3.1.1\"><span class=\"toc-item-num\">3.1.1&nbsp;&nbsp;</span>Дерево решений</a></span></li><li><span><a href=\"#Случайный-лес\" data-toc-modified-id=\"Случайный-лес-3.1.2\"><span class=\"toc-item-num\">3.1.2&nbsp;&nbsp;</span>Случайный лес</a></span></li><li><span><a href=\"#Логистическая-регрессия\" data-toc-modified-id=\"Логистическая-регрессия-3.1.3\"><span class=\"toc-item-num\">3.1.3&nbsp;&nbsp;</span>Логистическая регрессия</a></span></li></ul></li><li><span><a href=\"#Увеличение-выборки\" data-toc-modified-id=\"Увеличение-выборки-3.2\"><span class=\"toc-item-num\">3.2&nbsp;&nbsp;</span>Увеличение выборки</a></span><ul class=\"toc-item\"><li><span><a href=\"#Дерево-решений\" data-toc-modified-id=\"Дерево-решений-3.2.1\"><span class=\"toc-item-num\">3.2.1&nbsp;&nbsp;</span>Дерево решений</a></span></li><li><span><a href=\"#Случайный-лес\" data-toc-modified-id=\"Случайный-лес-3.2.2\"><span class=\"toc-item-num\">3.2.2&nbsp;&nbsp;</span>Случайный лес</a></span></li><li><span><a href=\"#Логистическая-регрессия\" data-toc-modified-id=\"Логистическая-регрессия-3.2.3\"><span class=\"toc-item-num\">3.2.3&nbsp;&nbsp;</span>Логистическая регрессия</a></span></li></ul></li><li><span><a href=\"#Уменьшение-выборки\" data-toc-modified-id=\"Уменьшение-выборки-3.3\"><span class=\"toc-item-num\">3.3&nbsp;&nbsp;</span>Уменьшение выборки</a></span><ul class=\"toc-item\"><li><span><a href=\"#Случайный-лес\" data-toc-modified-id=\"Случайный-лес-3.3.1\"><span class=\"toc-item-num\">3.3.1&nbsp;&nbsp;</span>Случайный лес</a></span></li><li><span><a href=\"#Логистическая-регрессия\" data-toc-modified-id=\"Логистическая-регрессия-3.3.2\"><span class=\"toc-item-num\">3.3.2&nbsp;&nbsp;</span>Логистическая регрессия</a></span></li></ul></li></ul></li><li><span><a href=\"#Тестирование-модели\" data-toc-modified-id=\"Тестирование-модели-4\"><span class=\"toc-item-num\">4&nbsp;&nbsp;</span>Тестирование модели</a></span></li><li><span><a href=\"#Чек-лист-готовности-проекта\" data-toc-modified-id=\"Чек-лист-готовности-проекта-5\"><span class=\"toc-item-num\">5&nbsp;&nbsp;</span>Чек-лист готовности проекта</a></span></li></ul></div>"
   ]
  },
  {
   "cell_type": "markdown",
   "metadata": {},
   "source": [
    "# Отток клиентов"
   ]
  },
  {
   "cell_type": "markdown",
   "metadata": {},
   "source": [
    "Из «Бета-Банка» стали уходить клиенты. Каждый месяц. Немного, но заметно. Банковские маркетологи посчитали: сохранять текущих клиентов дешевле, чем привлекать новых.\n",
    "\n",
    "Нужно спрогнозировать, уйдёт клиент из банка в ближайшее время или нет. Вам предоставлены исторические данные о поведении клиентов и расторжении договоров с банком. \n",
    "\n",
    "Постройте модель с предельно большим значением *F1*-меры. Чтобы сдать проект успешно, нужно довести метрику до 0.59. Проверьте *F1*-меру на тестовой выборке самостоятельно.\n",
    "\n",
    "Дополнительно измеряйте *AUC-ROC*, сравнивайте её значение с *F1*-мерой.\n",
    "\n",
    "Источник данных: [https://www.kaggle.com/barelydedicated/bank-customer-churn-modeling](https://www.kaggle.com/barelydedicated/bank-customer-churn-modeling)"
   ]
  },
  {
   "cell_type": "markdown",
   "metadata": {},
   "source": [
    "Признаки:\n",
    "\n",
    "* `RowNumber` — индекс строки в данных\n",
    "* `CustomerId` — уникальный идентификатор клиента\n",
    "* `Surname` — фамилия\n",
    "* `CreditScore` — кредитный рейтинг\n",
    "* `Geography` — страна проживания\n",
    "* `Gender` — пол\n",
    "* `Age` — возраст\n",
    "* `Tenure` — сколько лет человек является клиентом банка\n",
    "* `Balance` — баланс на счёте\n",
    "* `NumOfProducts` — количество продуктов банка, используемых клиентом\n",
    "* `HasCrCard` — наличие кредитной карты\n",
    "* `IsActiveMembe` — активность клиента\n",
    "* `EstimatedSalary` — предполагаемая зарплата\n",
    "\n",
    "Целевой признак:\n",
    "* `Exited` — факт ухода клиента"
   ]
  },
  {
   "cell_type": "code",
   "execution_count": 2,
   "metadata": {},
   "outputs": [],
   "source": [
    "import pandas as pd\n",
    "import matplotlib.pyplot as plt\n",
    "import numpy as np\n",
    "import time\n",
    "import seaborn as sns\n",
    "\n",
    "from sklearn.model_selection import (\n",
    "    train_test_split,\n",
    "    RandomizedSearchCV,\n",
    "    GridSearchCV\n",
    ")\n",
    "from sklearn.linear_model import LogisticRegression\n",
    "from sklearn.tree import DecisionTreeClassifier\n",
    "from sklearn.ensemble import RandomForestClassifier\n",
    "from sklearn.pipeline import make_pipeline\n",
    "from sklearn.metrics import (\n",
    "    f1_score, \n",
    "    precision_score, \n",
    "    recall_score, \n",
    "    accuracy_score,\n",
    "    confusion_matrix,\n",
    "    ConfusionMatrixDisplay,\n",
    "    roc_auc_score, \n",
    "    roc_curve\n",
    ")\n",
    "from sklearn.utils import shuffle\n",
    "from sklearn.feature_selection import SelectKBest\n",
    "from sklearn.preprocessing import (\n",
    "    OneHotEncoder,\n",
    "    StandardScaler\n",
    ")\n",
    "\n",
    "from imblearn.over_sampling import SMOTE\n",
    "from imblearn.under_sampling import RandomUnderSampler\n",
    "\n",
    "from ipywidgets import IntProgress\n",
    "\n",
    "from IPython.display import display\n",
    "\n",
    "from tqdm import tqdm_notebook as tqdm\n",
    "from sklearn.dummy import DummyClassifier\n",
    "\n",
    "\n",
    "RANDOM_STATE = 55555"
   ]
  },
  {
   "cell_type": "markdown",
   "metadata": {},
   "source": [
    "## Подготовка данных"
   ]
  },
  {
   "cell_type": "code",
   "execution_count": 3,
   "metadata": {},
   "outputs": [],
   "source": [
    "def get_data_info(data):\n",
    "    display(data.sample(15))\n",
    "    display(data.info())\n",
    "    display(data.describe(include='all'))"
   ]
  },
  {
   "cell_type": "code",
   "execution_count": 4,
   "metadata": {},
   "outputs": [
    {
     "data": {
      "text/html": [
       "<div>\n",
       "<style scoped>\n",
       "    .dataframe tbody tr th:only-of-type {\n",
       "        vertical-align: middle;\n",
       "    }\n",
       "\n",
       "    .dataframe tbody tr th {\n",
       "        vertical-align: top;\n",
       "    }\n",
       "\n",
       "    .dataframe thead th {\n",
       "        text-align: right;\n",
       "    }\n",
       "</style>\n",
       "<table border=\"1\" class=\"dataframe\">\n",
       "  <thead>\n",
       "    <tr style=\"text-align: right;\">\n",
       "      <th></th>\n",
       "      <th>RowNumber</th>\n",
       "      <th>CustomerId</th>\n",
       "      <th>Surname</th>\n",
       "      <th>CreditScore</th>\n",
       "      <th>Geography</th>\n",
       "      <th>Gender</th>\n",
       "      <th>Age</th>\n",
       "      <th>Tenure</th>\n",
       "      <th>Balance</th>\n",
       "      <th>NumOfProducts</th>\n",
       "      <th>HasCrCard</th>\n",
       "      <th>IsActiveMember</th>\n",
       "      <th>EstimatedSalary</th>\n",
       "      <th>Exited</th>\n",
       "    </tr>\n",
       "  </thead>\n",
       "  <tbody>\n",
       "    <tr>\n",
       "      <th>5902</th>\n",
       "      <td>5903</td>\n",
       "      <td>15586504</td>\n",
       "      <td>Trevisani</td>\n",
       "      <td>694</td>\n",
       "      <td>France</td>\n",
       "      <td>Male</td>\n",
       "      <td>40</td>\n",
       "      <td>9.0</td>\n",
       "      <td>0.00</td>\n",
       "      <td>2</td>\n",
       "      <td>1</td>\n",
       "      <td>0</td>\n",
       "      <td>40463.03</td>\n",
       "      <td>0</td>\n",
       "    </tr>\n",
       "    <tr>\n",
       "      <th>4924</th>\n",
       "      <td>4925</td>\n",
       "      <td>15574868</td>\n",
       "      <td>Lowell</td>\n",
       "      <td>792</td>\n",
       "      <td>Germany</td>\n",
       "      <td>Male</td>\n",
       "      <td>36</td>\n",
       "      <td>NaN</td>\n",
       "      <td>115725.24</td>\n",
       "      <td>2</td>\n",
       "      <td>0</td>\n",
       "      <td>0</td>\n",
       "      <td>1871.25</td>\n",
       "      <td>0</td>\n",
       "    </tr>\n",
       "    <tr>\n",
       "      <th>9913</th>\n",
       "      <td>9914</td>\n",
       "      <td>15590177</td>\n",
       "      <td>Chiedozie</td>\n",
       "      <td>718</td>\n",
       "      <td>France</td>\n",
       "      <td>Female</td>\n",
       "      <td>44</td>\n",
       "      <td>1.0</td>\n",
       "      <td>133866.22</td>\n",
       "      <td>1</td>\n",
       "      <td>0</td>\n",
       "      <td>1</td>\n",
       "      <td>139049.24</td>\n",
       "      <td>0</td>\n",
       "    </tr>\n",
       "    <tr>\n",
       "      <th>4677</th>\n",
       "      <td>4678</td>\n",
       "      <td>15791780</td>\n",
       "      <td>Ts'ao</td>\n",
       "      <td>706</td>\n",
       "      <td>Germany</td>\n",
       "      <td>Female</td>\n",
       "      <td>48</td>\n",
       "      <td>10.0</td>\n",
       "      <td>104478.12</td>\n",
       "      <td>3</td>\n",
       "      <td>0</td>\n",
       "      <td>1</td>\n",
       "      <td>158248.71</td>\n",
       "      <td>1</td>\n",
       "    </tr>\n",
       "    <tr>\n",
       "      <th>1962</th>\n",
       "      <td>1963</td>\n",
       "      <td>15692416</td>\n",
       "      <td>Aikenhead</td>\n",
       "      <td>358</td>\n",
       "      <td>Spain</td>\n",
       "      <td>Female</td>\n",
       "      <td>52</td>\n",
       "      <td>8.0</td>\n",
       "      <td>143542.36</td>\n",
       "      <td>3</td>\n",
       "      <td>1</td>\n",
       "      <td>0</td>\n",
       "      <td>141959.11</td>\n",
       "      <td>1</td>\n",
       "    </tr>\n",
       "    <tr>\n",
       "      <th>4327</th>\n",
       "      <td>4328</td>\n",
       "      <td>15581811</td>\n",
       "      <td>Chukwubuikem</td>\n",
       "      <td>678</td>\n",
       "      <td>Germany</td>\n",
       "      <td>Female</td>\n",
       "      <td>30</td>\n",
       "      <td>1.0</td>\n",
       "      <td>139676.95</td>\n",
       "      <td>2</td>\n",
       "      <td>0</td>\n",
       "      <td>1</td>\n",
       "      <td>16146.00</td>\n",
       "      <td>0</td>\n",
       "    </tr>\n",
       "    <tr>\n",
       "      <th>9372</th>\n",
       "      <td>9373</td>\n",
       "      <td>15775826</td>\n",
       "      <td>Iadanza</td>\n",
       "      <td>677</td>\n",
       "      <td>France</td>\n",
       "      <td>Male</td>\n",
       "      <td>30</td>\n",
       "      <td>1.0</td>\n",
       "      <td>78133.15</td>\n",
       "      <td>1</td>\n",
       "      <td>0</td>\n",
       "      <td>1</td>\n",
       "      <td>174225.88</td>\n",
       "      <td>0</td>\n",
       "    </tr>\n",
       "    <tr>\n",
       "      <th>9529</th>\n",
       "      <td>9530</td>\n",
       "      <td>15661708</td>\n",
       "      <td>She</td>\n",
       "      <td>508</td>\n",
       "      <td>France</td>\n",
       "      <td>Female</td>\n",
       "      <td>41</td>\n",
       "      <td>NaN</td>\n",
       "      <td>0.00</td>\n",
       "      <td>2</td>\n",
       "      <td>1</td>\n",
       "      <td>1</td>\n",
       "      <td>94170.84</td>\n",
       "      <td>0</td>\n",
       "    </tr>\n",
       "    <tr>\n",
       "      <th>2758</th>\n",
       "      <td>2759</td>\n",
       "      <td>15668347</td>\n",
       "      <td>Ingram</td>\n",
       "      <td>624</td>\n",
       "      <td>France</td>\n",
       "      <td>Male</td>\n",
       "      <td>36</td>\n",
       "      <td>6.0</td>\n",
       "      <td>0.00</td>\n",
       "      <td>2</td>\n",
       "      <td>0</td>\n",
       "      <td>0</td>\n",
       "      <td>84635.64</td>\n",
       "      <td>0</td>\n",
       "    </tr>\n",
       "    <tr>\n",
       "      <th>1067</th>\n",
       "      <td>1068</td>\n",
       "      <td>15599131</td>\n",
       "      <td>Dilke</td>\n",
       "      <td>650</td>\n",
       "      <td>Germany</td>\n",
       "      <td>Male</td>\n",
       "      <td>26</td>\n",
       "      <td>4.0</td>\n",
       "      <td>214346.96</td>\n",
       "      <td>2</td>\n",
       "      <td>1</td>\n",
       "      <td>0</td>\n",
       "      <td>128815.33</td>\n",
       "      <td>0</td>\n",
       "    </tr>\n",
       "    <tr>\n",
       "      <th>3817</th>\n",
       "      <td>3818</td>\n",
       "      <td>15724251</td>\n",
       "      <td>Todd</td>\n",
       "      <td>682</td>\n",
       "      <td>Germany</td>\n",
       "      <td>Female</td>\n",
       "      <td>29</td>\n",
       "      <td>6.0</td>\n",
       "      <td>101012.77</td>\n",
       "      <td>1</td>\n",
       "      <td>0</td>\n",
       "      <td>0</td>\n",
       "      <td>32589.89</td>\n",
       "      <td>1</td>\n",
       "    </tr>\n",
       "    <tr>\n",
       "      <th>2306</th>\n",
       "      <td>2307</td>\n",
       "      <td>15602034</td>\n",
       "      <td>Kolesnikov</td>\n",
       "      <td>697</td>\n",
       "      <td>France</td>\n",
       "      <td>Female</td>\n",
       "      <td>34</td>\n",
       "      <td>2.0</td>\n",
       "      <td>126558.92</td>\n",
       "      <td>1</td>\n",
       "      <td>1</td>\n",
       "      <td>0</td>\n",
       "      <td>73334.43</td>\n",
       "      <td>0</td>\n",
       "    </tr>\n",
       "    <tr>\n",
       "      <th>9252</th>\n",
       "      <td>9253</td>\n",
       "      <td>15800805</td>\n",
       "      <td>Maher</td>\n",
       "      <td>451</td>\n",
       "      <td>France</td>\n",
       "      <td>Female</td>\n",
       "      <td>31</td>\n",
       "      <td>NaN</td>\n",
       "      <td>140931.82</td>\n",
       "      <td>1</td>\n",
       "      <td>0</td>\n",
       "      <td>1</td>\n",
       "      <td>20388.77</td>\n",
       "      <td>0</td>\n",
       "    </tr>\n",
       "    <tr>\n",
       "      <th>7807</th>\n",
       "      <td>7808</td>\n",
       "      <td>15568904</td>\n",
       "      <td>Kruglova</td>\n",
       "      <td>608</td>\n",
       "      <td>Germany</td>\n",
       "      <td>Male</td>\n",
       "      <td>34</td>\n",
       "      <td>3.0</td>\n",
       "      <td>106288.54</td>\n",
       "      <td>1</td>\n",
       "      <td>1</td>\n",
       "      <td>1</td>\n",
       "      <td>36639.25</td>\n",
       "      <td>0</td>\n",
       "    </tr>\n",
       "    <tr>\n",
       "      <th>2091</th>\n",
       "      <td>2092</td>\n",
       "      <td>15672945</td>\n",
       "      <td>Parkes</td>\n",
       "      <td>661</td>\n",
       "      <td>France</td>\n",
       "      <td>Female</td>\n",
       "      <td>37</td>\n",
       "      <td>5.0</td>\n",
       "      <td>136425.18</td>\n",
       "      <td>1</td>\n",
       "      <td>1</td>\n",
       "      <td>0</td>\n",
       "      <td>81102.81</td>\n",
       "      <td>0</td>\n",
       "    </tr>\n",
       "  </tbody>\n",
       "</table>\n",
       "</div>"
      ],
      "text/plain": [
       "      RowNumber  CustomerId       Surname  CreditScore Geography  Gender  Age  \\\n",
       "5902       5903    15586504     Trevisani          694    France    Male   40   \n",
       "4924       4925    15574868        Lowell          792   Germany    Male   36   \n",
       "9913       9914    15590177     Chiedozie          718    France  Female   44   \n",
       "4677       4678    15791780         Ts'ao          706   Germany  Female   48   \n",
       "1962       1963    15692416     Aikenhead          358     Spain  Female   52   \n",
       "4327       4328    15581811  Chukwubuikem          678   Germany  Female   30   \n",
       "9372       9373    15775826       Iadanza          677    France    Male   30   \n",
       "9529       9530    15661708           She          508    France  Female   41   \n",
       "2758       2759    15668347        Ingram          624    France    Male   36   \n",
       "1067       1068    15599131         Dilke          650   Germany    Male   26   \n",
       "3817       3818    15724251          Todd          682   Germany  Female   29   \n",
       "2306       2307    15602034    Kolesnikov          697    France  Female   34   \n",
       "9252       9253    15800805         Maher          451    France  Female   31   \n",
       "7807       7808    15568904      Kruglova          608   Germany    Male   34   \n",
       "2091       2092    15672945        Parkes          661    France  Female   37   \n",
       "\n",
       "      Tenure    Balance  NumOfProducts  HasCrCard  IsActiveMember  \\\n",
       "5902     9.0       0.00              2          1               0   \n",
       "4924     NaN  115725.24              2          0               0   \n",
       "9913     1.0  133866.22              1          0               1   \n",
       "4677    10.0  104478.12              3          0               1   \n",
       "1962     8.0  143542.36              3          1               0   \n",
       "4327     1.0  139676.95              2          0               1   \n",
       "9372     1.0   78133.15              1          0               1   \n",
       "9529     NaN       0.00              2          1               1   \n",
       "2758     6.0       0.00              2          0               0   \n",
       "1067     4.0  214346.96              2          1               0   \n",
       "3817     6.0  101012.77              1          0               0   \n",
       "2306     2.0  126558.92              1          1               0   \n",
       "9252     NaN  140931.82              1          0               1   \n",
       "7807     3.0  106288.54              1          1               1   \n",
       "2091     5.0  136425.18              1          1               0   \n",
       "\n",
       "      EstimatedSalary  Exited  \n",
       "5902         40463.03       0  \n",
       "4924          1871.25       0  \n",
       "9913        139049.24       0  \n",
       "4677        158248.71       1  \n",
       "1962        141959.11       1  \n",
       "4327         16146.00       0  \n",
       "9372        174225.88       0  \n",
       "9529         94170.84       0  \n",
       "2758         84635.64       0  \n",
       "1067        128815.33       0  \n",
       "3817         32589.89       1  \n",
       "2306         73334.43       0  \n",
       "9252         20388.77       0  \n",
       "7807         36639.25       0  \n",
       "2091         81102.81       0  "
      ]
     },
     "metadata": {},
     "output_type": "display_data"
    },
    {
     "name": "stdout",
     "output_type": "stream",
     "text": [
      "<class 'pandas.core.frame.DataFrame'>\n",
      "RangeIndex: 10000 entries, 0 to 9999\n",
      "Data columns (total 14 columns):\n",
      " #   Column           Non-Null Count  Dtype  \n",
      "---  ------           --------------  -----  \n",
      " 0   RowNumber        10000 non-null  int64  \n",
      " 1   CustomerId       10000 non-null  int64  \n",
      " 2   Surname          10000 non-null  object \n",
      " 3   CreditScore      10000 non-null  int64  \n",
      " 4   Geography        10000 non-null  object \n",
      " 5   Gender           10000 non-null  object \n",
      " 6   Age              10000 non-null  int64  \n",
      " 7   Tenure           9091 non-null   float64\n",
      " 8   Balance          10000 non-null  float64\n",
      " 9   NumOfProducts    10000 non-null  int64  \n",
      " 10  HasCrCard        10000 non-null  int64  \n",
      " 11  IsActiveMember   10000 non-null  int64  \n",
      " 12  EstimatedSalary  10000 non-null  float64\n",
      " 13  Exited           10000 non-null  int64  \n",
      "dtypes: float64(3), int64(8), object(3)\n",
      "memory usage: 1.1+ MB\n"
     ]
    },
    {
     "data": {
      "text/plain": [
       "None"
      ]
     },
     "metadata": {},
     "output_type": "display_data"
    },
    {
     "data": {
      "text/html": [
       "<div>\n",
       "<style scoped>\n",
       "    .dataframe tbody tr th:only-of-type {\n",
       "        vertical-align: middle;\n",
       "    }\n",
       "\n",
       "    .dataframe tbody tr th {\n",
       "        vertical-align: top;\n",
       "    }\n",
       "\n",
       "    .dataframe thead th {\n",
       "        text-align: right;\n",
       "    }\n",
       "</style>\n",
       "<table border=\"1\" class=\"dataframe\">\n",
       "  <thead>\n",
       "    <tr style=\"text-align: right;\">\n",
       "      <th></th>\n",
       "      <th>RowNumber</th>\n",
       "      <th>CustomerId</th>\n",
       "      <th>Surname</th>\n",
       "      <th>CreditScore</th>\n",
       "      <th>Geography</th>\n",
       "      <th>Gender</th>\n",
       "      <th>Age</th>\n",
       "      <th>Tenure</th>\n",
       "      <th>Balance</th>\n",
       "      <th>NumOfProducts</th>\n",
       "      <th>HasCrCard</th>\n",
       "      <th>IsActiveMember</th>\n",
       "      <th>EstimatedSalary</th>\n",
       "      <th>Exited</th>\n",
       "    </tr>\n",
       "  </thead>\n",
       "  <tbody>\n",
       "    <tr>\n",
       "      <th>count</th>\n",
       "      <td>10000.00000</td>\n",
       "      <td>1.000000e+04</td>\n",
       "      <td>10000</td>\n",
       "      <td>10000.000000</td>\n",
       "      <td>10000</td>\n",
       "      <td>10000</td>\n",
       "      <td>10000.000000</td>\n",
       "      <td>9091.000000</td>\n",
       "      <td>10000.000000</td>\n",
       "      <td>10000.000000</td>\n",
       "      <td>10000.00000</td>\n",
       "      <td>10000.000000</td>\n",
       "      <td>10000.000000</td>\n",
       "      <td>10000.000000</td>\n",
       "    </tr>\n",
       "    <tr>\n",
       "      <th>unique</th>\n",
       "      <td>NaN</td>\n",
       "      <td>NaN</td>\n",
       "      <td>2932</td>\n",
       "      <td>NaN</td>\n",
       "      <td>3</td>\n",
       "      <td>2</td>\n",
       "      <td>NaN</td>\n",
       "      <td>NaN</td>\n",
       "      <td>NaN</td>\n",
       "      <td>NaN</td>\n",
       "      <td>NaN</td>\n",
       "      <td>NaN</td>\n",
       "      <td>NaN</td>\n",
       "      <td>NaN</td>\n",
       "    </tr>\n",
       "    <tr>\n",
       "      <th>top</th>\n",
       "      <td>NaN</td>\n",
       "      <td>NaN</td>\n",
       "      <td>Smith</td>\n",
       "      <td>NaN</td>\n",
       "      <td>France</td>\n",
       "      <td>Male</td>\n",
       "      <td>NaN</td>\n",
       "      <td>NaN</td>\n",
       "      <td>NaN</td>\n",
       "      <td>NaN</td>\n",
       "      <td>NaN</td>\n",
       "      <td>NaN</td>\n",
       "      <td>NaN</td>\n",
       "      <td>NaN</td>\n",
       "    </tr>\n",
       "    <tr>\n",
       "      <th>freq</th>\n",
       "      <td>NaN</td>\n",
       "      <td>NaN</td>\n",
       "      <td>32</td>\n",
       "      <td>NaN</td>\n",
       "      <td>5014</td>\n",
       "      <td>5457</td>\n",
       "      <td>NaN</td>\n",
       "      <td>NaN</td>\n",
       "      <td>NaN</td>\n",
       "      <td>NaN</td>\n",
       "      <td>NaN</td>\n",
       "      <td>NaN</td>\n",
       "      <td>NaN</td>\n",
       "      <td>NaN</td>\n",
       "    </tr>\n",
       "    <tr>\n",
       "      <th>mean</th>\n",
       "      <td>5000.50000</td>\n",
       "      <td>1.569094e+07</td>\n",
       "      <td>NaN</td>\n",
       "      <td>650.528800</td>\n",
       "      <td>NaN</td>\n",
       "      <td>NaN</td>\n",
       "      <td>38.921800</td>\n",
       "      <td>4.997690</td>\n",
       "      <td>76485.889288</td>\n",
       "      <td>1.530200</td>\n",
       "      <td>0.70550</td>\n",
       "      <td>0.515100</td>\n",
       "      <td>100090.239881</td>\n",
       "      <td>0.203700</td>\n",
       "    </tr>\n",
       "    <tr>\n",
       "      <th>std</th>\n",
       "      <td>2886.89568</td>\n",
       "      <td>7.193619e+04</td>\n",
       "      <td>NaN</td>\n",
       "      <td>96.653299</td>\n",
       "      <td>NaN</td>\n",
       "      <td>NaN</td>\n",
       "      <td>10.487806</td>\n",
       "      <td>2.894723</td>\n",
       "      <td>62397.405202</td>\n",
       "      <td>0.581654</td>\n",
       "      <td>0.45584</td>\n",
       "      <td>0.499797</td>\n",
       "      <td>57510.492818</td>\n",
       "      <td>0.402769</td>\n",
       "    </tr>\n",
       "    <tr>\n",
       "      <th>min</th>\n",
       "      <td>1.00000</td>\n",
       "      <td>1.556570e+07</td>\n",
       "      <td>NaN</td>\n",
       "      <td>350.000000</td>\n",
       "      <td>NaN</td>\n",
       "      <td>NaN</td>\n",
       "      <td>18.000000</td>\n",
       "      <td>0.000000</td>\n",
       "      <td>0.000000</td>\n",
       "      <td>1.000000</td>\n",
       "      <td>0.00000</td>\n",
       "      <td>0.000000</td>\n",
       "      <td>11.580000</td>\n",
       "      <td>0.000000</td>\n",
       "    </tr>\n",
       "    <tr>\n",
       "      <th>25%</th>\n",
       "      <td>2500.75000</td>\n",
       "      <td>1.562853e+07</td>\n",
       "      <td>NaN</td>\n",
       "      <td>584.000000</td>\n",
       "      <td>NaN</td>\n",
       "      <td>NaN</td>\n",
       "      <td>32.000000</td>\n",
       "      <td>2.000000</td>\n",
       "      <td>0.000000</td>\n",
       "      <td>1.000000</td>\n",
       "      <td>0.00000</td>\n",
       "      <td>0.000000</td>\n",
       "      <td>51002.110000</td>\n",
       "      <td>0.000000</td>\n",
       "    </tr>\n",
       "    <tr>\n",
       "      <th>50%</th>\n",
       "      <td>5000.50000</td>\n",
       "      <td>1.569074e+07</td>\n",
       "      <td>NaN</td>\n",
       "      <td>652.000000</td>\n",
       "      <td>NaN</td>\n",
       "      <td>NaN</td>\n",
       "      <td>37.000000</td>\n",
       "      <td>5.000000</td>\n",
       "      <td>97198.540000</td>\n",
       "      <td>1.000000</td>\n",
       "      <td>1.00000</td>\n",
       "      <td>1.000000</td>\n",
       "      <td>100193.915000</td>\n",
       "      <td>0.000000</td>\n",
       "    </tr>\n",
       "    <tr>\n",
       "      <th>75%</th>\n",
       "      <td>7500.25000</td>\n",
       "      <td>1.575323e+07</td>\n",
       "      <td>NaN</td>\n",
       "      <td>718.000000</td>\n",
       "      <td>NaN</td>\n",
       "      <td>NaN</td>\n",
       "      <td>44.000000</td>\n",
       "      <td>7.000000</td>\n",
       "      <td>127644.240000</td>\n",
       "      <td>2.000000</td>\n",
       "      <td>1.00000</td>\n",
       "      <td>1.000000</td>\n",
       "      <td>149388.247500</td>\n",
       "      <td>0.000000</td>\n",
       "    </tr>\n",
       "    <tr>\n",
       "      <th>max</th>\n",
       "      <td>10000.00000</td>\n",
       "      <td>1.581569e+07</td>\n",
       "      <td>NaN</td>\n",
       "      <td>850.000000</td>\n",
       "      <td>NaN</td>\n",
       "      <td>NaN</td>\n",
       "      <td>92.000000</td>\n",
       "      <td>10.000000</td>\n",
       "      <td>250898.090000</td>\n",
       "      <td>4.000000</td>\n",
       "      <td>1.00000</td>\n",
       "      <td>1.000000</td>\n",
       "      <td>199992.480000</td>\n",
       "      <td>1.000000</td>\n",
       "    </tr>\n",
       "  </tbody>\n",
       "</table>\n",
       "</div>"
      ],
      "text/plain": [
       "          RowNumber    CustomerId Surname   CreditScore Geography Gender  \\\n",
       "count   10000.00000  1.000000e+04   10000  10000.000000     10000  10000   \n",
       "unique          NaN           NaN    2932           NaN         3      2   \n",
       "top             NaN           NaN   Smith           NaN    France   Male   \n",
       "freq            NaN           NaN      32           NaN      5014   5457   \n",
       "mean     5000.50000  1.569094e+07     NaN    650.528800       NaN    NaN   \n",
       "std      2886.89568  7.193619e+04     NaN     96.653299       NaN    NaN   \n",
       "min         1.00000  1.556570e+07     NaN    350.000000       NaN    NaN   \n",
       "25%      2500.75000  1.562853e+07     NaN    584.000000       NaN    NaN   \n",
       "50%      5000.50000  1.569074e+07     NaN    652.000000       NaN    NaN   \n",
       "75%      7500.25000  1.575323e+07     NaN    718.000000       NaN    NaN   \n",
       "max     10000.00000  1.581569e+07     NaN    850.000000       NaN    NaN   \n",
       "\n",
       "                 Age       Tenure        Balance  NumOfProducts    HasCrCard  \\\n",
       "count   10000.000000  9091.000000   10000.000000   10000.000000  10000.00000   \n",
       "unique           NaN          NaN            NaN            NaN          NaN   \n",
       "top              NaN          NaN            NaN            NaN          NaN   \n",
       "freq             NaN          NaN            NaN            NaN          NaN   \n",
       "mean       38.921800     4.997690   76485.889288       1.530200      0.70550   \n",
       "std        10.487806     2.894723   62397.405202       0.581654      0.45584   \n",
       "min        18.000000     0.000000       0.000000       1.000000      0.00000   \n",
       "25%        32.000000     2.000000       0.000000       1.000000      0.00000   \n",
       "50%        37.000000     5.000000   97198.540000       1.000000      1.00000   \n",
       "75%        44.000000     7.000000  127644.240000       2.000000      1.00000   \n",
       "max        92.000000    10.000000  250898.090000       4.000000      1.00000   \n",
       "\n",
       "        IsActiveMember  EstimatedSalary        Exited  \n",
       "count     10000.000000     10000.000000  10000.000000  \n",
       "unique             NaN              NaN           NaN  \n",
       "top                NaN              NaN           NaN  \n",
       "freq               NaN              NaN           NaN  \n",
       "mean          0.515100    100090.239881      0.203700  \n",
       "std           0.499797     57510.492818      0.402769  \n",
       "min           0.000000        11.580000      0.000000  \n",
       "25%           0.000000     51002.110000      0.000000  \n",
       "50%           1.000000    100193.915000      0.000000  \n",
       "75%           1.000000    149388.247500      0.000000  \n",
       "max           1.000000    199992.480000      1.000000  "
      ]
     },
     "metadata": {},
     "output_type": "display_data"
    }
   ],
   "source": [
    "data = pd.read_csv('C:/Users/nedel/Desktop/Projects/Churn.csv')\n",
    "get_data_info(data)"
   ]
  },
  {
   "cell_type": "code",
   "execution_count": 5,
   "metadata": {
    "scrolled": false
   },
   "outputs": [
    {
     "data": {
      "image/png": "[encoded data removed]",
      "text/plain": [
       "<Figure size 1080x720 with 12 Axes>"
      ]
     },
     "metadata": {
      "needs_background": "light"
     },
     "output_type": "display_data"
    }
   ],
   "source": [
    "data.hist(figsize=(15,10));"
   ]
  },
  {
   "cell_type": "code",
   "execution_count": 6,
   "metadata": {},
   "outputs": [
    {
     "data": {
      "text/plain": [
       "IsActiveMember    -0.156128\n",
       "NumOfProducts     -0.047820\n",
       "CreditScore       -0.027094\n",
       "Tenure            -0.016761\n",
       "RowNumber         -0.016571\n",
       "HasCrCard         -0.007138\n",
       "CustomerId        -0.006248\n",
       "EstimatedSalary    0.012097\n",
       "Balance            0.118533\n",
       "Age                0.285323\n",
       "Exited             1.000000\n",
       "Name: Exited, dtype: float64"
      ]
     },
     "execution_count": 6,
     "metadata": {},
     "output_type": "execute_result"
    }
   ],
   "source": [
    "data.corr()['Exited'].sort_values()"
   ]
  },
  {
   "cell_type": "code",
   "execution_count": 7,
   "metadata": {},
   "outputs": [
    {
     "data": {
      "text/html": [
       "<style type=\"text/css\">\n",
       "#T_199d4_row0_col0, #T_199d4_row1_col1, #T_199d4_row2_col2, #T_199d4_row3_col3, #T_199d4_row4_col4, #T_199d4_row5_col5, #T_199d4_row6_col6, #T_199d4_row7_col7, #T_199d4_row8_col8, #T_199d4_row9_col9, #T_199d4_row10_col10 {\n",
       "  background-color: #006837;\n",
       "  color: #f1f1f1;\n",
       "}\n",
       "#T_199d4_row0_col1, #T_199d4_row0_col4, #T_199d4_row1_col9, #T_199d4_row2_col1, #T_199d4_row2_col3, #T_199d4_row4_col2, #T_199d4_row5_col4, #T_199d4_row5_col9, #T_199d4_row6_col9, #T_199d4_row9_col2 {\n",
       "  background-color: #b10b26;\n",
       "  color: #f1f1f1;\n",
       "}\n",
       "#T_199d4_row0_col2, #T_199d4_row1_col2, #T_199d4_row5_col2 {\n",
       "  background-color: #b50f26;\n",
       "  color: #f1f1f1;\n",
       "}\n",
       "#T_199d4_row0_col3, #T_199d4_row2_col4, #T_199d4_row3_col1, #T_199d4_row8_col0 {\n",
       "  background-color: #b30d26;\n",
       "  color: #f1f1f1;\n",
       "}\n",
       "#T_199d4_row0_col5, #T_199d4_row1_col5, #T_199d4_row8_col5 {\n",
       "  background-color: #f67c4a;\n",
       "  color: #f1f1f1;\n",
       "}\n",
       "#T_199d4_row0_col6, #T_199d4_row8_col6 {\n",
       "  background-color: #f8864f;\n",
       "  color: #f1f1f1;\n",
       "}\n",
       "#T_199d4_row0_col7, #T_199d4_row10_col1, #T_199d4_row10_col4 {\n",
       "  background-color: #ab0626;\n",
       "  color: #f1f1f1;\n",
       "}\n",
       "#T_199d4_row0_col8, #T_199d4_row9_col10 {\n",
       "  background-color: #e44c34;\n",
       "  color: #f1f1f1;\n",
       "}\n",
       "#T_199d4_row0_col9, #T_199d4_row3_col9, #T_199d4_row5_col0, #T_199d4_row7_col1, #T_199d4_row9_col7, #T_199d4_row10_col7 {\n",
       "  background-color: #a70226;\n",
       "  color: #f1f1f1;\n",
       "}\n",
       "#T_199d4_row0_col10, #T_199d4_row4_col10 {\n",
       "  background-color: #dc3b2c;\n",
       "  color: #f1f1f1;\n",
       "}\n",
       "#T_199d4_row1_col0, #T_199d4_row2_col0, #T_199d4_row3_col2, #T_199d4_row4_col9, #T_199d4_row6_col0, #T_199d4_row7_col2, #T_199d4_row8_col1, #T_199d4_row9_col3, #T_199d4_row10_col9 {\n",
       "  background-color: #af0926;\n",
       "  color: #f1f1f1;\n",
       "}\n",
       "#T_199d4_row1_col3, #T_199d4_row6_col1, #T_199d4_row6_col2, #T_199d4_row9_col1 {\n",
       "  background-color: #b71126;\n",
       "  color: #f1f1f1;\n",
       "}\n",
       "#T_199d4_row1_col4, #T_199d4_row2_col7, #T_199d4_row2_col9, #T_199d4_row4_col0, #T_199d4_row5_col1, #T_199d4_row9_col0 {\n",
       "  background-color: #a90426;\n",
       "  color: #f1f1f1;\n",
       "}\n",
       "#T_199d4_row1_col6 {\n",
       "  background-color: #f88c51;\n",
       "  color: #f1f1f1;\n",
       "}\n",
       "#T_199d4_row1_col7, #T_199d4_row3_col7, #T_199d4_row4_col1, #T_199d4_row5_col6, #T_199d4_row5_col7, #T_199d4_row6_col3, #T_199d4_row6_col5, #T_199d4_row7_col9, #T_199d4_row8_col4, #T_199d4_row8_col7, #T_199d4_row8_col9, #T_199d4_row8_col10, #T_199d4_row10_col0, #T_199d4_row10_col2, #T_199d4_row10_col8 {\n",
       "  background-color: #a50026;\n",
       "  color: #f1f1f1;\n",
       "}\n",
       "#T_199d4_row1_col8 {\n",
       "  background-color: #e14430;\n",
       "  color: #f1f1f1;\n",
       "}\n",
       "#T_199d4_row1_col10 {\n",
       "  background-color: #e0422f;\n",
       "  color: #f1f1f1;\n",
       "}\n",
       "#T_199d4_row2_col5, #T_199d4_row5_col10, #T_199d4_row7_col6 {\n",
       "  background-color: #f7844e;\n",
       "  color: #f1f1f1;\n",
       "}\n",
       "#T_199d4_row2_col6, #T_199d4_row4_col6, #T_199d4_row9_col5, #T_199d4_row9_col6 {\n",
       "  background-color: #f88950;\n",
       "  color: #f1f1f1;\n",
       "}\n",
       "#T_199d4_row2_col8 {\n",
       "  background-color: #e75337;\n",
       "  color: #f1f1f1;\n",
       "}\n",
       "#T_199d4_row2_col10, #T_199d4_row8_col3 {\n",
       "  background-color: #da362a;\n",
       "  color: #f1f1f1;\n",
       "}\n",
       "#T_199d4_row3_col0, #T_199d4_row3_col4, #T_199d4_row4_col3, #T_199d4_row6_col7, #T_199d4_row7_col0, #T_199d4_row7_col3 {\n",
       "  background-color: #ad0826;\n",
       "  color: #f1f1f1;\n",
       "}\n",
       "#T_199d4_row3_col5 {\n",
       "  background-color: #f99153;\n",
       "  color: #000000;\n",
       "}\n",
       "#T_199d4_row3_col6, #T_199d4_row3_col8 {\n",
       "  background-color: #f57245;\n",
       "  color: #f1f1f1;\n",
       "}\n",
       "#T_199d4_row3_col10 {\n",
       "  background-color: #fed683;\n",
       "  color: #000000;\n",
       "}\n",
       "#T_199d4_row4_col5 {\n",
       "  background-color: #f67f4b;\n",
       "  color: #f1f1f1;\n",
       "}\n",
       "#T_199d4_row4_col7, #T_199d4_row6_col4, #T_199d4_row9_col4 {\n",
       "  background-color: #b91326;\n",
       "  color: #f1f1f1;\n",
       "}\n",
       "#T_199d4_row4_col8 {\n",
       "  background-color: #d93429;\n",
       "  color: #f1f1f1;\n",
       "}\n",
       "#T_199d4_row5_col3, #T_199d4_row7_col4 {\n",
       "  background-color: #c01a27;\n",
       "  color: #f1f1f1;\n",
       "}\n",
       "#T_199d4_row5_col8, #T_199d4_row7_col10, #T_199d4_row9_col8 {\n",
       "  background-color: #de402e;\n",
       "  color: #f1f1f1;\n",
       "}\n",
       "#T_199d4_row6_col8 {\n",
       "  background-color: #e34933;\n",
       "  color: #f1f1f1;\n",
       "}\n",
       "#T_199d4_row6_col10 {\n",
       "  background-color: #d22b27;\n",
       "  color: #f1f1f1;\n",
       "}\n",
       "#T_199d4_row7_col5 {\n",
       "  background-color: #f67a49;\n",
       "  color: #f1f1f1;\n",
       "}\n",
       "#T_199d4_row7_col8 {\n",
       "  background-color: #dd3d2d;\n",
       "  color: #f1f1f1;\n",
       "}\n",
       "#T_199d4_row8_col2 {\n",
       "  background-color: #be1827;\n",
       "  color: #f1f1f1;\n",
       "}\n",
       "#T_199d4_row10_col3 {\n",
       "  background-color: #fdb163;\n",
       "  color: #000000;\n",
       "}\n",
       "#T_199d4_row10_col5 {\n",
       "  background-color: #fdb96a;\n",
       "  color: #000000;\n",
       "}\n",
       "#T_199d4_row10_col6 {\n",
       "  background-color: #f36b42;\n",
       "  color: #f1f1f1;\n",
       "}\n",
       "</style>\n",
       "<table id=\"T_199d4\">\n",
       "  <thead>\n",
       "    <tr>\n",
       "      <th class=\"blank level0\" >&nbsp;</th>\n",
       "      <th id=\"T_199d4_level0_col0\" class=\"col_heading level0 col0\" >RowNumber</th>\n",
       "      <th id=\"T_199d4_level0_col1\" class=\"col_heading level0 col1\" >CustomerId</th>\n",
       "      <th id=\"T_199d4_level0_col2\" class=\"col_heading level0 col2\" >CreditScore</th>\n",
       "      <th id=\"T_199d4_level0_col3\" class=\"col_heading level0 col3\" >Age</th>\n",
       "      <th id=\"T_199d4_level0_col4\" class=\"col_heading level0 col4\" >Tenure</th>\n",
       "      <th id=\"T_199d4_level0_col5\" class=\"col_heading level0 col5\" >Balance</th>\n",
       "      <th id=\"T_199d4_level0_col6\" class=\"col_heading level0 col6\" >NumOfProducts</th>\n",
       "      <th id=\"T_199d4_level0_col7\" class=\"col_heading level0 col7\" >HasCrCard</th>\n",
       "      <th id=\"T_199d4_level0_col8\" class=\"col_heading level0 col8\" >IsActiveMember</th>\n",
       "      <th id=\"T_199d4_level0_col9\" class=\"col_heading level0 col9\" >EstimatedSalary</th>\n",
       "      <th id=\"T_199d4_level0_col10\" class=\"col_heading level0 col10\" >Exited</th>\n",
       "    </tr>\n",
       "  </thead>\n",
       "  <tbody>\n",
       "    <tr>\n",
       "      <th id=\"T_199d4_level0_row0\" class=\"row_heading level0 row0\" >RowNumber</th>\n",
       "      <td id=\"T_199d4_row0_col0\" class=\"data row0 col0\" >1.000000</td>\n",
       "      <td id=\"T_199d4_row0_col1\" class=\"data row0 col1\" >0.004202</td>\n",
       "      <td id=\"T_199d4_row0_col2\" class=\"data row0 col2\" >0.005840</td>\n",
       "      <td id=\"T_199d4_row0_col3\" class=\"data row0 col3\" >0.000783</td>\n",
       "      <td id=\"T_199d4_row0_col4\" class=\"data row0 col4\" >-0.007322</td>\n",
       "      <td id=\"T_199d4_row0_col5\" class=\"data row0 col5\" >-0.009067</td>\n",
       "      <td id=\"T_199d4_row0_col6\" class=\"data row0 col6\" >0.007246</td>\n",
       "      <td id=\"T_199d4_row0_col7\" class=\"data row0 col7\" >0.000599</td>\n",
       "      <td id=\"T_199d4_row0_col8\" class=\"data row0 col8\" >0.012044</td>\n",
       "      <td id=\"T_199d4_row0_col9\" class=\"data row0 col9\" >-0.005988</td>\n",
       "      <td id=\"T_199d4_row0_col10\" class=\"data row0 col10\" >-0.016571</td>\n",
       "    </tr>\n",
       "    <tr>\n",
       "      <th id=\"T_199d4_level0_row1\" class=\"row_heading level0 row1\" >CustomerId</th>\n",
       "      <td id=\"T_199d4_row1_col0\" class=\"data row1 col0\" >0.004202</td>\n",
       "      <td id=\"T_199d4_row1_col1\" class=\"data row1 col1\" >1.000000</td>\n",
       "      <td id=\"T_199d4_row1_col2\" class=\"data row1 col2\" >0.005308</td>\n",
       "      <td id=\"T_199d4_row1_col3\" class=\"data row1 col3\" >0.009497</td>\n",
       "      <td id=\"T_199d4_row1_col4\" class=\"data row1 col4\" >-0.021418</td>\n",
       "      <td id=\"T_199d4_row1_col5\" class=\"data row1 col5\" >-0.012419</td>\n",
       "      <td id=\"T_199d4_row1_col6\" class=\"data row1 col6\" >0.016972</td>\n",
       "      <td id=\"T_199d4_row1_col7\" class=\"data row1 col7\" >-0.014025</td>\n",
       "      <td id=\"T_199d4_row1_col8\" class=\"data row1 col8\" >0.001665</td>\n",
       "      <td id=\"T_199d4_row1_col9\" class=\"data row1 col9\" >0.015271</td>\n",
       "      <td id=\"T_199d4_row1_col10\" class=\"data row1 col10\" >-0.006248</td>\n",
       "    </tr>\n",
       "    <tr>\n",
       "      <th id=\"T_199d4_level0_row2\" class=\"row_heading level0 row2\" >CreditScore</th>\n",
       "      <td id=\"T_199d4_row2_col0\" class=\"data row2 col0\" >0.005840</td>\n",
       "      <td id=\"T_199d4_row2_col1\" class=\"data row2 col1\" >0.005308</td>\n",
       "      <td id=\"T_199d4_row2_col2\" class=\"data row2 col2\" >1.000000</td>\n",
       "      <td id=\"T_199d4_row2_col3\" class=\"data row2 col3\" >-0.003965</td>\n",
       "      <td id=\"T_199d4_row2_col4\" class=\"data row2 col4\" >-0.000062</td>\n",
       "      <td id=\"T_199d4_row2_col5\" class=\"data row2 col5\" >0.006268</td>\n",
       "      <td id=\"T_199d4_row2_col6\" class=\"data row2 col6\" >0.012238</td>\n",
       "      <td id=\"T_199d4_row2_col7\" class=\"data row2 col7\" >-0.005458</td>\n",
       "      <td id=\"T_199d4_row2_col8\" class=\"data row2 col8\" >0.025651</td>\n",
       "      <td id=\"T_199d4_row2_col9\" class=\"data row2 col9\" >-0.001384</td>\n",
       "      <td id=\"T_199d4_row2_col10\" class=\"data row2 col10\" >-0.027094</td>\n",
       "    </tr>\n",
       "    <tr>\n",
       "      <th id=\"T_199d4_level0_row3\" class=\"row_heading level0 row3\" >Age</th>\n",
       "      <td id=\"T_199d4_row3_col0\" class=\"data row3 col0\" >0.000783</td>\n",
       "      <td id=\"T_199d4_row3_col1\" class=\"data row3 col1\" >0.009497</td>\n",
       "      <td id=\"T_199d4_row3_col2\" class=\"data row3 col2\" >-0.003965</td>\n",
       "      <td id=\"T_199d4_row3_col3\" class=\"data row3 col3\" >1.000000</td>\n",
       "      <td id=\"T_199d4_row3_col4\" class=\"data row3 col4\" >-0.013134</td>\n",
       "      <td id=\"T_199d4_row3_col5\" class=\"data row3 col5\" >0.028308</td>\n",
       "      <td id=\"T_199d4_row3_col6\" class=\"data row3 col6\" >-0.030680</td>\n",
       "      <td id=\"T_199d4_row3_col7\" class=\"data row3 col7\" >-0.011721</td>\n",
       "      <td id=\"T_199d4_row3_col8\" class=\"data row3 col8\" >0.085472</td>\n",
       "      <td id=\"T_199d4_row3_col9\" class=\"data row3 col9\" >-0.007201</td>\n",
       "      <td id=\"T_199d4_row3_col10\" class=\"data row3 col10\" >0.285323</td>\n",
       "    </tr>\n",
       "    <tr>\n",
       "      <th id=\"T_199d4_level0_row4\" class=\"row_heading level0 row4\" >Tenure</th>\n",
       "      <td id=\"T_199d4_row4_col0\" class=\"data row4 col0\" >-0.007322</td>\n",
       "      <td id=\"T_199d4_row4_col1\" class=\"data row4 col1\" >-0.021418</td>\n",
       "      <td id=\"T_199d4_row4_col2\" class=\"data row4 col2\" >-0.000062</td>\n",
       "      <td id=\"T_199d4_row4_col3\" class=\"data row4 col3\" >-0.013134</td>\n",
       "      <td id=\"T_199d4_row4_col4\" class=\"data row4 col4\" >1.000000</td>\n",
       "      <td id=\"T_199d4_row4_col5\" class=\"data row4 col5\" >-0.007911</td>\n",
       "      <td id=\"T_199d4_row4_col6\" class=\"data row4 col6\" >0.011979</td>\n",
       "      <td id=\"T_199d4_row4_col7\" class=\"data row4 col7\" >0.027232</td>\n",
       "      <td id=\"T_199d4_row4_col8\" class=\"data row4 col8\" >-0.032178</td>\n",
       "      <td id=\"T_199d4_row4_col9\" class=\"data row4 col9\" >0.010520</td>\n",
       "      <td id=\"T_199d4_row4_col10\" class=\"data row4 col10\" >-0.016761</td>\n",
       "    </tr>\n",
       "    <tr>\n",
       "      <th id=\"T_199d4_level0_row5\" class=\"row_heading level0 row5\" >Balance</th>\n",
       "      <td id=\"T_199d4_row5_col0\" class=\"data row5 col0\" >-0.009067</td>\n",
       "      <td id=\"T_199d4_row5_col1\" class=\"data row5 col1\" >-0.012419</td>\n",
       "      <td id=\"T_199d4_row5_col2\" class=\"data row5 col2\" >0.006268</td>\n",
       "      <td id=\"T_199d4_row5_col3\" class=\"data row5 col3\" >0.028308</td>\n",
       "      <td id=\"T_199d4_row5_col4\" class=\"data row5 col4\" >-0.007911</td>\n",
       "      <td id=\"T_199d4_row5_col5\" class=\"data row5 col5\" >1.000000</td>\n",
       "      <td id=\"T_199d4_row5_col6\" class=\"data row5 col6\" >-0.304180</td>\n",
       "      <td id=\"T_199d4_row5_col7\" class=\"data row5 col7\" >-0.014858</td>\n",
       "      <td id=\"T_199d4_row5_col8\" class=\"data row5 col8\" >-0.010084</td>\n",
       "      <td id=\"T_199d4_row5_col9\" class=\"data row5 col9\" >0.012797</td>\n",
       "      <td id=\"T_199d4_row5_col10\" class=\"data row5 col10\" >0.118533</td>\n",
       "    </tr>\n",
       "    <tr>\n",
       "      <th id=\"T_199d4_level0_row6\" class=\"row_heading level0 row6\" >NumOfProducts</th>\n",
       "      <td id=\"T_199d4_row6_col0\" class=\"data row6 col0\" >0.007246</td>\n",
       "      <td id=\"T_199d4_row6_col1\" class=\"data row6 col1\" >0.016972</td>\n",
       "      <td id=\"T_199d4_row6_col2\" class=\"data row6 col2\" >0.012238</td>\n",
       "      <td id=\"T_199d4_row6_col3\" class=\"data row6 col3\" >-0.030680</td>\n",
       "      <td id=\"T_199d4_row6_col4\" class=\"data row6 col4\" >0.011979</td>\n",
       "      <td id=\"T_199d4_row6_col5\" class=\"data row6 col5\" >-0.304180</td>\n",
       "      <td id=\"T_199d4_row6_col6\" class=\"data row6 col6\" >1.000000</td>\n",
       "      <td id=\"T_199d4_row6_col7\" class=\"data row6 col7\" >0.003183</td>\n",
       "      <td id=\"T_199d4_row6_col8\" class=\"data row6 col8\" >0.009612</td>\n",
       "      <td id=\"T_199d4_row6_col9\" class=\"data row6 col9\" >0.014204</td>\n",
       "      <td id=\"T_199d4_row6_col10\" class=\"data row6 col10\" >-0.047820</td>\n",
       "    </tr>\n",
       "    <tr>\n",
       "      <th id=\"T_199d4_level0_row7\" class=\"row_heading level0 row7\" >HasCrCard</th>\n",
       "      <td id=\"T_199d4_row7_col0\" class=\"data row7 col0\" >0.000599</td>\n",
       "      <td id=\"T_199d4_row7_col1\" class=\"data row7 col1\" >-0.014025</td>\n",
       "      <td id=\"T_199d4_row7_col2\" class=\"data row7 col2\" >-0.005458</td>\n",
       "      <td id=\"T_199d4_row7_col3\" class=\"data row7 col3\" >-0.011721</td>\n",
       "      <td id=\"T_199d4_row7_col4\" class=\"data row7 col4\" >0.027232</td>\n",
       "      <td id=\"T_199d4_row7_col5\" class=\"data row7 col5\" >-0.014858</td>\n",
       "      <td id=\"T_199d4_row7_col6\" class=\"data row7 col6\" >0.003183</td>\n",
       "      <td id=\"T_199d4_row7_col7\" class=\"data row7 col7\" >1.000000</td>\n",
       "      <td id=\"T_199d4_row7_col8\" class=\"data row7 col8\" >-0.011866</td>\n",
       "      <td id=\"T_199d4_row7_col9\" class=\"data row7 col9\" >-0.009933</td>\n",
       "      <td id=\"T_199d4_row7_col10\" class=\"data row7 col10\" >-0.007138</td>\n",
       "    </tr>\n",
       "    <tr>\n",
       "      <th id=\"T_199d4_level0_row8\" class=\"row_heading level0 row8\" >IsActiveMember</th>\n",
       "      <td id=\"T_199d4_row8_col0\" class=\"data row8 col0\" >0.012044</td>\n",
       "      <td id=\"T_199d4_row8_col1\" class=\"data row8 col1\" >0.001665</td>\n",
       "      <td id=\"T_199d4_row8_col2\" class=\"data row8 col2\" >0.025651</td>\n",
       "      <td id=\"T_199d4_row8_col3\" class=\"data row8 col3\" >0.085472</td>\n",
       "      <td id=\"T_199d4_row8_col4\" class=\"data row8 col4\" >-0.032178</td>\n",
       "      <td id=\"T_199d4_row8_col5\" class=\"data row8 col5\" >-0.010084</td>\n",
       "      <td id=\"T_199d4_row8_col6\" class=\"data row8 col6\" >0.009612</td>\n",
       "      <td id=\"T_199d4_row8_col7\" class=\"data row8 col7\" >-0.011866</td>\n",
       "      <td id=\"T_199d4_row8_col8\" class=\"data row8 col8\" >1.000000</td>\n",
       "      <td id=\"T_199d4_row8_col9\" class=\"data row8 col9\" >-0.011421</td>\n",
       "      <td id=\"T_199d4_row8_col10\" class=\"data row8 col10\" >-0.156128</td>\n",
       "    </tr>\n",
       "    <tr>\n",
       "      <th id=\"T_199d4_level0_row9\" class=\"row_heading level0 row9\" >EstimatedSalary</th>\n",
       "      <td id=\"T_199d4_row9_col0\" class=\"data row9 col0\" >-0.005988</td>\n",
       "      <td id=\"T_199d4_row9_col1\" class=\"data row9 col1\" >0.015271</td>\n",
       "      <td id=\"T_199d4_row9_col2\" class=\"data row9 col2\" >-0.001384</td>\n",
       "      <td id=\"T_199d4_row9_col3\" class=\"data row9 col3\" >-0.007201</td>\n",
       "      <td id=\"T_199d4_row9_col4\" class=\"data row9 col4\" >0.010520</td>\n",
       "      <td id=\"T_199d4_row9_col5\" class=\"data row9 col5\" >0.012797</td>\n",
       "      <td id=\"T_199d4_row9_col6\" class=\"data row9 col6\" >0.014204</td>\n",
       "      <td id=\"T_199d4_row9_col7\" class=\"data row9 col7\" >-0.009933</td>\n",
       "      <td id=\"T_199d4_row9_col8\" class=\"data row9 col8\" >-0.011421</td>\n",
       "      <td id=\"T_199d4_row9_col9\" class=\"data row9 col9\" >1.000000</td>\n",
       "      <td id=\"T_199d4_row9_col10\" class=\"data row9 col10\" >0.012097</td>\n",
       "    </tr>\n",
       "    <tr>\n",
       "      <th id=\"T_199d4_level0_row10\" class=\"row_heading level0 row10\" >Exited</th>\n",
       "      <td id=\"T_199d4_row10_col0\" class=\"data row10 col0\" >-0.016571</td>\n",
       "      <td id=\"T_199d4_row10_col1\" class=\"data row10 col1\" >-0.006248</td>\n",
       "      <td id=\"T_199d4_row10_col2\" class=\"data row10 col2\" >-0.027094</td>\n",
       "      <td id=\"T_199d4_row10_col3\" class=\"data row10 col3\" >0.285323</td>\n",
       "      <td id=\"T_199d4_row10_col4\" class=\"data row10 col4\" >-0.016761</td>\n",
       "      <td id=\"T_199d4_row10_col5\" class=\"data row10 col5\" >0.118533</td>\n",
       "      <td id=\"T_199d4_row10_col6\" class=\"data row10 col6\" >-0.047820</td>\n",
       "      <td id=\"T_199d4_row10_col7\" class=\"data row10 col7\" >-0.007138</td>\n",
       "      <td id=\"T_199d4_row10_col8\" class=\"data row10 col8\" >-0.156128</td>\n",
       "      <td id=\"T_199d4_row10_col9\" class=\"data row10 col9\" >0.012097</td>\n",
       "      <td id=\"T_199d4_row10_col10\" class=\"data row10 col10\" >1.000000</td>\n",
       "    </tr>\n",
       "  </tbody>\n",
       "</table>\n"
      ],
      "text/plain": [
       "<pandas.io.formats.style.Styler at 0x1f1a26fb6a0>"
      ]
     },
     "execution_count": 7,
     "metadata": {},
     "output_type": "execute_result"
    }
   ],
   "source": [
    "corr = data.corr()\n",
    "corr.style.background_gradient(cmap='RdYlGn')"
   ]
  },
  {
   "cell_type": "code",
   "execution_count": 8,
   "metadata": {},
   "outputs": [
    {
     "data": {
      "text/html": [
       "<div>\n",
       "<style scoped>\n",
       "    .dataframe tbody tr th:only-of-type {\n",
       "        vertical-align: middle;\n",
       "    }\n",
       "\n",
       "    .dataframe tbody tr th {\n",
       "        vertical-align: top;\n",
       "    }\n",
       "\n",
       "    .dataframe thead th {\n",
       "        text-align: right;\n",
       "    }\n",
       "</style>\n",
       "<table border=\"1\" class=\"dataframe\">\n",
       "  <thead>\n",
       "    <tr style=\"text-align: right;\">\n",
       "      <th></th>\n",
       "      <th>RowNumber</th>\n",
       "      <th>CustomerId</th>\n",
       "      <th>Surname</th>\n",
       "      <th>CreditScore</th>\n",
       "      <th>Geography</th>\n",
       "      <th>Gender</th>\n",
       "      <th>Age</th>\n",
       "      <th>Tenure</th>\n",
       "      <th>Balance</th>\n",
       "      <th>NumOfProducts</th>\n",
       "      <th>HasCrCard</th>\n",
       "      <th>IsActiveMember</th>\n",
       "      <th>EstimatedSalary</th>\n",
       "      <th>Exited</th>\n",
       "    </tr>\n",
       "  </thead>\n",
       "  <tbody>\n",
       "    <tr>\n",
       "      <th>29</th>\n",
       "      <td>30</td>\n",
       "      <td>15656300</td>\n",
       "      <td>Lucciano</td>\n",
       "      <td>411</td>\n",
       "      <td>France</td>\n",
       "      <td>Male</td>\n",
       "      <td>29</td>\n",
       "      <td>0.0</td>\n",
       "      <td>59697.17</td>\n",
       "      <td>2</td>\n",
       "      <td>1</td>\n",
       "      <td>1</td>\n",
       "      <td>53483.21</td>\n",
       "      <td>0</td>\n",
       "    </tr>\n",
       "    <tr>\n",
       "      <th>35</th>\n",
       "      <td>36</td>\n",
       "      <td>15794171</td>\n",
       "      <td>Lombardo</td>\n",
       "      <td>475</td>\n",
       "      <td>France</td>\n",
       "      <td>Female</td>\n",
       "      <td>45</td>\n",
       "      <td>0.0</td>\n",
       "      <td>134264.04</td>\n",
       "      <td>1</td>\n",
       "      <td>1</td>\n",
       "      <td>0</td>\n",
       "      <td>27822.99</td>\n",
       "      <td>1</td>\n",
       "    </tr>\n",
       "    <tr>\n",
       "      <th>57</th>\n",
       "      <td>58</td>\n",
       "      <td>15647091</td>\n",
       "      <td>Endrizzi</td>\n",
       "      <td>725</td>\n",
       "      <td>Germany</td>\n",
       "      <td>Male</td>\n",
       "      <td>19</td>\n",
       "      <td>0.0</td>\n",
       "      <td>75888.20</td>\n",
       "      <td>1</td>\n",
       "      <td>0</td>\n",
       "      <td>0</td>\n",
       "      <td>45613.75</td>\n",
       "      <td>0</td>\n",
       "    </tr>\n",
       "    <tr>\n",
       "      <th>72</th>\n",
       "      <td>73</td>\n",
       "      <td>15812518</td>\n",
       "      <td>Palermo</td>\n",
       "      <td>657</td>\n",
       "      <td>Spain</td>\n",
       "      <td>Female</td>\n",
       "      <td>37</td>\n",
       "      <td>0.0</td>\n",
       "      <td>163607.18</td>\n",
       "      <td>1</td>\n",
       "      <td>0</td>\n",
       "      <td>1</td>\n",
       "      <td>44203.55</td>\n",
       "      <td>0</td>\n",
       "    </tr>\n",
       "    <tr>\n",
       "      <th>127</th>\n",
       "      <td>128</td>\n",
       "      <td>15782688</td>\n",
       "      <td>Piccio</td>\n",
       "      <td>625</td>\n",
       "      <td>Germany</td>\n",
       "      <td>Male</td>\n",
       "      <td>56</td>\n",
       "      <td>0.0</td>\n",
       "      <td>148507.24</td>\n",
       "      <td>1</td>\n",
       "      <td>1</td>\n",
       "      <td>0</td>\n",
       "      <td>46824.08</td>\n",
       "      <td>1</td>\n",
       "    </tr>\n",
       "  </tbody>\n",
       "</table>\n",
       "</div>"
      ],
      "text/plain": [
       "     RowNumber  CustomerId   Surname  CreditScore Geography  Gender  Age  \\\n",
       "29          30    15656300  Lucciano          411    France    Male   29   \n",
       "35          36    15794171  Lombardo          475    France  Female   45   \n",
       "57          58    15647091  Endrizzi          725   Germany    Male   19   \n",
       "72          73    15812518   Palermo          657     Spain  Female   37   \n",
       "127        128    15782688    Piccio          625   Germany    Male   56   \n",
       "\n",
       "     Tenure    Balance  NumOfProducts  HasCrCard  IsActiveMember  \\\n",
       "29      0.0   59697.17              2          1               1   \n",
       "35      0.0  134264.04              1          1               0   \n",
       "57      0.0   75888.20              1          0               0   \n",
       "72      0.0  163607.18              1          0               1   \n",
       "127     0.0  148507.24              1          1               0   \n",
       "\n",
       "     EstimatedSalary  Exited  \n",
       "29          53483.21       0  \n",
       "35          27822.99       1  \n",
       "57          45613.75       0  \n",
       "72          44203.55       0  \n",
       "127         46824.08       1  "
      ]
     },
     "execution_count": 8,
     "metadata": {},
     "output_type": "execute_result"
    }
   ],
   "source": [
    "data.loc[data['Tenure'] == data['Tenure'].isna()].head()"
   ]
  },
  {
   "cell_type": "markdown",
   "metadata": {},
   "source": [
    "Пропуски в столбце `Tenure` скорее всего связаны с тем, что эти клиенты только недавно стали клиентами банка"
   ]
  },
  {
   "cell_type": "markdown",
   "metadata": {},
   "source": [
    "Т.к. столбец `Tenure` содержит только целые цисла, приведем его к типу `Int64`"
   ]
  },
  {
   "cell_type": "code",
   "execution_count": 9,
   "metadata": {},
   "outputs": [
    {
     "name": "stdout",
     "output_type": "stream",
     "text": [
      "Пропусков в столбце Tenure:  0\n"
     ]
    }
   ],
   "source": [
    "data.loc[data['Tenure'].isna(), 'Tenure'] = data['Tenure'].median()\n",
    "data['Tenure'] = data['Tenure'].astype(int)\n",
    "print('Пропусков в столбце Tenure: ', data['Tenure'].isna().sum())"
   ]
  },
  {
   "cell_type": "markdown",
   "metadata": {},
   "source": [
    "Приведем названия столбоцов к `snake_case`"
   ]
  },
  {
   "cell_type": "code",
   "execution_count": 10,
   "metadata": {},
   "outputs": [],
   "source": [
    "data = data.rename(columns={'RowNumber': 'row_number',\n",
    "                           'CustomerId': 'customer_id',\n",
    "                           'Surname': 'surname',\n",
    "                           'CreditScore': 'credit_score',\n",
    "                           'Geography': 'geography',\n",
    "                           'Gender': 'gender',\n",
    "                           'Age': 'age',\n",
    "                           'Tenure': 'tenure',\n",
    "                           'Balance': 'balance',\n",
    "                           'NumOfProducts': 'num_of_products',\n",
    "                           'HasCrCard': 'has_cr_card',\n",
    "                           'IsActiveMember': 'is_active_member',\n",
    "                           'EstimatedSalary': 'estimated_salary',\n",
    "                           'Exited': 'exited'})"
   ]
  },
  {
   "cell_type": "markdown",
   "metadata": {},
   "source": [
    "Проверим на дубликаты"
   ]
  },
  {
   "cell_type": "code",
   "execution_count": 11,
   "metadata": {},
   "outputs": [
    {
     "name": "stdout",
     "output_type": "stream",
     "text": [
      "Явных дубликатов в данных - 0\n"
     ]
    }
   ],
   "source": [
    "print('Явных дубликатов в данных -',data.duplicated().sum())"
   ]
  },
  {
   "cell_type": "markdown",
   "metadata": {},
   "source": [
    "Удалим столбцы которые не нужны для обучения модели"
   ]
  },
  {
   "cell_type": "code",
   "execution_count": 12,
   "metadata": {},
   "outputs": [],
   "source": [
    "data = data.drop(columns=['row_number', 'customer_id', 'surname'])"
   ]
  },
  {
   "cell_type": "markdown",
   "metadata": {},
   "source": [
    "Вывод:\n",
    "\n",
    "Подготовили данные к исследованию: \n",
    "* Привели названия столбоцов к `snake_case`\n",
    "* Заполнили пропуски медианой и изменили тип данных в столбце `tenure`\n",
    "* Удалили данные, которые не пригодятся для обучения"
   ]
  },
  {
   "cell_type": "markdown",
   "metadata": {},
   "source": [
    "## Исследование задачи"
   ]
  },
  {
   "cell_type": "markdown",
   "metadata": {},
   "source": [
    "Разобъем данные по принципу `3:1:1`"
   ]
  },
  {
   "cell_type": "code",
   "execution_count": 13,
   "metadata": {},
   "outputs": [],
   "source": [
    "target = data['exited']\n",
    "features = data.drop('exited', axis=1)\n",
    "\n",
    "features_train, features_valid, target_train, target_valid = train_test_split(features,\n",
    "                                                                              target, \n",
    "                                                                              test_size=0.4, \n",
    "                                                                              random_state=RANDOM_STATE)\n",
    "features_valid, features_test, target_valid, target_test = train_test_split(features_valid, \n",
    "                                                                            target_valid, \n",
    "                                                                            test_size=0.5, \n",
    "                                                                            random_state=RANDOM_STATE)"
   ]
  },
  {
   "cell_type": "code",
   "execution_count": 14,
   "metadata": {},
   "outputs": [
    {
     "name": "stdout",
     "output_type": "stream",
     "text": [
      "CREDIT_SCORE\n",
      "850    233\n",
      "678     63\n",
      "655     54\n",
      "705     53\n",
      "667     53\n",
      "      ... \n",
      "404      1\n",
      "351      1\n",
      "365      1\n",
      "417      1\n",
      "419      1\n",
      "Name: credit_score, Length: 460, dtype: int64\n",
      "------------------\n",
      "GEOGRAPHY\n",
      "France     5014\n",
      "Germany    2509\n",
      "Spain      2477\n",
      "Name: geography, dtype: int64\n",
      "------------------\n",
      "GENDER\n",
      "Male      5457\n",
      "Female    4543\n",
      "Name: gender, dtype: int64\n",
      "------------------\n",
      "AGE\n",
      "37    478\n",
      "38    477\n",
      "35    474\n",
      "36    456\n",
      "34    447\n",
      "     ... \n",
      "92      2\n",
      "82      1\n",
      "88      1\n",
      "85      1\n",
      "83      1\n",
      "Name: age, Length: 70, dtype: int64\n",
      "------------------\n",
      "TENURE\n",
      "5     1836\n",
      "1      952\n",
      "2      950\n",
      "8      933\n",
      "3      928\n",
      "7      925\n",
      "4      885\n",
      "9      882\n",
      "6      881\n",
      "10     446\n",
      "0      382\n",
      "Name: tenure, dtype: int64\n",
      "------------------\n",
      "BALANCE\n",
      "0.00         3617\n",
      "130170.82       2\n",
      "105473.74       2\n",
      "85304.27        1\n",
      "159397.75       1\n",
      "             ... \n",
      "81556.89        1\n",
      "112687.69       1\n",
      "108698.96       1\n",
      "238387.56       1\n",
      "130142.79       1\n",
      "Name: balance, Length: 6382, dtype: int64\n",
      "------------------\n",
      "NUM_OF_PRODUCTS\n",
      "1    5084\n",
      "2    4590\n",
      "3     266\n",
      "4      60\n",
      "Name: num_of_products, dtype: int64\n",
      "------------------\n",
      "HAS_CR_CARD\n",
      "1    7055\n",
      "0    2945\n",
      "Name: has_cr_card, dtype: int64\n",
      "------------------\n",
      "IS_ACTIVE_MEMBER\n",
      "1    5151\n",
      "0    4849\n",
      "Name: is_active_member, dtype: int64\n",
      "------------------\n",
      "ESTIMATED_SALARY\n",
      "24924.92     2\n",
      "101348.88    1\n",
      "55313.44     1\n",
      "72500.68     1\n",
      "182692.80    1\n",
      "            ..\n",
      "120893.07    1\n",
      "188377.21    1\n",
      "55902.93     1\n",
      "4523.74      1\n",
      "38190.78     1\n",
      "Name: estimated_salary, Length: 9999, dtype: int64\n",
      "------------------\n"
     ]
    }
   ],
   "source": [
    "feature_names = features.columns.tolist() \n",
    "for column in feature_names: \n",
    "    print(column.upper())\n",
    "    print(features[column].value_counts(dropna=False))\n",
    "    print('------------------')"
   ]
  },
  {
   "cell_type": "code",
   "execution_count": 15,
   "metadata": {},
   "outputs": [
    {
     "name": "stdout",
     "output_type": "stream",
     "text": [
      "features:\n",
      " train (6000, 10)\n",
      " valid(2000, 10)\n",
      " test(2000, 10)\n",
      "target\n",
      " train (6000,)\n",
      " valid(2000,)\n",
      " test(2000,)\n"
     ]
    }
   ],
   "source": [
    "print('features:')\n",
    "print(f' train {features_train.shape}\\n valid{features_valid.shape}\\n test{features_test.shape}')\n",
    "print('target')\n",
    "print(f' train {target_train.shape}\\n valid{target_valid.shape}\\n test{target_test.shape}')"
   ]
  },
  {
   "cell_type": "markdown",
   "metadata": {},
   "source": [
    "Проверим баланс классов"
   ]
  },
  {
   "cell_type": "code",
   "execution_count": 16,
   "metadata": {},
   "outputs": [
    {
     "data": {
      "text/plain": [
       "0    0.7963\n",
       "1    0.2037\n",
       "Name: exited, dtype: float64"
      ]
     },
     "execution_count": 16,
     "metadata": {},
     "output_type": "execute_result"
    }
   ],
   "source": [
    "target.value_counts(normalize = 1)"
   ]
  },
  {
   "cell_type": "markdown",
   "metadata": {},
   "source": [
    "Заметен дисбаланс классов классов примерно `4:1`, изучим модели без исправления баланса"
   ]
  },
  {
   "cell_type": "code",
   "execution_count": 17,
   "metadata": {},
   "outputs": [],
   "source": [
    "ohe = OneHotEncoder(drop='first', handle_unknown='ignore', sparse=False)\n",
    "ohe_features = features_train.select_dtypes(include='object').columns.to_list()\n",
    "num_features = features_train.select_dtypes(exclude='object').columns.to_list()\n",
    "num_features.remove('has_cr_card')\n",
    "num_features.remove('is_active_member')"
   ]
  },
  {
   "cell_type": "code",
   "execution_count": 18,
   "metadata": {},
   "outputs": [
    {
     "data": {
      "text/html": [
       "<div>\n",
       "<style scoped>\n",
       "    .dataframe tbody tr th:only-of-type {\n",
       "        vertical-align: middle;\n",
       "    }\n",
       "\n",
       "    .dataframe tbody tr th {\n",
       "        vertical-align: top;\n",
       "    }\n",
       "\n",
       "    .dataframe thead th {\n",
       "        text-align: right;\n",
       "    }\n",
       "</style>\n",
       "<table border=\"1\" class=\"dataframe\">\n",
       "  <thead>\n",
       "    <tr style=\"text-align: right;\">\n",
       "      <th></th>\n",
       "      <th>credit_score</th>\n",
       "      <th>age</th>\n",
       "      <th>tenure</th>\n",
       "      <th>balance</th>\n",
       "      <th>num_of_products</th>\n",
       "      <th>has_cr_card</th>\n",
       "      <th>is_active_member</th>\n",
       "      <th>estimated_salary</th>\n",
       "      <th>geography_Germany</th>\n",
       "      <th>geography_Spain</th>\n",
       "      <th>gender_Male</th>\n",
       "    </tr>\n",
       "  </thead>\n",
       "  <tbody>\n",
       "    <tr>\n",
       "      <th>2569</th>\n",
       "      <td>-0.102710</td>\n",
       "      <td>0.097899</td>\n",
       "      <td>-1.098497</td>\n",
       "      <td>0.536042</td>\n",
       "      <td>-0.897394</td>\n",
       "      <td>1</td>\n",
       "      <td>0</td>\n",
       "      <td>1.035987</td>\n",
       "      <td>1.0</td>\n",
       "      <td>0.0</td>\n",
       "      <td>0.0</td>\n",
       "    </tr>\n",
       "    <tr>\n",
       "      <th>5450</th>\n",
       "      <td>1.578534</td>\n",
       "      <td>-0.567540</td>\n",
       "      <td>0.352862</td>\n",
       "      <td>-1.228183</td>\n",
       "      <td>0.799003</td>\n",
       "      <td>1</td>\n",
       "      <td>0</td>\n",
       "      <td>0.272952</td>\n",
       "      <td>0.0</td>\n",
       "      <td>0.0</td>\n",
       "      <td>1.0</td>\n",
       "    </tr>\n",
       "    <tr>\n",
       "      <th>4485</th>\n",
       "      <td>1.038876</td>\n",
       "      <td>-0.472477</td>\n",
       "      <td>1.441381</td>\n",
       "      <td>0.510826</td>\n",
       "      <td>0.799003</td>\n",
       "      <td>1</td>\n",
       "      <td>1</td>\n",
       "      <td>-1.259792</td>\n",
       "      <td>1.0</td>\n",
       "      <td>0.0</td>\n",
       "      <td>1.0</td>\n",
       "    </tr>\n",
       "    <tr>\n",
       "      <th>6214</th>\n",
       "      <td>-2.001893</td>\n",
       "      <td>-0.377415</td>\n",
       "      <td>1.441381</td>\n",
       "      <td>1.124089</td>\n",
       "      <td>0.799003</td>\n",
       "      <td>1</td>\n",
       "      <td>1</td>\n",
       "      <td>-1.668531</td>\n",
       "      <td>1.0</td>\n",
       "      <td>0.0</td>\n",
       "      <td>1.0</td>\n",
       "    </tr>\n",
       "    <tr>\n",
       "      <th>9912</th>\n",
       "      <td>0.519973</td>\n",
       "      <td>-0.472477</td>\n",
       "      <td>0.352862</td>\n",
       "      <td>0.502286</td>\n",
       "      <td>-0.897394</td>\n",
       "      <td>1</td>\n",
       "      <td>1</td>\n",
       "      <td>0.336943</td>\n",
       "      <td>0.0</td>\n",
       "      <td>1.0</td>\n",
       "      <td>0.0</td>\n",
       "    </tr>\n",
       "  </tbody>\n",
       "</table>\n",
       "</div>"
      ],
      "text/plain": [
       "      credit_score       age    tenure   balance  num_of_products  \\\n",
       "2569     -0.102710  0.097899 -1.098497  0.536042        -0.897394   \n",
       "5450      1.578534 -0.567540  0.352862 -1.228183         0.799003   \n",
       "4485      1.038876 -0.472477  1.441381  0.510826         0.799003   \n",
       "6214     -2.001893 -0.377415  1.441381  1.124089         0.799003   \n",
       "9912      0.519973 -0.472477  0.352862  0.502286        -0.897394   \n",
       "\n",
       "      has_cr_card  is_active_member  estimated_salary  geography_Germany  \\\n",
       "2569            1                 0          1.035987                1.0   \n",
       "5450            1                 0          0.272952                0.0   \n",
       "4485            1                 1         -1.259792                1.0   \n",
       "6214            1                 1         -1.668531                1.0   \n",
       "9912            1                 1          0.336943                0.0   \n",
       "\n",
       "      geography_Spain  gender_Male  \n",
       "2569              0.0          0.0  \n",
       "5450              0.0          1.0  \n",
       "4485              0.0          1.0  \n",
       "6214              0.0          1.0  \n",
       "9912              1.0          0.0  "
      ]
     },
     "execution_count": 18,
     "metadata": {},
     "output_type": "execute_result"
    }
   ],
   "source": [
    "ohe.fit(features_train[ohe_features])\n",
    "\n",
    "features_train[\n",
    "    ohe.get_feature_names_out()\n",
    "] = ohe.transform(features_train[ohe_features])\n",
    "\n",
    "features_train = features_train.drop(ohe_features, axis=1)\n",
    "\n",
    "scaler = StandardScaler()\n",
    "\n",
    "features_train[num_features] = scaler.fit_transform(features_train[num_features])\n",
    "\n",
    "features_train.head()"
   ]
  },
  {
   "cell_type": "code",
   "execution_count": 19,
   "metadata": {},
   "outputs": [
    {
     "data": {
      "text/html": [
       "<div>\n",
       "<style scoped>\n",
       "    .dataframe tbody tr th:only-of-type {\n",
       "        vertical-align: middle;\n",
       "    }\n",
       "\n",
       "    .dataframe tbody tr th {\n",
       "        vertical-align: top;\n",
       "    }\n",
       "\n",
       "    .dataframe thead th {\n",
       "        text-align: right;\n",
       "    }\n",
       "</style>\n",
       "<table border=\"1\" class=\"dataframe\">\n",
       "  <thead>\n",
       "    <tr style=\"text-align: right;\">\n",
       "      <th></th>\n",
       "      <th>credit_score</th>\n",
       "      <th>age</th>\n",
       "      <th>tenure</th>\n",
       "      <th>balance</th>\n",
       "      <th>num_of_products</th>\n",
       "      <th>has_cr_card</th>\n",
       "      <th>is_active_member</th>\n",
       "      <th>estimated_salary</th>\n",
       "      <th>geography_Germany</th>\n",
       "      <th>geography_Spain</th>\n",
       "      <th>gender_Male</th>\n",
       "    </tr>\n",
       "  </thead>\n",
       "  <tbody>\n",
       "    <tr>\n",
       "      <th>9743</th>\n",
       "      <td>1.049254</td>\n",
       "      <td>-0.662603</td>\n",
       "      <td>1.441381</td>\n",
       "      <td>0.624196</td>\n",
       "      <td>0.799003</td>\n",
       "      <td>0</td>\n",
       "      <td>1</td>\n",
       "      <td>0.030714</td>\n",
       "      <td>1.0</td>\n",
       "      <td>0.0</td>\n",
       "      <td>1.0</td>\n",
       "    </tr>\n",
       "    <tr>\n",
       "      <th>4461</th>\n",
       "      <td>1.018120</td>\n",
       "      <td>-1.042853</td>\n",
       "      <td>-0.735658</td>\n",
       "      <td>-1.228183</td>\n",
       "      <td>-0.897394</td>\n",
       "      <td>1</td>\n",
       "      <td>0</td>\n",
       "      <td>-1.669702</td>\n",
       "      <td>0.0</td>\n",
       "      <td>1.0</td>\n",
       "      <td>0.0</td>\n",
       "    </tr>\n",
       "    <tr>\n",
       "      <th>5983</th>\n",
       "      <td>-0.331027</td>\n",
       "      <td>-1.042853</td>\n",
       "      <td>0.352862</td>\n",
       "      <td>0.360817</td>\n",
       "      <td>0.799003</td>\n",
       "      <td>1</td>\n",
       "      <td>0</td>\n",
       "      <td>-0.889885</td>\n",
       "      <td>1.0</td>\n",
       "      <td>0.0</td>\n",
       "      <td>0.0</td>\n",
       "    </tr>\n",
       "    <tr>\n",
       "      <th>8829</th>\n",
       "      <td>0.333168</td>\n",
       "      <td>0.097899</td>\n",
       "      <td>-1.461337</td>\n",
       "      <td>-1.228183</td>\n",
       "      <td>0.799003</td>\n",
       "      <td>0</td>\n",
       "      <td>0</td>\n",
       "      <td>-0.417720</td>\n",
       "      <td>0.0</td>\n",
       "      <td>0.0</td>\n",
       "      <td>0.0</td>\n",
       "    </tr>\n",
       "    <tr>\n",
       "      <th>1448</th>\n",
       "      <td>-0.995222</td>\n",
       "      <td>0.668275</td>\n",
       "      <td>-0.372818</td>\n",
       "      <td>0.701208</td>\n",
       "      <td>-0.897394</td>\n",
       "      <td>1</td>\n",
       "      <td>0</td>\n",
       "      <td>1.346532</td>\n",
       "      <td>1.0</td>\n",
       "      <td>0.0</td>\n",
       "      <td>0.0</td>\n",
       "    </tr>\n",
       "  </tbody>\n",
       "</table>\n",
       "</div>"
      ],
      "text/plain": [
       "      credit_score       age    tenure   balance  num_of_products  \\\n",
       "9743      1.049254 -0.662603  1.441381  0.624196         0.799003   \n",
       "4461      1.018120 -1.042853 -0.735658 -1.228183        -0.897394   \n",
       "5983     -0.331027 -1.042853  0.352862  0.360817         0.799003   \n",
       "8829      0.333168  0.097899 -1.461337 -1.228183         0.799003   \n",
       "1448     -0.995222  0.668275 -0.372818  0.701208        -0.897394   \n",
       "\n",
       "      has_cr_card  is_active_member  estimated_salary  geography_Germany  \\\n",
       "9743            0                 1          0.030714                1.0   \n",
       "4461            1                 0         -1.669702                0.0   \n",
       "5983            1                 0         -0.889885                1.0   \n",
       "8829            0                 0         -0.417720                0.0   \n",
       "1448            1                 0          1.346532                1.0   \n",
       "\n",
       "      geography_Spain  gender_Male  \n",
       "9743              0.0          1.0  \n",
       "4461              1.0          0.0  \n",
       "5983              0.0          0.0  \n",
       "8829              0.0          0.0  \n",
       "1448              0.0          0.0  "
      ]
     },
     "execution_count": 19,
     "metadata": {},
     "output_type": "execute_result"
    }
   ],
   "source": [
    "features_valid[\n",
    "    ohe.get_feature_names_out()\n",
    "] = ohe.transform(features_valid[ohe_features])\n",
    "\n",
    "features_valid = features_valid.drop(ohe_features, axis=1)\n",
    "\n",
    "features_valid[num_features] = scaler.transform(\n",
    "    features_valid[num_features]\n",
    ")\n",
    "features_valid.head()"
   ]
  },
  {
   "cell_type": "code",
   "execution_count": 20,
   "metadata": {},
   "outputs": [
    {
     "data": {
      "text/html": [
       "<div>\n",
       "<style scoped>\n",
       "    .dataframe tbody tr th:only-of-type {\n",
       "        vertical-align: middle;\n",
       "    }\n",
       "\n",
       "    .dataframe tbody tr th {\n",
       "        vertical-align: top;\n",
       "    }\n",
       "\n",
       "    .dataframe thead th {\n",
       "        text-align: right;\n",
       "    }\n",
       "</style>\n",
       "<table border=\"1\" class=\"dataframe\">\n",
       "  <thead>\n",
       "    <tr style=\"text-align: right;\">\n",
       "      <th></th>\n",
       "      <th>credit_score</th>\n",
       "      <th>age</th>\n",
       "      <th>tenure</th>\n",
       "      <th>balance</th>\n",
       "      <th>num_of_products</th>\n",
       "      <th>has_cr_card</th>\n",
       "      <th>is_active_member</th>\n",
       "      <th>estimated_salary</th>\n",
       "      <th>geography_Germany</th>\n",
       "      <th>geography_Spain</th>\n",
       "      <th>gender_Male</th>\n",
       "    </tr>\n",
       "  </thead>\n",
       "  <tbody>\n",
       "    <tr>\n",
       "      <th>2214</th>\n",
       "      <td>2.066303</td>\n",
       "      <td>-1.232979</td>\n",
       "      <td>-0.372818</td>\n",
       "      <td>-0.224794</td>\n",
       "      <td>0.799003</td>\n",
       "      <td>0</td>\n",
       "      <td>1</td>\n",
       "      <td>1.375001</td>\n",
       "      <td>0.0</td>\n",
       "      <td>0.0</td>\n",
       "      <td>0.0</td>\n",
       "    </tr>\n",
       "    <tr>\n",
       "      <th>1334</th>\n",
       "      <td>-1.680174</td>\n",
       "      <td>-1.042853</td>\n",
       "      <td>-1.461337</td>\n",
       "      <td>0.045241</td>\n",
       "      <td>0.799003</td>\n",
       "      <td>1</td>\n",
       "      <td>1</td>\n",
       "      <td>1.177886</td>\n",
       "      <td>1.0</td>\n",
       "      <td>0.0</td>\n",
       "      <td>1.0</td>\n",
       "    </tr>\n",
       "    <tr>\n",
       "      <th>7304</th>\n",
       "      <td>0.291656</td>\n",
       "      <td>1.809027</td>\n",
       "      <td>1.078541</td>\n",
       "      <td>0.788669</td>\n",
       "      <td>0.799003</td>\n",
       "      <td>1</td>\n",
       "      <td>1</td>\n",
       "      <td>-0.223119</td>\n",
       "      <td>1.0</td>\n",
       "      <td>0.0</td>\n",
       "      <td>1.0</td>\n",
       "    </tr>\n",
       "    <tr>\n",
       "      <th>6900</th>\n",
       "      <td>0.239766</td>\n",
       "      <td>0.192961</td>\n",
       "      <td>-0.009978</td>\n",
       "      <td>0.800763</td>\n",
       "      <td>-0.897394</td>\n",
       "      <td>1</td>\n",
       "      <td>1</td>\n",
       "      <td>1.155759</td>\n",
       "      <td>0.0</td>\n",
       "      <td>1.0</td>\n",
       "      <td>0.0</td>\n",
       "    </tr>\n",
       "    <tr>\n",
       "      <th>884</th>\n",
       "      <td>-1.410344</td>\n",
       "      <td>2.474465</td>\n",
       "      <td>0.715701</td>\n",
       "      <td>0.248009</td>\n",
       "      <td>-0.897394</td>\n",
       "      <td>1</td>\n",
       "      <td>1</td>\n",
       "      <td>0.737933</td>\n",
       "      <td>0.0</td>\n",
       "      <td>0.0</td>\n",
       "      <td>1.0</td>\n",
       "    </tr>\n",
       "  </tbody>\n",
       "</table>\n",
       "</div>"
      ],
      "text/plain": [
       "      credit_score       age    tenure   balance  num_of_products  \\\n",
       "2214      2.066303 -1.232979 -0.372818 -0.224794         0.799003   \n",
       "1334     -1.680174 -1.042853 -1.461337  0.045241         0.799003   \n",
       "7304      0.291656  1.809027  1.078541  0.788669         0.799003   \n",
       "6900      0.239766  0.192961 -0.009978  0.800763        -0.897394   \n",
       "884      -1.410344  2.474465  0.715701  0.248009        -0.897394   \n",
       "\n",
       "      has_cr_card  is_active_member  estimated_salary  geography_Germany  \\\n",
       "2214            0                 1          1.375001                0.0   \n",
       "1334            1                 1          1.177886                1.0   \n",
       "7304            1                 1         -0.223119                1.0   \n",
       "6900            1                 1          1.155759                0.0   \n",
       "884             1                 1          0.737933                0.0   \n",
       "\n",
       "      geography_Spain  gender_Male  \n",
       "2214              0.0          0.0  \n",
       "1334              0.0          1.0  \n",
       "7304              0.0          1.0  \n",
       "6900              1.0          0.0  \n",
       "884               0.0          1.0  "
      ]
     },
     "execution_count": 20,
     "metadata": {},
     "output_type": "execute_result"
    }
   ],
   "source": [
    "features_test[\n",
    "    ohe.get_feature_names_out()\n",
    "] = ohe.transform(features_test[ohe_features])\n",
    "\n",
    "features_test = features_test.drop(ohe_features, axis=1)\n",
    "\n",
    "features_test[num_features] = scaler.transform(\n",
    "    features_test[num_features]\n",
    ")\n",
    "features_test.head()"
   ]
  },
  {
   "cell_type": "markdown",
   "metadata": {},
   "source": [
    "### Дерево решений"
   ]
  },
  {
   "cell_type": "code",
   "execution_count": 21,
   "metadata": {},
   "outputs": [],
   "source": [
    "features_train_dt = features_train.copy()\n",
    "target_train_dt = target_train.copy()"
   ]
  },
  {
   "cell_type": "code",
   "execution_count": 22,
   "metadata": {},
   "outputs": [
    {
     "name": "stdout",
     "output_type": "stream",
     "text": [
      "Fitting 3 folds for each of 200 candidates, totalling 600 fits\n",
      "Лучшие параметры: {'min_samples_split': 2, 'min_samples_leaf': 4, 'max_depth': 7}\n",
      "F1: 0.5815491746339224\n",
      "CPU times: total: 891 ms\n",
      "Wall time: 4.98 s\n"
     ]
    }
   ],
   "source": [
    "%%time\n",
    "\n",
    "model_dt = DecisionTreeClassifier(random_state=RANDOM_STATE)\n",
    "\n",
    "\n",
    "param_dist_dt = {\n",
    "    'max_depth': range(2, 20),\n",
    "    'min_samples_split': (2, 3, 4),\n",
    "    'min_samples_leaf': (1, 2, 3, 4)\n",
    "}\n",
    "\n",
    "\n",
    "rs = RandomizedSearchCV(\n",
    "    model_dt, \n",
    "    param_dist_dt, \n",
    "    n_iter = 200, \n",
    "    cv = 3, \n",
    "    verbose = 3,\n",
    "    scoring='f1',\n",
    "    n_jobs=-1, \n",
    "    random_state=RANDOM_STATE\n",
    ")\n",
    "\n",
    "rs.fit(features_train_dt, target_train_dt)\n",
    "print('Лучшие параметры:', rs.best_params_)\n",
    "print('F1:', rs.best_score_)"
   ]
  },
  {
   "cell_type": "markdown",
   "metadata": {},
   "source": [
    "Лучшие параметры:\n",
    "* min_samples_split: `2`\n",
    "* min_samples_leaf: `4`\n",
    "* max_depth: `7`\n",
    "\n",
    "F1: `0.58`"
   ]
  },
  {
   "cell_type": "markdown",
   "metadata": {},
   "source": [
    "### Случайный лес"
   ]
  },
  {
   "cell_type": "code",
   "execution_count": 23,
   "metadata": {},
   "outputs": [],
   "source": [
    "features_train_rf = features_train.copy()\n",
    "target_train_rf = target_train.copy()"
   ]
  },
  {
   "cell_type": "code",
   "execution_count": 24,
   "metadata": {},
   "outputs": [
    {
     "name": "stdout",
     "output_type": "stream",
     "text": [
      "Fitting 3 folds for each of 500 candidates, totalling 1500 fits\n",
      "Лучшие параметры: {'n_estimators': 190, 'min_samples_split': 3, 'min_samples_leaf': 2, 'max_depth': 12}\n",
      "F1 0.5947209895710112\n"
     ]
    }
   ],
   "source": [
    "model_rf =  RandomForestClassifier(random_state=RANDOM_STATE)\n",
    "\n",
    "param_dist_rf = {\n",
    "    'n_estimators': range(10, 350, 10),\n",
    "    'max_depth': range(2, 20),\n",
    "    'min_samples_split': (2, 3, 4),\n",
    "    'min_samples_leaf': (1, 2, 3, 4)\n",
    "}\n",
    "\n",
    "rs = RandomizedSearchCV(\n",
    "    model_rf, \n",
    "    param_dist_rf, \n",
    "    n_iter = 500, \n",
    "    cv = 3, \n",
    "    verbose = 3,\n",
    "    scoring='f1',\n",
    "    n_jobs=-1, \n",
    "    random_state=RANDOM_STATE\n",
    ")\n",
    "\n",
    "rs.fit(features_train_rf, target_train_rf)\n",
    "print('Лучшие параметры:', rs.best_params_)\n",
    "print('F1', rs.best_score_)"
   ]
  },
  {
   "cell_type": "markdown",
   "metadata": {},
   "source": [
    "Лучшие параметры:\n",
    "* n_estimators: `190`\n",
    "* min_samples_split: `3` \n",
    "* min_samples_leaf: `2` \n",
    "* max_depth: `12`\n",
    "\n",
    "F1: `0.59`"
   ]
  },
  {
   "cell_type": "markdown",
   "metadata": {},
   "source": [
    "### Логическая регрессия "
   ]
  },
  {
   "cell_type": "code",
   "execution_count": 25,
   "metadata": {},
   "outputs": [],
   "source": [
    "features_train_lr = features_train.copy()\n",
    "target_train_lr = target_train.copy()"
   ]
  },
  {
   "cell_type": "code",
   "execution_count": 26,
   "metadata": {},
   "outputs": [
    {
     "name": "stdout",
     "output_type": "stream",
     "text": [
      "F1: 0.3171641791044776\n",
      "CPU times: total: 0 ns\n",
      "Wall time: 15 ms\n"
     ]
    }
   ],
   "source": [
    "%%time\n",
    "\n",
    "model = LogisticRegression(random_state=RANDOM_STATE, solver='lbfgs', max_iter=1000)\n",
    "model.fit(features_train_lr, target_train_lr)\n",
    "predicted_valid = model.predict(features_valid)\n",
    "print('F1:', f1_score(target_valid, predicted_valid))"
   ]
  },
  {
   "cell_type": "markdown",
   "metadata": {},
   "source": [
    "Применем лучшие гипепараметры и посмотрим результат"
   ]
  },
  {
   "cell_type": "code",
   "execution_count": 27,
   "metadata": {},
   "outputs": [],
   "source": [
    "def table():\n",
    "    table = pd.DataFrame(\n",
    "        {'Метрика': ['Accuracy', 'Precision', 'Recall', 'F1'],\n",
    "         'Значение': [accuracy_score(target_valid, predicted_valid),\n",
    "                      precision_score(target_valid, predicted_valid),\n",
    "                      recall_score(target_valid, predicted_valid),\n",
    "                      f1_score(target_valid, predicted_valid)],\n",
    "        } \n",
    "    )\n",
    "    display(table)"
   ]
  },
  {
   "cell_type": "code",
   "execution_count": 28,
   "metadata": {},
   "outputs": [
    {
     "name": "stdout",
     "output_type": "stream",
     "text": [
      "Решающее дерево\n"
     ]
    },
    {
     "data": {
      "text/html": [
       "<div>\n",
       "<style scoped>\n",
       "    .dataframe tbody tr th:only-of-type {\n",
       "        vertical-align: middle;\n",
       "    }\n",
       "\n",
       "    .dataframe tbody tr th {\n",
       "        vertical-align: top;\n",
       "    }\n",
       "\n",
       "    .dataframe thead th {\n",
       "        text-align: right;\n",
       "    }\n",
       "</style>\n",
       "<table border=\"1\" class=\"dataframe\">\n",
       "  <thead>\n",
       "    <tr style=\"text-align: right;\">\n",
       "      <th></th>\n",
       "      <th>Метрика</th>\n",
       "      <th>Значение</th>\n",
       "    </tr>\n",
       "  </thead>\n",
       "  <tbody>\n",
       "    <tr>\n",
       "      <th>0</th>\n",
       "      <td>Accuracy</td>\n",
       "      <td>0.850000</td>\n",
       "    </tr>\n",
       "    <tr>\n",
       "      <th>1</th>\n",
       "      <td>Precision</td>\n",
       "      <td>0.673611</td>\n",
       "    </tr>\n",
       "    <tr>\n",
       "      <th>2</th>\n",
       "      <td>Recall</td>\n",
       "      <td>0.485000</td>\n",
       "    </tr>\n",
       "    <tr>\n",
       "      <th>3</th>\n",
       "      <td>F1</td>\n",
       "      <td>0.563953</td>\n",
       "    </tr>\n",
       "  </tbody>\n",
       "</table>\n",
       "</div>"
      ],
      "text/plain": [
       "     Метрика  Значение\n",
       "0   Accuracy  0.850000\n",
       "1  Precision  0.673611\n",
       "2     Recall  0.485000\n",
       "3         F1  0.563953"
      ]
     },
     "metadata": {},
     "output_type": "display_data"
    },
    {
     "name": "stdout",
     "output_type": "stream",
     "text": [
      "CPU times: total: 31.2 ms\n",
      "Wall time: 26 ms\n"
     ]
    }
   ],
   "source": [
    "%%time\n",
    "\n",
    "model_dt = DecisionTreeClassifier(\n",
    "    random_state=RANDOM_STATE,\n",
    "    min_samples_split=2,\n",
    "    min_samples_leaf=4, \n",
    "    max_depth=7\n",
    ")\n",
    "\n",
    "model_dt.fit(features_train_dt, target_train_dt)\n",
    "predicted_valid = model_dt.predict(features_valid)\n",
    "\n",
    "print('Решающее дерево')\n",
    "table()"
   ]
  },
  {
   "cell_type": "code",
   "execution_count": 29,
   "metadata": {},
   "outputs": [
    {
     "name": "stdout",
     "output_type": "stream",
     "text": [
      "Случайный лес\n"
     ]
    },
    {
     "data": {
      "text/html": [
       "<div>\n",
       "<style scoped>\n",
       "    .dataframe tbody tr th:only-of-type {\n",
       "        vertical-align: middle;\n",
       "    }\n",
       "\n",
       "    .dataframe tbody tr th {\n",
       "        vertical-align: top;\n",
       "    }\n",
       "\n",
       "    .dataframe thead th {\n",
       "        text-align: right;\n",
       "    }\n",
       "</style>\n",
       "<table border=\"1\" class=\"dataframe\">\n",
       "  <thead>\n",
       "    <tr style=\"text-align: right;\">\n",
       "      <th></th>\n",
       "      <th>Метрика</th>\n",
       "      <th>Значение</th>\n",
       "    </tr>\n",
       "  </thead>\n",
       "  <tbody>\n",
       "    <tr>\n",
       "      <th>0</th>\n",
       "      <td>Accuracy</td>\n",
       "      <td>0.861000</td>\n",
       "    </tr>\n",
       "    <tr>\n",
       "      <th>1</th>\n",
       "      <td>Precision</td>\n",
       "      <td>0.742063</td>\n",
       "    </tr>\n",
       "    <tr>\n",
       "      <th>2</th>\n",
       "      <td>Recall</td>\n",
       "      <td>0.467500</td>\n",
       "    </tr>\n",
       "    <tr>\n",
       "      <th>3</th>\n",
       "      <td>F1</td>\n",
       "      <td>0.573620</td>\n",
       "    </tr>\n",
       "  </tbody>\n",
       "</table>\n",
       "</div>"
      ],
      "text/plain": [
       "     Метрика  Значение\n",
       "0   Accuracy  0.861000\n",
       "1  Precision  0.742063\n",
       "2     Recall  0.467500\n",
       "3         F1  0.573620"
      ]
     },
     "metadata": {},
     "output_type": "display_data"
    },
    {
     "name": "stdout",
     "output_type": "stream",
     "text": [
      "CPU times: total: 1.14 s\n",
      "Wall time: 1.16 s\n"
     ]
    }
   ],
   "source": [
    "%%time\n",
    "\n",
    "model_rf = RandomForestClassifier(\n",
    "    random_state=RANDOM_STATE,\n",
    "    n_estimators=190,\n",
    "    min_samples_split=3,\n",
    "    min_samples_leaf=2,\n",
    "    max_depth=12,\n",
    ")\n",
    "\n",
    "model_rf.fit(features_train_rf, target_train_rf)\n",
    "predicted_valid = model_rf.predict(features_valid)\n",
    "\n",
    "print('Случайный лес')\n",
    "table()"
   ]
  },
  {
   "cell_type": "code",
   "execution_count": 30,
   "metadata": {},
   "outputs": [
    {
     "name": "stdout",
     "output_type": "stream",
     "text": [
      "Логистическая регрессия\n"
     ]
    },
    {
     "data": {
      "text/html": [
       "<div>\n",
       "<style scoped>\n",
       "    .dataframe tbody tr th:only-of-type {\n",
       "        vertical-align: middle;\n",
       "    }\n",
       "\n",
       "    .dataframe tbody tr th {\n",
       "        vertical-align: top;\n",
       "    }\n",
       "\n",
       "    .dataframe thead th {\n",
       "        text-align: right;\n",
       "    }\n",
       "</style>\n",
       "<table border=\"1\" class=\"dataframe\">\n",
       "  <thead>\n",
       "    <tr style=\"text-align: right;\">\n",
       "      <th></th>\n",
       "      <th>Метрика</th>\n",
       "      <th>Значение</th>\n",
       "    </tr>\n",
       "  </thead>\n",
       "  <tbody>\n",
       "    <tr>\n",
       "      <th>0</th>\n",
       "      <td>Accuracy</td>\n",
       "      <td>0.817000</td>\n",
       "    </tr>\n",
       "    <tr>\n",
       "      <th>1</th>\n",
       "      <td>Precision</td>\n",
       "      <td>0.625000</td>\n",
       "    </tr>\n",
       "    <tr>\n",
       "      <th>2</th>\n",
       "      <td>Recall</td>\n",
       "      <td>0.212500</td>\n",
       "    </tr>\n",
       "    <tr>\n",
       "      <th>3</th>\n",
       "      <td>F1</td>\n",
       "      <td>0.317164</td>\n",
       "    </tr>\n",
       "  </tbody>\n",
       "</table>\n",
       "</div>"
      ],
      "text/plain": [
       "     Метрика  Значение\n",
       "0   Accuracy  0.817000\n",
       "1  Precision  0.625000\n",
       "2     Recall  0.212500\n",
       "3         F1  0.317164"
      ]
     },
     "metadata": {},
     "output_type": "display_data"
    },
    {
     "name": "stdout",
     "output_type": "stream",
     "text": [
      "CPU times: total: 31.2 ms\n",
      "Wall time: 21 ms\n"
     ]
    }
   ],
   "source": [
    "%%time\n",
    "\n",
    "model_lr = LogisticRegression(\n",
    "    random_state=RANDOM_STATE,\n",
    "    solver='lbfgs'\n",
    ")\n",
    "\n",
    "model_lr.fit(features_train_lr, target_train_lr)\n",
    "predicted_valid = model_lr.predict(features_valid)\n",
    "\n",
    "print('Логистическая регрессия')\n",
    "table()"
   ]
  },
  {
   "cell_type": "code",
   "execution_count": 31,
   "metadata": {},
   "outputs": [
    {
     "name": "stdout",
     "output_type": "stream",
     "text": [
      "AUC-ROC DecisionTreeClassifier: 0.8341125\n",
      "AUC-ROC RandomForestClassifier: 0.855046875\n",
      "AUC-ROC LogisticRegression: 0.7701171875\n"
     ]
    },
    {
     "data": {
      "image/png": "[encoded data removed]",
      "text/plain": [
       "<Figure size 864x648 with 1 Axes>"
      ]
     },
     "metadata": {
      "needs_background": "light"
     },
     "output_type": "display_data"
    }
   ],
   "source": [
    " "
   ]
  },
  {
   "cell_type": "markdown",
   "metadata": {},
   "source": [
    "По результатам видно, что лучшей моделью является `cлучайный лес`"
   ]
  },
  {
   "cell_type": "markdown",
   "metadata": {},
   "source": [
    "Вывод:\n",
    "\n",
    "В данных заметен дисбаланс классов классов примерно `4:1`\n",
    "\n",
    "Лучший результат без борьбы с дисбалансом у `cлучайного леса`, он обходит остальные модели по всем метрикам\n",
    "\n",
    "Худший результат у `логистической регрессии`\n",
    "\n",
    "Решающее дерево\n",
    "* Accuracy: `0.85`\n",
    "* Precision: `0.67`\n",
    "* Recall: `0.48`\n",
    "* F1: `0.56`\n",
    "* AUC-ROC DecisionTreeClassifier: `0.83`\n",
    "\n",
    "Случайный лес\n",
    "* Accuracy: `0.86`\n",
    "* Precision: `0.74`\n",
    "* Recall: `0.46`\n",
    "* F1: `0.57`\n",
    "* AUC-ROC RandomForestClassifier: `0.85`\n",
    "\n",
    "Логистическая регрессия\n",
    "* Accuracy: `0.81`\n",
    "* Precision: `0.62`\n",
    "* Recall: `0.21`\n",
    "* F1: `0.31`\n",
    "* AUC-ROC LogisticRegression: `0.77`"
   ]
  },
  {
   "cell_type": "markdown",
   "metadata": {},
   "source": [
    "## Борьба с дисбалансом"
   ]
  },
  {
   "cell_type": "markdown",
   "metadata": {},
   "source": [
    "Попробуем исправить баланс 3 спосабами \n",
    "* `Взвешивание классов`\n",
    "* `Увеличение выборки` \n",
    "* `Уменьшение выборки`\n",
    "\n",
    "И проверим изменятся ли значения метрик"
   ]
  },
  {
   "cell_type": "markdown",
   "metadata": {},
   "source": [
    "### Взвешивание классов\n",
    "\n",
    "Сделаем классы сбалансироваными указав гиперпараметр `class_weight='balanced'"
   ]
  },
  {
   "cell_type": "markdown",
   "metadata": {},
   "source": [
    "#### Дерево решений"
   ]
  },
  {
   "cell_type": "code",
   "execution_count": 32,
   "metadata": {},
   "outputs": [
    {
     "name": "stdout",
     "output_type": "stream",
     "text": [
      "Fitting 3 folds for each of 200 candidates, totalling 600 fits\n",
      "Лучшие параметры: {'min_samples_split': 3, 'min_samples_leaf': 3, 'max_depth': 7, 'class_weight': 'balanced'}\n",
      "F1: 0.5818796839005045\n",
      "CPU times: total: 578 ms\n",
      "Wall time: 1.02 s\n"
     ]
    }
   ],
   "source": [
    "%%time\n",
    "\n",
    "model_dt = DecisionTreeClassifier(random_state=RANDOM_STATE)\n",
    "\n",
    "\n",
    "param_dist_dt = {\n",
    "    'max_depth': range(2, 20),\n",
    "    'min_samples_split': (2, 3, 4),\n",
    "    'min_samples_leaf': (1, 2, 3, 4),\n",
    "    'class_weight': ['balanced']\n",
    "}\n",
    "\n",
    "\n",
    "rs = RandomizedSearchCV(\n",
    "    model_dt, \n",
    "    param_dist_dt, \n",
    "    n_iter = 200, \n",
    "    cv = 3, \n",
    "    verbose = 3,\n",
    "    scoring='f1',\n",
    "    n_jobs=-1, \n",
    "    random_state=RANDOM_STATE\n",
    ")\n",
    "\n",
    "rs.fit(features_train_dt, target_train_dt)\n",
    "print('Лучшие параметры:', rs.best_params_)\n",
    "print('F1:', rs.best_score_)"
   ]
  },
  {
   "cell_type": "markdown",
   "metadata": {},
   "source": [
    "Лучшие параметры:\n",
    "* 'min_samples_split': `3`\n",
    "* 'min_samples_leaf': `3`\n",
    "* 'max_depth': `7`\n",
    "* 'class_weight': `'balanced'`\n",
    "\n",
    "F1: `0.58`"
   ]
  },
  {
   "cell_type": "markdown",
   "metadata": {},
   "source": [
    "#### Случайный лес"
   ]
  },
  {
   "cell_type": "code",
   "execution_count": 33,
   "metadata": {},
   "outputs": [
    {
     "name": "stdout",
     "output_type": "stream",
     "text": [
      "Fitting 3 folds for each of 500 candidates, totalling 1500 fits\n",
      "Лучшие параметры: {'n_estimators': 230, 'min_samples_split': 3, 'min_samples_leaf': 3, 'max_depth': 8, 'class_weight': 'balanced'}\n",
      "F1 0.6349997427160907\n",
      "CPU times: total: 4.42 s\n",
      "Wall time: 1min 37s\n"
     ]
    }
   ],
   "source": [
    "%%time\n",
    "\n",
    "model_rf =  RandomForestClassifier(random_state=RANDOM_STATE)\n",
    "\n",
    "param_dist_rf = {\n",
    "    'n_estimators': range(10, 350, 10),\n",
    "    'max_depth': range(2, 20),\n",
    "    'min_samples_split': (2, 3, 4),\n",
    "    'min_samples_leaf': (1, 2, 3, 4),\n",
    "    'class_weight': ['balanced']\n",
    "}\n",
    "\n",
    "rs = RandomizedSearchCV(\n",
    "    model_rf, \n",
    "    param_dist_rf, \n",
    "    n_iter = 500, \n",
    "    cv = 3, \n",
    "    verbose = 3,\n",
    "    scoring='f1',\n",
    "    n_jobs=-1, \n",
    "    random_state=RANDOM_STATE,\n",
    ")\n",
    "\n",
    "rs.fit(features_train_rf, target_train_rf)\n",
    "print('Лучшие параметры:', rs.best_params_)\n",
    "print('F1', rs.best_score_)"
   ]
  },
  {
   "cell_type": "markdown",
   "metadata": {},
   "source": [
    "Лучшие параметры:\n",
    "* 'n_estimators': `230`\n",
    "* 'min_samples_split': `3`\n",
    "* 'min_samples_leaf': `3`\n",
    "* 'max_depth': `8`\n",
    "* 'class_weight': `'balanced'`\n",
    "\n",
    "F1: `0.63`"
   ]
  },
  {
   "cell_type": "markdown",
   "metadata": {},
   "source": [
    "#### Логистическая регрессия"
   ]
  },
  {
   "cell_type": "code",
   "execution_count": 34,
   "metadata": {},
   "outputs": [
    {
     "name": "stdout",
     "output_type": "stream",
     "text": [
      "F1: 0.492091388400703\n",
      "CPU times: total: 0 ns\n",
      "Wall time: 10 ms\n"
     ]
    }
   ],
   "source": [
    "%%time\n",
    "\n",
    "model =  LogisticRegression(\n",
    "    random_state=RANDOM_STATE, \n",
    "    solver='lbfgs', \n",
    "    max_iter=1000, \n",
    "    class_weight='balanced'\n",
    ")\n",
    "model.fit(features_train_lr, target_train_lr)\n",
    "predicted_valid = model.predict(features_valid)\n",
    "print('F1:', f1_score(target_valid, predicted_valid))"
   ]
  },
  {
   "cell_type": "markdown",
   "metadata": {},
   "source": [
    "Применем лучшие гипепараметры и посмотрим результат"
   ]
  },
  {
   "cell_type": "code",
   "execution_count": 35,
   "metadata": {},
   "outputs": [
    {
     "name": "stdout",
     "output_type": "stream",
     "text": [
      "Решающее дерево\n"
     ]
    },
    {
     "data": {
      "text/html": [
       "<div>\n",
       "<style scoped>\n",
       "    .dataframe tbody tr th:only-of-type {\n",
       "        vertical-align: middle;\n",
       "    }\n",
       "\n",
       "    .dataframe tbody tr th {\n",
       "        vertical-align: top;\n",
       "    }\n",
       "\n",
       "    .dataframe thead th {\n",
       "        text-align: right;\n",
       "    }\n",
       "</style>\n",
       "<table border=\"1\" class=\"dataframe\">\n",
       "  <thead>\n",
       "    <tr style=\"text-align: right;\">\n",
       "      <th></th>\n",
       "      <th>Метрика</th>\n",
       "      <th>Значение</th>\n",
       "    </tr>\n",
       "  </thead>\n",
       "  <tbody>\n",
       "    <tr>\n",
       "      <th>0</th>\n",
       "      <td>Accuracy</td>\n",
       "      <td>0.791500</td>\n",
       "    </tr>\n",
       "    <tr>\n",
       "      <th>1</th>\n",
       "      <td>Precision</td>\n",
       "      <td>0.484848</td>\n",
       "    </tr>\n",
       "    <tr>\n",
       "      <th>2</th>\n",
       "      <td>Recall</td>\n",
       "      <td>0.680000</td>\n",
       "    </tr>\n",
       "    <tr>\n",
       "      <th>3</th>\n",
       "      <td>F1</td>\n",
       "      <td>0.566077</td>\n",
       "    </tr>\n",
       "  </tbody>\n",
       "</table>\n",
       "</div>"
      ],
      "text/plain": [
       "     Метрика  Значение\n",
       "0   Accuracy  0.791500\n",
       "1  Precision  0.484848\n",
       "2     Recall  0.680000\n",
       "3         F1  0.566077"
      ]
     },
     "metadata": {},
     "output_type": "display_data"
    },
    {
     "name": "stdout",
     "output_type": "stream",
     "text": [
      "CPU times: total: 15.6 ms\n",
      "Wall time: 22 ms\n"
     ]
    }
   ],
   "source": [
    "%%time\n",
    "\n",
    "model_dt_b = DecisionTreeClassifier(\n",
    "    random_state=RANDOM_STATE,\n",
    "    min_samples_split=3,\n",
    "    min_samples_leaf=3,\n",
    "    max_depth=7,\n",
    "    class_weight='balanced'\n",
    ")\n",
    "\n",
    "model_dt_b.fit(features_train_dt, target_train_dt)\n",
    "predicted_valid = model_dt_b.predict(features_valid)\n",
    "\n",
    "print('Решающее дерево')\n",
    "table()"
   ]
  },
  {
   "cell_type": "code",
   "execution_count": 36,
   "metadata": {},
   "outputs": [
    {
     "name": "stdout",
     "output_type": "stream",
     "text": [
      "Случайный лес\n"
     ]
    },
    {
     "data": {
      "text/html": [
       "<div>\n",
       "<style scoped>\n",
       "    .dataframe tbody tr th:only-of-type {\n",
       "        vertical-align: middle;\n",
       "    }\n",
       "\n",
       "    .dataframe tbody tr th {\n",
       "        vertical-align: top;\n",
       "    }\n",
       "\n",
       "    .dataframe thead th {\n",
       "        text-align: right;\n",
       "    }\n",
       "</style>\n",
       "<table border=\"1\" class=\"dataframe\">\n",
       "  <thead>\n",
       "    <tr style=\"text-align: right;\">\n",
       "      <th></th>\n",
       "      <th>Метрика</th>\n",
       "      <th>Значение</th>\n",
       "    </tr>\n",
       "  </thead>\n",
       "  <tbody>\n",
       "    <tr>\n",
       "      <th>0</th>\n",
       "      <td>Accuracy</td>\n",
       "      <td>0.823000</td>\n",
       "    </tr>\n",
       "    <tr>\n",
       "      <th>1</th>\n",
       "      <td>Precision</td>\n",
       "      <td>0.548729</td>\n",
       "    </tr>\n",
       "    <tr>\n",
       "      <th>2</th>\n",
       "      <td>Recall</td>\n",
       "      <td>0.647500</td>\n",
       "    </tr>\n",
       "    <tr>\n",
       "      <th>3</th>\n",
       "      <td>F1</td>\n",
       "      <td>0.594037</td>\n",
       "    </tr>\n",
       "  </tbody>\n",
       "</table>\n",
       "</div>"
      ],
      "text/plain": [
       "     Метрика  Значение\n",
       "0   Accuracy  0.823000\n",
       "1  Precision  0.548729\n",
       "2     Recall  0.647500\n",
       "3         F1  0.594037"
      ]
     },
     "metadata": {},
     "output_type": "display_data"
    },
    {
     "name": "stdout",
     "output_type": "stream",
     "text": [
      "CPU times: total: 938 ms\n",
      "Wall time: 973 ms\n"
     ]
    }
   ],
   "source": [
    "%%time\n",
    "\n",
    "model_rf_b = RandomForestClassifier(\n",
    "    random_state=RANDOM_STATE,\n",
    "    n_estimators=230,\n",
    "    min_samples_split=3,\n",
    "    min_samples_leaf=3,\n",
    "    max_depth=8,\n",
    "    class_weight='balanced'\n",
    "\n",
    ")\n",
    "\n",
    "model_rf_b.fit(features_train_rf, target_train_rf)\n",
    "predicted_valid = model_rf_b.predict(features_valid)\n",
    "\n",
    "print('Случайный лес')\n",
    "table()"
   ]
  },
  {
   "cell_type": "code",
   "execution_count": 37,
   "metadata": {},
   "outputs": [
    {
     "name": "stdout",
     "output_type": "stream",
     "text": [
      "Логистическая регрессия\n"
     ]
    },
    {
     "data": {
      "text/html": [
       "<div>\n",
       "<style scoped>\n",
       "    .dataframe tbody tr th:only-of-type {\n",
       "        vertical-align: middle;\n",
       "    }\n",
       "\n",
       "    .dataframe tbody tr th {\n",
       "        vertical-align: top;\n",
       "    }\n",
       "\n",
       "    .dataframe thead th {\n",
       "        text-align: right;\n",
       "    }\n",
       "</style>\n",
       "<table border=\"1\" class=\"dataframe\">\n",
       "  <thead>\n",
       "    <tr style=\"text-align: right;\">\n",
       "      <th></th>\n",
       "      <th>Метрика</th>\n",
       "      <th>Значение</th>\n",
       "    </tr>\n",
       "  </thead>\n",
       "  <tbody>\n",
       "    <tr>\n",
       "      <th>0</th>\n",
       "      <td>Accuracy</td>\n",
       "      <td>0.711000</td>\n",
       "    </tr>\n",
       "    <tr>\n",
       "      <th>1</th>\n",
       "      <td>Precision</td>\n",
       "      <td>0.379404</td>\n",
       "    </tr>\n",
       "    <tr>\n",
       "      <th>2</th>\n",
       "      <td>Recall</td>\n",
       "      <td>0.700000</td>\n",
       "    </tr>\n",
       "    <tr>\n",
       "      <th>3</th>\n",
       "      <td>F1</td>\n",
       "      <td>0.492091</td>\n",
       "    </tr>\n",
       "  </tbody>\n",
       "</table>\n",
       "</div>"
      ],
      "text/plain": [
       "     Метрика  Значение\n",
       "0   Accuracy  0.711000\n",
       "1  Precision  0.379404\n",
       "2     Recall  0.700000\n",
       "3         F1  0.492091"
      ]
     },
     "metadata": {},
     "output_type": "display_data"
    },
    {
     "name": "stdout",
     "output_type": "stream",
     "text": [
      "CPU times: total: 31.2 ms\n",
      "Wall time: 17 ms\n"
     ]
    }
   ],
   "source": [
    "%%time\n",
    "\n",
    "model_lr_b = LogisticRegression(\n",
    "    random_state=RANDOM_STATE,\n",
    "    solver='lbfgs',\n",
    "    max_iter=1000,\n",
    "    class_weight='balanced'\n",
    ")\n",
    "\n",
    "model_lr_b.fit(features_train_lr, target_train_lr)\n",
    "predicted_valid = model_lr_b.predict(features_valid)\n",
    "\n",
    "print('Логистическая регрессия')\n",
    "table()"
   ]
  },
  {
   "cell_type": "code",
   "execution_count": 38,
   "metadata": {},
   "outputs": [
    {
     "name": "stdout",
     "output_type": "stream",
     "text": [
      "AUC-ROC DecisionTreeClassifier: 0.81896953125\n",
      "AUC-ROC RandomForestClassifier: 0.856490625\n",
      "AUC-ROC LogisticRegression: 0.7732453125\n"
     ]
    },
    {
     "data": {
      "image/png": "[encoded data removed]",
      "text/plain": [
       "<Figure size 864x648 with 1 Axes>"
      ]
     },
     "metadata": {
      "needs_background": "light"
     },
     "output_type": "display_data"
    }
   ],
   "source": [
    "plt.figure(figsize=[12,9])\n",
    "\n",
    "plt.plot([0, 1], [0, 1], linestyle='--', label='RandomModel')\n",
    "\n",
    "probabilities_valid = model_dt_b.predict_proba(features_valid)\n",
    "probabilities_one_valid = probabilities_valid[:, 1]\n",
    "fpr, tpr, thresholds = roc_curve(target_valid, probabilities_one_valid)\n",
    "auc_roc = roc_auc_score(target_valid, probabilities_one_valid)\n",
    "print('AUC-ROC DecisionTreeClassifier:',auc_roc)\n",
    "plt.plot(fpr, tpr, label='DecisionTreeClassifier')\n",
    "\n",
    "probabilities_valid = model_rf_b.predict_proba(features_valid)\n",
    "probabilities_one_valid = probabilities_valid[:, 1]\n",
    "fpr, tpr, thresholds = roc_curve(target_valid, probabilities_one_valid)\n",
    "auc_roc = roc_auc_score(target_valid, probabilities_one_valid)\n",
    "print('AUC-ROC RandomForestClassifier:',auc_roc)\n",
    "plt.plot(fpr, tpr, label='RandomForestClassifier')\n",
    "\n",
    "probabilities_valid = model_lr_b.predict_proba(features_valid)\n",
    "probabilities_one_valid = probabilities_valid[:, 1]\n",
    "fpr, tpr, thresholds = roc_curve(target_valid, probabilities_one_valid)\n",
    "auc_roc = roc_auc_score(target_valid, probabilities_one_valid)\n",
    "print('AUC-ROC LogisticRegression:',auc_roc)\n",
    "plt.plot(fpr, tpr, label='LogisticRegression')\n",
    "\n",
    "plt.xlim([0,1])\n",
    "plt.ylim([0,1])\n",
    "\n",
    "plt.xlabel(\"False Positive Rate\")\n",
    "plt.ylabel(\"True Positive Rate\")\n",
    "\n",
    "plt.legend(loc='lower right', fontsize='15')\n",
    "\n",
    "plt.title(\"ROC-кривая\")\n",
    "plt.show()"
   ]
  },
  {
   "cell_type": "markdown",
   "metadata": {},
   "source": [
    "`Взвешивание классов`\n",
    "\n",
    "Решающее дерево:\n",
    "* Accuracy\t`0.79`\n",
    "* Precision\t`0.48`\n",
    "* Recall\t`0.68`\n",
    "* F1\t`0.56`\n",
    "\n",
    "Случайный лес:\n",
    "* Accuracy\t`0.82`\n",
    "* Precision\t`0.54`\n",
    "* Recall\t`0.64`\n",
    "* F1\t`0.59`\n",
    "\n",
    "\n",
    "Логистическая регрессия:\n",
    "* Accuracy\t`0.71`\n",
    "* Precision\t`0.37`\n",
    "* Recall\t`0.70`\n",
    "* F1\t`0.49`\n"
   ]
  },
  {
   "cell_type": "markdown",
   "metadata": {},
   "source": [
    "Показатель F1 логистической регрессии заметно вырос, остальные же модели показали результат хуже"
   ]
  },
  {
   "cell_type": "markdown",
   "metadata": {},
   "source": [
    "### Увеличение выборки"
   ]
  },
  {
   "cell_type": "code",
   "execution_count": 39,
   "metadata": {},
   "outputs": [
    {
     "name": "stdout",
     "output_type": "stream",
     "text": [
      "0    0.5\n",
      "1    0.5\n",
      "Name: exited, dtype: float64\n"
     ]
    }
   ],
   "source": [
    "oversample = SMOTE(random_state=RANDOM_STATE)\n",
    "features_train_up, target_train_up = oversample.fit_resample(features_train, target_train)\n",
    "print(target_train_up.value_counts(normalize = 1))"
   ]
  },
  {
   "cell_type": "markdown",
   "metadata": {},
   "source": [
    "#### Дерево решений"
   ]
  },
  {
   "cell_type": "code",
   "execution_count": 40,
   "metadata": {},
   "outputs": [
    {
     "name": "stdout",
     "output_type": "stream",
     "text": [
      "Fitting 3 folds for each of 200 candidates, totalling 600 fits\n",
      "Лучшие параметры: {'min_samples_split': 2, 'min_samples_leaf': 1, 'max_depth': 17}\n",
      "F1: 0.8165639700814965\n",
      "CPU times: total: 672 ms\n",
      "Wall time: 1.57 s\n"
     ]
    }
   ],
   "source": [
    "%%time\n",
    "\n",
    "model_dt = DecisionTreeClassifier(random_state=RANDOM_STATE)\n",
    "\n",
    "\n",
    "param_dist_dt = {\n",
    "    'max_depth': range(2, 20),\n",
    "    'min_samples_split': (2, 3, 4),\n",
    "    'min_samples_leaf': (1, 2, 3, 4),\n",
    "}\n",
    "\n",
    "\n",
    "rs = RandomizedSearchCV(\n",
    "    model_dt, \n",
    "    param_dist_dt, \n",
    "    n_iter = 200, \n",
    "    cv = 3, \n",
    "    verbose = 3,\n",
    "    scoring='f1',\n",
    "    n_jobs=-1, \n",
    "    random_state=RANDOM_STATE\n",
    ")\n",
    "\n",
    "rs.fit(features_train_up, target_train_up)\n",
    "print('Лучшие параметры:', rs.best_params_)\n",
    "print('F1:', rs.best_score_)"
   ]
  },
  {
   "cell_type": "markdown",
   "metadata": {},
   "source": [
    "Лучшие параметры:\n",
    "* 'min_samples_split': `2`\n",
    "* 'min_samples_leaf': `1`\n",
    "* 'max_depth': `15`\n",
    "\n",
    "F1: `0.81`"
   ]
  },
  {
   "cell_type": "raw",
   "metadata": {},
   "source": [
    "%%time\n",
    "best_model_rfc = None\n",
    "best_result = 0\n",
    "best_est = 0\n",
    "best_depth = 0\n",
    "for est in tqdm(range(10, 150, 10)):\n",
    "    for depth in raтnge (1, 11):\n",
    "        model = RandomForestClassifier(random_state=RANDOM_STATE, n_estimators=est, max_depth=depth, class_weight='balanced')\n",
    "        model.fit(features_train, target_train)\n",
    "        predicted_valid = model.predict(features_valid)\n",
    "        result = f1_score(target_valid, predicted_valid)\n",
    "        if result > best_result:\n",
    "            best_model_rfc = model\n",
    "            best_result = result\n",
    "            best_est = est\n",
    "            best_depth = depth\n",
    "\n",
    "print(f'F1: {best_result}, количество деревьев: {best_est}, максимальная глубина: {best_depth}')"
   ]
  },
  {
   "cell_type": "markdown",
   "metadata": {},
   "source": [
    "#### Случайный лес"
   ]
  },
  {
   "cell_type": "code",
   "execution_count": 41,
   "metadata": {},
   "outputs": [
    {
     "name": "stdout",
     "output_type": "stream",
     "text": [
      "Fitting 3 folds for each of 500 candidates, totalling 1500 fits\n",
      "Лучшие параметры: {'n_estimators': 310, 'min_samples_split': 2, 'min_samples_leaf': 1, 'max_depth': 17}\n",
      "F1 0.900419886037572\n",
      "CPU times: total: 7.77 s\n",
      "Wall time: 2min 22s\n"
     ]
    }
   ],
   "source": [
    "%%time\n",
    "\n",
    "model_rf =  RandomForestClassifier(random_state=RANDOM_STATE)\n",
    "\n",
    "param_dist_rf = {\n",
    "    'n_estimators': range(10, 350, 10),\n",
    "    'max_depth': range(2, 20),\n",
    "    'min_samples_split': (2, 3, 4),\n",
    "    'min_samples_leaf': (1, 2, 3, 4)\n",
    "}\n",
    "\n",
    "rs = RandomizedSearchCV(\n",
    "    model_rf, \n",
    "    param_dist_rf, \n",
    "    n_iter = 500, \n",
    "    cv = 3, \n",
    "    verbose = 3,\n",
    "    scoring='f1',\n",
    "    n_jobs=-1, \n",
    "    random_state=RANDOM_STATE,\n",
    ")\n",
    "\n",
    "rs.fit(features_train_up, target_train_up)\n",
    "print('Лучшие параметры:', rs.best_params_)\n",
    "print('F1', rs.best_score_)"
   ]
  },
  {
   "cell_type": "markdown",
   "metadata": {},
   "source": [
    "Лучшие параметры:\n",
    "* 'n_estimators': `310`\n",
    "* 'min_samples_split': `2`\n",
    "* 'min_samples_leaf': `1`\n",
    "* 'max_depth': `17`\n",
    "\n",
    "F1: `0.90`"
   ]
  },
  {
   "cell_type": "markdown",
   "metadata": {},
   "source": [
    "#### Логистическая регрессия"
   ]
  },
  {
   "cell_type": "code",
   "execution_count": 42,
   "metadata": {},
   "outputs": [
    {
     "name": "stdout",
     "output_type": "stream",
     "text": [
      "F1: 0.48244824482448245\n",
      "CPU times: total: 15.6 ms\n",
      "Wall time: 18 ms\n"
     ]
    }
   ],
   "source": [
    "%%time\n",
    "\n",
    "model =  LogisticRegression(\n",
    "    random_state=RANDOM_STATE, \n",
    "    solver='lbfgs', \n",
    "    max_iter=1000, \n",
    ")\n",
    "\n",
    "model.fit(features_train_up, target_train_up)\n",
    "predicted_valid = model.predict(features_valid)\n",
    "print('F1:', f1_score(target_valid, predicted_valid))"
   ]
  },
  {
   "cell_type": "markdown",
   "metadata": {},
   "source": [
    "Применем лучшие гипепараметры и посмотрим результат"
   ]
  },
  {
   "cell_type": "code",
   "execution_count": 43,
   "metadata": {},
   "outputs": [
    {
     "name": "stdout",
     "output_type": "stream",
     "text": [
      "Решающее дерево\n"
     ]
    },
    {
     "data": {
      "text/html": [
       "<div>\n",
       "<style scoped>\n",
       "    .dataframe tbody tr th:only-of-type {\n",
       "        vertical-align: middle;\n",
       "    }\n",
       "\n",
       "    .dataframe tbody tr th {\n",
       "        vertical-align: top;\n",
       "    }\n",
       "\n",
       "    .dataframe thead th {\n",
       "        text-align: right;\n",
       "    }\n",
       "</style>\n",
       "<table border=\"1\" class=\"dataframe\">\n",
       "  <thead>\n",
       "    <tr style=\"text-align: right;\">\n",
       "      <th></th>\n",
       "      <th>Метрика</th>\n",
       "      <th>Значение</th>\n",
       "    </tr>\n",
       "  </thead>\n",
       "  <tbody>\n",
       "    <tr>\n",
       "      <th>0</th>\n",
       "      <td>Accuracy</td>\n",
       "      <td>0.795000</td>\n",
       "    </tr>\n",
       "    <tr>\n",
       "      <th>1</th>\n",
       "      <td>Precision</td>\n",
       "      <td>0.489362</td>\n",
       "    </tr>\n",
       "    <tr>\n",
       "      <th>2</th>\n",
       "      <td>Recall</td>\n",
       "      <td>0.575000</td>\n",
       "    </tr>\n",
       "    <tr>\n",
       "      <th>3</th>\n",
       "      <td>F1</td>\n",
       "      <td>0.528736</td>\n",
       "    </tr>\n",
       "  </tbody>\n",
       "</table>\n",
       "</div>"
      ],
      "text/plain": [
       "     Метрика  Значение\n",
       "0   Accuracy  0.795000\n",
       "1  Precision  0.489362\n",
       "2     Recall  0.575000\n",
       "3         F1  0.528736"
      ]
     },
     "metadata": {},
     "output_type": "display_data"
    },
    {
     "name": "stdout",
     "output_type": "stream",
     "text": [
      "CPU times: total: 62.5 ms\n",
      "Wall time: 49.2 ms\n"
     ]
    }
   ],
   "source": [
    "%%time\n",
    "\n",
    "model_dt_up = DecisionTreeClassifier(\n",
    "    random_state=RANDOM_STATE,\n",
    "    min_samples_split=2,\n",
    "    min_samples_leaf=1,\n",
    "    max_depth=15,\n",
    ")\n",
    "\n",
    "model_dt_up.fit(features_train_up, target_train_up)\n",
    "predicted_valid = model_dt_up.predict(features_valid)\n",
    "\n",
    "print('Решающее дерево')\n",
    "table()"
   ]
  },
  {
   "cell_type": "code",
   "execution_count": 44,
   "metadata": {},
   "outputs": [
    {
     "name": "stdout",
     "output_type": "stream",
     "text": [
      "Случайный лес\n"
     ]
    },
    {
     "data": {
      "text/html": [
       "<div>\n",
       "<style scoped>\n",
       "    .dataframe tbody tr th:only-of-type {\n",
       "        vertical-align: middle;\n",
       "    }\n",
       "\n",
       "    .dataframe tbody tr th {\n",
       "        vertical-align: top;\n",
       "    }\n",
       "\n",
       "    .dataframe thead th {\n",
       "        text-align: right;\n",
       "    }\n",
       "</style>\n",
       "<table border=\"1\" class=\"dataframe\">\n",
       "  <thead>\n",
       "    <tr style=\"text-align: right;\">\n",
       "      <th></th>\n",
       "      <th>Метрика</th>\n",
       "      <th>Значение</th>\n",
       "    </tr>\n",
       "  </thead>\n",
       "  <tbody>\n",
       "    <tr>\n",
       "      <th>0</th>\n",
       "      <td>Accuracy</td>\n",
       "      <td>0.851000</td>\n",
       "    </tr>\n",
       "    <tr>\n",
       "      <th>1</th>\n",
       "      <td>Precision</td>\n",
       "      <td>0.638587</td>\n",
       "    </tr>\n",
       "    <tr>\n",
       "      <th>2</th>\n",
       "      <td>Recall</td>\n",
       "      <td>0.587500</td>\n",
       "    </tr>\n",
       "    <tr>\n",
       "      <th>3</th>\n",
       "      <td>F1</td>\n",
       "      <td>0.611979</td>\n",
       "    </tr>\n",
       "  </tbody>\n",
       "</table>\n",
       "</div>"
      ],
      "text/plain": [
       "     Метрика  Значение\n",
       "0   Accuracy  0.851000\n",
       "1  Precision  0.638587\n",
       "2     Recall  0.587500\n",
       "3         F1  0.611979"
      ]
     },
     "metadata": {},
     "output_type": "display_data"
    },
    {
     "name": "stdout",
     "output_type": "stream",
     "text": [
      "CPU times: total: 3.09 s\n",
      "Wall time: 3.1 s\n"
     ]
    }
   ],
   "source": [
    "%%time\n",
    "\n",
    "model_rf_up = RandomForestClassifier(\n",
    "    random_state=RANDOM_STATE,\n",
    "    n_estimators=310,\n",
    "    min_samples_split=2,\n",
    "    min_samples_leaf=1,\n",
    "    max_depth=17,\n",
    "\n",
    ")\n",
    "\n",
    "model_rf_up.fit(features_train_up, target_train_up)\n",
    "predicted_valid = model_rf_up.predict(features_valid)\n",
    "\n",
    "print('Случайный лес')\n",
    "table()"
   ]
  },
  {
   "cell_type": "code",
   "execution_count": 45,
   "metadata": {},
   "outputs": [
    {
     "name": "stdout",
     "output_type": "stream",
     "text": [
      "Логистическая регрессия\n"
     ]
    },
    {
     "data": {
      "text/html": [
       "<div>\n",
       "<style scoped>\n",
       "    .dataframe tbody tr th:only-of-type {\n",
       "        vertical-align: middle;\n",
       "    }\n",
       "\n",
       "    .dataframe tbody tr th {\n",
       "        vertical-align: top;\n",
       "    }\n",
       "\n",
       "    .dataframe thead th {\n",
       "        text-align: right;\n",
       "    }\n",
       "</style>\n",
       "<table border=\"1\" class=\"dataframe\">\n",
       "  <thead>\n",
       "    <tr style=\"text-align: right;\">\n",
       "      <th></th>\n",
       "      <th>Метрика</th>\n",
       "      <th>Значение</th>\n",
       "    </tr>\n",
       "  </thead>\n",
       "  <tbody>\n",
       "    <tr>\n",
       "      <th>0</th>\n",
       "      <td>Accuracy</td>\n",
       "      <td>0.712500</td>\n",
       "    </tr>\n",
       "    <tr>\n",
       "      <th>1</th>\n",
       "      <td>Precision</td>\n",
       "      <td>0.376934</td>\n",
       "    </tr>\n",
       "    <tr>\n",
       "      <th>2</th>\n",
       "      <td>Recall</td>\n",
       "      <td>0.670000</td>\n",
       "    </tr>\n",
       "    <tr>\n",
       "      <th>3</th>\n",
       "      <td>F1</td>\n",
       "      <td>0.482448</td>\n",
       "    </tr>\n",
       "  </tbody>\n",
       "</table>\n",
       "</div>"
      ],
      "text/plain": [
       "     Метрика  Значение\n",
       "0   Accuracy  0.712500\n",
       "1  Precision  0.376934\n",
       "2     Recall  0.670000\n",
       "3         F1  0.482448"
      ]
     },
     "metadata": {},
     "output_type": "display_data"
    },
    {
     "name": "stdout",
     "output_type": "stream",
     "text": [
      "CPU times: total: 31.2 ms\n",
      "Wall time: 19 ms\n"
     ]
    }
   ],
   "source": [
    "%%time\n",
    "\n",
    "model_lr_up = LogisticRegression(\n",
    "    random_state=RANDOM_STATE,\n",
    "    solver='lbfgs',\n",
    "    max_iter=1000,\n",
    ")\n",
    "\n",
    "model_lr_up.fit(features_train_up, target_train_up)\n",
    "predicted_valid = model_lr_up.predict(features_valid)\n",
    "\n",
    "print('Логистическая регрессия')\n",
    "table()"
   ]
  },
  {
   "cell_type": "code",
   "execution_count": 46,
   "metadata": {},
   "outputs": [
    {
     "name": "stdout",
     "output_type": "stream",
     "text": [
      "AUC-ROC DecisionTreeClassifier: 0.7236734375\n",
      "AUC-ROC RandomForestClassifier: 0.8535312499999999\n",
      "AUC-ROC LogisticRegression: 0.7627453125\n"
     ]
    },
    {
     "data": {
      "image/png": "[encoded data removed]",
      "text/plain": [
       "<Figure size 864x648 with 1 Axes>"
      ]
     },
     "metadata": {
      "needs_background": "light"
     },
     "output_type": "display_data"
    }
   ],
   "source": [
    "plt.figure(figsize=[12,9])\n",
    "\n",
    "plt.plot([0, 1], [0, 1], linestyle='--', label='RandomModel')\n",
    "\n",
    "probabilities_valid = model_dt_up.predict_proba(features_valid)\n",
    "probabilities_one_valid = probabilities_valid[:, 1]\n",
    "fpr, tpr, thresholds = roc_curve(target_valid, probabilities_one_valid)\n",
    "auc_roc = roc_auc_score(target_valid, probabilities_one_valid)\n",
    "print('AUC-ROC DecisionTreeClassifier:',auc_roc)\n",
    "plt.plot(fpr, tpr, label='DecisionTreeClassifier')\n",
    "\n",
    "probabilities_valid = model_rf_up.predict_proba(features_valid)\n",
    "probabilities_one_valid = probabilities_valid[:, 1]\n",
    "fpr, tpr, thresholds = roc_curve(target_valid, probabilities_one_valid)\n",
    "auc_roc = roc_auc_score(target_valid, probabilities_one_valid)\n",
    "print('AUC-ROC RandomForestClassifier:',auc_roc)\n",
    "plt.plot(fpr, tpr, label='RandomForestClassifier')\n",
    "\n",
    "probabilities_valid = model_lr_up.predict_proba(features_valid)\n",
    "probabilities_one_valid = probabilities_valid[:, 1]\n",
    "fpr, tpr, thresholds = roc_curve(target_valid, probabilities_one_valid)\n",
    "auc_roc = roc_auc_score(target_valid, probabilities_one_valid)\n",
    "print('AUC-ROC LogisticRegression:',auc_roc)\n",
    "plt.plot(fpr, tpr, label='LogisticRegression')\n",
    "\n",
    "plt.xlim([0,1])\n",
    "plt.ylim([0,1])\n",
    "\n",
    "plt.xlabel(\"False Positive Rate\")\n",
    "plt.ylabel(\"True Positive Rate\")\n",
    "\n",
    "plt.legend(loc='lower right', fontsize='15')\n",
    "\n",
    "plt.title(\"ROC-кривая\")\n",
    "plt.show()"
   ]
  },
  {
   "cell_type": "markdown",
   "metadata": {},
   "source": [
    "`Увеличение выборки`\n",
    "\n",
    "Решающее дерево\n",
    "\n",
    "*\tAccuracy\t`0.79`\n",
    "*\tPrecision\t`0.48`\n",
    "*\tRecall\t`0.59`\n",
    "*\tF1\t`0.52`\n",
    "* AUC-ROC DecisionTreeClassifier: `0.73`\n",
    "\n",
    "Случайный лес\n",
    "\n",
    "*\tAccuracy\t`0.85`\n",
    "*\tPrecision\t`0.63`\n",
    "*\tRecall\t`0.58`\n",
    "*\tF1\t`0.61`\n",
    "* AUC-ROC RandomForestClassifier: `0.85`\n",
    "\n",
    "Логистическая регрессия\n",
    "\n",
    "*\tAccuracy\t`0.71`\n",
    "*\tPrecision\t`0.37`\n",
    "*\tRecall\t`0.67`\n",
    "*\tF1\t`0.48`\n",
    "* AUC-ROC LogisticRegression: `0.76`"
   ]
  },
  {
   "cell_type": "markdown",
   "metadata": {},
   "source": [
    "F1 мера выросла у случайного леса и логистической регресии, а у Решающего дерева упала."
   ]
  },
  {
   "cell_type": "markdown",
   "metadata": {},
   "source": [
    "### Уменьшение выборки"
   ]
  },
  {
   "cell_type": "code",
   "execution_count": 47,
   "metadata": {},
   "outputs": [
    {
     "name": "stdout",
     "output_type": "stream",
     "text": [
      "0    0.5\n",
      "1    0.5\n",
      "Name: exited, dtype: float64\n"
     ]
    }
   ],
   "source": [
    "undersample = RandomUnderSampler(random_state=RANDOM_STATE)\n",
    "features_train_down, target_train_down = undersample.fit_resample(features_train, target_train)\n",
    "print(target_train_down.value_counts(normalize = 1))"
   ]
  },
  {
   "cell_type": "code",
   "execution_count": 48,
   "metadata": {},
   "outputs": [
    {
     "name": "stdout",
     "output_type": "stream",
     "text": [
      "Fitting 3 folds for each of 200 candidates, totalling 600 fits\n",
      "Лучшие параметры: {'min_samples_split': 4, 'min_samples_leaf': 2, 'max_depth': 6}\n",
      "F1: 0.7657067192550517\n",
      "CPU times: total: 500 ms\n",
      "Wall time: 637 ms\n"
     ]
    }
   ],
   "source": [
    "%%time\n",
    "\n",
    "model_dt = DecisionTreeClassifier(random_state=RANDOM_STATE)\n",
    "\n",
    "\n",
    "param_dist_dt = {\n",
    "    'max_depth': range(2, 20),\n",
    "    'min_samples_split': (2, 3, 4),\n",
    "    'min_samples_leaf': (1, 2, 3, 4),\n",
    "}\n",
    "\n",
    "\n",
    "rs = RandomizedSearchCV(\n",
    "    model_dt, \n",
    "    param_dist_dt, \n",
    "    n_iter = 200, \n",
    "    cv = 3, \n",
    "    verbose = 3,\n",
    "    scoring='f1',\n",
    "    n_jobs=-1, \n",
    "    random_state=RANDOM_STATE\n",
    ")\n",
    "\n",
    "rs.fit(features_train_down, target_train_down)\n",
    "print('Лучшие параметры:', rs.best_params_)\n",
    "print('F1:', rs.best_score_)"
   ]
  },
  {
   "cell_type": "markdown",
   "metadata": {},
   "source": [
    "Лучшие параметры:\n",
    "* 'min_samples_split': `4`\n",
    "* 'min_samples_leaf': `2`\n",
    "* 'max_depth': `6`\n",
    "\n",
    "F1: `0.76`"
   ]
  },
  {
   "cell_type": "markdown",
   "metadata": {},
   "source": [
    "#### Случайный лес"
   ]
  },
  {
   "cell_type": "code",
   "execution_count": 49,
   "metadata": {},
   "outputs": [
    {
     "name": "stdout",
     "output_type": "stream",
     "text": [
      "Fitting 3 folds for each of 500 candidates, totalling 1500 fits\n",
      "Лучшие параметры: {'n_estimators': 40, 'min_samples_split': 2, 'min_samples_leaf': 3, 'max_depth': 18}\n",
      "F1 0.780053857291709\n",
      "CPU times: total: 3.17 s\n",
      "Wall time: 53.4 s\n"
     ]
    }
   ],
   "source": [
    "%%time\n",
    "\n",
    "model_rf =  RandomForestClassifier(random_state=RANDOM_STATE)\n",
    "\n",
    "param_dist_rf = {\n",
    "    'n_estimators': range(10, 350, 10),\n",
    "    'max_depth': range(2, 20),\n",
    "    'min_samples_split': (2, 3, 4),\n",
    "    'min_samples_leaf': (1, 2, 3, 4)\n",
    "}\n",
    "\n",
    "rs = RandomizedSearchCV(\n",
    "    model_rf, \n",
    "    param_dist_rf, \n",
    "    n_iter = 500, \n",
    "    cv = 3, \n",
    "    verbose = 3,\n",
    "    scoring='f1',\n",
    "    n_jobs=-1, \n",
    "    random_state=RANDOM_STATE,\n",
    ")\n",
    "\n",
    "rs.fit(features_train_down, target_train_down)\n",
    "print('Лучшие параметры:', rs.best_params_)\n",
    "print('F1', rs.best_score_)"
   ]
  },
  {
   "cell_type": "markdown",
   "metadata": {},
   "source": [
    "Лучшие параметры:\n",
    "* 'n_estimators': `40`\n",
    "* 'min_samples_split': `2`\n",
    "* 'min_samples_leaf': `3`\n",
    "* 'max_depth': `18`\n",
    "\n",
    "F1: `0.78`"
   ]
  },
  {
   "cell_type": "markdown",
   "metadata": {},
   "source": [
    "#### Логистическая регрессия"
   ]
  },
  {
   "cell_type": "code",
   "execution_count": 50,
   "metadata": {},
   "outputs": [
    {
     "name": "stdout",
     "output_type": "stream",
     "text": [
      "F1: 0.4866785079928952\n",
      "CPU times: total: 15.6 ms\n",
      "Wall time: 10 ms\n"
     ]
    }
   ],
   "source": [
    "%%time\n",
    "\n",
    "model =  LogisticRegression(\n",
    "    random_state=RANDOM_STATE, \n",
    "    solver='lbfgs', \n",
    "    max_iter=1000, \n",
    ")\n",
    "\n",
    "model.fit(features_train_down, target_train_down)\n",
    "predicted_valid = model.predict(features_valid)\n",
    "print('F1:', f1_score(target_valid, predicted_valid))"
   ]
  },
  {
   "cell_type": "markdown",
   "metadata": {},
   "source": [
    "Применем лучшие гипепараметры и посмотрим результат"
   ]
  },
  {
   "cell_type": "code",
   "execution_count": 51,
   "metadata": {},
   "outputs": [
    {
     "name": "stdout",
     "output_type": "stream",
     "text": [
      "Решающее дерево\n"
     ]
    },
    {
     "data": {
      "text/html": [
       "<div>\n",
       "<style scoped>\n",
       "    .dataframe tbody tr th:only-of-type {\n",
       "        vertical-align: middle;\n",
       "    }\n",
       "\n",
       "    .dataframe tbody tr th {\n",
       "        vertical-align: top;\n",
       "    }\n",
       "\n",
       "    .dataframe thead th {\n",
       "        text-align: right;\n",
       "    }\n",
       "</style>\n",
       "<table border=\"1\" class=\"dataframe\">\n",
       "  <thead>\n",
       "    <tr style=\"text-align: right;\">\n",
       "      <th></th>\n",
       "      <th>Метрика</th>\n",
       "      <th>Значение</th>\n",
       "    </tr>\n",
       "  </thead>\n",
       "  <tbody>\n",
       "    <tr>\n",
       "      <th>0</th>\n",
       "      <td>Accuracy</td>\n",
       "      <td>0.76150</td>\n",
       "    </tr>\n",
       "    <tr>\n",
       "      <th>1</th>\n",
       "      <td>Precision</td>\n",
       "      <td>0.43937</td>\n",
       "    </tr>\n",
       "    <tr>\n",
       "      <th>2</th>\n",
       "      <td>Recall</td>\n",
       "      <td>0.69750</td>\n",
       "    </tr>\n",
       "    <tr>\n",
       "      <th>3</th>\n",
       "      <td>F1</td>\n",
       "      <td>0.53913</td>\n",
       "    </tr>\n",
       "  </tbody>\n",
       "</table>\n",
       "</div>"
      ],
      "text/plain": [
       "     Метрика  Значение\n",
       "0   Accuracy   0.76150\n",
       "1  Precision   0.43937\n",
       "2     Recall   0.69750\n",
       "3         F1   0.53913"
      ]
     },
     "metadata": {},
     "output_type": "display_data"
    },
    {
     "name": "stdout",
     "output_type": "stream",
     "text": [
      "CPU times: total: 15.6 ms\n",
      "Wall time: 13 ms\n"
     ]
    }
   ],
   "source": [
    "%%time\n",
    "\n",
    "model_dt_down = DecisionTreeClassifier(\n",
    "    random_state=RANDOM_STATE,\n",
    "    min_samples_split=4,\n",
    "    min_samples_leaf=2,\n",
    "    max_depth=6,\n",
    ")\n",
    "\n",
    "model_dt_down.fit(features_train_down, target_train_down)\n",
    "predicted_valid = model_dt_down.predict(features_valid)\n",
    "\n",
    "print('Решающее дерево')\n",
    "table()"
   ]
  },
  {
   "cell_type": "code",
   "execution_count": 52,
   "metadata": {},
   "outputs": [
    {
     "name": "stdout",
     "output_type": "stream",
     "text": [
      "Случайный лес\n"
     ]
    },
    {
     "data": {
      "text/html": [
       "<div>\n",
       "<style scoped>\n",
       "    .dataframe tbody tr th:only-of-type {\n",
       "        vertical-align: middle;\n",
       "    }\n",
       "\n",
       "    .dataframe tbody tr th {\n",
       "        vertical-align: top;\n",
       "    }\n",
       "\n",
       "    .dataframe thead th {\n",
       "        text-align: right;\n",
       "    }\n",
       "</style>\n",
       "<table border=\"1\" class=\"dataframe\">\n",
       "  <thead>\n",
       "    <tr style=\"text-align: right;\">\n",
       "      <th></th>\n",
       "      <th>Метрика</th>\n",
       "      <th>Значение</th>\n",
       "    </tr>\n",
       "  </thead>\n",
       "  <tbody>\n",
       "    <tr>\n",
       "      <th>0</th>\n",
       "      <td>Accuracy</td>\n",
       "      <td>0.788500</td>\n",
       "    </tr>\n",
       "    <tr>\n",
       "      <th>1</th>\n",
       "      <td>Precision</td>\n",
       "      <td>0.480737</td>\n",
       "    </tr>\n",
       "    <tr>\n",
       "      <th>2</th>\n",
       "      <td>Recall</td>\n",
       "      <td>0.717500</td>\n",
       "    </tr>\n",
       "    <tr>\n",
       "      <th>3</th>\n",
       "      <td>F1</td>\n",
       "      <td>0.575727</td>\n",
       "    </tr>\n",
       "  </tbody>\n",
       "</table>\n",
       "</div>"
      ],
      "text/plain": [
       "     Метрика  Значение\n",
       "0   Accuracy  0.788500\n",
       "1  Precision  0.480737\n",
       "2     Recall  0.717500\n",
       "3         F1  0.575727"
      ]
     },
     "metadata": {},
     "output_type": "display_data"
    },
    {
     "name": "stdout",
     "output_type": "stream",
     "text": [
      "CPU times: total: 125 ms\n",
      "Wall time: 135 ms\n"
     ]
    }
   ],
   "source": [
    "%%time\n",
    "\n",
    "model_rf_down = RandomForestClassifier(\n",
    "    random_state=RANDOM_STATE,\n",
    "    n_estimators=40,\n",
    "    min_samples_split=3,\n",
    "    min_samples_leaf=2,\n",
    "    max_depth=18,\n",
    "\n",
    ")\n",
    "\n",
    "model_rf_down.fit(features_train_down, target_train_down)\n",
    "predicted_valid = model_rf_down.predict(features_valid)\n",
    "\n",
    "print('Случайный лес')\n",
    "table()"
   ]
  },
  {
   "cell_type": "code",
   "execution_count": 53,
   "metadata": {},
   "outputs": [
    {
     "name": "stdout",
     "output_type": "stream",
     "text": [
      "Логистическая регрессия\n"
     ]
    },
    {
     "data": {
      "text/html": [
       "<div>\n",
       "<style scoped>\n",
       "    .dataframe tbody tr th:only-of-type {\n",
       "        vertical-align: middle;\n",
       "    }\n",
       "\n",
       "    .dataframe tbody tr th {\n",
       "        vertical-align: top;\n",
       "    }\n",
       "\n",
       "    .dataframe thead th {\n",
       "        text-align: right;\n",
       "    }\n",
       "</style>\n",
       "<table border=\"1\" class=\"dataframe\">\n",
       "  <thead>\n",
       "    <tr style=\"text-align: right;\">\n",
       "      <th></th>\n",
       "      <th>Метрика</th>\n",
       "      <th>Значение</th>\n",
       "    </tr>\n",
       "  </thead>\n",
       "  <tbody>\n",
       "    <tr>\n",
       "      <th>0</th>\n",
       "      <td>Accuracy</td>\n",
       "      <td>0.711000</td>\n",
       "    </tr>\n",
       "    <tr>\n",
       "      <th>1</th>\n",
       "      <td>Precision</td>\n",
       "      <td>0.377410</td>\n",
       "    </tr>\n",
       "    <tr>\n",
       "      <th>2</th>\n",
       "      <td>Recall</td>\n",
       "      <td>0.685000</td>\n",
       "    </tr>\n",
       "    <tr>\n",
       "      <th>3</th>\n",
       "      <td>F1</td>\n",
       "      <td>0.486679</td>\n",
       "    </tr>\n",
       "  </tbody>\n",
       "</table>\n",
       "</div>"
      ],
      "text/plain": [
       "     Метрика  Значение\n",
       "0   Accuracy  0.711000\n",
       "1  Precision  0.377410\n",
       "2     Recall  0.685000\n",
       "3         F1  0.486679"
      ]
     },
     "metadata": {},
     "output_type": "display_data"
    },
    {
     "name": "stdout",
     "output_type": "stream",
     "text": [
      "CPU times: total: 15.6 ms\n",
      "Wall time: 16 ms\n"
     ]
    }
   ],
   "source": [
    "%%time\n",
    "\n",
    "model_lr_down = LogisticRegression(\n",
    "    random_state=RANDOM_STATE,\n",
    "    solver='lbfgs',\n",
    "    max_iter=1000,\n",
    ")\n",
    "\n",
    "model_lr_down.fit(features_train_down, target_train_down)\n",
    "predicted_valid = model_lr_down.predict(features_valid)\n",
    "\n",
    "print('Логистическая регрессия')\n",
    "table()"
   ]
  },
  {
   "cell_type": "code",
   "execution_count": 54,
   "metadata": {},
   "outputs": [
    {
     "name": "stdout",
     "output_type": "stream",
     "text": [
      "AUC-ROC DecisionTreeClassifier: 0.81339453125\n",
      "AUC-ROC RandomForestClassifier: 0.8512265625000001\n",
      "AUC-ROC LogisticRegression: 0.7724484375\n"
     ]
    },
    {
     "data": {
      "image/png": "[encoded data removed]",
      "text/plain": [
       "<Figure size 864x648 with 1 Axes>"
      ]
     },
     "metadata": {
      "needs_background": "light"
     },
     "output_type": "display_data"
    }
   ],
   "source": [
    "plt.figure(figsize=[12,9])\n",
    "\n",
    "plt.plot([0, 1], [0, 1], linestyle='--', label='RandomModel')\n",
    "\n",
    "probabilities_valid = model_dt_down.predict_proba(features_valid)\n",
    "probabilities_one_valid = probabilities_valid[:, 1]\n",
    "fpr, tpr, thresholds = roc_curve(target_valid, probabilities_one_valid)\n",
    "auc_roc = roc_auc_score(target_valid, probabilities_one_valid)\n",
    "print('AUC-ROC DecisionTreeClassifier:',auc_roc)\n",
    "plt.plot(fpr, tpr, label='DecisionTreeClassifier')\n",
    "\n",
    "probabilities_valid = model_rf_down.predict_proba(features_valid)\n",
    "probabilities_one_valid = probabilities_valid[:, 1]\n",
    "fpr, tpr, thresholds = roc_curve(target_valid, probabilities_one_valid)\n",
    "auc_roc = roc_auc_score(target_valid, probabilities_one_valid)\n",
    "print('AUC-ROC RandomForestClassifier:',auc_roc)\n",
    "plt.plot(fpr, tpr, label='RandomForestClassifier')\n",
    "\n",
    "probabilities_valid = model_lr_down.predict_proba(features_valid)\n",
    "probabilities_one_valid = probabilities_valid[:, 1]\n",
    "fpr, tpr, thresholds = roc_curve(target_valid, probabilities_one_valid)\n",
    "auc_roc = roc_auc_score(target_valid, probabilities_one_valid)\n",
    "print('AUC-ROC LogisticRegression:',auc_roc)\n",
    "plt.plot(fpr, tpr, label='LogisticRegression')\n",
    "\n",
    "plt.xlim([0,1])\n",
    "plt.ylim([0,1])\n",
    "\n",
    "plt.xlabel(\"False Positive Rate\")\n",
    "plt.ylabel(\"True Positive Rate\")\n",
    "\n",
    "plt.legend(loc='lower right', fontsize='15')\n",
    "\n",
    "plt.title(\"ROC-кривая\")\n",
    "plt.show()"
   ]
  },
  {
   "cell_type": "markdown",
   "metadata": {},
   "source": [
    "`Уменьшение выборки`\n",
    "\n",
    "Решающее дерево\n",
    "\n",
    "*\tAccuracy\t`0.76`\n",
    "*\tPrecision\t`0.43`\n",
    "*\tRecall\t`0.69`\n",
    "*\tF1\t`0.53`\n",
    "* AUC-ROC DecisionTreeClassifier: `0.81`\n",
    "\n",
    "Случайный лес\n",
    "\n",
    "*\tAccuracy\t`0.78`\n",
    "*\tPrecision\t`0.48`\n",
    "*\tRecall\t`0.71`\n",
    "*\tF1\t`0.57`\n",
    "* AUC-ROC RandomForestClassifier: `0.85`\n",
    "\n",
    "Логистическая регрессия\n",
    "\n",
    "*\tAccuracy\t`0.71`\n",
    "*\tPrecision\t`0.37`\n",
    "*\tRecall\t`0.68`\n",
    "*\tF1\t`0.48`\n",
    "* AUC-ROC LogisticRegression: `0.77`"
   ]
  },
  {
   "cell_type": "markdown",
   "metadata": {},
   "source": [
    "Показатель F1 логистической регрессии заметно вырос, остальные же модели показали результат хуже"
   ]
  },
  {
   "cell_type": "markdown",
   "metadata": {},
   "source": [
    "Вывод:\n",
    "\n",
    "Заметно получилось увеличить показатели метрик у `логической регрессии` во всех способах борьбы с дисбалансом, а лучший результат получился у `случайного леса` с `увеличением выборки`. \n",
    "\n",
    "Но для тестовой модели выберем `случайный лес` со `взвешиванием классов`, т.к. этот способ показал отличную скорость `31.2 ms` против `2.84 s` у спопосба с увеличением выборки"
   ]
  },
  {
   "cell_type": "markdown",
   "metadata": {},
   "source": [
    "## Тестирование модели"
   ]
  },
  {
   "cell_type": "markdown",
   "metadata": {},
   "source": [
    "Объеденим тренировочную и валидационную выборки перед тестированием модели"
   ]
  },
  {
   "cell_type": "code",
   "execution_count": 55,
   "metadata": {},
   "outputs": [
    {
     "name": "stdout",
     "output_type": "stream",
     "text": [
      "(8000, 11)\n",
      "(8000,)\n"
     ]
    }
   ],
   "source": [
    "features_full = pd.concat([features_train, features_valid], axis=0, ignore_index=True)\n",
    "target_full = pd.concat([target_train, target_valid], axis=0, ignore_index=True)\n",
    "\n",
    "print(features_full.shape)\n",
    "print(target_full.shape)"
   ]
  },
  {
   "cell_type": "code",
   "execution_count": 56,
   "metadata": {},
   "outputs": [
    {
     "name": "stdout",
     "output_type": "stream",
     "text": [
      "Accuracy: 0.822\n",
      "Precision: 0.5487077534791253\n",
      "Recall: 0.6814814814814815\n",
      "F1: 0.6079295154185022\n"
     ]
    }
   ],
   "source": [
    "model_rf_b.fit(features_full, target_full)\n",
    "predicted_test = model_rf_b.predict(features_test)\n",
    "print('Accuracy:', accuracy_score(target_test, predicted_test))\n",
    "print('Precision:', precision_score(target_test, predicted_test))\n",
    "print('Recall:', recall_score(target_test, predicted_test))\n",
    "print('F1:', f1_score(target_test, predicted_test))\n"
   ]
  },
  {
   "cell_type": "code",
   "execution_count": 57,
   "metadata": {},
   "outputs": [
    {
     "data": {
      "image/png": "[encoded data removed]",
      "text/plain": [
       "<Figure size 432x288 with 2 Axes>"
      ]
     },
     "metadata": {
      "needs_background": "light"
     },
     "output_type": "display_data"
    }
   ],
   "source": [
    "cm = confusion_matrix(target_test, predicted_test)\n",
    "\n",
    "disp = ConfusionMatrixDisplay(\n",
    "    confusion_matrix=cm,\n",
    "    display_labels=model_rf_b.classes_\n",
    ")\n",
    "disp.plot()\n",
    "\n",
    "plt.show()"
   ]
  },
  {
   "cell_type": "code",
   "execution_count": 58,
   "metadata": {},
   "outputs": [
    {
     "name": "stdout",
     "output_type": "stream",
     "text": [
      "AUC-ROC: 0.8538875343473042\n"
     ]
    },
    {
     "data": {
      "image/png": "[encoded data removed]",
      "text/plain": [
       "<Figure size 864x648 with 1 Axes>"
      ]
     },
     "metadata": {
      "needs_background": "light"
     },
     "output_type": "display_data"
    }
   ],
   "source": [
    "plt.figure(figsize=[12,9])\n",
    "\n",
    "plt.plot([0, 1], [0, 1], linestyle='--', label='RandomModel')\n",
    "\n",
    "probabilities_test = model_rf_b.predict_proba(features_test)\n",
    "probabilities_one_test = probabilities_test[:, 1]\n",
    "fpr, tpr, thresholds = roc_curve(target_test, probabilities_one_test)\n",
    "auc_roc = roc_auc_score(target_test, probabilities_one_test)\n",
    "print('AUC-ROC:',auc_roc)\n",
    "plt.plot(fpr, tpr, label='RandomForestClassifier')\n",
    "\n",
    "plt.xlim([0,1])\n",
    "plt.ylim([0,1])\n",
    "\n",
    "plt.xlabel(\"False Positive Rate\")\n",
    "plt.ylabel(\"True Positive Rate\")\n",
    "\n",
    "plt.legend(loc='lower right', fontsize='15')\n",
    "\n",
    "plt.title(\"ROC-кривая\")\n",
    "plt.show()"
   ]
  },
  {
   "cell_type": "markdown",
   "metadata": {},
   "source": [
    "Итоговый вывод:\n",
    "\n",
    "При работе с проектом данные подготовили к обучению, разбили их на `тренировочную`, `валидационную` и `тестовую` выборку в пропорции `3:1:1`, провели иследование с 3 моделями (`решающее дерево`, `случайный лес` и `логическая регрессия`), лучший резултат показала модель `случайный лес`. В данных был дисбаланс в пропорции `4:1`, который был решен 3 способами (`взвешивание классов`, `увеличение выборки`, `уменьшение выборки`), лучший результат показал способ с `взвешиванием классов`. Далее протестировали модель на тестовой выборке и получили результаты метрик:\n",
    "\n",
    "* `Accuracy`: 0.82\n",
    "* `Precision`: 0.54\n",
    "* `Recall`: 0.68\n",
    "* `F1`: 0.60\n",
    "* `AUC-ROC`: 0.85\n",
    "\n",
    "`Recall` показывает, что в 68% положительных случаев модель правильно их классифицирует"
   ]
  },
  {
   "cell_type": "markdown",
   "metadata": {},
   "source": [
    "## Чек-лист готовности проекта"
   ]
  },
  {
   "cell_type": "markdown",
   "metadata": {},
   "source": [
    "Поставьте 'x' в выполненных пунктах. Далее нажмите Shift+Enter."
   ]
  },
  {
   "cell_type": "markdown",
   "metadata": {},
   "source": [
    "- [x]  Jupyter Notebook открыт\n",
    "- [x]  Весь код выполняется без ошибок\n",
    "- [x]  Ячейки с кодом расположены в порядке исполнения\n",
    "- [x]  Выполнен шаг 1: данные подготовлены\n",
    "- [x]  Выполнен шаг 2: задача исследована\n",
    "    - [x]  Исследован баланс классов\n",
    "    - [x]  Изучены модели без учёта дисбаланса\n",
    "    - [x]  Написаны выводы по результатам исследования\n",
    "- [x]  Выполнен шаг 3: учтён дисбаланс\n",
    "    - [x]  Применено несколько способов борьбы с дисбалансом\n",
    "    - [x]  Написаны выводы по результатам исследования\n",
    "- [x]  Выполнен шаг 4: проведено тестирование\n",
    "- [x]  Удалось достичь *F1*-меры не менее 0.59\n",
    "- [x]  Исследована метрика *AUC-ROC*"
   ]
  },
  {
   "cell_type": "code",
   "execution_count": null,
   "metadata": {},
   "outputs": [],
   "source": []
  }
 ],
 "metadata": {
  "ExecuteTimeLog": [
   {
    "duration": 53,
    "start_time": "2023-01-10T15:22:21.799Z"
   },
   {
    "duration": 387,
    "start_time": "2023-01-10T15:22:25.006Z"
   },
   {
    "duration": 108,
    "start_time": "2023-01-10T15:22:25.702Z"
   },
   {
    "duration": 18,
    "start_time": "2023-01-10T15:22:38.490Z"
   },
   {
    "duration": 32,
    "start_time": "2023-01-10T15:25:24.879Z"
   },
   {
    "duration": 11,
    "start_time": "2023-01-10T15:28:26.164Z"
   },
   {
    "duration": 23,
    "start_time": "2023-01-10T15:28:29.648Z"
   },
   {
    "duration": 5,
    "start_time": "2023-01-10T15:38:41.125Z"
   },
   {
    "duration": 757,
    "start_time": "2023-01-10T15:39:10.187Z"
   },
   {
    "duration": 707,
    "start_time": "2023-01-10T15:39:15.462Z"
   },
   {
    "duration": 714,
    "start_time": "2023-01-10T15:39:21.809Z"
   },
   {
    "duration": 409,
    "start_time": "2023-01-10T15:39:29.592Z"
   },
   {
    "duration": 61,
    "start_time": "2023-01-10T15:39:30.004Z"
   },
   {
    "duration": 13,
    "start_time": "2023-01-10T15:39:30.067Z"
   },
   {
    "duration": 19,
    "start_time": "2023-01-10T15:39:30.083Z"
   },
   {
    "duration": 5,
    "start_time": "2023-01-10T15:39:30.104Z"
   },
   {
    "duration": 72,
    "start_time": "2023-01-10T15:54:53.678Z"
   },
   {
    "duration": 5,
    "start_time": "2023-01-10T15:55:07.722Z"
   },
   {
    "duration": 8,
    "start_time": "2023-01-10T15:55:20.523Z"
   },
   {
    "duration": 3,
    "start_time": "2023-01-10T15:55:24.600Z"
   },
   {
    "duration": 14,
    "start_time": "2023-01-10T15:56:23.249Z"
   },
   {
    "duration": 387,
    "start_time": "2023-01-10T15:58:01.917Z"
   },
   {
    "duration": 62,
    "start_time": "2023-01-10T15:58:02.307Z"
   },
   {
    "duration": 13,
    "start_time": "2023-01-10T15:58:02.371Z"
   },
   {
    "duration": 15,
    "start_time": "2023-01-10T15:58:02.386Z"
   },
   {
    "duration": 3,
    "start_time": "2023-01-10T15:58:02.403Z"
   },
   {
    "duration": 7,
    "start_time": "2023-01-10T15:58:02.408Z"
   },
   {
    "duration": 16,
    "start_time": "2023-01-10T15:58:02.417Z"
   },
   {
    "duration": 1021,
    "start_time": "2023-01-10T15:58:28.825Z"
   },
   {
    "duration": 405,
    "start_time": "2023-01-10T15:58:35.504Z"
   },
   {
    "duration": 62,
    "start_time": "2023-01-10T15:58:35.912Z"
   },
   {
    "duration": 13,
    "start_time": "2023-01-10T15:58:35.979Z"
   },
   {
    "duration": 18,
    "start_time": "2023-01-10T15:58:35.993Z"
   },
   {
    "duration": 4,
    "start_time": "2023-01-10T15:58:36.013Z"
   },
   {
    "duration": 9,
    "start_time": "2023-01-10T15:58:36.019Z"
   },
   {
    "duration": 16,
    "start_time": "2023-01-10T15:58:36.029Z"
   },
   {
    "duration": 758,
    "start_time": "2023-01-10T15:58:50.381Z"
   },
   {
    "duration": 396,
    "start_time": "2023-01-10T15:58:55.192Z"
   },
   {
    "duration": 59,
    "start_time": "2023-01-10T15:58:55.591Z"
   },
   {
    "duration": 14,
    "start_time": "2023-01-10T15:58:55.652Z"
   },
   {
    "duration": 61,
    "start_time": "2023-01-10T15:58:55.668Z"
   },
   {
    "duration": 14,
    "start_time": "2023-01-10T15:58:55.731Z"
   },
   {
    "duration": 38,
    "start_time": "2023-01-10T15:58:55.746Z"
   },
   {
    "duration": 60,
    "start_time": "2023-01-10T15:58:55.786Z"
   },
   {
    "duration": 15,
    "start_time": "2023-01-10T15:59:31.959Z"
   },
   {
    "duration": 74,
    "start_time": "2023-01-10T16:00:11.919Z"
   },
   {
    "duration": 46,
    "start_time": "2023-01-10T16:00:14.360Z"
   },
   {
    "duration": 12,
    "start_time": "2023-01-10T16:00:27.117Z"
   },
   {
    "duration": 7,
    "start_time": "2023-01-10T16:06:03.812Z"
   },
   {
    "duration": 1724,
    "start_time": "2023-01-10T16:08:48.314Z"
   },
   {
    "duration": 1041,
    "start_time": "2023-01-10T16:08:59.042Z"
   },
   {
    "duration": 435,
    "start_time": "2023-01-10T16:09:25.557Z"
   },
   {
    "duration": 61,
    "start_time": "2023-01-10T16:09:25.994Z"
   },
   {
    "duration": 12,
    "start_time": "2023-01-10T16:09:26.057Z"
   },
   {
    "duration": 1528,
    "start_time": "2023-01-10T16:09:26.071Z"
   },
   {
    "duration": 23,
    "start_time": "2023-01-10T16:09:27.602Z"
   },
   {
    "duration": 5,
    "start_time": "2023-01-10T16:09:27.627Z"
   },
   {
    "duration": 7,
    "start_time": "2023-01-10T16:09:27.634Z"
   },
   {
    "duration": 38,
    "start_time": "2023-01-10T16:09:27.643Z"
   },
   {
    "duration": 4,
    "start_time": "2023-01-10T16:09:27.683Z"
   },
   {
    "duration": 839,
    "start_time": "2023-01-10T17:22:32.433Z"
   },
   {
    "duration": 442,
    "start_time": "2023-01-10T17:22:56.061Z"
   },
   {
    "duration": 63,
    "start_time": "2023-01-10T17:22:56.505Z"
   },
   {
    "duration": 15,
    "start_time": "2023-01-10T17:22:56.570Z"
   },
   {
    "duration": 1641,
    "start_time": "2023-01-10T17:22:56.587Z"
   },
   {
    "duration": 35,
    "start_time": "2023-01-10T17:22:58.230Z"
   },
   {
    "duration": 21,
    "start_time": "2023-01-10T17:22:58.277Z"
   },
   {
    "duration": 41,
    "start_time": "2023-01-10T17:22:58.301Z"
   },
   {
    "duration": 45,
    "start_time": "2023-01-10T17:22:58.344Z"
   },
   {
    "duration": 17,
    "start_time": "2023-01-10T17:22:58.391Z"
   },
   {
    "duration": 1243,
    "start_time": "2023-01-10T17:23:09.918Z"
   },
   {
    "duration": 458,
    "start_time": "2023-01-10T17:23:17.173Z"
   },
   {
    "duration": 76,
    "start_time": "2023-01-10T17:23:17.634Z"
   },
   {
    "duration": 16,
    "start_time": "2023-01-10T17:23:17.712Z"
   },
   {
    "duration": 1761,
    "start_time": "2023-01-10T17:23:17.731Z"
   },
   {
    "duration": 23,
    "start_time": "2023-01-10T17:23:19.494Z"
   },
   {
    "duration": 12,
    "start_time": "2023-01-10T17:23:19.519Z"
   },
   {
    "duration": 4,
    "start_time": "2023-01-10T17:23:19.533Z"
   },
   {
    "duration": 46,
    "start_time": "2023-01-10T17:23:19.539Z"
   },
   {
    "duration": 4,
    "start_time": "2023-01-10T17:23:19.587Z"
   },
   {
    "duration": 1090,
    "start_time": "2023-01-10T17:23:41.889Z"
   },
   {
    "duration": 413,
    "start_time": "2023-01-10T17:23:49.985Z"
   },
   {
    "duration": 60,
    "start_time": "2023-01-10T17:23:50.400Z"
   },
   {
    "duration": 13,
    "start_time": "2023-01-10T17:23:50.461Z"
   },
   {
    "duration": 1682,
    "start_time": "2023-01-10T17:23:50.476Z"
   },
   {
    "duration": 30,
    "start_time": "2023-01-10T17:23:52.161Z"
   },
   {
    "duration": 8,
    "start_time": "2023-01-10T17:23:52.193Z"
   },
   {
    "duration": 17,
    "start_time": "2023-01-10T17:23:52.203Z"
   },
   {
    "duration": 18,
    "start_time": "2023-01-10T17:23:52.222Z"
   },
   {
    "duration": 7,
    "start_time": "2023-01-10T17:23:52.242Z"
   },
   {
    "duration": 434,
    "start_time": "2023-01-10T17:24:19.574Z"
   },
   {
    "duration": 72,
    "start_time": "2023-01-10T17:24:20.011Z"
   },
   {
    "duration": 14,
    "start_time": "2023-01-10T17:24:20.084Z"
   },
   {
    "duration": 1583,
    "start_time": "2023-01-10T17:24:20.100Z"
   },
   {
    "duration": 20,
    "start_time": "2023-01-10T17:24:21.685Z"
   },
   {
    "duration": 4,
    "start_time": "2023-01-10T17:24:21.707Z"
   },
   {
    "duration": 37,
    "start_time": "2023-01-10T17:24:21.712Z"
   },
   {
    "duration": 22,
    "start_time": "2023-01-10T17:24:21.751Z"
   },
   {
    "duration": 19,
    "start_time": "2023-01-10T17:24:21.775Z"
   },
   {
    "duration": 469,
    "start_time": "2023-01-10T17:24:43.171Z"
   },
   {
    "duration": 60,
    "start_time": "2023-01-10T17:24:43.642Z"
   },
   {
    "duration": 12,
    "start_time": "2023-01-10T17:24:43.704Z"
   },
   {
    "duration": 1566,
    "start_time": "2023-01-10T17:24:43.718Z"
   },
   {
    "duration": 17,
    "start_time": "2023-01-10T17:24:45.286Z"
   },
   {
    "duration": 5,
    "start_time": "2023-01-10T17:24:45.305Z"
   },
   {
    "duration": 15,
    "start_time": "2023-01-10T17:24:45.311Z"
   },
   {
    "duration": 14,
    "start_time": "2023-01-10T17:24:45.328Z"
   },
   {
    "duration": 34,
    "start_time": "2023-01-10T17:24:45.343Z"
   },
   {
    "duration": 82,
    "start_time": "2023-01-10T19:02:56.679Z"
   },
   {
    "duration": 770,
    "start_time": "2023-01-10T19:03:09.702Z"
   },
   {
    "duration": 12,
    "start_time": "2023-01-10T19:03:22.706Z"
   },
   {
    "duration": 55,
    "start_time": "2023-01-10T19:26:46.868Z"
   },
   {
    "duration": 9,
    "start_time": "2023-01-10T19:27:02.523Z"
   },
   {
    "duration": 9,
    "start_time": "2023-01-10T19:27:07.043Z"
   },
   {
    "duration": 10,
    "start_time": "2023-01-10T19:27:37.184Z"
   },
   {
    "duration": 1066,
    "start_time": "2023-01-10T19:27:42.646Z"
   },
   {
    "duration": 61,
    "start_time": "2023-01-10T19:27:43.714Z"
   },
   {
    "duration": 16,
    "start_time": "2023-01-10T19:27:43.777Z"
   },
   {
    "duration": 1528,
    "start_time": "2023-01-10T19:27:43.796Z"
   },
   {
    "duration": 16,
    "start_time": "2023-01-10T19:27:45.326Z"
   },
   {
    "duration": 4,
    "start_time": "2023-01-10T19:27:45.344Z"
   },
   {
    "duration": 9,
    "start_time": "2023-01-10T19:27:45.349Z"
   },
   {
    "duration": 22,
    "start_time": "2023-01-10T19:27:45.379Z"
   },
   {
    "duration": 7,
    "start_time": "2023-01-10T19:27:45.403Z"
   },
   {
    "duration": 17,
    "start_time": "2023-01-10T19:27:45.413Z"
   },
   {
    "duration": 11,
    "start_time": "2023-01-10T19:27:45.433Z"
   },
   {
    "duration": 4,
    "start_time": "2023-01-10T19:27:45.446Z"
   },
   {
    "duration": 6,
    "start_time": "2023-01-10T19:28:17.503Z"
   },
   {
    "duration": 6,
    "start_time": "2023-01-10T19:28:27.905Z"
   },
   {
    "duration": 5,
    "start_time": "2023-01-10T19:28:40.000Z"
   },
   {
    "duration": 4,
    "start_time": "2023-01-10T19:30:22.523Z"
   },
   {
    "duration": 6,
    "start_time": "2023-01-10T19:31:41.120Z"
   },
   {
    "duration": 46,
    "start_time": "2023-01-10T19:32:06.898Z"
   },
   {
    "duration": 59,
    "start_time": "2023-01-10T19:41:16.458Z"
   },
   {
    "duration": 160,
    "start_time": "2023-01-10T19:42:42.595Z"
   },
   {
    "duration": 1158,
    "start_time": "2023-01-10T19:42:46.847Z"
   },
   {
    "duration": 62,
    "start_time": "2023-01-10T19:42:48.008Z"
   },
   {
    "duration": 15,
    "start_time": "2023-01-10T19:42:48.072Z"
   },
   {
    "duration": 1748,
    "start_time": "2023-01-10T19:42:48.089Z"
   },
   {
    "duration": 37,
    "start_time": "2023-01-10T19:42:49.840Z"
   },
   {
    "duration": 5,
    "start_time": "2023-01-10T19:42:49.880Z"
   },
   {
    "duration": 18,
    "start_time": "2023-01-10T19:42:49.887Z"
   },
   {
    "duration": 18,
    "start_time": "2023-01-10T19:42:49.907Z"
   },
   {
    "duration": 5,
    "start_time": "2023-01-10T19:42:49.927Z"
   },
   {
    "duration": 14,
    "start_time": "2023-01-10T19:42:49.934Z"
   },
   {
    "duration": 9,
    "start_time": "2023-01-10T19:42:49.949Z"
   },
   {
    "duration": 5,
    "start_time": "2023-01-10T19:42:49.978Z"
   },
   {
    "duration": 11,
    "start_time": "2023-01-10T19:42:49.985Z"
   },
   {
    "duration": 847,
    "start_time": "2023-01-10T19:42:49.999Z"
   },
   {
    "duration": 3385,
    "start_time": "2023-01-10T19:43:37.943Z"
   },
   {
    "duration": 453,
    "start_time": "2023-01-10T19:44:43.709Z"
   },
   {
    "duration": 465,
    "start_time": "2023-01-10T19:44:54.400Z"
   },
   {
    "duration": 30200,
    "start_time": "2023-01-10T19:45:32.053Z"
   },
   {
    "duration": 148,
    "start_time": "2023-01-10T19:46:09.937Z"
   },
   {
    "duration": 89,
    "start_time": "2023-01-10T19:46:22.199Z"
   },
   {
    "duration": 776,
    "start_time": "2023-01-10T19:46:54.933Z"
   },
   {
    "duration": 493,
    "start_time": "2023-01-10T19:47:00.993Z"
   },
   {
    "duration": 572,
    "start_time": "2023-01-10T19:47:17.913Z"
   },
   {
    "duration": 17,
    "start_time": "2023-01-10T19:48:06.217Z"
   },
   {
    "duration": 1411,
    "start_time": "2023-01-10T19:48:32.030Z"
   },
   {
    "duration": 63,
    "start_time": "2023-01-10T19:48:33.444Z"
   },
   {
    "duration": 14,
    "start_time": "2023-01-10T19:48:33.509Z"
   },
   {
    "duration": 1433,
    "start_time": "2023-01-10T19:48:33.525Z"
   },
   {
    "duration": 37,
    "start_time": "2023-01-10T19:48:34.960Z"
   },
   {
    "duration": 5,
    "start_time": "2023-01-10T19:48:34.999Z"
   },
   {
    "duration": 15,
    "start_time": "2023-01-10T19:48:35.006Z"
   },
   {
    "duration": 17,
    "start_time": "2023-01-10T19:48:35.023Z"
   },
   {
    "duration": 5,
    "start_time": "2023-01-10T19:48:35.042Z"
   },
   {
    "duration": 41,
    "start_time": "2023-01-10T19:48:35.050Z"
   },
   {
    "duration": 18,
    "start_time": "2023-01-10T19:48:35.094Z"
   },
   {
    "duration": 10,
    "start_time": "2023-01-10T19:48:35.115Z"
   },
   {
    "duration": 14,
    "start_time": "2023-01-10T19:48:35.127Z"
   },
   {
    "duration": 482,
    "start_time": "2023-01-10T19:48:35.143Z"
   },
   {
    "duration": 31767,
    "start_time": "2023-01-10T19:48:35.627Z"
   },
   {
    "duration": 106,
    "start_time": "2023-01-10T19:49:07.398Z"
   },
   {
    "duration": 509,
    "start_time": "2023-01-10T19:49:07.582Z"
   },
   {
    "duration": 1032,
    "start_time": "2023-01-10T19:49:08.095Z"
   },
   {
    "duration": 892,
    "start_time": "2023-01-10T19:49:28.105Z"
   },
   {
    "duration": 93,
    "start_time": "2023-01-13T17:38:34.765Z"
   },
   {
    "duration": 1578,
    "start_time": "2023-01-13T17:38:39.147Z"
   },
   {
    "duration": 99,
    "start_time": "2023-01-13T17:38:40.727Z"
   },
   {
    "duration": 15,
    "start_time": "2023-01-13T17:38:40.828Z"
   },
   {
    "duration": 1361,
    "start_time": "2023-01-13T17:38:40.845Z"
   },
   {
    "duration": 28,
    "start_time": "2023-01-13T17:38:42.209Z"
   },
   {
    "duration": 5,
    "start_time": "2023-01-13T17:38:42.240Z"
   },
   {
    "duration": 20,
    "start_time": "2023-01-13T17:38:42.247Z"
   },
   {
    "duration": 21,
    "start_time": "2023-01-13T17:38:42.270Z"
   },
   {
    "duration": 6,
    "start_time": "2023-01-13T17:38:42.293Z"
   },
   {
    "duration": 19,
    "start_time": "2023-01-13T17:38:42.301Z"
   },
   {
    "duration": 14,
    "start_time": "2023-01-13T17:38:42.322Z"
   },
   {
    "duration": 10,
    "start_time": "2023-01-13T17:38:42.338Z"
   },
   {
    "duration": 16,
    "start_time": "2023-01-13T17:38:42.350Z"
   },
   {
    "duration": 536,
    "start_time": "2023-01-13T17:38:42.369Z"
   },
   {
    "duration": 13730,
    "start_time": "2023-01-13T17:38:42.906Z"
   },
   {
    "duration": 105,
    "start_time": "2023-01-13T17:38:56.638Z"
   },
   {
    "duration": 600,
    "start_time": "2023-01-13T17:38:56.745Z"
   },
   {
    "duration": 878,
    "start_time": "2023-01-13T17:38:57.347Z"
   },
   {
    "duration": 1411,
    "start_time": "2023-01-13T17:41:49.936Z"
   },
   {
    "duration": 59,
    "start_time": "2023-01-13T17:41:51.349Z"
   },
   {
    "duration": 15,
    "start_time": "2023-01-13T17:41:51.410Z"
   },
   {
    "duration": 1433,
    "start_time": "2023-01-13T17:41:51.426Z"
   },
   {
    "duration": 18,
    "start_time": "2023-01-13T17:41:52.861Z"
   },
   {
    "duration": 4,
    "start_time": "2023-01-13T17:41:52.881Z"
   },
   {
    "duration": 25,
    "start_time": "2023-01-13T17:41:52.887Z"
   },
   {
    "duration": 21,
    "start_time": "2023-01-13T17:41:52.914Z"
   },
   {
    "duration": 5,
    "start_time": "2023-01-13T17:41:52.937Z"
   },
   {
    "duration": 18,
    "start_time": "2023-01-13T17:41:52.944Z"
   },
   {
    "duration": 13,
    "start_time": "2023-01-13T17:41:52.964Z"
   },
   {
    "duration": 16,
    "start_time": "2023-01-13T17:41:52.979Z"
   },
   {
    "duration": 16,
    "start_time": "2023-01-13T17:41:52.997Z"
   },
   {
    "duration": 491,
    "start_time": "2023-01-13T17:41:53.016Z"
   },
   {
    "duration": 13872,
    "start_time": "2023-01-13T17:41:53.509Z"
   },
   {
    "duration": 64,
    "start_time": "2023-01-13T17:42:07.382Z"
   },
   {
    "duration": 887,
    "start_time": "2023-01-13T17:42:07.448Z"
   },
   {
    "duration": 980,
    "start_time": "2023-01-13T17:42:08.337Z"
   },
   {
    "duration": 1378,
    "start_time": "2023-01-13T17:47:11.889Z"
   },
   {
    "duration": 61,
    "start_time": "2023-01-13T17:47:13.269Z"
   },
   {
    "duration": 14,
    "start_time": "2023-01-13T17:47:13.332Z"
   },
   {
    "duration": 1406,
    "start_time": "2023-01-13T17:47:13.347Z"
   },
   {
    "duration": 17,
    "start_time": "2023-01-13T17:47:14.756Z"
   },
   {
    "duration": 6,
    "start_time": "2023-01-13T17:47:14.774Z"
   },
   {
    "duration": 21,
    "start_time": "2023-01-13T17:47:14.782Z"
   },
   {
    "duration": 28,
    "start_time": "2023-01-13T17:47:14.804Z"
   },
   {
    "duration": 4,
    "start_time": "2023-01-13T17:47:14.834Z"
   },
   {
    "duration": 18,
    "start_time": "2023-01-13T17:47:14.840Z"
   },
   {
    "duration": 9,
    "start_time": "2023-01-13T17:47:14.859Z"
   },
   {
    "duration": 10,
    "start_time": "2023-01-13T17:47:14.869Z"
   },
   {
    "duration": 13,
    "start_time": "2023-01-13T17:47:14.881Z"
   },
   {
    "duration": 488,
    "start_time": "2023-01-13T17:47:14.897Z"
   },
   {
    "duration": 13852,
    "start_time": "2023-01-13T17:47:15.386Z"
   },
   {
    "duration": 99,
    "start_time": "2023-01-13T17:47:29.239Z"
   },
   {
    "duration": 699,
    "start_time": "2023-01-13T17:47:29.340Z"
   },
   {
    "duration": 928,
    "start_time": "2023-01-13T17:47:30.042Z"
   },
   {
    "duration": 892,
    "start_time": "2023-01-13T17:47:39.845Z"
   },
   {
    "duration": 929,
    "start_time": "2023-01-13T17:47:49.681Z"
   },
   {
    "duration": 959,
    "start_time": "2023-01-13T17:48:13.952Z"
   },
   {
    "duration": 6,
    "start_time": "2023-01-13T18:02:48.698Z"
   },
   {
    "duration": 1382,
    "start_time": "2023-01-13T18:36:06.022Z"
   },
   {
    "duration": 58,
    "start_time": "2023-01-13T18:36:07.406Z"
   },
   {
    "duration": 14,
    "start_time": "2023-01-13T18:36:07.466Z"
   },
   {
    "duration": 1342,
    "start_time": "2023-01-13T18:36:07.481Z"
   },
   {
    "duration": 40,
    "start_time": "2023-01-13T18:36:08.834Z"
   },
   {
    "duration": 5,
    "start_time": "2023-01-13T18:36:08.876Z"
   },
   {
    "duration": 17,
    "start_time": "2023-01-13T18:36:08.883Z"
   },
   {
    "duration": 38,
    "start_time": "2023-01-13T18:36:08.901Z"
   },
   {
    "duration": 5,
    "start_time": "2023-01-13T18:36:08.941Z"
   },
   {
    "duration": 23,
    "start_time": "2023-01-13T18:36:08.948Z"
   },
   {
    "duration": 23,
    "start_time": "2023-01-13T18:36:08.973Z"
   },
   {
    "duration": 23,
    "start_time": "2023-01-13T18:36:08.998Z"
   },
   {
    "duration": 34,
    "start_time": "2023-01-13T18:36:09.023Z"
   },
   {
    "duration": 483,
    "start_time": "2023-01-13T18:36:09.060Z"
   },
   {
    "duration": 13726,
    "start_time": "2023-01-13T18:36:09.545Z"
   },
   {
    "duration": 161,
    "start_time": "2023-01-13T18:36:23.273Z"
   },
   {
    "duration": 702,
    "start_time": "2023-01-13T18:36:23.437Z"
   },
   {
    "duration": 1073,
    "start_time": "2023-01-13T18:36:24.141Z"
   },
   {
    "duration": 907,
    "start_time": "2023-01-13T18:36:25.216Z"
   },
   {
    "duration": 672,
    "start_time": "2023-01-13T18:37:42.465Z"
   },
   {
    "duration": 1368,
    "start_time": "2023-01-13T18:37:54.815Z"
   },
   {
    "duration": 58,
    "start_time": "2023-01-13T18:37:56.185Z"
   },
   {
    "duration": 14,
    "start_time": "2023-01-13T18:37:56.245Z"
   },
   {
    "duration": 1381,
    "start_time": "2023-01-13T18:37:56.261Z"
   },
   {
    "duration": 40,
    "start_time": "2023-01-13T18:37:57.645Z"
   },
   {
    "duration": 5,
    "start_time": "2023-01-13T18:37:57.688Z"
   },
   {
    "duration": 12,
    "start_time": "2023-01-13T18:37:57.695Z"
   },
   {
    "duration": 18,
    "start_time": "2023-01-13T18:37:57.709Z"
   },
   {
    "duration": 8,
    "start_time": "2023-01-13T18:37:57.729Z"
   },
   {
    "duration": 33,
    "start_time": "2023-01-13T18:37:57.739Z"
   },
   {
    "duration": 13,
    "start_time": "2023-01-13T18:37:57.773Z"
   },
   {
    "duration": 20,
    "start_time": "2023-01-13T18:37:57.788Z"
   },
   {
    "duration": 18,
    "start_time": "2023-01-13T18:37:57.810Z"
   },
   {
    "duration": 487,
    "start_time": "2023-01-13T18:37:57.831Z"
   },
   {
    "duration": 13118,
    "start_time": "2023-01-13T18:37:58.320Z"
   },
   {
    "duration": 99,
    "start_time": "2023-01-13T18:38:11.440Z"
   },
   {
    "duration": 702,
    "start_time": "2023-01-13T18:38:11.542Z"
   },
   {
    "duration": 986,
    "start_time": "2023-01-13T18:38:12.336Z"
   },
   {
    "duration": 616,
    "start_time": "2023-01-13T18:38:13.324Z"
   },
   {
    "duration": 1077,
    "start_time": "2023-01-13T18:38:13.942Z"
   },
   {
    "duration": 17,
    "start_time": "2023-01-13T18:55:43.707Z"
   },
   {
    "duration": 14,
    "start_time": "2023-01-13T18:55:48.107Z"
   },
   {
    "duration": 14,
    "start_time": "2023-01-13T18:58:09.152Z"
   },
   {
    "duration": 1299,
    "start_time": "2023-01-13T19:01:12.680Z"
   },
   {
    "duration": 69,
    "start_time": "2023-01-13T19:01:13.981Z"
   },
   {
    "duration": 13,
    "start_time": "2023-01-13T19:01:14.051Z"
   },
   {
    "duration": 1367,
    "start_time": "2023-01-13T19:01:14.066Z"
   },
   {
    "duration": 34,
    "start_time": "2023-01-13T19:01:15.435Z"
   },
   {
    "duration": 20,
    "start_time": "2023-01-13T19:01:15.471Z"
   },
   {
    "duration": 19,
    "start_time": "2023-01-13T19:01:15.493Z"
   },
   {
    "duration": 32,
    "start_time": "2023-01-13T19:01:15.514Z"
   },
   {
    "duration": 15,
    "start_time": "2023-01-13T19:01:15.549Z"
   },
   {
    "duration": 40,
    "start_time": "2023-01-13T19:01:15.566Z"
   },
   {
    "duration": 24,
    "start_time": "2023-01-13T19:01:15.607Z"
   },
   {
    "duration": 46,
    "start_time": "2023-01-13T19:01:15.632Z"
   },
   {
    "duration": 19,
    "start_time": "2023-01-13T19:01:15.680Z"
   },
   {
    "duration": 523,
    "start_time": "2023-01-13T19:01:15.701Z"
   },
   {
    "duration": 14597,
    "start_time": "2023-01-13T19:01:16.237Z"
   },
   {
    "duration": 36,
    "start_time": "2023-01-13T19:01:30.838Z"
   },
   {
    "duration": 706,
    "start_time": "2023-01-13T19:01:30.939Z"
   },
   {
    "duration": 1008,
    "start_time": "2023-01-13T19:01:31.647Z"
   },
   {
    "duration": 595,
    "start_time": "2023-01-13T19:01:32.657Z"
   },
   {
    "duration": 99,
    "start_time": "2023-01-13T19:01:33.255Z"
   },
   {
    "duration": 587,
    "start_time": "2023-01-13T19:01:33.356Z"
   },
   {
    "duration": 13,
    "start_time": "2023-01-13T19:04:01.838Z"
   },
   {
    "duration": 16,
    "start_time": "2023-01-13T19:04:16.248Z"
   },
   {
    "duration": 14,
    "start_time": "2023-01-13T19:04:21.736Z"
   },
   {
    "duration": 15,
    "start_time": "2023-01-13T19:05:04.224Z"
   },
   {
    "duration": 12,
    "start_time": "2023-01-13T19:05:30.680Z"
   },
   {
    "duration": 13,
    "start_time": "2023-01-13T19:05:34.625Z"
   },
   {
    "duration": 14,
    "start_time": "2023-01-13T19:05:38.371Z"
   },
   {
    "duration": 1415,
    "start_time": "2023-01-13T19:05:43.669Z"
   },
   {
    "duration": 60,
    "start_time": "2023-01-13T19:05:45.085Z"
   },
   {
    "duration": 13,
    "start_time": "2023-01-13T19:05:45.147Z"
   },
   {
    "duration": 1435,
    "start_time": "2023-01-13T19:05:45.162Z"
   },
   {
    "duration": 16,
    "start_time": "2023-01-13T19:05:46.600Z"
   },
   {
    "duration": 43,
    "start_time": "2023-01-13T19:05:46.618Z"
   },
   {
    "duration": 19,
    "start_time": "2023-01-13T19:05:46.663Z"
   },
   {
    "duration": 30,
    "start_time": "2023-01-13T19:05:46.684Z"
   },
   {
    "duration": 20,
    "start_time": "2023-01-13T19:05:46.716Z"
   },
   {
    "duration": 32,
    "start_time": "2023-01-13T19:05:46.738Z"
   },
   {
    "duration": 11,
    "start_time": "2023-01-13T19:05:46.772Z"
   },
   {
    "duration": 27,
    "start_time": "2023-01-13T19:05:46.785Z"
   },
   {
    "duration": 20,
    "start_time": "2023-01-13T19:05:46.814Z"
   },
   {
    "duration": 486,
    "start_time": "2023-01-13T19:05:46.837Z"
   },
   {
    "duration": 13687,
    "start_time": "2023-01-13T19:05:47.324Z"
   },
   {
    "duration": 44,
    "start_time": "2023-01-13T19:06:01.013Z"
   },
   {
    "duration": 779,
    "start_time": "2023-01-13T19:06:01.059Z"
   },
   {
    "duration": 1065,
    "start_time": "2023-01-13T19:06:01.841Z"
   },
   {
    "duration": 634,
    "start_time": "2023-01-13T19:06:02.908Z"
   },
   {
    "duration": 99,
    "start_time": "2023-01-13T19:06:03.545Z"
   },
   {
    "duration": 698,
    "start_time": "2023-01-13T19:06:03.646Z"
   },
   {
    "duration": 14,
    "start_time": "2023-01-13T19:06:04.436Z"
   },
   {
    "duration": 14,
    "start_time": "2023-01-13T19:06:13.722Z"
   },
   {
    "duration": 14,
    "start_time": "2023-01-13T19:07:17.255Z"
   },
   {
    "duration": 18,
    "start_time": "2023-01-13T19:07:20.882Z"
   },
   {
    "duration": 18,
    "start_time": "2023-01-13T19:07:25.037Z"
   },
   {
    "duration": 15,
    "start_time": "2023-01-13T19:07:28.608Z"
   },
   {
    "duration": 13,
    "start_time": "2023-01-13T19:07:32.885Z"
   },
   {
    "duration": 14,
    "start_time": "2023-01-13T19:07:35.784Z"
   },
   {
    "duration": 13,
    "start_time": "2023-01-13T19:07:40.879Z"
   },
   {
    "duration": 12,
    "start_time": "2023-01-13T19:07:48.915Z"
   },
   {
    "duration": 14,
    "start_time": "2023-01-13T19:07:52.309Z"
   },
   {
    "duration": 15,
    "start_time": "2023-01-13T19:07:56.636Z"
   },
   {
    "duration": 13,
    "start_time": "2023-01-13T19:08:00.859Z"
   },
   {
    "duration": 15,
    "start_time": "2023-01-13T19:08:06.135Z"
   },
   {
    "duration": 14,
    "start_time": "2023-01-13T19:08:11.836Z"
   },
   {
    "duration": 12,
    "start_time": "2023-01-13T19:08:20.035Z"
   },
   {
    "duration": 12,
    "start_time": "2023-01-13T19:08:23.337Z"
   },
   {
    "duration": 12,
    "start_time": "2023-01-13T19:08:26.600Z"
   },
   {
    "duration": 14,
    "start_time": "2023-01-13T19:08:31.337Z"
   },
   {
    "duration": 14,
    "start_time": "2023-01-13T19:08:35.448Z"
   },
   {
    "duration": 13,
    "start_time": "2023-01-13T19:08:44.677Z"
   },
   {
    "duration": 14,
    "start_time": "2023-01-13T19:08:52.192Z"
   },
   {
    "duration": 13,
    "start_time": "2023-01-13T19:10:55.223Z"
   },
   {
    "duration": 13,
    "start_time": "2023-01-13T19:11:01.007Z"
   },
   {
    "duration": 14,
    "start_time": "2023-01-13T19:11:04.794Z"
   },
   {
    "duration": 18,
    "start_time": "2023-01-13T19:11:12.413Z"
   },
   {
    "duration": 15,
    "start_time": "2023-01-13T19:11:24.115Z"
   },
   {
    "duration": 15,
    "start_time": "2023-01-13T19:11:48.033Z"
   },
   {
    "duration": 13,
    "start_time": "2023-01-13T19:11:54.559Z"
   },
   {
    "duration": 15,
    "start_time": "2023-01-13T19:11:59.356Z"
   },
   {
    "duration": 13,
    "start_time": "2023-01-13T19:12:08.796Z"
   },
   {
    "duration": 14,
    "start_time": "2023-01-13T19:12:17.374Z"
   },
   {
    "duration": 14,
    "start_time": "2023-01-13T19:12:22.898Z"
   },
   {
    "duration": 13,
    "start_time": "2023-01-13T19:12:26.614Z"
   },
   {
    "duration": 12,
    "start_time": "2023-01-13T19:12:31.436Z"
   },
   {
    "duration": 13,
    "start_time": "2023-01-13T19:12:40.788Z"
   },
   {
    "duration": 16,
    "start_time": "2023-01-13T19:12:44.494Z"
   },
   {
    "duration": 15,
    "start_time": "2023-01-13T19:12:47.552Z"
   },
   {
    "duration": 13,
    "start_time": "2023-01-13T19:12:53.772Z"
   },
   {
    "duration": 13,
    "start_time": "2023-01-13T19:12:58.828Z"
   },
   {
    "duration": 16,
    "start_time": "2023-01-13T19:13:11.108Z"
   },
   {
    "duration": 408,
    "start_time": "2023-01-13T19:14:13.728Z"
   },
   {
    "duration": 1360,
    "start_time": "2023-01-13T19:14:40.603Z"
   },
   {
    "duration": 60,
    "start_time": "2023-01-13T19:14:41.965Z"
   },
   {
    "duration": 13,
    "start_time": "2023-01-13T19:14:42.027Z"
   },
   {
    "duration": 1355,
    "start_time": "2023-01-13T19:14:42.042Z"
   },
   {
    "duration": 14,
    "start_time": "2023-01-13T19:14:43.400Z"
   },
   {
    "duration": 21,
    "start_time": "2023-01-13T19:14:43.415Z"
   },
   {
    "duration": 6,
    "start_time": "2023-01-13T19:14:43.438Z"
   },
   {
    "duration": 18,
    "start_time": "2023-01-13T19:14:43.445Z"
   },
   {
    "duration": 5,
    "start_time": "2023-01-13T19:14:43.465Z"
   },
   {
    "duration": 13,
    "start_time": "2023-01-13T19:14:43.471Z"
   },
   {
    "duration": 7,
    "start_time": "2023-01-13T19:14:43.486Z"
   },
   {
    "duration": 4,
    "start_time": "2023-01-13T19:14:43.495Z"
   },
   {
    "duration": 40,
    "start_time": "2023-01-13T19:14:43.500Z"
   },
   {
    "duration": 481,
    "start_time": "2023-01-13T19:14:43.542Z"
   },
   {
    "duration": 14548,
    "start_time": "2023-01-13T19:14:44.036Z"
   },
   {
    "duration": 54,
    "start_time": "2023-01-13T19:14:58.586Z"
   },
   {
    "duration": 710,
    "start_time": "2023-01-13T19:14:58.642Z"
   },
   {
    "duration": 960,
    "start_time": "2023-01-13T19:14:59.437Z"
   },
   {
    "duration": 542,
    "start_time": "2023-01-13T19:15:00.399Z"
   },
   {
    "duration": 193,
    "start_time": "2023-01-13T19:15:00.943Z"
   },
   {
    "duration": 800,
    "start_time": "2023-01-13T19:15:01.138Z"
   },
   {
    "duration": 103,
    "start_time": "2023-01-13T19:15:01.941Z"
   },
   {
    "duration": 314,
    "start_time": "2023-01-13T19:15:02.045Z"
   },
   {
    "duration": 572,
    "start_time": "2023-01-13T19:24:52.476Z"
   },
   {
    "duration": 38,
    "start_time": "2023-01-13T19:25:32.705Z"
   },
   {
    "duration": 673,
    "start_time": "2023-01-13T19:25:39.375Z"
   },
   {
    "duration": 660,
    "start_time": "2023-01-13T19:25:48.474Z"
   },
   {
    "duration": 1373,
    "start_time": "2023-01-13T19:26:27.552Z"
   },
   {
    "duration": 54,
    "start_time": "2023-01-13T19:26:28.927Z"
   },
   {
    "duration": 12,
    "start_time": "2023-01-13T19:26:28.982Z"
   },
   {
    "duration": 1244,
    "start_time": "2023-01-13T19:26:28.996Z"
   },
   {
    "duration": 30,
    "start_time": "2023-01-13T19:26:30.242Z"
   },
   {
    "duration": 4,
    "start_time": "2023-01-13T19:26:30.273Z"
   },
   {
    "duration": 48,
    "start_time": "2023-01-13T19:26:30.279Z"
   },
   {
    "duration": 46,
    "start_time": "2023-01-13T19:26:30.329Z"
   },
   {
    "duration": 24,
    "start_time": "2023-01-13T19:26:30.377Z"
   },
   {
    "duration": 40,
    "start_time": "2023-01-13T19:26:30.403Z"
   },
   {
    "duration": 54,
    "start_time": "2023-01-13T19:26:30.444Z"
   },
   {
    "duration": 13,
    "start_time": "2023-01-13T19:26:30.500Z"
   },
   {
    "duration": 47,
    "start_time": "2023-01-13T19:26:30.515Z"
   },
   {
    "duration": 461,
    "start_time": "2023-01-13T19:26:30.565Z"
   },
   {
    "duration": 13436,
    "start_time": "2023-01-13T19:26:31.028Z"
   },
   {
    "duration": 75,
    "start_time": "2023-01-13T19:26:44.465Z"
   },
   {
    "duration": 697,
    "start_time": "2023-01-13T19:26:44.542Z"
   },
   {
    "duration": 963,
    "start_time": "2023-01-13T19:26:45.242Z"
   },
   {
    "duration": 643,
    "start_time": "2023-01-13T19:26:46.207Z"
   },
   {
    "duration": 15,
    "start_time": "2023-01-13T19:26:46.936Z"
   },
   {
    "duration": 895,
    "start_time": "2023-01-13T19:26:46.953Z"
   },
   {
    "duration": 99,
    "start_time": "2023-01-13T19:26:47.850Z"
   },
   {
    "duration": 388,
    "start_time": "2023-01-13T19:26:47.951Z"
   },
   {
    "duration": 51,
    "start_time": "2023-01-13T19:36:57.528Z"
   },
   {
    "duration": 370,
    "start_time": "2023-01-13T20:01:47.536Z"
   },
   {
    "duration": 268,
    "start_time": "2023-01-13T20:02:10.277Z"
   },
   {
    "duration": 55,
    "start_time": "2023-01-13T20:04:23.178Z"
   },
   {
    "duration": 16545,
    "start_time": "2023-01-13T20:05:43.847Z"
   },
   {
    "duration": 14072,
    "start_time": "2023-01-13T20:06:12.394Z"
   },
   {
    "duration": 16334,
    "start_time": "2023-01-13T20:06:37.380Z"
   },
   {
    "duration": 15838,
    "start_time": "2023-01-13T20:07:18.387Z"
   },
   {
    "duration": 43303,
    "start_time": "2023-01-13T20:07:54.908Z"
   },
   {
    "duration": 19088,
    "start_time": "2023-01-13T20:10:09.969Z"
   },
   {
    "duration": 1582,
    "start_time": "2023-01-14T15:28:57.137Z"
   },
   {
    "duration": 355,
    "start_time": "2023-01-14T15:28:58.721Z"
   },
   {
    "duration": 17,
    "start_time": "2023-01-14T15:28:59.078Z"
   },
   {
    "duration": 1295,
    "start_time": "2023-01-14T15:28:59.097Z"
   },
   {
    "duration": 24,
    "start_time": "2023-01-14T15:29:00.394Z"
   },
   {
    "duration": 10,
    "start_time": "2023-01-14T15:29:00.419Z"
   },
   {
    "duration": 13,
    "start_time": "2023-01-14T15:29:00.431Z"
   },
   {
    "duration": 23,
    "start_time": "2023-01-14T15:29:00.445Z"
   },
   {
    "duration": 5,
    "start_time": "2023-01-14T15:29:00.470Z"
   },
   {
    "duration": 35,
    "start_time": "2023-01-14T15:29:00.476Z"
   },
   {
    "duration": 33,
    "start_time": "2023-01-14T15:29:00.513Z"
   },
   {
    "duration": 38,
    "start_time": "2023-01-14T15:29:00.548Z"
   },
   {
    "duration": 48,
    "start_time": "2023-01-14T15:29:00.587Z"
   },
   {
    "duration": 473,
    "start_time": "2023-01-14T15:29:00.638Z"
   },
   {
    "duration": 13081,
    "start_time": "2023-01-14T15:29:01.112Z"
   },
   {
    "duration": 37,
    "start_time": "2023-01-14T15:29:14.194Z"
   },
   {
    "duration": 783,
    "start_time": "2023-01-14T15:29:14.233Z"
   },
   {
    "duration": 1054,
    "start_time": "2023-01-14T15:29:15.018Z"
   },
   {
    "duration": 634,
    "start_time": "2023-01-14T15:29:16.073Z"
   },
   {
    "duration": 104,
    "start_time": "2023-01-14T15:29:16.710Z"
   },
   {
    "duration": 821,
    "start_time": "2023-01-14T15:29:16.815Z"
   },
   {
    "duration": 79,
    "start_time": "2023-01-14T15:29:17.639Z"
   },
   {
    "duration": 423,
    "start_time": "2023-01-14T15:29:17.719Z"
   },
   {
    "duration": 374,
    "start_time": "2023-01-14T15:29:18.206Z"
   },
   {
    "duration": 17226,
    "start_time": "2023-01-14T15:29:18.582Z"
   },
   {
    "duration": 19953,
    "start_time": "2023-01-14T15:29:45.852Z"
   },
   {
    "duration": 17168,
    "start_time": "2023-01-14T15:30:19.300Z"
   },
   {
    "duration": 17402,
    "start_time": "2023-01-14T15:30:50.139Z"
   },
   {
    "duration": 17251,
    "start_time": "2023-01-14T15:31:19.129Z"
   },
   {
    "duration": 1269,
    "start_time": "2023-01-14T15:38:28.536Z"
   },
   {
    "duration": 55,
    "start_time": "2023-01-14T15:38:29.807Z"
   },
   {
    "duration": 16,
    "start_time": "2023-01-14T15:38:29.865Z"
   },
   {
    "duration": 1305,
    "start_time": "2023-01-14T15:38:29.883Z"
   },
   {
    "duration": 24,
    "start_time": "2023-01-14T15:38:31.190Z"
   },
   {
    "duration": 65,
    "start_time": "2023-01-14T15:38:31.216Z"
   },
   {
    "duration": 33,
    "start_time": "2023-01-14T15:38:31.283Z"
   },
   {
    "duration": 42,
    "start_time": "2023-01-14T15:38:31.318Z"
   },
   {
    "duration": 20,
    "start_time": "2023-01-14T15:38:31.361Z"
   },
   {
    "duration": 42,
    "start_time": "2023-01-14T15:38:31.382Z"
   },
   {
    "duration": 21,
    "start_time": "2023-01-14T15:38:31.425Z"
   },
   {
    "duration": 23,
    "start_time": "2023-01-14T15:38:31.447Z"
   },
   {
    "duration": 38,
    "start_time": "2023-01-14T15:38:31.471Z"
   },
   {
    "duration": 478,
    "start_time": "2023-01-14T15:38:31.512Z"
   },
   {
    "duration": 12633,
    "start_time": "2023-01-14T15:38:31.992Z"
   },
   {
    "duration": 82,
    "start_time": "2023-01-14T15:38:44.627Z"
   },
   {
    "duration": 693,
    "start_time": "2023-01-14T15:38:44.714Z"
   },
   {
    "duration": 947,
    "start_time": "2023-01-14T15:38:45.410Z"
   },
   {
    "duration": 553,
    "start_time": "2023-01-14T15:38:46.359Z"
   },
   {
    "duration": 104,
    "start_time": "2023-01-14T15:38:46.914Z"
   },
   {
    "duration": 887,
    "start_time": "2023-01-14T15:38:47.020Z"
   },
   {
    "duration": 102,
    "start_time": "2023-01-14T15:38:47.909Z"
   },
   {
    "duration": 396,
    "start_time": "2023-01-14T15:38:48.013Z"
   },
   {
    "duration": 269,
    "start_time": "2023-01-14T15:38:48.504Z"
   },
   {
    "duration": 17040,
    "start_time": "2023-01-14T15:38:48.775Z"
   },
   {
    "duration": 18388,
    "start_time": "2023-01-14T15:39:05.816Z"
   },
   {
    "duration": 13617,
    "start_time": "2023-01-14T15:39:46.888Z"
   },
   {
    "duration": 7867,
    "start_time": "2023-01-14T15:41:38.927Z"
   },
   {
    "duration": 277,
    "start_time": "2023-01-14T15:41:54.637Z"
   },
   {
    "duration": 156,
    "start_time": "2023-01-14T15:41:59.278Z"
   },
   {
    "duration": 174,
    "start_time": "2023-01-14T15:42:04.927Z"
   },
   {
    "duration": 15235,
    "start_time": "2023-01-14T15:42:19.482Z"
   },
   {
    "duration": 183,
    "start_time": "2023-01-14T15:43:15.219Z"
   },
   {
    "duration": 4265,
    "start_time": "2023-01-14T15:43:36.590Z"
   },
   {
    "duration": 4517,
    "start_time": "2023-01-14T15:43:54.739Z"
   },
   {
    "duration": 155,
    "start_time": "2023-01-14T15:44:07.563Z"
   },
   {
    "duration": 32277,
    "start_time": "2023-01-14T15:45:09.829Z"
   },
   {
    "duration": 183,
    "start_time": "2023-01-14T15:46:48.058Z"
   },
   {
    "duration": 32485,
    "start_time": "2023-01-14T15:47:40.972Z"
   },
   {
    "duration": 27517,
    "start_time": "2023-01-14T15:49:25.300Z"
   },
   {
    "duration": 35593,
    "start_time": "2023-01-14T15:50:06.459Z"
   },
   {
    "duration": 34729,
    "start_time": "2023-01-14T15:51:34.277Z"
   },
   {
    "duration": 1270,
    "start_time": "2023-01-14T15:53:35.439Z"
   },
   {
    "duration": 53,
    "start_time": "2023-01-14T15:53:36.711Z"
   },
   {
    "duration": 12,
    "start_time": "2023-01-14T15:53:36.765Z"
   },
   {
    "duration": 1260,
    "start_time": "2023-01-14T15:53:36.779Z"
   },
   {
    "duration": 15,
    "start_time": "2023-01-14T15:53:38.041Z"
   },
   {
    "duration": 4,
    "start_time": "2023-01-14T15:53:38.057Z"
   },
   {
    "duration": 5,
    "start_time": "2023-01-14T15:53:38.063Z"
   },
   {
    "duration": 35,
    "start_time": "2023-01-14T15:53:38.070Z"
   },
   {
    "duration": 4,
    "start_time": "2023-01-14T15:53:38.106Z"
   },
   {
    "duration": 12,
    "start_time": "2023-01-14T15:53:38.112Z"
   },
   {
    "duration": 8,
    "start_time": "2023-01-14T15:53:38.125Z"
   },
   {
    "duration": 3,
    "start_time": "2023-01-14T15:53:38.135Z"
   },
   {
    "duration": 7,
    "start_time": "2023-01-14T15:53:38.140Z"
   },
   {
    "duration": 485,
    "start_time": "2023-01-14T15:53:38.150Z"
   },
   {
    "duration": 12923,
    "start_time": "2023-01-14T15:53:38.636Z"
   },
   {
    "duration": 47,
    "start_time": "2023-01-14T15:53:51.560Z"
   },
   {
    "duration": 796,
    "start_time": "2023-01-14T15:53:51.614Z"
   },
   {
    "duration": 951,
    "start_time": "2023-01-14T15:53:52.413Z"
   },
   {
    "duration": 642,
    "start_time": "2023-01-14T15:53:53.366Z"
   },
   {
    "duration": 102,
    "start_time": "2023-01-14T15:53:54.010Z"
   },
   {
    "duration": 893,
    "start_time": "2023-01-14T15:53:54.114Z"
   },
   {
    "duration": 103,
    "start_time": "2023-01-14T15:53:55.009Z"
   },
   {
    "duration": 391,
    "start_time": "2023-01-14T15:53:55.114Z"
   },
   {
    "duration": 349,
    "start_time": "2023-01-14T15:53:55.509Z"
   },
   {
    "duration": 17031,
    "start_time": "2023-01-14T15:53:55.860Z"
   },
   {
    "duration": 34647,
    "start_time": "2023-01-14T15:54:12.893Z"
   },
   {
    "duration": 1397,
    "start_time": "2023-01-14T15:59:17.617Z"
   },
   {
    "duration": 69,
    "start_time": "2023-01-14T15:59:19.016Z"
   },
   {
    "duration": 19,
    "start_time": "2023-01-14T15:59:19.088Z"
   },
   {
    "duration": 1454,
    "start_time": "2023-01-14T15:59:19.110Z"
   },
   {
    "duration": 16,
    "start_time": "2023-01-14T15:59:20.566Z"
   },
   {
    "duration": 21,
    "start_time": "2023-01-14T15:59:20.584Z"
   },
   {
    "duration": 28,
    "start_time": "2023-01-14T15:59:20.607Z"
   },
   {
    "duration": 42,
    "start_time": "2023-01-14T15:59:20.637Z"
   },
   {
    "duration": 24,
    "start_time": "2023-01-14T15:59:20.681Z"
   },
   {
    "duration": 37,
    "start_time": "2023-01-14T15:59:20.707Z"
   },
   {
    "duration": 13,
    "start_time": "2023-01-14T15:59:20.746Z"
   },
   {
    "duration": 6,
    "start_time": "2023-01-14T15:59:20.761Z"
   },
   {
    "duration": 9,
    "start_time": "2023-01-14T15:59:20.768Z"
   },
   {
    "duration": 481,
    "start_time": "2023-01-14T15:59:20.780Z"
   },
   {
    "duration": 12861,
    "start_time": "2023-01-14T15:59:21.263Z"
   },
   {
    "duration": 82,
    "start_time": "2023-01-14T15:59:34.126Z"
   },
   {
    "duration": 696,
    "start_time": "2023-01-14T15:59:34.213Z"
   },
   {
    "duration": 951,
    "start_time": "2023-01-14T15:59:34.911Z"
   },
   {
    "duration": 547,
    "start_time": "2023-01-14T15:59:35.864Z"
   },
   {
    "duration": 194,
    "start_time": "2023-01-14T15:59:36.414Z"
   },
   {
    "duration": 804,
    "start_time": "2023-01-14T15:59:36.610Z"
   },
   {
    "duration": 16,
    "start_time": "2023-01-14T15:59:37.505Z"
   },
   {
    "duration": 384,
    "start_time": "2023-01-14T15:59:37.523Z"
   },
   {
    "duration": 362,
    "start_time": "2023-01-14T15:59:37.910Z"
   },
   {
    "duration": 1552,
    "start_time": "2023-01-14T16:00:30.615Z"
   },
   {
    "duration": 56,
    "start_time": "2023-01-14T16:00:32.170Z"
   },
   {
    "duration": 12,
    "start_time": "2023-01-14T16:00:32.228Z"
   },
   {
    "duration": 1254,
    "start_time": "2023-01-14T16:00:32.241Z"
   },
   {
    "duration": 14,
    "start_time": "2023-01-14T16:00:33.505Z"
   },
   {
    "duration": 18,
    "start_time": "2023-01-14T16:00:33.521Z"
   },
   {
    "duration": 42,
    "start_time": "2023-01-14T16:00:33.541Z"
   },
   {
    "duration": 55,
    "start_time": "2023-01-14T16:00:33.584Z"
   },
   {
    "duration": 23,
    "start_time": "2023-01-14T16:00:33.640Z"
   },
   {
    "duration": 71,
    "start_time": "2023-01-14T16:00:33.664Z"
   },
   {
    "duration": 18,
    "start_time": "2023-01-14T16:00:33.737Z"
   },
   {
    "duration": 34,
    "start_time": "2023-01-14T16:00:33.757Z"
   },
   {
    "duration": 18,
    "start_time": "2023-01-14T16:00:33.793Z"
   },
   {
    "duration": 474,
    "start_time": "2023-01-14T16:00:33.814Z"
   },
   {
    "duration": 12826,
    "start_time": "2023-01-14T16:00:34.289Z"
   },
   {
    "duration": 97,
    "start_time": "2023-01-14T16:00:47.117Z"
   },
   {
    "duration": 702,
    "start_time": "2023-01-14T16:00:47.306Z"
   },
   {
    "duration": 960,
    "start_time": "2023-01-14T16:00:48.010Z"
   },
   {
    "duration": 549,
    "start_time": "2023-01-14T16:00:48.971Z"
   },
   {
    "duration": 105,
    "start_time": "2023-01-14T16:00:49.607Z"
   },
   {
    "duration": 794,
    "start_time": "2023-01-14T16:00:49.713Z"
   },
   {
    "duration": 102,
    "start_time": "2023-01-14T16:00:50.509Z"
   },
   {
    "duration": 325,
    "start_time": "2023-01-14T16:00:50.613Z"
   },
   {
    "duration": 361,
    "start_time": "2023-01-14T16:00:51.006Z"
   },
   {
    "duration": 40631,
    "start_time": "2023-01-14T16:00:51.369Z"
   },
   {
    "duration": 34303,
    "start_time": "2023-01-14T16:01:32.004Z"
   },
   {
    "duration": 46456,
    "start_time": "2023-01-14T16:02:06.309Z"
   },
   {
    "duration": 34467,
    "start_time": "2023-01-14T16:03:25.646Z"
   },
   {
    "duration": 63573,
    "start_time": "2023-01-14T16:04:36.797Z"
   },
   {
    "duration": 80943,
    "start_time": "2023-01-14T16:05:48.589Z"
   },
   {
    "duration": 1573,
    "start_time": "2023-01-14T16:08:13.606Z"
   },
   {
    "duration": 1532,
    "start_time": "2023-01-14T16:08:30.797Z"
   },
   {
    "duration": 1758,
    "start_time": "2023-01-14T16:08:36.747Z"
   },
   {
    "duration": 1586,
    "start_time": "2023-01-14T16:08:42.860Z"
   },
   {
    "duration": 43056,
    "start_time": "2023-01-14T16:09:56.199Z"
   },
   {
    "duration": 42653,
    "start_time": "2023-01-14T16:10:58.327Z"
   },
   {
    "duration": 65269,
    "start_time": "2023-01-14T16:11:56.062Z"
   },
   {
    "duration": 1509,
    "start_time": "2023-01-14T16:13:12.114Z"
   },
   {
    "duration": 79,
    "start_time": "2023-01-14T16:14:49.515Z"
   },
   {
    "duration": 74,
    "start_time": "2023-01-14T16:16:35.885Z"
   },
   {
    "duration": 78317,
    "start_time": "2023-01-14T16:18:10.336Z"
   },
   {
    "duration": 66268,
    "start_time": "2023-01-14T16:19:57.429Z"
   },
   {
    "duration": 69,
    "start_time": "2023-01-14T16:25:25.843Z"
   },
   {
    "duration": 4735,
    "start_time": "2023-01-14T16:27:54.993Z"
   },
   {
    "duration": 4794,
    "start_time": "2023-01-14T16:29:55.421Z"
   },
   {
    "duration": 4767,
    "start_time": "2023-01-14T16:30:17.543Z"
   },
   {
    "duration": 167,
    "start_time": "2023-01-14T16:31:06.180Z"
   },
   {
    "duration": 1277,
    "start_time": "2023-01-14T16:34:51.732Z"
   },
   {
    "duration": 54,
    "start_time": "2023-01-14T16:34:53.011Z"
   },
   {
    "duration": 13,
    "start_time": "2023-01-14T16:34:53.067Z"
   },
   {
    "duration": 1209,
    "start_time": "2023-01-14T16:34:53.082Z"
   },
   {
    "duration": 23,
    "start_time": "2023-01-14T16:34:54.293Z"
   },
   {
    "duration": 4,
    "start_time": "2023-01-14T16:34:54.318Z"
   },
   {
    "duration": 12,
    "start_time": "2023-01-14T16:34:54.323Z"
   },
   {
    "duration": 14,
    "start_time": "2023-01-14T16:34:54.336Z"
   },
   {
    "duration": 4,
    "start_time": "2023-01-14T16:34:54.352Z"
   },
   {
    "duration": 15,
    "start_time": "2023-01-14T16:34:54.358Z"
   },
   {
    "duration": 7,
    "start_time": "2023-01-14T16:34:54.375Z"
   },
   {
    "duration": 23,
    "start_time": "2023-01-14T16:34:54.383Z"
   },
   {
    "duration": 11,
    "start_time": "2023-01-14T16:34:54.408Z"
   },
   {
    "duration": 447,
    "start_time": "2023-01-14T16:34:54.420Z"
   },
   {
    "duration": 12702,
    "start_time": "2023-01-14T16:34:54.869Z"
   },
   {
    "duration": 43,
    "start_time": "2023-01-14T16:35:07.573Z"
   },
   {
    "duration": 704,
    "start_time": "2023-01-14T16:35:07.706Z"
   },
   {
    "duration": 953,
    "start_time": "2023-01-14T16:35:08.412Z"
   },
   {
    "duration": 545,
    "start_time": "2023-01-14T16:35:09.366Z"
   },
   {
    "duration": 196,
    "start_time": "2023-01-14T16:35:09.913Z"
   },
   {
    "duration": 798,
    "start_time": "2023-01-14T16:35:10.111Z"
   },
   {
    "duration": 104,
    "start_time": "2023-01-14T16:35:10.911Z"
   },
   {
    "duration": 324,
    "start_time": "2023-01-14T16:35:11.017Z"
   },
   {
    "duration": 356,
    "start_time": "2023-01-14T16:35:11.406Z"
   },
   {
    "duration": 33990,
    "start_time": "2023-01-14T16:35:11.764Z"
   },
   {
    "duration": 59144,
    "start_time": "2023-01-14T16:35:45.755Z"
   },
   {
    "duration": 66433,
    "start_time": "2023-01-14T16:36:44.905Z"
   },
   {
    "duration": 1589,
    "start_time": "2023-01-14T16:37:51.341Z"
   },
   {
    "duration": 246,
    "start_time": "2023-01-14T16:37:52.932Z"
   },
   {
    "duration": 4747,
    "start_time": "2023-01-14T16:44:17.990Z"
   },
   {
    "duration": 433,
    "start_time": "2023-01-14T16:44:55.857Z"
   },
   {
    "duration": 1326,
    "start_time": "2023-01-14T16:45:01.126Z"
   },
   {
    "duration": 61,
    "start_time": "2023-01-14T16:45:02.454Z"
   },
   {
    "duration": 16,
    "start_time": "2023-01-14T16:45:02.517Z"
   },
   {
    "duration": 1340,
    "start_time": "2023-01-14T16:45:02.535Z"
   },
   {
    "duration": 16,
    "start_time": "2023-01-14T16:45:03.877Z"
   },
   {
    "duration": 11,
    "start_time": "2023-01-14T16:45:03.905Z"
   },
   {
    "duration": 40,
    "start_time": "2023-01-14T16:45:03.918Z"
   },
   {
    "duration": 27,
    "start_time": "2023-01-14T16:45:03.960Z"
   },
   {
    "duration": 9,
    "start_time": "2023-01-14T16:45:03.989Z"
   },
   {
    "duration": 50,
    "start_time": "2023-01-14T16:45:04.000Z"
   },
   {
    "duration": 23,
    "start_time": "2023-01-14T16:45:04.052Z"
   },
   {
    "duration": 59,
    "start_time": "2023-01-14T16:45:04.077Z"
   },
   {
    "duration": 19,
    "start_time": "2023-01-14T16:45:04.138Z"
   },
   {
    "duration": 493,
    "start_time": "2023-01-14T16:45:04.161Z"
   },
   {
    "duration": 13238,
    "start_time": "2023-01-14T16:45:04.656Z"
   },
   {
    "duration": 39,
    "start_time": "2023-01-14T16:45:17.895Z"
   },
   {
    "duration": 810,
    "start_time": "2023-01-14T16:45:18.006Z"
   },
   {
    "duration": 965,
    "start_time": "2023-01-14T16:45:18.818Z"
   },
   {
    "duration": 723,
    "start_time": "2023-01-14T16:45:19.785Z"
   },
   {
    "duration": 19,
    "start_time": "2023-01-14T16:45:20.511Z"
   },
   {
    "duration": 896,
    "start_time": "2023-01-14T16:45:20.609Z"
   },
   {
    "duration": 15,
    "start_time": "2023-01-14T16:45:21.507Z"
   },
   {
    "duration": 386,
    "start_time": "2023-01-14T16:45:21.524Z"
   },
   {
    "duration": 372,
    "start_time": "2023-01-14T16:45:21.913Z"
   },
   {
    "duration": 36234,
    "start_time": "2023-01-14T16:45:22.286Z"
   },
   {
    "duration": 65636,
    "start_time": "2023-01-14T16:45:58.524Z"
   },
   {
    "duration": 71030,
    "start_time": "2023-01-14T16:47:04.162Z"
   },
   {
    "duration": 4544,
    "start_time": "2023-01-14T16:48:15.194Z"
   },
   {
    "duration": 404,
    "start_time": "2023-01-14T16:48:19.740Z"
   },
   {
    "duration": 502,
    "start_time": "2023-01-14T17:47:39.326Z"
   },
   {
    "duration": 437,
    "start_time": "2023-01-14T17:47:43.794Z"
   },
   {
    "duration": 413,
    "start_time": "2023-01-14T17:47:49.959Z"
   },
   {
    "duration": 393,
    "start_time": "2023-01-14T17:47:53.883Z"
   },
   {
    "duration": 72,
    "start_time": "2023-01-14T17:50:41.990Z"
   },
   {
    "duration": 46,
    "start_time": "2023-02-02T19:42:13.178Z"
   }
  ],
  "kernelspec": {
   "display_name": "Python 3 (ipykernel)",
   "language": "python",
   "name": "python3"
  },
  "language_info": {
   "codemirror_mode": {
    "name": "ipython",
    "version": 3
   },
   "file_extension": ".py",
   "mimetype": "text/x-python",
   "name": "python",
   "nbconvert_exporter": "python",
   "pygments_lexer": "ipython3",
   "version": "3.9.12"
  },
  "toc": {
   "base_numbering": 1,
   "nav_menu": {},
   "number_sections": true,
   "sideBar": true,
   "skip_h1_title": true,
   "title_cell": "Содержание",
   "title_sidebar": "Contents",
   "toc_cell": true,
   "toc_position": {},
   "toc_section_display": true,
   "toc_window_display": false
  }
 },
 "nbformat": 4,
 "nbformat_minor": 2
}
