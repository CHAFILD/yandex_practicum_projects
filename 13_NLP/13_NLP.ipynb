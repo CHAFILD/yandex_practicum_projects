{
 "cells": [
  {
   "cell_type": "code",
   "execution_count": 1,
   "metadata": {},
   "outputs": [
    {
     "name": "stdout",
     "output_type": "stream",
     "text": [
      "\u001b[38;5;2m[+] Download and installation successful\u001b[0m\n",
      "You can now load the package via spacy.load('en_core_web_sm')\n"
     ]
    },
    {
     "name": "stderr",
     "output_type": "stream",
     "text": [
      "2023-04-08 13:07:25.335155: W tensorflow/stream_executor/platform/default/dso_loader.cc:64] Could not load dynamic library 'cudart64_110.dll'; dlerror: cudart64_110.dll not found\n",
      "2023-04-08 13:07:25.335177: I tensorflow/stream_executor/cuda/cudart_stub.cc:29] Ignore above cudart dlerror if you do not have a GPU set up on your machine.\n",
      "2023-04-08 13:07:27.467265: W tensorflow/stream_executor/platform/default/dso_loader.cc:64] Could not load dynamic library 'cudart64_110.dll'; dlerror: cudart64_110.dll not found\n",
      "2023-04-08 13:07:27.467688: W tensorflow/stream_executor/platform/default/dso_loader.cc:64] Could not load dynamic library 'cublas64_11.dll'; dlerror: cublas64_11.dll not found\n",
      "2023-04-08 13:07:27.468100: W tensorflow/stream_executor/platform/default/dso_loader.cc:64] Could not load dynamic library 'cublasLt64_11.dll'; dlerror: cublasLt64_11.dll not found\n",
      "2023-04-08 13:07:27.527702: W tensorflow/stream_executor/platform/default/dso_loader.cc:64] Could not load dynamic library 'cusparse64_11.dll'; dlerror: cusparse64_11.dll not found\n",
      "2023-04-08 13:07:27.528145: W tensorflow/stream_executor/platform/default/dso_loader.cc:64] Could not load dynamic library 'cudnn64_8.dll'; dlerror: cudnn64_8.dll not found\n",
      "2023-04-08 13:07:27.528159: W tensorflow/core/common_runtime/gpu/gpu_device.cc:1850] Cannot dlopen some GPU libraries. Please make sure the missing libraries mentioned above are installed properly if you would like to use GPU. Follow the guide at https://www.tensorflow.org/install/gpu for how to download and setup the required libraries for your platform.\n",
      "Skipping registering GPU devices...\n"
     ]
    }
   ],
   "source": [
    "!pip install imblearn -q\n",
    "!pip install spacy -q\n",
    "!python -m spacy download en_core_web_sm -q"
   ]
  },
  {
   "cell_type": "markdown",
   "metadata": {
    "toc": true
   },
   "source": [
    "<h1>Содержание<span class=\"tocSkip\"></span></h1>\n",
    "<div class=\"toc\"><ul class=\"toc-item\"><li><span><a href=\"#Подготовка\" data-toc-modified-id=\"Подготовка-1\"><span class=\"toc-item-num\">1&nbsp;&nbsp;</span>Подготовка</a></span><ul class=\"toc-item\"><li><span><a href=\"#Предобработка-текста\" data-toc-modified-id=\"Предобработка-текста-1.1\"><span class=\"toc-item-num\">1.1&nbsp;&nbsp;</span>Предобработка текста</a></span></li></ul></li><li><span><a href=\"#Обучение\" data-toc-modified-id=\"Обучение-2\"><span class=\"toc-item-num\">2&nbsp;&nbsp;</span>Обучение</a></span><ul class=\"toc-item\"><li><span><a href=\"#Logistic-Regression\" data-toc-modified-id=\"Logistic-Regression-2.1\"><span class=\"toc-item-num\">2.1&nbsp;&nbsp;</span>Logistic Regression</a></span></li><li><span><a href=\"#Decision-Tree-Classifier\" data-toc-modified-id=\"Decision-Tree-Classifier-2.2\"><span class=\"toc-item-num\">2.2&nbsp;&nbsp;</span>Decision Tree Classifier</a></span></li><li><span><a href=\"#Random-Forest-Classifier\" data-toc-modified-id=\"Random-Forest-Classifier-2.3\"><span class=\"toc-item-num\">2.3&nbsp;&nbsp;</span>Random Forest Classifier</a></span></li><li><span><a href=\"#Cat-Boost-Classifier\" data-toc-modified-id=\"Cat-Boost-Classifier-2.4\"><span class=\"toc-item-num\">2.4&nbsp;&nbsp;</span>Cat Boost Classifier</a></span></li></ul></li><li><span><a href=\"#Выводы\" data-toc-modified-id=\"Выводы-3\"><span class=\"toc-item-num\">3&nbsp;&nbsp;</span>Выводы</a></span></li><li><span><a href=\"#Чек-лист-проверки\" data-toc-modified-id=\"Чек-лист-проверки-4\"><span class=\"toc-item-num\">4&nbsp;&nbsp;</span>Чек-лист проверки</a></span></li></ul></div>"
   ]
  },
  {
   "cell_type": "markdown",
   "metadata": {},
   "source": [
    "# Проект для «Викишоп»"
   ]
  },
  {
   "cell_type": "markdown",
   "metadata": {},
   "source": [
    "Интернет-магазин «Викишоп» запускает новый сервис. Теперь пользователи могут редактировать и дополнять описания товаров, как в вики-сообществах. То есть клиенты предлагают свои правки и комментируют изменения других. Магазину нужен инструмент, который будет искать токсичные комментарии и отправлять их на модерацию. \n",
    "\n",
    "Обучите модель классифицировать комментарии на позитивные и негативные. В вашем распоряжении набор данных с разметкой о токсичности правок.\n",
    "\n",
    "Постройте модель со значением метрики качества *F1* не меньше 0.75. \n",
    "\n",
    "**Инструкция по выполнению проекта**\n",
    "\n",
    "1. Загрузите и подготовьте данные.\n",
    "2. Обучите разные модели. \n",
    "3. Сделайте выводы.\n",
    "\n",
    "Для выполнения проекта применять *BERT* необязательно, но вы можете попробовать.\n",
    "\n",
    "**Описание данных**\n",
    "\n",
    "Данные находятся в файле `toxic_comments.csv`. Столбец *text* в нём содержит текст комментария, а *toxic* — целевой признак."
   ]
  },
  {
   "cell_type": "markdown",
   "metadata": {},
   "source": [
    "## Подготовка"
   ]
  },
  {
   "cell_type": "code",
   "execution_count": 2,
   "metadata": {},
   "outputs": [],
   "source": [
    "import pandas as pd\n",
    "import seaborn as sns\n",
    "import numpy as np\n",
    "import re\n",
    "import os\n",
    "from sklearn.metrics import make_scorer\n",
    "import matplotlib.pyplot as plt\n",
    "import nltk\n",
    "import transformers\n",
    "from sklearn.tree import DecisionTreeClassifier\n",
    "from tqdm import tqdm\n",
    "from sklearn.ensemble import RandomForestClassifier\n",
    "from nltk.corpus import stopwords\n",
    "from nltk.tokenize import word_tokenize\n",
    "from nltk.stem import WordNetLemmatizer\n",
    "from sklearn.pipeline import Pipeline\n",
    "from sklearn.dummy import DummyClassifier\n",
    "from sklearn.model_selection import (\n",
    "    cross_val_score,\n",
    "    train_test_split\n",
    ")\n",
    "\n",
    "from sklearn.linear_model import LogisticRegression\n",
    "from sklearn.feature_extraction.text import TfidfVectorizer\n",
    "from catboost import CatBoostClassifier\n",
    "from sklearn.model_selection import (\n",
    "    RandomizedSearchCV,\n",
    "    GridSearchCV\n",
    ")\n",
    "from scipy.stats import randint\n",
    "import torch\n",
    "import transformers as ppb\n",
    "from sklearn.metrics import (\n",
    "    f1_score,\n",
    "    precision_score,\n",
    "    recall_score,\n",
    "    accuracy_score,\n",
    "    roc_auc_score,\n",
    "    roc_curve,\n",
    "    classification_report,\n",
    "    confusion_matrix,\n",
    "    precision_recall_curve\n",
    ")\n",
    "from imblearn.over_sampling import SMOTE\n",
    "from imblearn.under_sampling import RandomUnderSampler\n",
    "from sklearn.utils import shuffle\n",
    "import spacy\n",
    "\n",
    "pd.set_option('display.max_colwidth', None)\n",
    "RANDOM_STATE = 5"
   ]
  },
  {
   "cell_type": "markdown",
   "metadata": {},
   "source": [
    "Загрузим данные и отберем из них случайным образом `55000` строк, чтобы процесс обучения не занимал много времени. "
   ]
  },
  {
   "cell_type": "code",
   "execution_count": 3,
   "metadata": {},
   "outputs": [
    {
     "name": "stdout",
     "output_type": "stream",
     "text": [
      "<class 'pandas.core.frame.DataFrame'>\n",
      "Int64Index: 159292 entries, 0 to 159450\n",
      "Data columns (total 2 columns):\n",
      " #   Column  Non-Null Count   Dtype \n",
      "---  ------  --------------   ----- \n",
      " 0   text    159292 non-null  object\n",
      " 1   toxic   159292 non-null  int64 \n",
      "dtypes: int64(1), object(1)\n",
      "memory usage: 3.6+ MB\n",
      "Дубликаты: 0\n"
     ]
    },
    {
     "data": {
      "text/html": [
       "<div>\n",
       "<style scoped>\n",
       "    .dataframe tbody tr th:only-of-type {\n",
       "        vertical-align: middle;\n",
       "    }\n",
       "\n",
       "    .dataframe tbody tr th {\n",
       "        vertical-align: top;\n",
       "    }\n",
       "\n",
       "    .dataframe thead th {\n",
       "        text-align: right;\n",
       "    }\n",
       "</style>\n",
       "<table border=\"1\" class=\"dataframe\">\n",
       "  <thead>\n",
       "    <tr style=\"text-align: right;\">\n",
       "      <th></th>\n",
       "      <th>text</th>\n",
       "      <th>toxic</th>\n",
       "    </tr>\n",
       "  </thead>\n",
       "  <tbody>\n",
       "    <tr>\n",
       "      <th>64522</th>\n",
       "      <td>in Japanese education</td>\n",
       "      <td>0</td>\n",
       "    </tr>\n",
       "    <tr>\n",
       "      <th>19725</th>\n",
       "      <td>Updating links?\\nI've posted a message at Talk:Washington#Automated hints to disambiguate Washington links concerning the fixes that will have to be done as a result of the move, as well as hints for automated tools.</td>\n",
       "      <td>0</td>\n",
       "    </tr>\n",
       "    <tr>\n",
       "      <th>12000</th>\n",
       "      <td>Anyone notice that is a copy of the Geography section of the Morocco page in the CIA World Factbook?</td>\n",
       "      <td>0</td>\n",
       "    </tr>\n",
       "    <tr>\n",
       "      <th>23799</th>\n",
       "      <td>Hi, unfortunately another 'new' user named WikiBotBot has re-added contentious material to the iERA article and removed well sourced material. I am getting rather frustrated with the lack of interaction on the talk page. Is there a process to get issues such as this resolved (e.g. an arbitrator)? If so, could you direct me to one and I can ask for assistance? Many thanks</td>\n",
       "      <td>0</td>\n",
       "    </tr>\n",
       "    <tr>\n",
       "      <th>17560</th>\n",
       "      <td>\". Might fall under \"\"trivia\"\" / \"\"In Popular Culture\"\" category\"</td>\n",
       "      <td>0</td>\n",
       "    </tr>\n",
       "    <tr>\n",
       "      <th>13840</th>\n",
       "      <td>Evil Ernie Revert \\n\\nI had reverted the Evil Ernie article to it's previous version because it was a copyright violation, as the portion I removed was lifted in it's entirety from the Chaos Comics Evil Ernie Bio.  I attempted to do so in accordance as per the instructions at Wikipedia:Copyright problems.  Is there something I missed?</td>\n",
       "      <td>0</td>\n",
       "    </tr>\n",
       "    <tr>\n",
       "      <th>135180</th>\n",
       "      <td>Your input requested \\n\\nI'm new here, but I think your dead-on regarding the disambiguation of Chinaman. I'd love to read your take on the controversy at the Oriental article.</td>\n",
       "      <td>0</td>\n",
       "    </tr>\n",
       "    <tr>\n",
       "      <th>11988</th>\n",
       "      <td>\"\\n\\n Helly Jimmy, well; fuck you. \\n\\nAccording to Wikipedia talk:No legal threats; people shouldn't say to one another \"\"what you do is supporting terrorism, and you should be judged front of law\"\".\\n\\nOn the other hand, we can say \"\"fuck you\"\" and the punishment for that is only two weeks. Well it's okay for me to get away from wikipedia for two weeks; and I'm willing to curse to you. \\n\\nFuck you Jimmy Wales. Your stupid \"\"eye\"\" showing video about begging money for Wikipedia was stupidest thing I have ever seen.\\n\\nOnce again; \"\"Fuck you\"\", \"\"Fuck you\"\", and \"\"Fuck you\"\".\\n\\nNow go ahead with your \"\"Wikilobbying\"\" idiot members and have fun.\\n\\nI just wanted to get this out and get my \"\"wikipedia legal\"\" two week ban.\\n\\nFuck you; you dumb idiot.   \"</td>\n",
       "      <td>1</td>\n",
       "    </tr>\n",
       "    <tr>\n",
       "      <th>65172</th>\n",
       "      <td>waste of skin who should be put down before he procreates</td>\n",
       "      <td>0</td>\n",
       "    </tr>\n",
       "    <tr>\n",
       "      <th>154638</th>\n",
       "      <td>But I am not saying that quantum aetherdynamcis is true.  I am just saying what has been documented about it, by sources that are independent from Wikipedia and reliable enough for the University of Pittsburgh to host them on its site.</td>\n",
       "      <td>0</td>\n",
       "    </tr>\n",
       "    <tr>\n",
       "      <th>157770</th>\n",
       "      <td>\"\\n\\n Courtesy \\nHi, Malke ... in case you miss it, I left a note for you in my section at the Doc James arb case request.  Best regards,  (Talk) \"</td>\n",
       "      <td>0</td>\n",
       "    </tr>\n",
       "    <tr>\n",
       "      <th>130438</th>\n",
       "      <td>\"\\nEh, whatever. Just seemed sort of spammy to me. COI, at least. Shadow \"</td>\n",
       "      <td>0</td>\n",
       "    </tr>\n",
       "    <tr>\n",
       "      <th>149849</th>\n",
       "      <td>to that Famitsu article</td>\n",
       "      <td>0</td>\n",
       "    </tr>\n",
       "    <tr>\n",
       "      <th>137354</th>\n",
       "      <td>\"\\n\\n Your warning concerning LittleGreenRosetta. \\n\\nContext: http://en.wikipedia.org/wiki/Talk:Ys_(series)#Which_version_of_text_is_more_preferable_with_respect_to_grammar_and_the_MoS.3F\\nhttp://en.wikipedia.org/wiki/Wikipedia:Administrators%27_noticeboard/Incidents#User_targetting_my_edits\\n\\nYou said, \"\"You may not remove the comments of other editors on talk pages. You need to drop the WP:BATTLEGROUND mentality, and this idea that every edit you make cannot be changed. This is a wiki. This requires collaboration and consensus building. If you are not interested in working in a collaborative editing environment, this is not the place for you. The next time you attack another editor or revert simply because you don't like something, you will be blocked.\"\"\\n\\nI resent your accusation or attempted generalization of my position being that every edit made cannot be changed and that I am not interested in a collaborative editing environment. You're accusing me of WP:BATTLEGROUND mentality and that is exactly what I would say about http://en.wikipedia.org/wiki/User:Little_green_rosetta. In the original situation, I felt the prior individual excising my paragraph was doing it because of a particular grudge/animus. I could be wrong about that, but that is what I felt and I also felt the paragraph was good enough as is. You seem to be advocating that it's OK for those to undo or revert *my* changes/edits, but not the other way around simply because an adversary, LittleGreenRosetta, contacted you first about what happened and gave you his/her spin on things. This user made that section on the TalkPage as part of a harassment campaign that came about from a prior incident with somebody else. This was not because of genuine interest in the article and its improvement, it simply came about because of a grudge against me in particular. That's not well-meaning or a good-faith action to get a better result. It's simply animus and hate. Furthermore, how do I know that you're not friends with this individual and are judging this fairly? You really appear to be playing favorites here.\"</td>\n",
       "      <td>0</td>\n",
       "    </tr>\n",
       "    <tr>\n",
       "      <th>56175</th>\n",
       "      <td>September 2007 \\n Please stop. If you continue to vandalize Wikipedia, as you did to Dietrich Bonhoeffer, you will be blocked from editing.    \\nIf this is a shared IP address, and you didn't make any unconstructive edits, consider creating an account for yourself so you can avoid further irrelevant warnings.</td>\n",
       "      <td>0</td>\n",
       "    </tr>\n",
       "  </tbody>\n",
       "</table>\n",
       "</div>"
      ],
      "text/plain": [
       "                                                                                                                                                                                                                                                                                                                                                                                                                                                                                                                                                                                                                                                                                                                                                                                                                                                                                                                                                                                                                                                                                                                                                                                                                                                                                                                                                                                                                                                                                                                                                                                                                                                                                                                                                                                                                                                                                                                                                                                                                                                                                                                                                                                              text  \\\n",
       "64522                                                                                                                                                                                                                                                                                                                                                                                                                                                                                                                                                                                                                                                                                                                                                                                                                                                                                                                                                                                                                                                                                                                                                                                                                                                                                                                                                                                                                                                                                                                                                                                                                                                                                                                                                                                                                                                                                                                                                                                                                                                                                                                                                                        in Japanese education   \n",
       "19725                                                                                                                                                                                                                                                                                                                                                                                                                                                                                                                                                                                                                                                                                                                                                                                                                                                                                                                                                                                                                                                                                                                                                                                                                                                                                                                                                                                                                                                                                                                                                                                                                                                                                                                                                                                                                                                                                                                                                                     Updating links?\\nI've posted a message at Talk:Washington#Automated hints to disambiguate Washington links concerning the fixes that will have to be done as a result of the move, as well as hints for automated tools.   \n",
       "12000                                                                                                                                                                                                                                                                                                                                                                                                                                                                                                                                                                                                                                                                                                                                                                                                                                                                                                                                                                                                                                                                                                                                                                                                                                                                                                                                                                                                                                                                                                                                                                                                                                                                                                                                                                                                                                                                                                                                                                                                                                                                                         Anyone notice that is a copy of the Geography section of the Morocco page in the CIA World Factbook?   \n",
       "23799                                                                                                                                                                                                                                                                                                                                                                                                                                                                                                                                                                                                                                                                                                                                                                                                                                                                                                                                                                                                                                                                                                                                                                                                                                                                                                                                                                                                                                                                                                                                                                                                                                                                                                                                                                                                        Hi, unfortunately another 'new' user named WikiBotBot has re-added contentious material to the iERA article and removed well sourced material. I am getting rather frustrated with the lack of interaction on the talk page. Is there a process to get issues such as this resolved (e.g. an arbitrator)? If so, could you direct me to one and I can ask for assistance? Many thanks   \n",
       "17560                                                                                                                                                                                                                                                                                                                                                                                                                                                                                                                                                                                                                                                                                                                                                                                                                                                                                                                                                                                                                                                                                                                                                                                                                                                                                                                                                                                                                                                                                                                                                                                                                                                                                                                                                                                                                                                                                                                                                                                                                                                                                                                            \". Might fall under \"\"trivia\"\" / \"\"In Popular Culture\"\" category\"   \n",
       "13840                                                                                                                                                                                                                                                                                                                                                                                                                                                                                                                                                                                                                                                                                                                                                                                                                                                                                                                                                                                                                                                                                                                                                                                                                                                                                                                                                                                                                                                                                                                                                                                                                                                                                                                                                                                                                                             Evil Ernie Revert \\n\\nI had reverted the Evil Ernie article to it's previous version because it was a copyright violation, as the portion I removed was lifted in it's entirety from the Chaos Comics Evil Ernie Bio.  I attempted to do so in accordance as per the instructions at Wikipedia:Copyright problems.  Is there something I missed?   \n",
       "135180                                                                                                                                                                                                                                                                                                                                                                                                                                                                                                                                                                                                                                                                                                                                                                                                                                                                                                                                                                                                                                                                                                                                                                                                                                                                                                                                                                                                                                                                                                                                                                                                                                                                                                                                                                                                                                                                                                                                                                                                            Your input requested \\n\\nI'm new here, but I think your dead-on regarding the disambiguation of Chinaman. I'd love to read your take on the controversy at the Oriental article.   \n",
       "11988                                                                                                                                                                                                                                                                                                                                                                                                                                                                                                                                                                                                                                                                                                                                                                                                                                                                                                                                                                                                                                                                                                                                                                                                                                                                                                                                                                                                \"\\n\\n Helly Jimmy, well; fuck you. \\n\\nAccording to Wikipedia talk:No legal threats; people shouldn't say to one another \"\"what you do is supporting terrorism, and you should be judged front of law\"\".\\n\\nOn the other hand, we can say \"\"fuck you\"\" and the punishment for that is only two weeks. Well it's okay for me to get away from wikipedia for two weeks; and I'm willing to curse to you. \\n\\nFuck you Jimmy Wales. Your stupid \"\"eye\"\" showing video about begging money for Wikipedia was stupidest thing I have ever seen.\\n\\nOnce again; \"\"Fuck you\"\", \"\"Fuck you\"\", and \"\"Fuck you\"\".\\n\\nNow go ahead with your \"\"Wikilobbying\"\" idiot members and have fun.\\n\\nI just wanted to get this out and get my \"\"wikipedia legal\"\" two week ban.\\n\\nFuck you; you dumb idiot.   \"   \n",
       "65172                                                                                                                                                                                                                                                                                                                                                                                                                                                                                                                                                                                                                                                                                                                                                                                                                                                                                                                                                                                                                                                                                                                                                                                                                                                                                                                                                                                                                                                                                                                                                                                                                                                                                                                                                                                                                                                                                                                                                                                                                                                                                                                                    waste of skin who should be put down before he procreates   \n",
       "154638                                                                                                                                                                                                                                                                                                                                                                                                                                                                                                                                                                                                                                                                                                                                                                                                                                                                                                                                                                                                                                                                                                                                                                                                                                                                                                                                                                                                                                                                                                                                                                                                                                                                                                                                                                                                                                                                                                                                                 But I am not saying that quantum aetherdynamcis is true.  I am just saying what has been documented about it, by sources that are independent from Wikipedia and reliable enough for the University of Pittsburgh to host them on its site.   \n",
       "157770                                                                                                                                                                                                                                                                                                                                                                                                                                                                                                                                                                                                                                                                                                                                                                                                                                                                                                                                                                                                                                                                                                                                                                                                                                                                                                                                                                                                                                                                                                                                                                                                                                                                                                                                                                                                                                                                                                                                                                                                                                         \"\\n\\n Courtesy \\nHi, Malke ... in case you miss it, I left a note for you in my section at the Doc James arb case request.  Best regards,  (Talk) \"   \n",
       "130438                                                                                                                                                                                                                                                                                                                                                                                                                                                                                                                                                                                                                                                                                                                                                                                                                                                                                                                                                                                                                                                                                                                                                                                                                                                                                                                                                                                                                                                                                                                                                                                                                                                                                                                                                                                                                                                                                                                                                                                                                                                                                                                  \"\\nEh, whatever. Just seemed sort of spammy to me. COI, at least. Shadow \"   \n",
       "149849                                                                                                                                                                                                                                                                                                                                                                                                                                                                                                                                                                                                                                                                                                                                                                                                                                                                                                                                                                                                                                                                                                                                                                                                                                                                                                                                                                                                                                                                                                                                                                                                                                                                                                                                                                                                                                                                                                                                                                                                                                                                                                                                                                     to that Famitsu article   \n",
       "137354  \"\\n\\n Your warning concerning LittleGreenRosetta. \\n\\nContext: http://en.wikipedia.org/wiki/Talk:Ys_(series)#Which_version_of_text_is_more_preferable_with_respect_to_grammar_and_the_MoS.3F\\nhttp://en.wikipedia.org/wiki/Wikipedia:Administrators%27_noticeboard/Incidents#User_targetting_my_edits\\n\\nYou said, \"\"You may not remove the comments of other editors on talk pages. You need to drop the WP:BATTLEGROUND mentality, and this idea that every edit you make cannot be changed. This is a wiki. This requires collaboration and consensus building. If you are not interested in working in a collaborative editing environment, this is not the place for you. The next time you attack another editor or revert simply because you don't like something, you will be blocked.\"\"\\n\\nI resent your accusation or attempted generalization of my position being that every edit made cannot be changed and that I am not interested in a collaborative editing environment. You're accusing me of WP:BATTLEGROUND mentality and that is exactly what I would say about http://en.wikipedia.org/wiki/User:Little_green_rosetta. In the original situation, I felt the prior individual excising my paragraph was doing it because of a particular grudge/animus. I could be wrong about that, but that is what I felt and I also felt the paragraph was good enough as is. You seem to be advocating that it's OK for those to undo or revert *my* changes/edits, but not the other way around simply because an adversary, LittleGreenRosetta, contacted you first about what happened and gave you his/her spin on things. This user made that section on the TalkPage as part of a harassment campaign that came about from a prior incident with somebody else. This was not because of genuine interest in the article and its improvement, it simply came about because of a grudge against me in particular. That's not well-meaning or a good-faith action to get a better result. It's simply animus and hate. Furthermore, how do I know that you're not friends with this individual and are judging this fairly? You really appear to be playing favorites here.\"   \n",
       "56175                                                                                                                                                                                                                                                                                                                                                                                                                                                                                                                                                                                                                                                                                                                                                                                                                                                                                                                                                                                                                                                                                                                                                                                                                                                                                                                                                                                                                                                                                                                                                                                                                                                                                                                                                                                                                                                                       September 2007 \\n Please stop. If you continue to vandalize Wikipedia, as you did to Dietrich Bonhoeffer, you will be blocked from editing.    \\nIf this is a shared IP address, and you didn't make any unconstructive edits, consider creating an account for yourself so you can avoid further irrelevant warnings.   \n",
       "\n",
       "        toxic  \n",
       "64522       0  \n",
       "19725       0  \n",
       "12000       0  \n",
       "23799       0  \n",
       "17560       0  \n",
       "13840       0  \n",
       "135180      0  \n",
       "11988       1  \n",
       "65172       0  \n",
       "154638      0  \n",
       "157770      0  \n",
       "130438      0  \n",
       "149849      0  \n",
       "137354      0  \n",
       "56175       0  "
      ]
     },
     "metadata": {},
     "output_type": "display_data"
    }
   ],
   "source": [
    "path_yandex = '/datasets/toxic_comments.csv'    \n",
    "path = 'C:/Users/nedel/Desktop/Projects/toxic_comments.csv'\n",
    "\n",
    "if os.path.exists(path):\n",
    "    df = pd.read_csv(path, index_col=[0])\n",
    "    df.info()\n",
    "    print('Дубликаты:', df.duplicated().sum())\n",
    "    display(df.sample(15))\n",
    "elif os.path.exists(path_yandex):\n",
    "    df = pd.read_csv(path_yandex, index_col=[0])\n",
    "    df.info()\n",
    "    print('Дубликаты:', df.duplicated().sum())\n",
    "    display(df.sample(15))\n",
    "else:\n",
    "    print('Ошибка в считывании данных')\n",
    "    \n",
    "# Отберем 55000 строк случайным образом    \n",
    "df = df.sample(55000, random_state=RANDOM_STATE)"
   ]
  },
  {
   "cell_type": "markdown",
   "metadata": {},
   "source": [
    "### Предобработка текста"
   ]
  },
  {
   "cell_type": "code",
   "execution_count": 4,
   "metadata": {},
   "outputs": [],
   "source": [
    "nlp = spacy.load(\"en_core_web_sm\", disable=[\"parser\", \"ner\"])\n",
    "\n",
    "def clean_text(text):\n",
    "    # Приведение к нижнему регистру\n",
    "    text = text.lower()\n",
    "    \n",
    "    # Удаление лишних символов\n",
    "    text = re.sub(r'[^a-z ]', ' ', text)\n",
    "    \n",
    "    # Токенизация текста\n",
    "    doc = nlp(text)\n",
    "    tokens = [token.text for token in doc]\n",
    "    \n",
    "    # Удаление стоп-слов\n",
    "    stopwords = spacy.lang.en.stop_words.STOP_WORDS\n",
    "    filtered_tokens = [token for token in tokens if token not in stopwords]\n",
    "    \n",
    "    # Склеивание токенов в строку\n",
    "    clean_text = ' '.join(filtered_tokens)\n",
    "    \n",
    "    return clean_text"
   ]
  },
  {
   "cell_type": "code",
   "execution_count": 5,
   "metadata": {},
   "outputs": [
    {
     "name": "stderr",
     "output_type": "stream",
     "text": [
      "100%|██████████| 55000/55000 [04:50<00:00, 189.63it/s]\n"
     ]
    }
   ],
   "source": [
    "tqdm.pandas()\n",
    "df['lemm_text'] = df['text'].progress_apply(clean_text)"
   ]
  },
  {
   "cell_type": "code",
   "execution_count": 6,
   "metadata": {},
   "outputs": [
    {
     "data": {
      "text/html": [
       "<div>\n",
       "<style scoped>\n",
       "    .dataframe tbody tr th:only-of-type {\n",
       "        vertical-align: middle;\n",
       "    }\n",
       "\n",
       "    .dataframe tbody tr th {\n",
       "        vertical-align: top;\n",
       "    }\n",
       "\n",
       "    .dataframe thead th {\n",
       "        text-align: right;\n",
       "    }\n",
       "</style>\n",
       "<table border=\"1\" class=\"dataframe\">\n",
       "  <thead>\n",
       "    <tr style=\"text-align: right;\">\n",
       "      <th></th>\n",
       "      <th>text</th>\n",
       "      <th>toxic</th>\n",
       "      <th>lemm_text</th>\n",
       "    </tr>\n",
       "  </thead>\n",
       "  <tbody>\n",
       "    <tr>\n",
       "      <th>36092</th>\n",
       "      <td>PJ Task Force\\nIf you want to join the PJ task force and use its userbox template, please add your username her Wikipedia:WikiProject_Novels/Percy_Jackson_task_force#Participants.</td>\n",
       "      <td>0</td>\n",
       "      <td>pj task force want join pj task force use userbox template   add username wikipedia wikiproject novels percy jackson task force participants</td>\n",
       "    </tr>\n",
       "    <tr>\n",
       "      <th>59464</th>\n",
       "      <td>I agree with you. And I rephrased as consensus determines how different interpretations of the various policies and guidelines should affect the content. For example, whether PSCI applies in borderline cases or how the views of the scientific community should be displayed prominently for example.  (talk • contribs • logs)</td>\n",
       "      <td>0</td>\n",
       "      <td>agree   rephrased consensus determines different interpretations policies guidelines affect content   example   psci applies borderline cases views scientific community displayed prominently example     talk    contribs    logs</td>\n",
       "    </tr>\n",
       "    <tr>\n",
       "      <th>100658</th>\n",
       "      <td>be and you being from nicaragua know that and that your country is the 2nd poorest country in the hemisphere and most corrupt write that in there</td>\n",
       "      <td>0</td>\n",
       "      <td>nicaragua know country   nd poorest country hemisphere corrupt write</td>\n",
       "    </tr>\n",
       "    <tr>\n",
       "      <th>63155</th>\n",
       "      <td>\"\\n\\n Where are her unreleased songs?\\n\\nThe songs \"\"Smash it Up\"\" and \"\"Learning to Love the Enemy\"\", where are these songs from? Are they from a movie or soundtrack or something? and where can they be found?\"</td>\n",
       "      <td>0</td>\n",
       "      <td>unreleased songs    songs    smash       learning love enemy     songs   movie soundtrack   found</td>\n",
       "    </tr>\n",
       "    <tr>\n",
       "      <th>60498</th>\n",
       "      <td>Deletion discussion about Perfect World Depression: The Fourth Wall Organization \\nHello, Arjuna rubbo-ferraro, \\n\\nI wanted to let you know that there's a discussion about whether Perfect World Depression: The Fourth Wall Organization should be deleted. Your comments are welcome at  Wikipedia:Articles for deletion/Perfect World Depression: The Fourth Wall Organization . \\n\\nIf you're new to the process, articles for deletion is a group discussion (not a vote!) that usually lasts seven days. If you need it, there is a guide on how to contribute. Last but not least, you are highly encouraged to continue improving the article; just be sure not to remove the tag about the deletion nomination from the top. \\n\\nThanks,</td>\n",
       "      <td>0</td>\n",
       "      <td>deletion discussion perfect world depression   fourth wall organization   hello   arjuna rubbo ferraro     wanted let know s discussion perfect world depression   fourth wall organization deleted   comments welcome   wikipedia articles deletion perfect world depression   fourth wall organization      new process   articles deletion group discussion   vote    usually lasts seven days   need   guide contribute     highly encouraged continue improving article   sure remove tag deletion nomination     thanks</td>\n",
       "    </tr>\n",
       "    <tr>\n",
       "      <th>86853</th>\n",
       "      <td>Wikivoices (formally NotTheWikipediaWeekly) would be interested in making several podcasts with candidates running in the 2008 English Wikipedia Arbitration Committee election. Given the high number of candidates likely to be signing up during the nomination stage (likely to be around 45) it will be a very busy 2 weeks. These shows typically last about one</td>\n",
       "      <td>0</td>\n",
       "      <td>wikivoices   formally notthewikipediaweekly   interested making podcasts candidates running       english wikipedia arbitration committee election   given high number candidates likely signing nomination stage   likely      busy    weeks   shows typically</td>\n",
       "    </tr>\n",
       "    <tr>\n",
       "      <th>52754</th>\n",
       "      <td>The fact that your only contribution to the encyclopedia has been to add that link to multiple pages seems to cement that plan.</td>\n",
       "      <td>0</td>\n",
       "      <td>fact contribution encyclopedia add link multiple pages cement plan</td>\n",
       "    </tr>\n",
       "    <tr>\n",
       "      <th>91926</th>\n",
       "      <td>They are illegal, this is  fact that you like it or not, change all the migrant words in illegal immigrant</td>\n",
       "      <td>0</td>\n",
       "      <td>illegal     fact like   change migrant words illegal immigrant</td>\n",
       "    </tr>\n",
       "    <tr>\n",
       "      <th>67405</th>\n",
       "      <td>Porthos: weather or not he has an article or a section or a footnote Hoshi Sato was never Portho's caretaker that was Phlox's job. Try watching Star Trek before writing Star Trek articles.</td>\n",
       "      <td>0</td>\n",
       "      <td>porthos   weather article section footnote hoshi sato portho s caretaker phlox s job   try watching star trek writing star trek articles</td>\n",
       "    </tr>\n",
       "    <tr>\n",
       "      <th>89838</th>\n",
       "      <td>Bat ye'or is an authoritve source ,at least she comperhends logic unlike this Annemarie Schimmel, no wonder Spencer and so forth think that Academia is completely Biased. So its non-muslims fault they are slaves for not converting (and forceing muslims to take them as POW's) is going to WP stance on islam and slavery.</td>\n",
       "      <td>0</td>\n",
       "      <td>bat ye authoritve source   comperhends logic unlike annemarie schimmel   wonder spencer forth think academia completely biased   non muslims fault slaves converting   forceing muslims pow s   going wp stance islam slavery</td>\n",
       "    </tr>\n",
       "    <tr>\n",
       "      <th>151130</th>\n",
       "      <td>depending on who you listen to</td>\n",
       "      <td>0</td>\n",
       "      <td>depending listen</td>\n",
       "    </tr>\n",
       "    <tr>\n",
       "      <th>113298</th>\n",
       "      <td>In a lot of countries POLITICS opinions and SPORT NOT penetrate each other, so the section as many people claimed there should be shorted and short. I am Asian and i like football a lot, i am going with my colleques to visit poznan, krakow, warsaw and donbas arena. \\n\\ngreetings</td>\n",
       "      <td>0</td>\n",
       "      <td>lot countries politics opinions sport penetrate   section people claimed shorted short   asian like football lot   going colleques visit poznan   krakow   warsaw donbas arena     greetings</td>\n",
       "    </tr>\n",
       "    <tr>\n",
       "      <th>155369</th>\n",
       "      <td>\"\\n\\n Edits to this page \\n\\nI noticed that very recently a lot of well-referenced information has been deleted from this article's page. I am wondering what readers might think about restoring some of those deletions - as they provide \"\"everyday\"\" contexts, analogies, semantics, examples, etc. that help to better explain the content of the article to a general readership - as the deletions that were made might limit the use of the article to experts in the field? Also, the deletions remove the psychology/social-science aspect of the article. Would anyone be adverse to restoring some of the deleted content?  \"</td>\n",
       "      <td>0</td>\n",
       "      <td>edits page    noticed recently lot referenced information deleted article s page   wondering readers think restoring deletions    provide    everyday    contexts   analogies   semantics   examples   etc   help better explain content article general readership    deletions limit use article experts field     deletions remove psychology social science aspect article   adverse restoring deleted content</td>\n",
       "    </tr>\n",
       "    <tr>\n",
       "      <th>135518</th>\n",
       "      <td>it was confirmed real on pwmania.com User:Dustind 12:49, 9 October 2006</td>\n",
       "      <td>0</td>\n",
       "      <td>confirmed real pwmania com user dustind           october</td>\n",
       "    </tr>\n",
       "    <tr>\n",
       "      <th>135148</th>\n",
       "      <td>\"This is my last post on this part as well. I know you only claimed - \"\"LTTE committed acts of terrorism\"\". But you know -  It not only depends on the individual how many \"\"acts of terrorism\"\" it takes to make some organization a terrorist organization, but the nature of the goverment with which the rebel organization is fighting for and the State Terrorism by the government against its people (the rebel's) as well. \\n\\n\"</td>\n",
       "      <td>0</td>\n",
       "      <td>post   know claimed      ltte committed acts terrorism     know     depends individual    acts terrorism    takes organization terrorist organization   nature goverment rebel organization fighting state terrorism government people   rebel s</td>\n",
       "    </tr>\n",
       "  </tbody>\n",
       "</table>\n",
       "</div>"
      ],
      "text/plain": [
       "                                                                                                                                                                                                                                                                                                                                                                                                                                                                                                                                                                                                                                                                                                                                                       text  \\\n",
       "36092                                                                                                                                                                                                                                                                                                                                                                                                                                                                                                                                                                   PJ Task Force\\nIf you want to join the PJ task force and use its userbox template, please add your username her Wikipedia:WikiProject_Novels/Percy_Jackson_task_force#Participants.   \n",
       "59464                                                                                                                                                                                                                                                                                                                                                                                                                   I agree with you. And I rephrased as consensus determines how different interpretations of the various policies and guidelines should affect the content. For example, whether PSCI applies in borderline cases or how the views of the scientific community should be displayed prominently for example.  (talk • contribs • logs)   \n",
       "100658                                                                                                                                                                                                                                                                                                                                                                                                                                                                                                                                                                                                    be and you being from nicaragua know that and that your country is the 2nd poorest country in the hemisphere and most corrupt write that in there   \n",
       "63155                                                                                                                                                                                                                                                                                                                                                                                                                                                                                                                                    \"\\n\\n Where are her unreleased songs?\\n\\nThe songs \"\"Smash it Up\"\" and \"\"Learning to Love the Enemy\"\", where are these songs from? Are they from a movie or soundtrack or something? and where can they be found?\"   \n",
       "60498   Deletion discussion about Perfect World Depression: The Fourth Wall Organization \\nHello, Arjuna rubbo-ferraro, \\n\\nI wanted to let you know that there's a discussion about whether Perfect World Depression: The Fourth Wall Organization should be deleted. Your comments are welcome at  Wikipedia:Articles for deletion/Perfect World Depression: The Fourth Wall Organization . \\n\\nIf you're new to the process, articles for deletion is a group discussion (not a vote!) that usually lasts seven days. If you need it, there is a guide on how to contribute. Last but not least, you are highly encouraged to continue improving the article; just be sure not to remove the tag about the deletion nomination from the top. \\n\\nThanks,   \n",
       "86853                                                                                                                                                                                                                                                                                                                                                                                Wikivoices (formally NotTheWikipediaWeekly) would be interested in making several podcasts with candidates running in the 2008 English Wikipedia Arbitration Committee election. Given the high number of candidates likely to be signing up during the nomination stage (likely to be around 45) it will be a very busy 2 weeks. These shows typically last about one   \n",
       "52754                                                                                                                                                                                                                                                                                                                                                                                                                                                                                                                                                                                                                       The fact that your only contribution to the encyclopedia has been to add that link to multiple pages seems to cement that plan.   \n",
       "91926                                                                                                                                                                                                                                                                                                                                                                                                                                                                                                                                                                                                                                            They are illegal, this is  fact that you like it or not, change all the migrant words in illegal immigrant   \n",
       "67405                                                                                                                                                                                                                                                                                                                                                                                                                                                                                                                                                          Porthos: weather or not he has an article or a section or a footnote Hoshi Sato was never Portho's caretaker that was Phlox's job. Try watching Star Trek before writing Star Trek articles.   \n",
       "89838                                                                                                                                                                                                                                                                                                                                                                                                                       Bat ye'or is an authoritve source ,at least she comperhends logic unlike this Annemarie Schimmel, no wonder Spencer and so forth think that Academia is completely Biased. So its non-muslims fault they are slaves for not converting (and forceing muslims to take them as POW's) is going to WP stance on islam and slavery.   \n",
       "151130                                                                                                                                                                                                                                                                                                                                                                                                                                                                                                                                                                                                                                                                                                                       depending on who you listen to   \n",
       "113298                                                                                                                                                                                                                                                                                                                                                                                                                                                              In a lot of countries POLITICS opinions and SPORT NOT penetrate each other, so the section as many people claimed there should be shorted and short. I am Asian and i like football a lot, i am going with my colleques to visit poznan, krakow, warsaw and donbas arena. \\n\\ngreetings   \n",
       "155369                                                                                                            \"\\n\\n Edits to this page \\n\\nI noticed that very recently a lot of well-referenced information has been deleted from this article's page. I am wondering what readers might think about restoring some of those deletions - as they provide \"\"everyday\"\" contexts, analogies, semantics, examples, etc. that help to better explain the content of the article to a general readership - as the deletions that were made might limit the use of the article to experts in the field? Also, the deletions remove the psychology/social-science aspect of the article. Would anyone be adverse to restoring some of the deleted content?  \"   \n",
       "135518                                                                                                                                                                                                                                                                                                                                                                                                                                                                                                                                                                                                                                                                              it was confirmed real on pwmania.com User:Dustind 12:49, 9 October 2006   \n",
       "135148                                                                                                                                                                                                                                                                                                            \"This is my last post on this part as well. I know you only claimed - \"\"LTTE committed acts of terrorism\"\". But you know -  It not only depends on the individual how many \"\"acts of terrorism\"\" it takes to make some organization a terrorist organization, but the nature of the goverment with which the rebel organization is fighting for and the State Terrorism by the government against its people (the rebel's) as well. \\n\\n\"   \n",
       "\n",
       "        toxic  \\\n",
       "36092       0   \n",
       "59464       0   \n",
       "100658      0   \n",
       "63155       0   \n",
       "60498       0   \n",
       "86853       0   \n",
       "52754       0   \n",
       "91926       0   \n",
       "67405       0   \n",
       "89838       0   \n",
       "151130      0   \n",
       "113298      0   \n",
       "155369      0   \n",
       "135518      0   \n",
       "135148      0   \n",
       "\n",
       "                                                                                                                                                                                                                                                                                                                                                                                                                                                                                                                            lemm_text  \n",
       "36092                                                                                                                                                                                                                                                                                                                                                                                    pj task force want join pj task force use userbox template   add username wikipedia wikiproject novels percy jackson task force participants  \n",
       "59464                                                                                                                                                                                                                                                                                             agree   rephrased consensus determines different interpretations policies guidelines affect content   example   psci applies borderline cases views scientific community displayed prominently example     talk    contribs    logs  \n",
       "100658                                                                                                                                                                                                                                                                                                                                                                                                                                                           nicaragua know country   nd poorest country hemisphere corrupt write  \n",
       "63155                                                                                                                                                                                                                                                                                                                                                                                                                             unreleased songs    songs    smash       learning love enemy     songs   movie soundtrack   found    \n",
       "60498   deletion discussion perfect world depression   fourth wall organization   hello   arjuna rubbo ferraro     wanted let know s discussion perfect world depression   fourth wall organization deleted   comments welcome   wikipedia articles deletion perfect world depression   fourth wall organization      new process   articles deletion group discussion   vote    usually lasts seven days   need   guide contribute     highly encouraged continue improving article   sure remove tag deletion nomination     thanks  \n",
       "86853                                                                                                                                                                                                                                                                 wikivoices   formally notthewikipediaweekly   interested making podcasts candidates running       english wikipedia arbitration committee election   given high number candidates likely signing nomination stage   likely      busy    weeks   shows typically  \n",
       "52754                                                                                                                                                                                                                                                                                                                                                                                                                                                              fact contribution encyclopedia add link multiple pages cement plan  \n",
       "91926                                                                                                                                                                                                                                                                                                                                                                                                                                                                  illegal     fact like   change migrant words illegal immigrant  \n",
       "67405                                                                                                                                                                                                                                                                                                                                                                                        porthos   weather article section footnote hoshi sato portho s caretaker phlox s job   try watching star trek writing star trek articles  \n",
       "89838                                                                                                                                                                                                                                                                                                   bat ye authoritve source   comperhends logic unlike annemarie schimmel   wonder spencer forth think academia completely biased   non muslims fault slaves converting   forceing muslims pow s   going wp stance islam slavery  \n",
       "151130                                                                                                                                                                                                                                                                                                                                                                                                                                                                                                               depending listen  \n",
       "113298                                                                                                                                                                                                                                                                                                                                   lot countries politics opinions sport penetrate   section people claimed shorted short   asian like football lot   going colleques visit poznan   krakow   warsaw donbas arena     greetings  \n",
       "155369                                                                                                         edits page    noticed recently lot referenced information deleted article s page   wondering readers think restoring deletions    provide    everyday    contexts   analogies   semantics   examples   etc   help better explain content article general readership    deletions limit use article experts field     deletions remove psychology social science aspect article   adverse restoring deleted content      \n",
       "135518                                                                                                                                                                                                                                                                                                                                                                                                                                                                 confirmed real pwmania com user dustind           october       \n",
       "135148                                                                                                                                                                                                                                                                        post   know claimed      ltte committed acts terrorism     know     depends individual    acts terrorism    takes organization terrorist organization   nature goverment rebel organization fighting state terrorism government people   rebel s         "
      ]
     },
     "metadata": {},
     "output_type": "display_data"
    }
   ],
   "source": [
    "display(df.sample(15))"
   ]
  },
  {
   "cell_type": "code",
   "execution_count": 7,
   "metadata": {},
   "outputs": [],
   "source": [
    "features = df['lemm_text']\n",
    "target = df['toxic']\n",
    "\n",
    "features_train, features_test, target_train, target_test = train_test_split(\n",
    "    features,\n",
    "    target, \n",
    "    test_size=0.25, \n",
    "    random_state=RANDOM_STATE\n",
    ")"
   ]
  },
  {
   "cell_type": "markdown",
   "metadata": {},
   "source": [
    "Вывод:\n",
    "\n",
    "Загрузили данные и отобрали случайным образом 55000 строк.\n",
    "\n",
    "В ходе предобработки текста выполнены следующие шаги:\n",
    "* Тексты были очищены от лишних символов\n",
    "* Приведены к нижнему регистру\n",
    "* Токенизированы, удалены стоп-слова и лемматизированы при помощи библиотеки SpaCy\n",
    "\n",
    "А также разбли данные на тренировочную и тестовую выборки в соотношении 3:1."
   ]
  },
  {
   "cell_type": "markdown",
   "metadata": {},
   "source": [
    "## Обучение"
   ]
  },
  {
   "cell_type": "markdown",
   "metadata": {},
   "source": [
    "### Logistic Regression"
   ]
  },
  {
   "cell_type": "code",
   "execution_count": 8,
   "metadata": {},
   "outputs": [
    {
     "name": "stderr",
     "output_type": "stream",
     "text": [
      "[nltk_data] Downloading package stopwords to\n",
      "[nltk_data]     C:\\Users\\nedel\\AppData\\Roaming\\nltk_data...\n",
      "[nltk_data]   Package stopwords is already up-to-date!\n"
     ]
    }
   ],
   "source": [
    "nltk.download('stopwords')\n",
    "STOPWORDS = list(stopwords.words('english'))"
   ]
  },
  {
   "cell_type": "code",
   "execution_count": 9,
   "metadata": {},
   "outputs": [
    {
     "name": "stdout",
     "output_type": "stream",
     "text": [
      "Лучшие параметры: {'model__C': 8, 'tfidf__max_df': 0.25, 'tfidf__ngram_range': (1, 2)}\n",
      "F1: 0.7611317613975744\n",
      "CPU times: total: 37.1 s\n",
      "Wall time: 17min 54s\n"
     ]
    }
   ],
   "source": [
    "%%time\n",
    "\n",
    "# Создаем конвейер для обработки текстовых данных и обучения модели\n",
    "pipeline_lr = Pipeline([\n",
    "    ('tfidf', TfidfVectorizer(stop_words=STOPWORDS)),\n",
    "    ('model', LogisticRegression(\n",
    "        random_state=RANDOM_STATE,\n",
    "        max_iter=1000,\n",
    "        class_weight='balanced'\n",
    "    ))\n",
    "])\n",
    "\n",
    "# Параметры для GridSearchCV\n",
    "parametrs_lr = {\n",
    "    'tfidf__max_df': (0.25, 0.5, 0.75),\n",
    "    'tfidf__ngram_range': [(1, 1), (1, 2), (1, 5)],\n",
    "    'model__C': [1, 6, 8],\n",
    "}\n",
    "\n",
    "\n",
    "\n",
    "# Оценка качества модели с использованием GridSearchCV\n",
    "lr_cv = GridSearchCV(\n",
    "    pipeline_lr, \n",
    "    parametrs_lr, \n",
    "    cv=5, \n",
    "    scoring='f1',\n",
    "    n_jobs=-1,\n",
    ")\n",
    "\n",
    "\n",
    "lr_cv.fit(features_train, target_train)\n",
    "print('Лучшие параметры:', lr_cv.best_params_)\n",
    "print('F1:', lr_cv.best_score_)"
   ]
  },
  {
   "cell_type": "markdown",
   "metadata": {},
   "source": [
    "### Decision Tree Classifier"
   ]
  },
  {
   "cell_type": "code",
   "execution_count": 10,
   "metadata": {},
   "outputs": [
    {
     "name": "stdout",
     "output_type": "stream",
     "text": [
      "Лучшие параметры: {'tfidf__ngram_range': (1, 1), 'tfidf__max_df': 0.75, 'model__max_depth': 9}\n",
      "F1: 0.5301687437169909\n",
      "CPU times: total: 10.5 s\n",
      "Wall time: 4min 37s\n"
     ]
    }
   ],
   "source": [
    "%%time\n",
    "\n",
    "# Определение модели\n",
    "\n",
    "# Определение параметров для поиска\n",
    "parametrs_dt = {\n",
    "    'tfidf__max_df': (0.25, 0.5, 0.75),\n",
    "    'tfidf__ngram_range': [(1, 1), (1, 2), (1, 5)],\n",
    "    'model__max_depth': range(2, 10),\n",
    "}\n",
    "\n",
    "# Создание пайплайна\n",
    "pipeline_dt = Pipeline([\n",
    "    ('tfidf', TfidfVectorizer(stop_words=STOPWORDS)),\n",
    "    ('model', DecisionTreeClassifier(class_weight='balanced'))\n",
    "])\n",
    "\n",
    "# Определение параметров для RandomizedSearchCV\n",
    "dt_cv = RandomizedSearchCV(\n",
    "    pipeline_dt, \n",
    "    parametrs_dt, \n",
    "    cv=5, \n",
    "    scoring='f1',\n",
    "    n_jobs=-1,\n",
    "    n_iter=30\n",
    ")\n",
    "\n",
    "\n",
    "# Обучение модели и поиск оптимальных гиперпараметров\n",
    "dt_cv.fit(features_train, target_train)\n",
    "\n",
    "# Вывод лучших параметров и метрики модели\n",
    "print('Лучшие параметры:', dt_cv.best_params_)\n",
    "print('F1:', dt_cv.best_score_)"
   ]
  },
  {
   "cell_type": "markdown",
   "metadata": {},
   "source": [
    "### Random Forest Classifier"
   ]
  },
  {
   "cell_type": "code",
   "execution_count": 11,
   "metadata": {},
   "outputs": [
    {
     "name": "stdout",
     "output_type": "stream",
     "text": [
      "Лучшие параметры: {'tfidf__ngram_range': (1, 1), 'tfidf__max_df': 0.75, 'model__n_estimators': 80, 'model__max_depth': 8}\n",
      "F1 0.38865609457016836\n",
      "CPU times: total: 10.4 s\n",
      "Wall time: 2min 11s\n"
     ]
    }
   ],
   "source": [
    "%%time\n",
    "\n",
    "\n",
    "# Создание пайплайна\n",
    "pipeline_rf = Pipeline([\n",
    "    ('tfidf', TfidfVectorizer(stop_words=STOPWORDS)),\n",
    "    ('model', RandomForestClassifier(\n",
    "        random_state=RANDOM_STATE,\n",
    "        class_weight='balanced'\n",
    "    ))\n",
    "])\n",
    "\n",
    "\n",
    "parametrs_rf = {\n",
    "    'tfidf__max_df': (0.25, 0.5, 0.75),\n",
    "    'tfidf__ngram_range': [(1, 1), (1, 2), (1, 3)],\n",
    "    'model__n_estimators': range(20, 100, 20),\n",
    "    'model__max_depth': range(2, 10, 2)\n",
    "}\n",
    "\n",
    "rf_cv = RandomizedSearchCV(\n",
    "    pipeline_rf, \n",
    "    parametrs_rf, \n",
    "    cv=5, \n",
    "    scoring='f1',\n",
    "    n_jobs=-1,\n",
    "    n_iter=30\n",
    ")\n",
    "\n",
    "rf_cv.fit(features_train, target_train)\n",
    "print('Лучшие параметры:', rf_cv.best_params_)\n",
    "print('F1', rf_cv.best_score_)"
   ]
  },
  {
   "cell_type": "markdown",
   "metadata": {},
   "source": [
    "### Cat Boost Classifier"
   ]
  },
  {
   "cell_type": "code",
   "execution_count": 12,
   "metadata": {},
   "outputs": [
    {
     "name": "stdout",
     "output_type": "stream",
     "text": [
      "0.7128351495448977\n"
     ]
    }
   ],
   "source": [
    "pipeline_cat = Pipeline([\n",
    "    ('tfidf', TfidfVectorizer(stop_words=STOPWORDS)),\n",
    "    ('catboost', CatBoostClassifier(\n",
    "        eval_metric='F1',\n",
    "        random_state=RANDOM_STATE,\n",
    "        verbose=False\n",
    "    ))\n",
    "])\n",
    "\n",
    "cat_cv = cross_val_score(\n",
    "    pipeline_cat,\n",
    "    features_train,\n",
    "    target_train,\n",
    "    cv=5,\n",
    "    scoring='f1'\n",
    ")\n",
    "\n",
    "print(cat_cv.mean())"
   ]
  },
  {
   "cell_type": "code",
   "execution_count": 13,
   "metadata": {},
   "outputs": [],
   "source": [
    "results_df = pd.DataFrame({\n",
    "    'Модель': [\n",
    "        'Logistic Regression',\n",
    "        'Decision Tree Classifier',\n",
    "        'Random Forest Classifier',\n",
    "        'Cat Boost Classifier'\n",
    "    ],\n",
    "    'F1 на кросс-валидации': [\n",
    "        lr_cv.best_score_,\n",
    "        dt_cv.best_score_,\n",
    "        rf_cv.best_score_,\n",
    "        cat_cv.mean()\n",
    "    ],\n",
    "})"
   ]
  },
  {
   "cell_type": "code",
   "execution_count": 14,
   "metadata": {},
   "outputs": [
    {
     "data": {
      "text/html": [
       "<div>\n",
       "<style scoped>\n",
       "    .dataframe tbody tr th:only-of-type {\n",
       "        vertical-align: middle;\n",
       "    }\n",
       "\n",
       "    .dataframe tbody tr th {\n",
       "        vertical-align: top;\n",
       "    }\n",
       "\n",
       "    .dataframe thead th {\n",
       "        text-align: right;\n",
       "    }\n",
       "</style>\n",
       "<table border=\"1\" class=\"dataframe\">\n",
       "  <thead>\n",
       "    <tr style=\"text-align: right;\">\n",
       "      <th></th>\n",
       "      <th>Модель</th>\n",
       "      <th>F1 на кросс-валидации</th>\n",
       "    </tr>\n",
       "  </thead>\n",
       "  <tbody>\n",
       "    <tr>\n",
       "      <th>0</th>\n",
       "      <td>Logistic Regression</td>\n",
       "      <td>0.761132</td>\n",
       "    </tr>\n",
       "    <tr>\n",
       "      <th>1</th>\n",
       "      <td>Decision Tree Classifier</td>\n",
       "      <td>0.530169</td>\n",
       "    </tr>\n",
       "    <tr>\n",
       "      <th>2</th>\n",
       "      <td>Random Forest Classifier</td>\n",
       "      <td>0.388656</td>\n",
       "    </tr>\n",
       "    <tr>\n",
       "      <th>3</th>\n",
       "      <td>Cat Boost Classifier</td>\n",
       "      <td>0.712835</td>\n",
       "    </tr>\n",
       "  </tbody>\n",
       "</table>\n",
       "</div>"
      ],
      "text/plain": [
       "                     Модель  F1 на кросс-валидации\n",
       "0       Logistic Regression               0.761132\n",
       "1  Decision Tree Classifier               0.530169\n",
       "2  Random Forest Classifier               0.388656\n",
       "3      Cat Boost Classifier               0.712835"
      ]
     },
     "execution_count": 14,
     "metadata": {},
     "output_type": "execute_result"
    }
   ],
   "source": [
    "results_df"
   ]
  },
  {
   "cell_type": "markdown",
   "metadata": {},
   "source": [
    "Вывод:\n",
    "\n",
    "Лучший результат по метрике F1 показала модель `Logistic Regression` со значением `0.761132`. \n",
    "\n",
    "Модели `Decision Tree Classifier` и `Cat Boost Classifier` показали результаты, близкие к лучшей модели, однако `Random Forest Classifier` показала наихудший результат F1 `0.367258`.\n",
    "\n",
    "Рекомендуется выбрать модель `Logistic Regression` как наиболее эффективную."
   ]
  },
  {
   "cell_type": "markdown",
   "metadata": {},
   "source": [
    "## Выводы"
   ]
  },
  {
   "cell_type": "raw",
   "metadata": {},
   "source": [
    "# Тестирование модели\n",
    "predictions = lr_cv.best_estimator_.predict(features_test)\n",
    "\n",
    "# Оценка метрик на тестовой выборке\n",
    "f1 = f1_score(target_test, predictions)\n",
    "precision = precision_score(target_test, predictions)\n",
    "recall = recall_score(target_test, predictions)\n",
    "accuracy = accuracy_score(target_test, predictions)\n",
    "roc_auc = roc_auc_score(target_test, predictions)\n",
    "\n",
    "print(f'F1: {f1:.3f}')\n",
    "print(f'Precision: {precision:.3f}')\n",
    "print(f'Recall: {recall:.3f}')\n",
    "print(f'Accuracy: {accuracy:.3f}')\n",
    "print(f'ROC-AUC: {roc_auc:.3f}')\n",
    "\n",
    "# Отрисовка матрицы ошибок\n",
    "matrix = confusion_matrix(target_test, predictions)\n",
    "\n",
    "plt.figure(figsize=(5, 5))\n",
    "sns.heatmap(matrix, annot=True, fmt='d', cbar=False, cmap='Blues')\n",
    "plt.title('Confusion matrix')\n",
    "plt.ylabel('Actual label')\n",
    "plt.xlabel('Predicted label')\n",
    "plt.show()"
   ]
  },
  {
   "cell_type": "code",
   "execution_count": 15,
   "metadata": {},
   "outputs": [
    {
     "name": "stdout",
     "output_type": "stream",
     "text": [
      "F1: 0.758\n",
      "Precision: 0.759\n",
      "Recall: 0.756\n",
      "Accuracy: 0.951\n",
      "ROC-AUC: 0.965\n"
     ]
    },
    {
     "data": {
      "image/png": "[encoded data removed]",
      "text/plain": [
       "<Figure size 500x500 with 1 Axes>"
      ]
     },
     "metadata": {},
     "output_type": "display_data"
    }
   ],
   "source": [
    "# Тестирование модели\n",
    "predictions = lr_cv.best_estimator_.predict(features_test)\n",
    "probabilities = lr_cv.best_estimator_.predict_proba(features_test)[:, 1]\n",
    "\n",
    "# Оценка метрик на тестовой выборке\n",
    "f1 = f1_score(target_test, predictions)\n",
    "precision = precision_score(target_test, predictions)\n",
    "recall = recall_score(target_test, predictions)\n",
    "accuracy = accuracy_score(target_test, predictions)\n",
    "roc_auc = roc_auc_score(target_test, probabilities)\n",
    "\n",
    "print(f'F1: {f1:.3f}')\n",
    "print(f'Precision: {precision:.3f}')\n",
    "print(f'Recall: {recall:.3f}')\n",
    "print(f'Accuracy: {accuracy:.3f}')\n",
    "print(f'ROC-AUC: {roc_auc:.3f}')\n",
    "\n",
    "# Отрисовка матрицы ошибок\n",
    "matrix = confusion_matrix(target_test, predictions)\n",
    "\n",
    "plt.figure(figsize=(5, 5))\n",
    "sns.heatmap(matrix, annot=True, fmt='d', cbar=False, cmap='Blues')\n",
    "plt.title('Confusion matrix')\n",
    "plt.ylabel('Actual label')\n",
    "plt.xlabel('Predicted label')\n",
    "plt.show()\n"
   ]
  },
  {
   "cell_type": "markdown",
   "metadata": {},
   "source": [
    "Из матрицы ошибок можно сделать следующие выводы:\n",
    "\n",
    "* У модели большое количество верно предсказанных отрицательных ответов (true negatives), что говорит о её хорошей способности определять отсутствие целевого события.\n",
    "\n",
    "* Модель также верно предсказывает положительные ответы (true positives), хотя и с меньшей точностью.\n",
    "\n",
    "* Количество ошибок не является критически высоким.\n",
    "\n",
    "В целом, можно считать, что модель имеет хорошее качество классификации."
   ]
  },
  {
   "cell_type": "code",
   "execution_count": 20,
   "metadata": {},
   "outputs": [
    {
     "data": {
      "image/png": "[encoded data removed]",
      "text/plain": [
       "<Figure size 640x480 with 1 Axes>"
      ]
     },
     "metadata": {},
     "output_type": "display_data"
    },
    {
     "data": {
      "image/png": "[encoded data removed]",
      "text/plain": [
       "<Figure size 640x480 with 1 Axes>"
      ]
     },
     "metadata": {},
     "output_type": "display_data"
    },
    {
     "data": {
      "image/png": "[encoded data removed]",
      "text/plain": [
       "<Figure size 640x480 with 1 Axes>"
      ]
     },
     "metadata": {},
     "output_type": "display_data"
    }
   ],
   "source": [
    "# Получаем вероятности принадлежности к классу 1\n",
    "probas_lr = lr_cv.predict_proba(features_test)[:, 1]\n",
    "\n",
    "# Строим ROC-кривую\n",
    "fpr, tpr, thresholds = roc_curve(target_test, probabilities)\n",
    "plt.plot(fpr, tpr, color='darkorange', label='ROC curve')\n",
    "plt.plot([0, 1], [0, 1], color='navy', linestyle='--')\n",
    "plt.xlim([0.0, 1.0])\n",
    "plt.ylim([0.0, 1.05])\n",
    "plt.xlabel('False Positive Rate')\n",
    "plt.ylabel('True Positive Rate')\n",
    "plt.title('ROC curve')\n",
    "plt.legend(loc=\"lower right\")\n",
    "plt.show()\n",
    "\n",
    "# Строим Precision-Recall кривую\n",
    "precision, recall, thresholds = precision_recall_curve(target_test, probabilities)\n",
    "plt.plot(recall, precision, color='navy', label='PR curve')\n",
    "plt.xlabel('Recall')\n",
    "plt.ylabel('Precision')\n",
    "plt.title('Precision-Recall curve')\n",
    "plt.legend(loc=\"lower left\")\n",
    "plt.show()\n",
    "\n",
    "# Строим гистограмму распределения вероятностей принадлежности к классу 1\n",
    "plt.hist(probabilities[target_test == 0], bins=50, alpha=0.5, label='0')\n",
    "plt.hist(probabilities[target_test == 1], bins=50, alpha=0.5, label='1')\n",
    "plt.legend(loc='upper center')\n",
    "plt.xlabel('Probability')\n",
    "plt.ylabel('Count')\n",
    "plt.show()"
   ]
  },
  {
   "cell_type": "markdown",
   "metadata": {},
   "source": [
    "Проверим модель на адекватность с помощью `DummyClassifier`"
   ]
  },
  {
   "cell_type": "code",
   "execution_count": 21,
   "metadata": {},
   "outputs": [
    {
     "name": "stdout",
     "output_type": "stream",
     "text": [
      "F1-score для dummy-модели: 0.17431527693244064\n",
      "F1-score для logistic regression: 0.7576301615798924\n"
     ]
    }
   ],
   "source": [
    "# Создаем dummy-модель\n",
    "dummy_clf = DummyClassifier(strategy='uniform', random_state=RANDOM_STATE)\n",
    "\n",
    "dummy_clf.fit(features_train, target_train)\n",
    "dummy_predictions = dummy_clf.predict(features_test)\n",
    "\n",
    "print(\"F1-score для dummy-модели:\", f1_score(target_test, dummy_clf.predict(features_test)))\n",
    "print(\"F1-score для logistic regression:\", f1_score(target_test, lr_cv.predict(features_test)))"
   ]
  },
  {
   "cell_type": "markdown",
   "metadata": {},
   "source": [
    "На основе проведенного анализа текстовых данных было построено несколько моделей машинного обучения: `Logistic Regression`, `Decision Tree Classifier`, `Random Forest Classifier`, `Cat Boost Classifier`. При этом на кросс-валидации лучшую метрику F1 `0.761` показала модель `Logistic Regression`.\n",
    "\n",
    "Был проведен процесс подбора гиперпараметров модели `Logistic Regression` с использованием `GridSearchCV`, что позволило получить значения параметров: `{'model__C': 8, 'tfidf__max_df': 0.25, 'tfidf__ngram_range': (1, 2)}`. После этого была проведена проверка модели на тестовой выборке, которая дала следующие метрики: \n",
    "\n",
    "* F1 - `0.758`\n",
    "* Precision - `0.759`\n",
    "* Recall - `0.756`\n",
    "* Accuracy - `0.951`\n",
    "* ROC-AUC: 0.965\n",
    "\n",
    "Для проверки адекватности модели была использована `dummy-модель`, которая выдала метрику F1 - `0.17`. Модель `Logistic Regression` в данном случае дала гораздо лучший результат F1 - `0.758`, что позволяет сделать вывод о том, что модель является адекватной и может быть использована для решения задачи классификации текстовых данных."
   ]
  },
  {
   "cell_type": "markdown",
   "metadata": {},
   "source": [
    "## Чек-лист проверки"
   ]
  },
  {
   "cell_type": "markdown",
   "metadata": {},
   "source": [
    "- [x]  Jupyter Notebook открыт\n",
    "- [x]  Весь код выполняется без ошибок\n",
    "- [x]  Ячейки с кодом расположены в порядке исполнения\n",
    "- [x]  Данные загружены и подготовлены\n",
    "- [x]  Модели обучены\n",
    "- [x]  Значение метрики *F1* не меньше 0.75\n",
    "- [x]  Выводы написаны"
   ]
  }
 ],
 "metadata": {
  "kernelspec": {
   "display_name": "Python 3 (ipykernel)",
   "language": "python",
   "name": "python3"
  },
  "language_info": {
   "codemirror_mode": {
    "name": "ipython",
    "version": 3
   },
   "file_extension": ".py",
   "mimetype": "text/x-python",
   "name": "python",
   "nbconvert_exporter": "python",
   "pygments_lexer": "ipython3",
   "version": "3.9.12"
  },
  "toc": {
   "base_numbering": 1,
   "nav_menu": {},
   "number_sections": true,
   "sideBar": true,
   "skip_h1_title": true,
   "title_cell": "Содержание",
   "title_sidebar": "Contents",
   "toc_cell": true,
   "toc_position": {
    "height": "calc(100% - 180px)",
    "left": "10px",
    "top": "150px",
    "width": "302.391px"
   },
   "toc_section_display": true,
   "toc_window_display": false
  }
 },
 "nbformat": 4,
 "nbformat_minor": 2
}
